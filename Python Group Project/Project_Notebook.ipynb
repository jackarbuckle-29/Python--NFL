{
 "cells": [
  {
   "cell_type": "markdown",
   "metadata": {},
   "source": [
    "Passing Data"
   ]
  },
  {
   "cell_type": "code",
   "execution_count": 21,
   "metadata": {},
   "outputs": [],
   "source": [
    "import pandas as pd\n",
    "import numpy as np\n",
    "\n",
    "passing_data = pd.read_csv(\"All_Passing_NFL.csv\", index_col=\"Player\")"
   ]
  },
  {
   "cell_type": "code",
   "execution_count": 22,
   "metadata": {},
   "outputs": [
    {
     "data": {
      "text/html": [
       "<div>\n",
       "<style scoped>\n",
       "    .dataframe tbody tr th:only-of-type {\n",
       "        vertical-align: middle;\n",
       "    }\n",
       "\n",
       "    .dataframe tbody tr th {\n",
       "        vertical-align: top;\n",
       "    }\n",
       "\n",
       "    .dataframe thead th {\n",
       "        text-align: right;\n",
       "    }\n",
       "</style>\n",
       "<table border=\"1\" class=\"dataframe\">\n",
       "  <thead>\n",
       "    <tr style=\"text-align: right;\">\n",
       "      <th></th>\n",
       "      <th>Rk</th>\n",
       "      <th>Tm</th>\n",
       "      <th>Age</th>\n",
       "      <th>Pos</th>\n",
       "      <th>G</th>\n",
       "      <th>GS</th>\n",
       "      <th>QBrec</th>\n",
       "      <th>Cmp</th>\n",
       "      <th>Att</th>\n",
       "      <th>Cmp%</th>\n",
       "      <th>...</th>\n",
       "      <th>Rate</th>\n",
       "      <th>QBR</th>\n",
       "      <th>Sk</th>\n",
       "      <th>Yds.1</th>\n",
       "      <th>Sk%</th>\n",
       "      <th>NY/A</th>\n",
       "      <th>ANY/A</th>\n",
       "      <th>4QC</th>\n",
       "      <th>GWD</th>\n",
       "      <th>Player-additional</th>\n",
       "    </tr>\n",
       "    <tr>\n",
       "      <th>Player</th>\n",
       "      <th></th>\n",
       "      <th></th>\n",
       "      <th></th>\n",
       "      <th></th>\n",
       "      <th></th>\n",
       "      <th></th>\n",
       "      <th></th>\n",
       "      <th></th>\n",
       "      <th></th>\n",
       "      <th></th>\n",
       "      <th></th>\n",
       "      <th></th>\n",
       "      <th></th>\n",
       "      <th></th>\n",
       "      <th></th>\n",
       "      <th></th>\n",
       "      <th></th>\n",
       "      <th></th>\n",
       "      <th></th>\n",
       "      <th></th>\n",
       "      <th></th>\n",
       "    </tr>\n",
       "  </thead>\n",
       "  <tbody>\n",
       "    <tr>\n",
       "      <th>Sam Howell</th>\n",
       "      <td>1</td>\n",
       "      <td>WAS</td>\n",
       "      <td>23</td>\n",
       "      <td>QB</td>\n",
       "      <td>10</td>\n",
       "      <td>10</td>\n",
       "      <td>4-6-0</td>\n",
       "      <td>264</td>\n",
       "      <td>397</td>\n",
       "      <td>66.5</td>\n",
       "      <td>...</td>\n",
       "      <td>91.5</td>\n",
       "      <td>47.3</td>\n",
       "      <td>47</td>\n",
       "      <td>317</td>\n",
       "      <td>10.6</td>\n",
       "      <td>5.55</td>\n",
       "      <td>5.41</td>\n",
       "      <td>2.0</td>\n",
       "      <td>2.0</td>\n",
       "      <td>HoweSa00</td>\n",
       "    </tr>\n",
       "    <tr>\n",
       "      <th>C.J. Stroud</th>\n",
       "      <td>2</td>\n",
       "      <td>HOU</td>\n",
       "      <td>22</td>\n",
       "      <td>QB</td>\n",
       "      <td>9</td>\n",
       "      <td>9</td>\n",
       "      <td>5-4-0</td>\n",
       "      <td>196</td>\n",
       "      <td>318</td>\n",
       "      <td>61.6</td>\n",
       "      <td>...</td>\n",
       "      <td>101.0</td>\n",
       "      <td>63.2</td>\n",
       "      <td>19</td>\n",
       "      <td>163</td>\n",
       "      <td>5.6</td>\n",
       "      <td>7.31</td>\n",
       "      <td>7.93</td>\n",
       "      <td>1.0</td>\n",
       "      <td>2.0</td>\n",
       "      <td>StroCJ00</td>\n",
       "    </tr>\n",
       "    <tr>\n",
       "      <th>Tua Tagovailoa</th>\n",
       "      <td>3</td>\n",
       "      <td>MIA</td>\n",
       "      <td>25</td>\n",
       "      <td>QB</td>\n",
       "      <td>9</td>\n",
       "      <td>9</td>\n",
       "      <td>6-3-0</td>\n",
       "      <td>214</td>\n",
       "      <td>308</td>\n",
       "      <td>69.5</td>\n",
       "      <td>...</td>\n",
       "      <td>106.4</td>\n",
       "      <td>64.8</td>\n",
       "      <td>14</td>\n",
       "      <td>82</td>\n",
       "      <td>4.3</td>\n",
       "      <td>7.85</td>\n",
       "      <td>8.05</td>\n",
       "      <td>1.0</td>\n",
       "      <td>1.0</td>\n",
       "      <td>TagoTu00</td>\n",
       "    </tr>\n",
       "    <tr>\n",
       "      <th>Josh Allen</th>\n",
       "      <td>4</td>\n",
       "      <td>BUF</td>\n",
       "      <td>27</td>\n",
       "      <td>QB</td>\n",
       "      <td>10</td>\n",
       "      <td>10</td>\n",
       "      <td>5-5-0</td>\n",
       "      <td>246</td>\n",
       "      <td>350</td>\n",
       "      <td>70.3</td>\n",
       "      <td>...</td>\n",
       "      <td>96.6</td>\n",
       "      <td>71.8</td>\n",
       "      <td>13</td>\n",
       "      <td>64</td>\n",
       "      <td>3.6</td>\n",
       "      <td>6.99</td>\n",
       "      <td>6.67</td>\n",
       "      <td>1.0</td>\n",
       "      <td>1.0</td>\n",
       "      <td>AlleJo02</td>\n",
       "    </tr>\n",
       "    <tr>\n",
       "      <th>Jared Goff</th>\n",
       "      <td>5</td>\n",
       "      <td>DET</td>\n",
       "      <td>29</td>\n",
       "      <td>QB</td>\n",
       "      <td>9</td>\n",
       "      <td>9</td>\n",
       "      <td>7-2-0</td>\n",
       "      <td>223</td>\n",
       "      <td>326</td>\n",
       "      <td>68.4</td>\n",
       "      <td>...</td>\n",
       "      <td>99.1</td>\n",
       "      <td>66.3</td>\n",
       "      <td>15</td>\n",
       "      <td>92</td>\n",
       "      <td>4.4</td>\n",
       "      <td>7.08</td>\n",
       "      <td>7.24</td>\n",
       "      <td>1.0</td>\n",
       "      <td>2.0</td>\n",
       "      <td>GoffJa00</td>\n",
       "    </tr>\n",
       "    <tr>\n",
       "      <th>...</th>\n",
       "      <td>...</td>\n",
       "      <td>...</td>\n",
       "      <td>...</td>\n",
       "      <td>...</td>\n",
       "      <td>...</td>\n",
       "      <td>...</td>\n",
       "      <td>...</td>\n",
       "      <td>...</td>\n",
       "      <td>...</td>\n",
       "      <td>...</td>\n",
       "      <td>...</td>\n",
       "      <td>...</td>\n",
       "      <td>...</td>\n",
       "      <td>...</td>\n",
       "      <td>...</td>\n",
       "      <td>...</td>\n",
       "      <td>...</td>\n",
       "      <td>...</td>\n",
       "      <td>...</td>\n",
       "      <td>...</td>\n",
       "      <td>...</td>\n",
       "    </tr>\n",
       "    <tr>\n",
       "      <th>Aaron Rodgers</th>\n",
       "      <td>69</td>\n",
       "      <td>NYJ</td>\n",
       "      <td>40</td>\n",
       "      <td>QB</td>\n",
       "      <td>1</td>\n",
       "      <td>1</td>\n",
       "      <td>1-0-0</td>\n",
       "      <td>0</td>\n",
       "      <td>1</td>\n",
       "      <td>0.0</td>\n",
       "      <td>...</td>\n",
       "      <td>39.6</td>\n",
       "      <td>2.1</td>\n",
       "      <td>1</td>\n",
       "      <td>10</td>\n",
       "      <td>50.0</td>\n",
       "      <td>-5.00</td>\n",
       "      <td>-5.00</td>\n",
       "      <td>NaN</td>\n",
       "      <td>NaN</td>\n",
       "      <td>RodgAa00</td>\n",
       "    </tr>\n",
       "    <tr>\n",
       "      <th>Jonnu Smith</th>\n",
       "      <td>70</td>\n",
       "      <td>ATL</td>\n",
       "      <td>28</td>\n",
       "      <td>TE</td>\n",
       "      <td>10</td>\n",
       "      <td>2</td>\n",
       "      <td>NaN</td>\n",
       "      <td>0</td>\n",
       "      <td>1</td>\n",
       "      <td>0.0</td>\n",
       "      <td>...</td>\n",
       "      <td>39.6</td>\n",
       "      <td>0.8</td>\n",
       "      <td>0</td>\n",
       "      <td>0</td>\n",
       "      <td>0.0</td>\n",
       "      <td>0.00</td>\n",
       "      <td>0.00</td>\n",
       "      <td>NaN</td>\n",
       "      <td>NaN</td>\n",
       "      <td>SmitJo01</td>\n",
       "    </tr>\n",
       "    <tr>\n",
       "      <th>Kadarius Toney</th>\n",
       "      <td>71</td>\n",
       "      <td>KAN</td>\n",
       "      <td>24</td>\n",
       "      <td>WR</td>\n",
       "      <td>9</td>\n",
       "      <td>2</td>\n",
       "      <td>NaN</td>\n",
       "      <td>0</td>\n",
       "      <td>1</td>\n",
       "      <td>0.0</td>\n",
       "      <td>...</td>\n",
       "      <td>39.6</td>\n",
       "      <td>0.3</td>\n",
       "      <td>0</td>\n",
       "      <td>0</td>\n",
       "      <td>0.0</td>\n",
       "      <td>0.00</td>\n",
       "      <td>0.00</td>\n",
       "      <td>NaN</td>\n",
       "      <td>NaN</td>\n",
       "      <td>ToneKa00</td>\n",
       "    </tr>\n",
       "    <tr>\n",
       "      <th>Garrett Wilson</th>\n",
       "      <td>72</td>\n",
       "      <td>NYJ</td>\n",
       "      <td>23</td>\n",
       "      <td>WR</td>\n",
       "      <td>9</td>\n",
       "      <td>9</td>\n",
       "      <td>NaN</td>\n",
       "      <td>0</td>\n",
       "      <td>1</td>\n",
       "      <td>0.0</td>\n",
       "      <td>...</td>\n",
       "      <td>39.6</td>\n",
       "      <td>5.2</td>\n",
       "      <td>0</td>\n",
       "      <td>0</td>\n",
       "      <td>0.0</td>\n",
       "      <td>0.00</td>\n",
       "      <td>0.00</td>\n",
       "      <td>NaN</td>\n",
       "      <td>NaN</td>\n",
       "      <td>WilsGa00</td>\n",
       "    </tr>\n",
       "    <tr>\n",
       "      <th>Christian Kirk</th>\n",
       "      <td>73</td>\n",
       "      <td>JAX</td>\n",
       "      <td>27</td>\n",
       "      <td>WR</td>\n",
       "      <td>9</td>\n",
       "      <td>9</td>\n",
       "      <td>NaN</td>\n",
       "      <td>1</td>\n",
       "      <td>2</td>\n",
       "      <td>50.0</td>\n",
       "      <td>...</td>\n",
       "      <td>56.2</td>\n",
       "      <td>3.5</td>\n",
       "      <td>0</td>\n",
       "      <td>0</td>\n",
       "      <td>0.0</td>\n",
       "      <td>-0.50</td>\n",
       "      <td>-0.50</td>\n",
       "      <td>NaN</td>\n",
       "      <td>NaN</td>\n",
       "      <td>KirkCh01</td>\n",
       "    </tr>\n",
       "  </tbody>\n",
       "</table>\n",
       "<p>73 rows × 32 columns</p>\n",
       "</div>"
      ],
      "text/plain": [
       "                Rk   Tm  Age Pos   G  GS  QBrec  Cmp  Att  Cmp%  ...   Rate  \\\n",
       "Player                                                           ...          \n",
       "Sam Howell       1  WAS   23  QB  10  10  4-6-0  264  397  66.5  ...   91.5   \n",
       "C.J. Stroud      2  HOU   22  QB   9   9  5-4-0  196  318  61.6  ...  101.0   \n",
       "Tua Tagovailoa   3  MIA   25  QB   9   9  6-3-0  214  308  69.5  ...  106.4   \n",
       "Josh Allen       4  BUF   27  QB  10  10  5-5-0  246  350  70.3  ...   96.6   \n",
       "Jared Goff       5  DET   29  QB   9   9  7-2-0  223  326  68.4  ...   99.1   \n",
       "...             ..  ...  ...  ..  ..  ..    ...  ...  ...   ...  ...    ...   \n",
       "Aaron Rodgers   69  NYJ   40  QB   1   1  1-0-0    0    1   0.0  ...   39.6   \n",
       "Jonnu Smith     70  ATL   28  TE  10   2    NaN    0    1   0.0  ...   39.6   \n",
       "Kadarius Toney  71  KAN   24  WR   9   2    NaN    0    1   0.0  ...   39.6   \n",
       "Garrett Wilson  72  NYJ   23  WR   9   9    NaN    0    1   0.0  ...   39.6   \n",
       "Christian Kirk  73  JAX   27  WR   9   9    NaN    1    2  50.0  ...   56.2   \n",
       "\n",
       "                 QBR  Sk  Yds.1   Sk%  NY/A  ANY/A  4QC  GWD  \\\n",
       "Player                                                         \n",
       "Sam Howell      47.3  47    317  10.6  5.55   5.41  2.0  2.0   \n",
       "C.J. Stroud     63.2  19    163   5.6  7.31   7.93  1.0  2.0   \n",
       "Tua Tagovailoa  64.8  14     82   4.3  7.85   8.05  1.0  1.0   \n",
       "Josh Allen      71.8  13     64   3.6  6.99   6.67  1.0  1.0   \n",
       "Jared Goff      66.3  15     92   4.4  7.08   7.24  1.0  2.0   \n",
       "...              ...  ..    ...   ...   ...    ...  ...  ...   \n",
       "Aaron Rodgers    2.1   1     10  50.0 -5.00  -5.00  NaN  NaN   \n",
       "Jonnu Smith      0.8   0      0   0.0  0.00   0.00  NaN  NaN   \n",
       "Kadarius Toney   0.3   0      0   0.0  0.00   0.00  NaN  NaN   \n",
       "Garrett Wilson   5.2   0      0   0.0  0.00   0.00  NaN  NaN   \n",
       "Christian Kirk   3.5   0      0   0.0 -0.50  -0.50  NaN  NaN   \n",
       "\n",
       "                Player-additional  \n",
       "Player                             \n",
       "Sam Howell               HoweSa00  \n",
       "C.J. Stroud              StroCJ00  \n",
       "Tua Tagovailoa           TagoTu00  \n",
       "Josh Allen               AlleJo02  \n",
       "Jared Goff               GoffJa00  \n",
       "...                           ...  \n",
       "Aaron Rodgers            RodgAa00  \n",
       "Jonnu Smith              SmitJo01  \n",
       "Kadarius Toney           ToneKa00  \n",
       "Garrett Wilson           WilsGa00  \n",
       "Christian Kirk           KirkCh01  \n",
       "\n",
       "[73 rows x 32 columns]"
      ]
     },
     "execution_count": 22,
     "metadata": {},
     "output_type": "execute_result"
    }
   ],
   "source": [
    "passing_data"
   ]
  },
  {
   "cell_type": "code",
   "execution_count": 23,
   "metadata": {},
   "outputs": [
    {
     "data": {
      "text/html": [
       "<div>\n",
       "<style scoped>\n",
       "    .dataframe tbody tr th:only-of-type {\n",
       "        vertical-align: middle;\n",
       "    }\n",
       "\n",
       "    .dataframe tbody tr th {\n",
       "        vertical-align: top;\n",
       "    }\n",
       "\n",
       "    .dataframe thead th {\n",
       "        text-align: right;\n",
       "    }\n",
       "</style>\n",
       "<table border=\"1\" class=\"dataframe\">\n",
       "  <thead>\n",
       "    <tr style=\"text-align: right;\">\n",
       "      <th></th>\n",
       "      <th>Rk</th>\n",
       "      <th>Tm</th>\n",
       "      <th>Age</th>\n",
       "      <th>Pos</th>\n",
       "      <th>G</th>\n",
       "      <th>GS</th>\n",
       "      <th>QBrec</th>\n",
       "      <th>Cmp</th>\n",
       "      <th>Att</th>\n",
       "      <th>Cmp%</th>\n",
       "      <th>...</th>\n",
       "      <th>Rate</th>\n",
       "      <th>QBR</th>\n",
       "      <th>Sk</th>\n",
       "      <th>Yds.1</th>\n",
       "      <th>Sk%</th>\n",
       "      <th>NY/A</th>\n",
       "      <th>ANY/A</th>\n",
       "      <th>4QC</th>\n",
       "      <th>GWD</th>\n",
       "      <th>Player-additional</th>\n",
       "    </tr>\n",
       "    <tr>\n",
       "      <th>Player</th>\n",
       "      <th></th>\n",
       "      <th></th>\n",
       "      <th></th>\n",
       "      <th></th>\n",
       "      <th></th>\n",
       "      <th></th>\n",
       "      <th></th>\n",
       "      <th></th>\n",
       "      <th></th>\n",
       "      <th></th>\n",
       "      <th></th>\n",
       "      <th></th>\n",
       "      <th></th>\n",
       "      <th></th>\n",
       "      <th></th>\n",
       "      <th></th>\n",
       "      <th></th>\n",
       "      <th></th>\n",
       "      <th></th>\n",
       "      <th></th>\n",
       "      <th></th>\n",
       "    </tr>\n",
       "  </thead>\n",
       "  <tbody>\n",
       "    <tr>\n",
       "      <th>Sam Howell</th>\n",
       "      <td>1</td>\n",
       "      <td>WAS</td>\n",
       "      <td>23</td>\n",
       "      <td>QB</td>\n",
       "      <td>10</td>\n",
       "      <td>10</td>\n",
       "      <td>4-6-0</td>\n",
       "      <td>264</td>\n",
       "      <td>397</td>\n",
       "      <td>66.5</td>\n",
       "      <td>...</td>\n",
       "      <td>91.5</td>\n",
       "      <td>47.3</td>\n",
       "      <td>47</td>\n",
       "      <td>317</td>\n",
       "      <td>10.6</td>\n",
       "      <td>5.55</td>\n",
       "      <td>5.41</td>\n",
       "      <td>2.0</td>\n",
       "      <td>2.0</td>\n",
       "      <td>HoweSa00</td>\n",
       "    </tr>\n",
       "    <tr>\n",
       "      <th>C.J. Stroud</th>\n",
       "      <td>2</td>\n",
       "      <td>HOU</td>\n",
       "      <td>22</td>\n",
       "      <td>QB</td>\n",
       "      <td>9</td>\n",
       "      <td>9</td>\n",
       "      <td>5-4-0</td>\n",
       "      <td>196</td>\n",
       "      <td>318</td>\n",
       "      <td>61.6</td>\n",
       "      <td>...</td>\n",
       "      <td>101.0</td>\n",
       "      <td>63.2</td>\n",
       "      <td>19</td>\n",
       "      <td>163</td>\n",
       "      <td>5.6</td>\n",
       "      <td>7.31</td>\n",
       "      <td>7.93</td>\n",
       "      <td>1.0</td>\n",
       "      <td>2.0</td>\n",
       "      <td>StroCJ00</td>\n",
       "    </tr>\n",
       "    <tr>\n",
       "      <th>Tua Tagovailoa</th>\n",
       "      <td>3</td>\n",
       "      <td>MIA</td>\n",
       "      <td>25</td>\n",
       "      <td>QB</td>\n",
       "      <td>9</td>\n",
       "      <td>9</td>\n",
       "      <td>6-3-0</td>\n",
       "      <td>214</td>\n",
       "      <td>308</td>\n",
       "      <td>69.5</td>\n",
       "      <td>...</td>\n",
       "      <td>106.4</td>\n",
       "      <td>64.8</td>\n",
       "      <td>14</td>\n",
       "      <td>82</td>\n",
       "      <td>4.3</td>\n",
       "      <td>7.85</td>\n",
       "      <td>8.05</td>\n",
       "      <td>1.0</td>\n",
       "      <td>1.0</td>\n",
       "      <td>TagoTu00</td>\n",
       "    </tr>\n",
       "    <tr>\n",
       "      <th>Josh Allen</th>\n",
       "      <td>4</td>\n",
       "      <td>BUF</td>\n",
       "      <td>27</td>\n",
       "      <td>QB</td>\n",
       "      <td>10</td>\n",
       "      <td>10</td>\n",
       "      <td>5-5-0</td>\n",
       "      <td>246</td>\n",
       "      <td>350</td>\n",
       "      <td>70.3</td>\n",
       "      <td>...</td>\n",
       "      <td>96.6</td>\n",
       "      <td>71.8</td>\n",
       "      <td>13</td>\n",
       "      <td>64</td>\n",
       "      <td>3.6</td>\n",
       "      <td>6.99</td>\n",
       "      <td>6.67</td>\n",
       "      <td>1.0</td>\n",
       "      <td>1.0</td>\n",
       "      <td>AlleJo02</td>\n",
       "    </tr>\n",
       "    <tr>\n",
       "      <th>Jared Goff</th>\n",
       "      <td>5</td>\n",
       "      <td>DET</td>\n",
       "      <td>29</td>\n",
       "      <td>QB</td>\n",
       "      <td>9</td>\n",
       "      <td>9</td>\n",
       "      <td>7-2-0</td>\n",
       "      <td>223</td>\n",
       "      <td>326</td>\n",
       "      <td>68.4</td>\n",
       "      <td>...</td>\n",
       "      <td>99.1</td>\n",
       "      <td>66.3</td>\n",
       "      <td>15</td>\n",
       "      <td>92</td>\n",
       "      <td>4.4</td>\n",
       "      <td>7.08</td>\n",
       "      <td>7.24</td>\n",
       "      <td>1.0</td>\n",
       "      <td>2.0</td>\n",
       "      <td>GoffJa00</td>\n",
       "    </tr>\n",
       "    <tr>\n",
       "      <th>Patrick Mahomes</th>\n",
       "      <td>6</td>\n",
       "      <td>KAN</td>\n",
       "      <td>28</td>\n",
       "      <td>QB</td>\n",
       "      <td>9</td>\n",
       "      <td>9</td>\n",
       "      <td>7-2-0</td>\n",
       "      <td>229</td>\n",
       "      <td>334</td>\n",
       "      <td>68.6</td>\n",
       "      <td>...</td>\n",
       "      <td>96.7</td>\n",
       "      <td>72.8</td>\n",
       "      <td>12</td>\n",
       "      <td>89</td>\n",
       "      <td>3.5</td>\n",
       "      <td>6.80</td>\n",
       "      <td>6.74</td>\n",
       "      <td>0.0</td>\n",
       "      <td>1.0</td>\n",
       "      <td>MahoPa00</td>\n",
       "    </tr>\n",
       "    <tr>\n",
       "      <th>Lamar Jackson</th>\n",
       "      <td>7</td>\n",
       "      <td>BAL</td>\n",
       "      <td>26</td>\n",
       "      <td>QB</td>\n",
       "      <td>11</td>\n",
       "      <td>11</td>\n",
       "      <td>8-3-0</td>\n",
       "      <td>210</td>\n",
       "      <td>302</td>\n",
       "      <td>69.5</td>\n",
       "      <td>...</td>\n",
       "      <td>100.1</td>\n",
       "      <td>62.1</td>\n",
       "      <td>27</td>\n",
       "      <td>153</td>\n",
       "      <td>8.2</td>\n",
       "      <td>6.95</td>\n",
       "      <td>7.00</td>\n",
       "      <td>NaN</td>\n",
       "      <td>NaN</td>\n",
       "      <td>JackLa00</td>\n",
       "    </tr>\n",
       "    <tr>\n",
       "      <th>Dak Prescott</th>\n",
       "      <td>8</td>\n",
       "      <td>DAL</td>\n",
       "      <td>30</td>\n",
       "      <td>QB</td>\n",
       "      <td>9</td>\n",
       "      <td>9</td>\n",
       "      <td>6-3-0</td>\n",
       "      <td>212</td>\n",
       "      <td>300</td>\n",
       "      <td>70.7</td>\n",
       "      <td>...</td>\n",
       "      <td>105.1</td>\n",
       "      <td>72.6</td>\n",
       "      <td>22</td>\n",
       "      <td>155</td>\n",
       "      <td>6.8</td>\n",
       "      <td>7.02</td>\n",
       "      <td>7.24</td>\n",
       "      <td>0.0</td>\n",
       "      <td>1.0</td>\n",
       "      <td>PresDa01</td>\n",
       "    </tr>\n",
       "    <tr>\n",
       "      <th>Justin Herbert</th>\n",
       "      <td>9</td>\n",
       "      <td>LAC</td>\n",
       "      <td>25</td>\n",
       "      <td>QB</td>\n",
       "      <td>9</td>\n",
       "      <td>9</td>\n",
       "      <td>4-5-0</td>\n",
       "      <td>216</td>\n",
       "      <td>322</td>\n",
       "      <td>67.1</td>\n",
       "      <td>...</td>\n",
       "      <td>99.5</td>\n",
       "      <td>69.6</td>\n",
       "      <td>20</td>\n",
       "      <td>156</td>\n",
       "      <td>5.8</td>\n",
       "      <td>6.41</td>\n",
       "      <td>6.75</td>\n",
       "      <td>1.0</td>\n",
       "      <td>1.0</td>\n",
       "      <td>HerbJu00</td>\n",
       "    </tr>\n",
       "    <tr>\n",
       "      <th>Jalen Hurts</th>\n",
       "      <td>10</td>\n",
       "      <td>PHI</td>\n",
       "      <td>25</td>\n",
       "      <td>QB</td>\n",
       "      <td>9</td>\n",
       "      <td>9</td>\n",
       "      <td>8-1-0</td>\n",
       "      <td>210</td>\n",
       "      <td>305</td>\n",
       "      <td>68.9</td>\n",
       "      <td>...</td>\n",
       "      <td>97.0</td>\n",
       "      <td>65.9</td>\n",
       "      <td>22</td>\n",
       "      <td>123</td>\n",
       "      <td>6.7</td>\n",
       "      <td>6.80</td>\n",
       "      <td>6.62</td>\n",
       "      <td>1.0</td>\n",
       "      <td>2.0</td>\n",
       "      <td>HurtJa00</td>\n",
       "    </tr>\n",
       "    <tr>\n",
       "      <th>Kirk Cousins</th>\n",
       "      <td>11</td>\n",
       "      <td>MIN</td>\n",
       "      <td>35</td>\n",
       "      <td>QB</td>\n",
       "      <td>8</td>\n",
       "      <td>8</td>\n",
       "      <td>4-4-0</td>\n",
       "      <td>216</td>\n",
       "      <td>311</td>\n",
       "      <td>69.5</td>\n",
       "      <td>...</td>\n",
       "      <td>103.8</td>\n",
       "      <td>63.8</td>\n",
       "      <td>17</td>\n",
       "      <td>110</td>\n",
       "      <td>5.2</td>\n",
       "      <td>6.77</td>\n",
       "      <td>7.18</td>\n",
       "      <td>NaN</td>\n",
       "      <td>NaN</td>\n",
       "      <td>CousKi00</td>\n",
       "    </tr>\n",
       "    <tr>\n",
       "      <th>Brock Purdy</th>\n",
       "      <td>12</td>\n",
       "      <td>SFO</td>\n",
       "      <td>24</td>\n",
       "      <td>QB</td>\n",
       "      <td>9</td>\n",
       "      <td>9</td>\n",
       "      <td>6-3-0</td>\n",
       "      <td>172</td>\n",
       "      <td>250</td>\n",
       "      <td>68.8</td>\n",
       "      <td>...</td>\n",
       "      <td>109.9</td>\n",
       "      <td>76.2</td>\n",
       "      <td>16</td>\n",
       "      <td>98</td>\n",
       "      <td>6.0</td>\n",
       "      <td>8.39</td>\n",
       "      <td>8.67</td>\n",
       "      <td>NaN</td>\n",
       "      <td>NaN</td>\n",
       "      <td>PurdBr00</td>\n",
       "    </tr>\n",
       "    <tr>\n",
       "      <th>Joe Burrow</th>\n",
       "      <td>13</td>\n",
       "      <td>CIN</td>\n",
       "      <td>27</td>\n",
       "      <td>QB</td>\n",
       "      <td>10</td>\n",
       "      <td>10</td>\n",
       "      <td>5-5-0</td>\n",
       "      <td>244</td>\n",
       "      <td>365</td>\n",
       "      <td>66.8</td>\n",
       "      <td>...</td>\n",
       "      <td>91.0</td>\n",
       "      <td>53.5</td>\n",
       "      <td>24</td>\n",
       "      <td>180</td>\n",
       "      <td>6.2</td>\n",
       "      <td>5.47</td>\n",
       "      <td>5.55</td>\n",
       "      <td>NaN</td>\n",
       "      <td>NaN</td>\n",
       "      <td>BurrJo01</td>\n",
       "    </tr>\n",
       "    <tr>\n",
       "      <th>Derek Carr</th>\n",
       "      <td>14</td>\n",
       "      <td>NOR</td>\n",
       "      <td>32</td>\n",
       "      <td>QB</td>\n",
       "      <td>10</td>\n",
       "      <td>10</td>\n",
       "      <td>5-5-0</td>\n",
       "      <td>220</td>\n",
       "      <td>334</td>\n",
       "      <td>65.9</td>\n",
       "      <td>...</td>\n",
       "      <td>89.8</td>\n",
       "      <td>50.7</td>\n",
       "      <td>21</td>\n",
       "      <td>136</td>\n",
       "      <td>5.9</td>\n",
       "      <td>5.90</td>\n",
       "      <td>5.96</td>\n",
       "      <td>0.0</td>\n",
       "      <td>1.0</td>\n",
       "      <td>CarrDe02</td>\n",
       "    </tr>\n",
       "    <tr>\n",
       "      <th>Geno Smith</th>\n",
       "      <td>15</td>\n",
       "      <td>SEA</td>\n",
       "      <td>33</td>\n",
       "      <td>QB</td>\n",
       "      <td>9</td>\n",
       "      <td>9</td>\n",
       "      <td>6-3-0</td>\n",
       "      <td>196</td>\n",
       "      <td>300</td>\n",
       "      <td>65.3</td>\n",
       "      <td>...</td>\n",
       "      <td>89.2</td>\n",
       "      <td>54.1</td>\n",
       "      <td>19</td>\n",
       "      <td>149</td>\n",
       "      <td>6.0</td>\n",
       "      <td>6.34</td>\n",
       "      <td>6.04</td>\n",
       "      <td>2.0</td>\n",
       "      <td>3.0</td>\n",
       "      <td>SmitGe00</td>\n",
       "    </tr>\n",
       "    <tr>\n",
       "      <th>Baker Mayfield</th>\n",
       "      <td>16</td>\n",
       "      <td>TAM</td>\n",
       "      <td>28</td>\n",
       "      <td>QB</td>\n",
       "      <td>9</td>\n",
       "      <td>9</td>\n",
       "      <td>4-5-0</td>\n",
       "      <td>197</td>\n",
       "      <td>305</td>\n",
       "      <td>64.6</td>\n",
       "      <td>...</td>\n",
       "      <td>93.7</td>\n",
       "      <td>56.3</td>\n",
       "      <td>16</td>\n",
       "      <td>86</td>\n",
       "      <td>5.0</td>\n",
       "      <td>6.41</td>\n",
       "      <td>6.58</td>\n",
       "      <td>0.0</td>\n",
       "      <td>1.0</td>\n",
       "      <td>MayfBa00</td>\n",
       "    </tr>\n",
       "    <tr>\n",
       "      <th>Trevor Lawrence</th>\n",
       "      <td>17</td>\n",
       "      <td>JAX</td>\n",
       "      <td>24</td>\n",
       "      <td>QB</td>\n",
       "      <td>9</td>\n",
       "      <td>9</td>\n",
       "      <td>6-3-0</td>\n",
       "      <td>202</td>\n",
       "      <td>300</td>\n",
       "      <td>67.3</td>\n",
       "      <td>...</td>\n",
       "      <td>89.3</td>\n",
       "      <td>55.6</td>\n",
       "      <td>24</td>\n",
       "      <td>153</td>\n",
       "      <td>7.4</td>\n",
       "      <td>6.07</td>\n",
       "      <td>5.79</td>\n",
       "      <td>1.0</td>\n",
       "      <td>2.0</td>\n",
       "      <td>LawrTr00</td>\n",
       "    </tr>\n",
       "    <tr>\n",
       "      <th>Matthew Stafford</th>\n",
       "      <td>18</td>\n",
       "      <td>LAR</td>\n",
       "      <td>35</td>\n",
       "      <td>QB</td>\n",
       "      <td>8</td>\n",
       "      <td>8</td>\n",
       "      <td>3-5-0</td>\n",
       "      <td>166</td>\n",
       "      <td>278</td>\n",
       "      <td>59.7</td>\n",
       "      <td>...</td>\n",
       "      <td>82.0</td>\n",
       "      <td>55.7</td>\n",
       "      <td>19</td>\n",
       "      <td>145</td>\n",
       "      <td>6.4</td>\n",
       "      <td>6.48</td>\n",
       "      <td>5.96</td>\n",
       "      <td>0.0</td>\n",
       "      <td>1.0</td>\n",
       "      <td>StafMa00</td>\n",
       "    </tr>\n",
       "    <tr>\n",
       "      <th>Mac Jones</th>\n",
       "      <td>19</td>\n",
       "      <td>NWE</td>\n",
       "      <td>25</td>\n",
       "      <td>QB</td>\n",
       "      <td>10</td>\n",
       "      <td>10</td>\n",
       "      <td>2-8-0</td>\n",
       "      <td>212</td>\n",
       "      <td>324</td>\n",
       "      <td>65.4</td>\n",
       "      <td>...</td>\n",
       "      <td>80.2</td>\n",
       "      <td>38.8</td>\n",
       "      <td>21</td>\n",
       "      <td>127</td>\n",
       "      <td>6.1</td>\n",
       "      <td>5.52</td>\n",
       "      <td>4.79</td>\n",
       "      <td>1.0</td>\n",
       "      <td>1.0</td>\n",
       "      <td>JoneMa05</td>\n",
       "    </tr>\n",
       "    <tr>\n",
       "      <th>Jordan Love</th>\n",
       "      <td>20</td>\n",
       "      <td>GNB</td>\n",
       "      <td>25</td>\n",
       "      <td>QB</td>\n",
       "      <td>9</td>\n",
       "      <td>9</td>\n",
       "      <td>3-6-0</td>\n",
       "      <td>176</td>\n",
       "      <td>300</td>\n",
       "      <td>58.7</td>\n",
       "      <td>...</td>\n",
       "      <td>80.5</td>\n",
       "      <td>46.3</td>\n",
       "      <td>19</td>\n",
       "      <td>143</td>\n",
       "      <td>6.0</td>\n",
       "      <td>5.85</td>\n",
       "      <td>5.32</td>\n",
       "      <td>1.0</td>\n",
       "      <td>1.0</td>\n",
       "      <td>LoveJo03</td>\n",
       "    </tr>\n",
       "    <tr>\n",
       "      <th>Joshua Dobbs</th>\n",
       "      <td>21</td>\n",
       "      <td>2TM</td>\n",
       "      <td>28</td>\n",
       "      <td>NaN</td>\n",
       "      <td>10</td>\n",
       "      <td>9</td>\n",
       "      <td>2-7-0</td>\n",
       "      <td>210</td>\n",
       "      <td>330</td>\n",
       "      <td>63.6</td>\n",
       "      <td>...</td>\n",
       "      <td>85.1</td>\n",
       "      <td>58.0</td>\n",
       "      <td>21</td>\n",
       "      <td>143</td>\n",
       "      <td>6.0</td>\n",
       "      <td>5.28</td>\n",
       "      <td>5.26</td>\n",
       "      <td>0.0</td>\n",
       "      <td>0.0</td>\n",
       "      <td>DobbJo00</td>\n",
       "    </tr>\n",
       "    <tr>\n",
       "      <th>Zach Wilson</th>\n",
       "      <td>22</td>\n",
       "      <td>NYJ</td>\n",
       "      <td>24</td>\n",
       "      <td>QB</td>\n",
       "      <td>9</td>\n",
       "      <td>8</td>\n",
       "      <td>3-5-0</td>\n",
       "      <td>183</td>\n",
       "      <td>306</td>\n",
       "      <td>59.8</td>\n",
       "      <td>...</td>\n",
       "      <td>74.6</td>\n",
       "      <td>34.1</td>\n",
       "      <td>33</td>\n",
       "      <td>240</td>\n",
       "      <td>9.7</td>\n",
       "      <td>4.79</td>\n",
       "      <td>4.29</td>\n",
       "      <td>3.0</td>\n",
       "      <td>2.0</td>\n",
       "      <td>WilsZa00</td>\n",
       "    </tr>\n",
       "    <tr>\n",
       "      <th>Russell Wilson</th>\n",
       "      <td>23</td>\n",
       "      <td>DEN</td>\n",
       "      <td>35</td>\n",
       "      <td>QB</td>\n",
       "      <td>9</td>\n",
       "      <td>9</td>\n",
       "      <td>4-5-0</td>\n",
       "      <td>178</td>\n",
       "      <td>262</td>\n",
       "      <td>67.9</td>\n",
       "      <td>...</td>\n",
       "      <td>104.0</td>\n",
       "      <td>52.4</td>\n",
       "      <td>30</td>\n",
       "      <td>145</td>\n",
       "      <td>10.3</td>\n",
       "      <td>5.69</td>\n",
       "      <td>6.30</td>\n",
       "      <td>3.0</td>\n",
       "      <td>3.0</td>\n",
       "      <td>WilsRu00</td>\n",
       "    </tr>\n",
       "    <tr>\n",
       "      <th>Desmond Ridder</th>\n",
       "      <td>24</td>\n",
       "      <td>ATL</td>\n",
       "      <td>24</td>\n",
       "      <td>QB</td>\n",
       "      <td>9</td>\n",
       "      <td>8</td>\n",
       "      <td>4-4-0</td>\n",
       "      <td>161</td>\n",
       "      <td>246</td>\n",
       "      <td>65.4</td>\n",
       "      <td>...</td>\n",
       "      <td>84.1</td>\n",
       "      <td>40.6</td>\n",
       "      <td>25</td>\n",
       "      <td>171</td>\n",
       "      <td>9.2</td>\n",
       "      <td>5.79</td>\n",
       "      <td>5.24</td>\n",
       "      <td>2.0</td>\n",
       "      <td>4.0</td>\n",
       "      <td>RiddDe00</td>\n",
       "    </tr>\n",
       "    <tr>\n",
       "      <th>Gardner Minshew II</th>\n",
       "      <td>25</td>\n",
       "      <td>IND</td>\n",
       "      <td>27</td>\n",
       "      <td>QB</td>\n",
       "      <td>10</td>\n",
       "      <td>6</td>\n",
       "      <td>3-3-0</td>\n",
       "      <td>163</td>\n",
       "      <td>256</td>\n",
       "      <td>63.7</td>\n",
       "      <td>...</td>\n",
       "      <td>83.8</td>\n",
       "      <td>62.0</td>\n",
       "      <td>15</td>\n",
       "      <td>88</td>\n",
       "      <td>5.5</td>\n",
       "      <td>6.03</td>\n",
       "      <td>5.62</td>\n",
       "      <td>1.0</td>\n",
       "      <td>1.0</td>\n",
       "      <td>MinsGa00</td>\n",
       "    </tr>\n",
       "    <tr>\n",
       "      <th>Kenny Pickett</th>\n",
       "      <td>26</td>\n",
       "      <td>PIT</td>\n",
       "      <td>25</td>\n",
       "      <td>QB</td>\n",
       "      <td>9</td>\n",
       "      <td>9</td>\n",
       "      <td>6-3-0</td>\n",
       "      <td>155</td>\n",
       "      <td>253</td>\n",
       "      <td>61.3</td>\n",
       "      <td>...</td>\n",
       "      <td>81.1</td>\n",
       "      <td>36.3</td>\n",
       "      <td>18</td>\n",
       "      <td>134</td>\n",
       "      <td>6.6</td>\n",
       "      <td>5.47</td>\n",
       "      <td>5.25</td>\n",
       "      <td>3.0</td>\n",
       "      <td>3.0</td>\n",
       "      <td>PickKe00</td>\n",
       "    </tr>\n",
       "    <tr>\n",
       "      <th>Bryce Young</th>\n",
       "      <td>27</td>\n",
       "      <td>CAR</td>\n",
       "      <td>22</td>\n",
       "      <td>QB</td>\n",
       "      <td>8</td>\n",
       "      <td>8</td>\n",
       "      <td>1-7-0</td>\n",
       "      <td>182</td>\n",
       "      <td>290</td>\n",
       "      <td>62.8</td>\n",
       "      <td>...</td>\n",
       "      <td>75.9</td>\n",
       "      <td>33.1</td>\n",
       "      <td>29</td>\n",
       "      <td>234</td>\n",
       "      <td>9.1</td>\n",
       "      <td>4.16</td>\n",
       "      <td>3.67</td>\n",
       "      <td>1.0</td>\n",
       "      <td>1.0</td>\n",
       "      <td>YounBr01</td>\n",
       "    </tr>\n",
       "    <tr>\n",
       "      <th>Jimmy Garoppolo</th>\n",
       "      <td>28</td>\n",
       "      <td>LVR</td>\n",
       "      <td>32</td>\n",
       "      <td>QB</td>\n",
       "      <td>6</td>\n",
       "      <td>6</td>\n",
       "      <td>3-3-0</td>\n",
       "      <td>110</td>\n",
       "      <td>168</td>\n",
       "      <td>65.5</td>\n",
       "      <td>...</td>\n",
       "      <td>78.1</td>\n",
       "      <td>34.3</td>\n",
       "      <td>13</td>\n",
       "      <td>101</td>\n",
       "      <td>7.2</td>\n",
       "      <td>6.10</td>\n",
       "      <td>4.64</td>\n",
       "      <td>2.0</td>\n",
       "      <td>2.0</td>\n",
       "      <td>GaroJi00</td>\n",
       "    </tr>\n",
       "    <tr>\n",
       "      <th>Justin Fields</th>\n",
       "      <td>29</td>\n",
       "      <td>CHI</td>\n",
       "      <td>24</td>\n",
       "      <td>QB</td>\n",
       "      <td>6</td>\n",
       "      <td>6</td>\n",
       "      <td>1-5-0</td>\n",
       "      <td>100</td>\n",
       "      <td>162</td>\n",
       "      <td>61.7</td>\n",
       "      <td>...</td>\n",
       "      <td>91.6</td>\n",
       "      <td>39.0</td>\n",
       "      <td>24</td>\n",
       "      <td>143</td>\n",
       "      <td>12.9</td>\n",
       "      <td>5.69</td>\n",
       "      <td>5.42</td>\n",
       "      <td>NaN</td>\n",
       "      <td>NaN</td>\n",
       "      <td>FielJu00</td>\n",
       "    </tr>\n",
       "    <tr>\n",
       "      <th>Ryan Tannehill</th>\n",
       "      <td>30</td>\n",
       "      <td>TEN</td>\n",
       "      <td>35</td>\n",
       "      <td>QB</td>\n",
       "      <td>6</td>\n",
       "      <td>6</td>\n",
       "      <td>2-4-0</td>\n",
       "      <td>98</td>\n",
       "      <td>158</td>\n",
       "      <td>62.0</td>\n",
       "      <td>...</td>\n",
       "      <td>71.9</td>\n",
       "      <td>33.0</td>\n",
       "      <td>19</td>\n",
       "      <td>135</td>\n",
       "      <td>10.7</td>\n",
       "      <td>5.61</td>\n",
       "      <td>4.31</td>\n",
       "      <td>1.0</td>\n",
       "      <td>1.0</td>\n",
       "      <td>TannRy00</td>\n",
       "    </tr>\n",
       "    <tr>\n",
       "      <th>Deshaun Watson</th>\n",
       "      <td>31</td>\n",
       "      <td>CLE</td>\n",
       "      <td>28</td>\n",
       "      <td>QB</td>\n",
       "      <td>6</td>\n",
       "      <td>6</td>\n",
       "      <td>5-1-0</td>\n",
       "      <td>105</td>\n",
       "      <td>171</td>\n",
       "      <td>61.4</td>\n",
       "      <td>...</td>\n",
       "      <td>84.3</td>\n",
       "      <td>44.5</td>\n",
       "      <td>17</td>\n",
       "      <td>85</td>\n",
       "      <td>9.0</td>\n",
       "      <td>5.48</td>\n",
       "      <td>5.27</td>\n",
       "      <td>1.0</td>\n",
       "      <td>1.0</td>\n",
       "      <td>WatsDe00</td>\n",
       "    </tr>\n",
       "    <tr>\n",
       "      <th>Daniel Jones</th>\n",
       "      <td>32</td>\n",
       "      <td>NYG</td>\n",
       "      <td>26</td>\n",
       "      <td>QB</td>\n",
       "      <td>6</td>\n",
       "      <td>6</td>\n",
       "      <td>1-5-0</td>\n",
       "      <td>108</td>\n",
       "      <td>160</td>\n",
       "      <td>67.5</td>\n",
       "      <td>...</td>\n",
       "      <td>70.5</td>\n",
       "      <td>37.8</td>\n",
       "      <td>30</td>\n",
       "      <td>167</td>\n",
       "      <td>15.8</td>\n",
       "      <td>3.91</td>\n",
       "      <td>2.69</td>\n",
       "      <td>1.0</td>\n",
       "      <td>1.0</td>\n",
       "      <td>JoneDa05</td>\n",
       "    </tr>\n",
       "    <tr>\n",
       "      <th>Tyson Bagent</th>\n",
       "      <td>33</td>\n",
       "      <td>CHI</td>\n",
       "      <td>23</td>\n",
       "      <td>QB</td>\n",
       "      <td>5</td>\n",
       "      <td>4</td>\n",
       "      <td>2-2-0</td>\n",
       "      <td>94</td>\n",
       "      <td>143</td>\n",
       "      <td>65.7</td>\n",
       "      <td>...</td>\n",
       "      <td>71.4</td>\n",
       "      <td>50.2</td>\n",
       "      <td>5</td>\n",
       "      <td>35</td>\n",
       "      <td>3.4</td>\n",
       "      <td>5.57</td>\n",
       "      <td>4.15</td>\n",
       "      <td>NaN</td>\n",
       "      <td>NaN</td>\n",
       "      <td>BageTy00</td>\n",
       "    </tr>\n",
       "    <tr>\n",
       "      <th>Will Levis</th>\n",
       "      <td>34</td>\n",
       "      <td>TEN</td>\n",
       "      <td>24</td>\n",
       "      <td>QB</td>\n",
       "      <td>3</td>\n",
       "      <td>3</td>\n",
       "      <td>1-2-0</td>\n",
       "      <td>60</td>\n",
       "      <td>107</td>\n",
       "      <td>56.1</td>\n",
       "      <td>...</td>\n",
       "      <td>80.7</td>\n",
       "      <td>37.5</td>\n",
       "      <td>10</td>\n",
       "      <td>71</td>\n",
       "      <td>8.5</td>\n",
       "      <td>5.37</td>\n",
       "      <td>5.28</td>\n",
       "      <td>NaN</td>\n",
       "      <td>NaN</td>\n",
       "      <td>LeviWi00</td>\n",
       "    </tr>\n",
       "    <tr>\n",
       "      <th>Aidan O'Connell</th>\n",
       "      <td>35</td>\n",
       "      <td>LVR</td>\n",
       "      <td>25</td>\n",
       "      <td>QB</td>\n",
       "      <td>4</td>\n",
       "      <td>3</td>\n",
       "      <td>2-1-0</td>\n",
       "      <td>66</td>\n",
       "      <td>104</td>\n",
       "      <td>63.5</td>\n",
       "      <td>...</td>\n",
       "      <td>76.4</td>\n",
       "      <td>22.1</td>\n",
       "      <td>10</td>\n",
       "      <td>77</td>\n",
       "      <td>8.8</td>\n",
       "      <td>5.25</td>\n",
       "      <td>4.41</td>\n",
       "      <td>0.0</td>\n",
       "      <td>1.0</td>\n",
       "      <td>OConAi00</td>\n",
       "    </tr>\n",
       "    <tr>\n",
       "      <th>P.J. Walker</th>\n",
       "      <td>36</td>\n",
       "      <td>CLE</td>\n",
       "      <td>28</td>\n",
       "      <td>QB</td>\n",
       "      <td>5</td>\n",
       "      <td>2</td>\n",
       "      <td>1-1-0</td>\n",
       "      <td>48</td>\n",
       "      <td>98</td>\n",
       "      <td>49.0</td>\n",
       "      <td>...</td>\n",
       "      <td>51.3</td>\n",
       "      <td>24.3</td>\n",
       "      <td>7</td>\n",
       "      <td>62</td>\n",
       "      <td>6.7</td>\n",
       "      <td>5.30</td>\n",
       "      <td>3.34</td>\n",
       "      <td>2.0</td>\n",
       "      <td>2.0</td>\n",
       "      <td>WalkPh00</td>\n",
       "    </tr>\n",
       "  </tbody>\n",
       "</table>\n",
       "<p>36 rows × 32 columns</p>\n",
       "</div>"
      ],
      "text/plain": [
       "                    Rk   Tm  Age  Pos   G  GS  QBrec  Cmp  Att  Cmp%  ...  \\\n",
       "Player                                                                ...   \n",
       "Sam Howell           1  WAS   23   QB  10  10  4-6-0  264  397  66.5  ...   \n",
       "C.J. Stroud          2  HOU   22   QB   9   9  5-4-0  196  318  61.6  ...   \n",
       "Tua Tagovailoa       3  MIA   25   QB   9   9  6-3-0  214  308  69.5  ...   \n",
       "Josh Allen           4  BUF   27   QB  10  10  5-5-0  246  350  70.3  ...   \n",
       "Jared Goff           5  DET   29   QB   9   9  7-2-0  223  326  68.4  ...   \n",
       "Patrick Mahomes      6  KAN   28   QB   9   9  7-2-0  229  334  68.6  ...   \n",
       "Lamar Jackson        7  BAL   26   QB  11  11  8-3-0  210  302  69.5  ...   \n",
       "Dak Prescott         8  DAL   30   QB   9   9  6-3-0  212  300  70.7  ...   \n",
       "Justin Herbert       9  LAC   25   QB   9   9  4-5-0  216  322  67.1  ...   \n",
       "Jalen Hurts         10  PHI   25   QB   9   9  8-1-0  210  305  68.9  ...   \n",
       "Kirk Cousins        11  MIN   35   QB   8   8  4-4-0  216  311  69.5  ...   \n",
       "Brock Purdy         12  SFO   24   QB   9   9  6-3-0  172  250  68.8  ...   \n",
       "Joe Burrow          13  CIN   27   QB  10  10  5-5-0  244  365  66.8  ...   \n",
       "Derek Carr          14  NOR   32   QB  10  10  5-5-0  220  334  65.9  ...   \n",
       "Geno Smith          15  SEA   33   QB   9   9  6-3-0  196  300  65.3  ...   \n",
       "Baker Mayfield      16  TAM   28   QB   9   9  4-5-0  197  305  64.6  ...   \n",
       "Trevor Lawrence     17  JAX   24   QB   9   9  6-3-0  202  300  67.3  ...   \n",
       "Matthew Stafford    18  LAR   35   QB   8   8  3-5-0  166  278  59.7  ...   \n",
       "Mac Jones           19  NWE   25   QB  10  10  2-8-0  212  324  65.4  ...   \n",
       "Jordan Love         20  GNB   25   QB   9   9  3-6-0  176  300  58.7  ...   \n",
       "Joshua Dobbs        21  2TM   28  NaN  10   9  2-7-0  210  330  63.6  ...   \n",
       "Zach Wilson         22  NYJ   24   QB   9   8  3-5-0  183  306  59.8  ...   \n",
       "Russell Wilson      23  DEN   35   QB   9   9  4-5-0  178  262  67.9  ...   \n",
       "Desmond Ridder      24  ATL   24   QB   9   8  4-4-0  161  246  65.4  ...   \n",
       "Gardner Minshew II  25  IND   27   QB  10   6  3-3-0  163  256  63.7  ...   \n",
       "Kenny Pickett       26  PIT   25   QB   9   9  6-3-0  155  253  61.3  ...   \n",
       "Bryce Young         27  CAR   22   QB   8   8  1-7-0  182  290  62.8  ...   \n",
       "Jimmy Garoppolo     28  LVR   32   QB   6   6  3-3-0  110  168  65.5  ...   \n",
       "Justin Fields       29  CHI   24   QB   6   6  1-5-0  100  162  61.7  ...   \n",
       "Ryan Tannehill      30  TEN   35   QB   6   6  2-4-0   98  158  62.0  ...   \n",
       "Deshaun Watson      31  CLE   28   QB   6   6  5-1-0  105  171  61.4  ...   \n",
       "Daniel Jones        32  NYG   26   QB   6   6  1-5-0  108  160  67.5  ...   \n",
       "Tyson Bagent        33  CHI   23   QB   5   4  2-2-0   94  143  65.7  ...   \n",
       "Will Levis          34  TEN   24   QB   3   3  1-2-0   60  107  56.1  ...   \n",
       "Aidan O'Connell     35  LVR   25   QB   4   3  2-1-0   66  104  63.5  ...   \n",
       "P.J. Walker         36  CLE   28   QB   5   2  1-1-0   48   98  49.0  ...   \n",
       "\n",
       "                     Rate   QBR  Sk  Yds.1   Sk%  NY/A  ANY/A  4QC  GWD  \\\n",
       "Player                                                                    \n",
       "Sam Howell           91.5  47.3  47    317  10.6  5.55   5.41  2.0  2.0   \n",
       "C.J. Stroud         101.0  63.2  19    163   5.6  7.31   7.93  1.0  2.0   \n",
       "Tua Tagovailoa      106.4  64.8  14     82   4.3  7.85   8.05  1.0  1.0   \n",
       "Josh Allen           96.6  71.8  13     64   3.6  6.99   6.67  1.0  1.0   \n",
       "Jared Goff           99.1  66.3  15     92   4.4  7.08   7.24  1.0  2.0   \n",
       "Patrick Mahomes      96.7  72.8  12     89   3.5  6.80   6.74  0.0  1.0   \n",
       "Lamar Jackson       100.1  62.1  27    153   8.2  6.95   7.00  NaN  NaN   \n",
       "Dak Prescott        105.1  72.6  22    155   6.8  7.02   7.24  0.0  1.0   \n",
       "Justin Herbert       99.5  69.6  20    156   5.8  6.41   6.75  1.0  1.0   \n",
       "Jalen Hurts          97.0  65.9  22    123   6.7  6.80   6.62  1.0  2.0   \n",
       "Kirk Cousins        103.8  63.8  17    110   5.2  6.77   7.18  NaN  NaN   \n",
       "Brock Purdy         109.9  76.2  16     98   6.0  8.39   8.67  NaN  NaN   \n",
       "Joe Burrow           91.0  53.5  24    180   6.2  5.47   5.55  NaN  NaN   \n",
       "Derek Carr           89.8  50.7  21    136   5.9  5.90   5.96  0.0  1.0   \n",
       "Geno Smith           89.2  54.1  19    149   6.0  6.34   6.04  2.0  3.0   \n",
       "Baker Mayfield       93.7  56.3  16     86   5.0  6.41   6.58  0.0  1.0   \n",
       "Trevor Lawrence      89.3  55.6  24    153   7.4  6.07   5.79  1.0  2.0   \n",
       "Matthew Stafford     82.0  55.7  19    145   6.4  6.48   5.96  0.0  1.0   \n",
       "Mac Jones            80.2  38.8  21    127   6.1  5.52   4.79  1.0  1.0   \n",
       "Jordan Love          80.5  46.3  19    143   6.0  5.85   5.32  1.0  1.0   \n",
       "Joshua Dobbs         85.1  58.0  21    143   6.0  5.28   5.26  0.0  0.0   \n",
       "Zach Wilson          74.6  34.1  33    240   9.7  4.79   4.29  3.0  2.0   \n",
       "Russell Wilson      104.0  52.4  30    145  10.3  5.69   6.30  3.0  3.0   \n",
       "Desmond Ridder       84.1  40.6  25    171   9.2  5.79   5.24  2.0  4.0   \n",
       "Gardner Minshew II   83.8  62.0  15     88   5.5  6.03   5.62  1.0  1.0   \n",
       "Kenny Pickett        81.1  36.3  18    134   6.6  5.47   5.25  3.0  3.0   \n",
       "Bryce Young          75.9  33.1  29    234   9.1  4.16   3.67  1.0  1.0   \n",
       "Jimmy Garoppolo      78.1  34.3  13    101   7.2  6.10   4.64  2.0  2.0   \n",
       "Justin Fields        91.6  39.0  24    143  12.9  5.69   5.42  NaN  NaN   \n",
       "Ryan Tannehill       71.9  33.0  19    135  10.7  5.61   4.31  1.0  1.0   \n",
       "Deshaun Watson       84.3  44.5  17     85   9.0  5.48   5.27  1.0  1.0   \n",
       "Daniel Jones         70.5  37.8  30    167  15.8  3.91   2.69  1.0  1.0   \n",
       "Tyson Bagent         71.4  50.2   5     35   3.4  5.57   4.15  NaN  NaN   \n",
       "Will Levis           80.7  37.5  10     71   8.5  5.37   5.28  NaN  NaN   \n",
       "Aidan O'Connell      76.4  22.1  10     77   8.8  5.25   4.41  0.0  1.0   \n",
       "P.J. Walker          51.3  24.3   7     62   6.7  5.30   3.34  2.0  2.0   \n",
       "\n",
       "                    Player-additional  \n",
       "Player                                 \n",
       "Sam Howell                   HoweSa00  \n",
       "C.J. Stroud                  StroCJ00  \n",
       "Tua Tagovailoa               TagoTu00  \n",
       "Josh Allen                   AlleJo02  \n",
       "Jared Goff                   GoffJa00  \n",
       "Patrick Mahomes              MahoPa00  \n",
       "Lamar Jackson                JackLa00  \n",
       "Dak Prescott                 PresDa01  \n",
       "Justin Herbert               HerbJu00  \n",
       "Jalen Hurts                  HurtJa00  \n",
       "Kirk Cousins                 CousKi00  \n",
       "Brock Purdy                  PurdBr00  \n",
       "Joe Burrow                   BurrJo01  \n",
       "Derek Carr                   CarrDe02  \n",
       "Geno Smith                   SmitGe00  \n",
       "Baker Mayfield               MayfBa00  \n",
       "Trevor Lawrence              LawrTr00  \n",
       "Matthew Stafford             StafMa00  \n",
       "Mac Jones                    JoneMa05  \n",
       "Jordan Love                  LoveJo03  \n",
       "Joshua Dobbs                 DobbJo00  \n",
       "Zach Wilson                  WilsZa00  \n",
       "Russell Wilson               WilsRu00  \n",
       "Desmond Ridder               RiddDe00  \n",
       "Gardner Minshew II           MinsGa00  \n",
       "Kenny Pickett                PickKe00  \n",
       "Bryce Young                  YounBr01  \n",
       "Jimmy Garoppolo              GaroJi00  \n",
       "Justin Fields                FielJu00  \n",
       "Ryan Tannehill               TannRy00  \n",
       "Deshaun Watson               WatsDe00  \n",
       "Daniel Jones                 JoneDa05  \n",
       "Tyson Bagent                 BageTy00  \n",
       "Will Levis                   LeviWi00  \n",
       "Aidan O'Connell              OConAi00  \n",
       "P.J. Walker                  WalkPh00  \n",
       "\n",
       "[36 rows x 32 columns]"
      ]
     },
     "execution_count": 23,
     "metadata": {},
     "output_type": "execute_result"
    }
   ],
   "source": [
    "passing_clean_data = passing_data[passing_data[\"Att\"] > 90]\n",
    "passing_clean_data"
   ]
  },
  {
   "cell_type": "code",
   "execution_count": 24,
   "metadata": {},
   "outputs": [
    {
     "data": {
      "text/plain": [
       "19"
      ]
     },
     "execution_count": 24,
     "metadata": {},
     "output_type": "execute_result"
    }
   ],
   "source": [
    "passing_clean_data['TD'].max()"
   ]
  },
  {
   "cell_type": "code",
   "execution_count": 25,
   "metadata": {},
   "outputs": [],
   "source": [
    "player_names = passing_clean_data.index"
   ]
  },
  {
   "cell_type": "code",
   "execution_count": 26,
   "metadata": {},
   "outputs": [
    {
     "name": "stdout",
     "output_type": "stream",
     "text": [
      "2\n",
      "Tua Tagovailoa\n"
     ]
    }
   ],
   "source": [
    "maxTDs = passing_clean_data[\"TD\"].argmax()\n",
    "print(maxTDs)\n",
    "print(player_names[maxTDs])"
   ]
  },
  {
   "cell_type": "markdown",
   "metadata": {},
   "source": [
    "Rushing Data "
   ]
  },
  {
   "cell_type": "code",
   "execution_count": 27,
   "metadata": {},
   "outputs": [
    {
     "data": {
      "text/html": [
       "<div>\n",
       "<style scoped>\n",
       "    .dataframe tbody tr th:only-of-type {\n",
       "        vertical-align: middle;\n",
       "    }\n",
       "\n",
       "    .dataframe tbody tr th {\n",
       "        vertical-align: top;\n",
       "    }\n",
       "\n",
       "    .dataframe thead th {\n",
       "        text-align: right;\n",
       "    }\n",
       "</style>\n",
       "<table border=\"1\" class=\"dataframe\">\n",
       "  <thead>\n",
       "    <tr style=\"text-align: right;\">\n",
       "      <th></th>\n",
       "      <th>Rk</th>\n",
       "      <th>Tm</th>\n",
       "      <th>Age</th>\n",
       "      <th>Pos</th>\n",
       "      <th>G</th>\n",
       "      <th>GS</th>\n",
       "      <th>Att</th>\n",
       "      <th>Yds</th>\n",
       "      <th>TD</th>\n",
       "      <th>1D</th>\n",
       "      <th>Succ%</th>\n",
       "      <th>Lng</th>\n",
       "      <th>Y/A</th>\n",
       "      <th>Y/G</th>\n",
       "      <th>Fmb</th>\n",
       "      <th>-9999</th>\n",
       "    </tr>\n",
       "    <tr>\n",
       "      <th>Player</th>\n",
       "      <th></th>\n",
       "      <th></th>\n",
       "      <th></th>\n",
       "      <th></th>\n",
       "      <th></th>\n",
       "      <th></th>\n",
       "      <th></th>\n",
       "      <th></th>\n",
       "      <th></th>\n",
       "      <th></th>\n",
       "      <th></th>\n",
       "      <th></th>\n",
       "      <th></th>\n",
       "      <th></th>\n",
       "      <th></th>\n",
       "      <th></th>\n",
       "    </tr>\n",
       "  </thead>\n",
       "  <tbody>\n",
       "    <tr>\n",
       "      <th>Josh Jacobs</th>\n",
       "      <td>1</td>\n",
       "      <td>LVR</td>\n",
       "      <td>25</td>\n",
       "      <td>RB</td>\n",
       "      <td>10</td>\n",
       "      <td>10</td>\n",
       "      <td>186</td>\n",
       "      <td>622</td>\n",
       "      <td>5</td>\n",
       "      <td>30</td>\n",
       "      <td>48.4</td>\n",
       "      <td>40</td>\n",
       "      <td>3.3</td>\n",
       "      <td>62.2</td>\n",
       "      <td>3</td>\n",
       "      <td>JacoJo01</td>\n",
       "    </tr>\n",
       "    <tr>\n",
       "      <th>Travis Etienne</th>\n",
       "      <td>2</td>\n",
       "      <td>JAX</td>\n",
       "      <td>24</td>\n",
       "      <td>RB</td>\n",
       "      <td>9</td>\n",
       "      <td>9</td>\n",
       "      <td>160</td>\n",
       "      <td>618</td>\n",
       "      <td>7</td>\n",
       "      <td>33</td>\n",
       "      <td>46.3</td>\n",
       "      <td>35</td>\n",
       "      <td>3.9</td>\n",
       "      <td>68.7</td>\n",
       "      <td>0</td>\n",
       "      <td>EtieTr00</td>\n",
       "    </tr>\n",
       "    <tr>\n",
       "      <th>Christian McCaffrey</th>\n",
       "      <td>3</td>\n",
       "      <td>SFO</td>\n",
       "      <td>27</td>\n",
       "      <td>RB</td>\n",
       "      <td>9</td>\n",
       "      <td>9</td>\n",
       "      <td>153</td>\n",
       "      <td>747</td>\n",
       "      <td>9</td>\n",
       "      <td>44</td>\n",
       "      <td>54.9</td>\n",
       "      <td>65</td>\n",
       "      <td>4.9</td>\n",
       "      <td>83.0</td>\n",
       "      <td>3</td>\n",
       "      <td>McCaCh01</td>\n",
       "    </tr>\n",
       "    <tr>\n",
       "      <th>Joe Mixon</th>\n",
       "      <td>4</td>\n",
       "      <td>CIN</td>\n",
       "      <td>27</td>\n",
       "      <td>RB</td>\n",
       "      <td>10</td>\n",
       "      <td>10</td>\n",
       "      <td>153</td>\n",
       "      <td>605</td>\n",
       "      <td>4</td>\n",
       "      <td>38</td>\n",
       "      <td>48.4</td>\n",
       "      <td>22</td>\n",
       "      <td>4.0</td>\n",
       "      <td>60.5</td>\n",
       "      <td>0</td>\n",
       "      <td>MixoJo00</td>\n",
       "    </tr>\n",
       "    <tr>\n",
       "      <th>Derrick Henry</th>\n",
       "      <td>5</td>\n",
       "      <td>TEN</td>\n",
       "      <td>29</td>\n",
       "      <td>RB</td>\n",
       "      <td>9</td>\n",
       "      <td>9</td>\n",
       "      <td>148</td>\n",
       "      <td>625</td>\n",
       "      <td>4</td>\n",
       "      <td>30</td>\n",
       "      <td>48.6</td>\n",
       "      <td>63</td>\n",
       "      <td>4.2</td>\n",
       "      <td>69.4</td>\n",
       "      <td>0</td>\n",
       "      <td>HenrDe00</td>\n",
       "    </tr>\n",
       "    <tr>\n",
       "      <th>...</th>\n",
       "      <td>...</td>\n",
       "      <td>...</td>\n",
       "      <td>...</td>\n",
       "      <td>...</td>\n",
       "      <td>...</td>\n",
       "      <td>...</td>\n",
       "      <td>...</td>\n",
       "      <td>...</td>\n",
       "      <td>...</td>\n",
       "      <td>...</td>\n",
       "      <td>...</td>\n",
       "      <td>...</td>\n",
       "      <td>...</td>\n",
       "      <td>...</td>\n",
       "      <td>...</td>\n",
       "      <td>...</td>\n",
       "    </tr>\n",
       "    <tr>\n",
       "      <th>Zeke Turner</th>\n",
       "      <td>283</td>\n",
       "      <td>ARI</td>\n",
       "      <td>27</td>\n",
       "      <td>LB</td>\n",
       "      <td>9</td>\n",
       "      <td>1</td>\n",
       "      <td>1</td>\n",
       "      <td>2</td>\n",
       "      <td>0</td>\n",
       "      <td>1</td>\n",
       "      <td>100.0</td>\n",
       "      <td>2</td>\n",
       "      <td>2.0</td>\n",
       "      <td>0.2</td>\n",
       "      <td>0</td>\n",
       "      <td>TurnZe00</td>\n",
       "    </tr>\n",
       "    <tr>\n",
       "      <th>Christian Watson</th>\n",
       "      <td>284</td>\n",
       "      <td>GNB</td>\n",
       "      <td>24</td>\n",
       "      <td>WR</td>\n",
       "      <td>6</td>\n",
       "      <td>6</td>\n",
       "      <td>1</td>\n",
       "      <td>-5</td>\n",
       "      <td>0</td>\n",
       "      <td>0</td>\n",
       "      <td>0.0</td>\n",
       "      <td>-5</td>\n",
       "      <td>-5.0</td>\n",
       "      <td>-0.8</td>\n",
       "      <td>0</td>\n",
       "      <td>WatsCh00</td>\n",
       "    </tr>\n",
       "    <tr>\n",
       "      <th>Dontayvion Wicks</th>\n",
       "      <td>285</td>\n",
       "      <td>GNB</td>\n",
       "      <td>22</td>\n",
       "      <td>WR</td>\n",
       "      <td>9</td>\n",
       "      <td>2</td>\n",
       "      <td>1</td>\n",
       "      <td>1</td>\n",
       "      <td>0</td>\n",
       "      <td>0</td>\n",
       "      <td>0.0</td>\n",
       "      <td>1</td>\n",
       "      <td>1.0</td>\n",
       "      <td>0.1</td>\n",
       "      <td>2</td>\n",
       "      <td>WickDo00</td>\n",
       "    </tr>\n",
       "    <tr>\n",
       "      <th>Mike Williams</th>\n",
       "      <td>286</td>\n",
       "      <td>LAC</td>\n",
       "      <td>29</td>\n",
       "      <td>WR</td>\n",
       "      <td>3</td>\n",
       "      <td>3</td>\n",
       "      <td>1</td>\n",
       "      <td>3</td>\n",
       "      <td>0</td>\n",
       "      <td>0</td>\n",
       "      <td>0.0</td>\n",
       "      <td>3</td>\n",
       "      <td>3.0</td>\n",
       "      <td>1.0</td>\n",
       "      <td>0</td>\n",
       "      <td>WillMi07</td>\n",
       "    </tr>\n",
       "    <tr>\n",
       "      <th>Garrett Wilson</th>\n",
       "      <td>287</td>\n",
       "      <td>NYJ</td>\n",
       "      <td>23</td>\n",
       "      <td>WR</td>\n",
       "      <td>9</td>\n",
       "      <td>9</td>\n",
       "      <td>1</td>\n",
       "      <td>6</td>\n",
       "      <td>0</td>\n",
       "      <td>0</td>\n",
       "      <td>100.0</td>\n",
       "      <td>6</td>\n",
       "      <td>6.0</td>\n",
       "      <td>0.7</td>\n",
       "      <td>1</td>\n",
       "      <td>WilsGa00</td>\n",
       "    </tr>\n",
       "  </tbody>\n",
       "</table>\n",
       "<p>287 rows × 16 columns</p>\n",
       "</div>"
      ],
      "text/plain": [
       "                      Rk   Tm  Age Pos   G  GS  Att  Yds  TD  1D  Succ%  Lng  \\\n",
       "Player                                                                         \n",
       "Josh Jacobs            1  LVR   25  RB  10  10  186  622   5  30   48.4   40   \n",
       "Travis Etienne         2  JAX   24  RB   9   9  160  618   7  33   46.3   35   \n",
       "Christian McCaffrey    3  SFO   27  RB   9   9  153  747   9  44   54.9   65   \n",
       "Joe Mixon              4  CIN   27  RB  10  10  153  605   4  38   48.4   22   \n",
       "Derrick Henry          5  TEN   29  RB   9   9  148  625   4  30   48.6   63   \n",
       "...                  ...  ...  ...  ..  ..  ..  ...  ...  ..  ..    ...  ...   \n",
       "Zeke Turner          283  ARI   27  LB   9   1    1    2   0   1  100.0    2   \n",
       "Christian Watson     284  GNB   24  WR   6   6    1   -5   0   0    0.0   -5   \n",
       "Dontayvion Wicks     285  GNB   22  WR   9   2    1    1   0   0    0.0    1   \n",
       "Mike Williams        286  LAC   29  WR   3   3    1    3   0   0    0.0    3   \n",
       "Garrett Wilson       287  NYJ   23  WR   9   9    1    6   0   0  100.0    6   \n",
       "\n",
       "                     Y/A   Y/G  Fmb     -9999  \n",
       "Player                                         \n",
       "Josh Jacobs          3.3  62.2    3  JacoJo01  \n",
       "Travis Etienne       3.9  68.7    0  EtieTr00  \n",
       "Christian McCaffrey  4.9  83.0    3  McCaCh01  \n",
       "Joe Mixon            4.0  60.5    0  MixoJo00  \n",
       "Derrick Henry        4.2  69.4    0  HenrDe00  \n",
       "...                  ...   ...  ...       ...  \n",
       "Zeke Turner          2.0   0.2    0  TurnZe00  \n",
       "Christian Watson    -5.0  -0.8    0  WatsCh00  \n",
       "Dontayvion Wicks     1.0   0.1    2  WickDo00  \n",
       "Mike Williams        3.0   1.0    0  WillMi07  \n",
       "Garrett Wilson       6.0   0.7    1  WilsGa00  \n",
       "\n",
       "[287 rows x 16 columns]"
      ]
     },
     "execution_count": 27,
     "metadata": {},
     "output_type": "execute_result"
    }
   ],
   "source": [
    "rushing_data = pd.read_csv(\"All_Rushing_NFL.csv\", index_col=\"Player\")\n",
    "rushing_data"
   ]
  },
  {
   "cell_type": "code",
   "execution_count": 28,
   "metadata": {},
   "outputs": [
    {
     "data": {
      "text/html": [
       "<div>\n",
       "<style scoped>\n",
       "    .dataframe tbody tr th:only-of-type {\n",
       "        vertical-align: middle;\n",
       "    }\n",
       "\n",
       "    .dataframe tbody tr th {\n",
       "        vertical-align: top;\n",
       "    }\n",
       "\n",
       "    .dataframe thead th {\n",
       "        text-align: right;\n",
       "    }\n",
       "</style>\n",
       "<table border=\"1\" class=\"dataframe\">\n",
       "  <thead>\n",
       "    <tr style=\"text-align: right;\">\n",
       "      <th></th>\n",
       "      <th>Rk</th>\n",
       "      <th>Tm</th>\n",
       "      <th>Age</th>\n",
       "      <th>Pos</th>\n",
       "      <th>G</th>\n",
       "      <th>GS</th>\n",
       "      <th>Att</th>\n",
       "      <th>Yds</th>\n",
       "      <th>TD</th>\n",
       "      <th>1D</th>\n",
       "      <th>Succ%</th>\n",
       "      <th>Lng</th>\n",
       "      <th>Y/A</th>\n",
       "      <th>Y/G</th>\n",
       "      <th>Fmb</th>\n",
       "      <th>-9999</th>\n",
       "    </tr>\n",
       "    <tr>\n",
       "      <th>Player</th>\n",
       "      <th></th>\n",
       "      <th></th>\n",
       "      <th></th>\n",
       "      <th></th>\n",
       "      <th></th>\n",
       "      <th></th>\n",
       "      <th></th>\n",
       "      <th></th>\n",
       "      <th></th>\n",
       "      <th></th>\n",
       "      <th></th>\n",
       "      <th></th>\n",
       "      <th></th>\n",
       "      <th></th>\n",
       "      <th></th>\n",
       "      <th></th>\n",
       "    </tr>\n",
       "  </thead>\n",
       "  <tbody>\n",
       "    <tr>\n",
       "      <th>Josh Jacobs</th>\n",
       "      <td>1</td>\n",
       "      <td>LVR</td>\n",
       "      <td>25</td>\n",
       "      <td>RB</td>\n",
       "      <td>10</td>\n",
       "      <td>10</td>\n",
       "      <td>186</td>\n",
       "      <td>622</td>\n",
       "      <td>5</td>\n",
       "      <td>30</td>\n",
       "      <td>48.4</td>\n",
       "      <td>40</td>\n",
       "      <td>3.3</td>\n",
       "      <td>62.2</td>\n",
       "      <td>3</td>\n",
       "      <td>JacoJo01</td>\n",
       "    </tr>\n",
       "    <tr>\n",
       "      <th>Travis Etienne</th>\n",
       "      <td>2</td>\n",
       "      <td>JAX</td>\n",
       "      <td>24</td>\n",
       "      <td>RB</td>\n",
       "      <td>9</td>\n",
       "      <td>9</td>\n",
       "      <td>160</td>\n",
       "      <td>618</td>\n",
       "      <td>7</td>\n",
       "      <td>33</td>\n",
       "      <td>46.3</td>\n",
       "      <td>35</td>\n",
       "      <td>3.9</td>\n",
       "      <td>68.7</td>\n",
       "      <td>0</td>\n",
       "      <td>EtieTr00</td>\n",
       "    </tr>\n",
       "    <tr>\n",
       "      <th>Christian McCaffrey</th>\n",
       "      <td>3</td>\n",
       "      <td>SFO</td>\n",
       "      <td>27</td>\n",
       "      <td>RB</td>\n",
       "      <td>9</td>\n",
       "      <td>9</td>\n",
       "      <td>153</td>\n",
       "      <td>747</td>\n",
       "      <td>9</td>\n",
       "      <td>44</td>\n",
       "      <td>54.9</td>\n",
       "      <td>65</td>\n",
       "      <td>4.9</td>\n",
       "      <td>83.0</td>\n",
       "      <td>3</td>\n",
       "      <td>McCaCh01</td>\n",
       "    </tr>\n",
       "    <tr>\n",
       "      <th>Joe Mixon</th>\n",
       "      <td>4</td>\n",
       "      <td>CIN</td>\n",
       "      <td>27</td>\n",
       "      <td>RB</td>\n",
       "      <td>10</td>\n",
       "      <td>10</td>\n",
       "      <td>153</td>\n",
       "      <td>605</td>\n",
       "      <td>4</td>\n",
       "      <td>38</td>\n",
       "      <td>48.4</td>\n",
       "      <td>22</td>\n",
       "      <td>4.0</td>\n",
       "      <td>60.5</td>\n",
       "      <td>0</td>\n",
       "      <td>MixoJo00</td>\n",
       "    </tr>\n",
       "    <tr>\n",
       "      <th>Derrick Henry</th>\n",
       "      <td>5</td>\n",
       "      <td>TEN</td>\n",
       "      <td>29</td>\n",
       "      <td>RB</td>\n",
       "      <td>9</td>\n",
       "      <td>9</td>\n",
       "      <td>148</td>\n",
       "      <td>625</td>\n",
       "      <td>4</td>\n",
       "      <td>30</td>\n",
       "      <td>48.6</td>\n",
       "      <td>63</td>\n",
       "      <td>4.2</td>\n",
       "      <td>69.4</td>\n",
       "      <td>0</td>\n",
       "      <td>HenrDe00</td>\n",
       "    </tr>\n",
       "    <tr>\n",
       "      <th>...</th>\n",
       "      <td>...</td>\n",
       "      <td>...</td>\n",
       "      <td>...</td>\n",
       "      <td>...</td>\n",
       "      <td>...</td>\n",
       "      <td>...</td>\n",
       "      <td>...</td>\n",
       "      <td>...</td>\n",
       "      <td>...</td>\n",
       "      <td>...</td>\n",
       "      <td>...</td>\n",
       "      <td>...</td>\n",
       "      <td>...</td>\n",
       "      <td>...</td>\n",
       "      <td>...</td>\n",
       "      <td>...</td>\n",
       "    </tr>\n",
       "    <tr>\n",
       "      <th>Jared Goff</th>\n",
       "      <td>103</td>\n",
       "      <td>DET</td>\n",
       "      <td>29</td>\n",
       "      <td>QB</td>\n",
       "      <td>9</td>\n",
       "      <td>9</td>\n",
       "      <td>21</td>\n",
       "      <td>11</td>\n",
       "      <td>2</td>\n",
       "      <td>4</td>\n",
       "      <td>19.0</td>\n",
       "      <td>11</td>\n",
       "      <td>0.5</td>\n",
       "      <td>1.2</td>\n",
       "      <td>2</td>\n",
       "      <td>GoffJa00</td>\n",
       "    </tr>\n",
       "    <tr>\n",
       "      <th>Jordan Mason</th>\n",
       "      <td>104</td>\n",
       "      <td>SFO</td>\n",
       "      <td>24</td>\n",
       "      <td>RB</td>\n",
       "      <td>9</td>\n",
       "      <td>0</td>\n",
       "      <td>21</td>\n",
       "      <td>117</td>\n",
       "      <td>2</td>\n",
       "      <td>6</td>\n",
       "      <td>61.9</td>\n",
       "      <td>26</td>\n",
       "      <td>5.6</td>\n",
       "      <td>13.0</td>\n",
       "      <td>0</td>\n",
       "      <td>MasoJo00</td>\n",
       "    </tr>\n",
       "    <tr>\n",
       "      <th>Rondale Moore</th>\n",
       "      <td>105</td>\n",
       "      <td>ARI</td>\n",
       "      <td>23</td>\n",
       "      <td>WR</td>\n",
       "      <td>10</td>\n",
       "      <td>4</td>\n",
       "      <td>21</td>\n",
       "      <td>150</td>\n",
       "      <td>1</td>\n",
       "      <td>4</td>\n",
       "      <td>42.9</td>\n",
       "      <td>45</td>\n",
       "      <td>7.1</td>\n",
       "      <td>15.0</td>\n",
       "      <td>0</td>\n",
       "      <td>MoorRo02</td>\n",
       "    </tr>\n",
       "    <tr>\n",
       "      <th>Deebo Samuel</th>\n",
       "      <td>106</td>\n",
       "      <td>SFO</td>\n",
       "      <td>27</td>\n",
       "      <td>WR</td>\n",
       "      <td>7</td>\n",
       "      <td>7</td>\n",
       "      <td>21</td>\n",
       "      <td>124</td>\n",
       "      <td>2</td>\n",
       "      <td>4</td>\n",
       "      <td>66.7</td>\n",
       "      <td>23</td>\n",
       "      <td>5.9</td>\n",
       "      <td>17.7</td>\n",
       "      <td>1</td>\n",
       "      <td>SamuDe00</td>\n",
       "    </tr>\n",
       "    <tr>\n",
       "      <th>Deuce Vaughn</th>\n",
       "      <td>107</td>\n",
       "      <td>DAL</td>\n",
       "      <td>22</td>\n",
       "      <td>RB</td>\n",
       "      <td>6</td>\n",
       "      <td>0</td>\n",
       "      <td>21</td>\n",
       "      <td>38</td>\n",
       "      <td>0</td>\n",
       "      <td>1</td>\n",
       "      <td>9.5</td>\n",
       "      <td>13</td>\n",
       "      <td>1.8</td>\n",
       "      <td>6.3</td>\n",
       "      <td>0</td>\n",
       "      <td>VaugDe00</td>\n",
       "    </tr>\n",
       "  </tbody>\n",
       "</table>\n",
       "<p>107 rows × 16 columns</p>\n",
       "</div>"
      ],
      "text/plain": [
       "                      Rk   Tm  Age Pos   G  GS  Att  Yds  TD  1D  Succ%  Lng  \\\n",
       "Player                                                                         \n",
       "Josh Jacobs            1  LVR   25  RB  10  10  186  622   5  30   48.4   40   \n",
       "Travis Etienne         2  JAX   24  RB   9   9  160  618   7  33   46.3   35   \n",
       "Christian McCaffrey    3  SFO   27  RB   9   9  153  747   9  44   54.9   65   \n",
       "Joe Mixon              4  CIN   27  RB  10  10  153  605   4  38   48.4   22   \n",
       "Derrick Henry          5  TEN   29  RB   9   9  148  625   4  30   48.6   63   \n",
       "...                  ...  ...  ...  ..  ..  ..  ...  ...  ..  ..    ...  ...   \n",
       "Jared Goff           103  DET   29  QB   9   9   21   11   2   4   19.0   11   \n",
       "Jordan Mason         104  SFO   24  RB   9   0   21  117   2   6   61.9   26   \n",
       "Rondale Moore        105  ARI   23  WR  10   4   21  150   1   4   42.9   45   \n",
       "Deebo Samuel         106  SFO   27  WR   7   7   21  124   2   4   66.7   23   \n",
       "Deuce Vaughn         107  DAL   22  RB   6   0   21   38   0   1    9.5   13   \n",
       "\n",
       "                     Y/A   Y/G  Fmb     -9999  \n",
       "Player                                         \n",
       "Josh Jacobs          3.3  62.2    3  JacoJo01  \n",
       "Travis Etienne       3.9  68.7    0  EtieTr00  \n",
       "Christian McCaffrey  4.9  83.0    3  McCaCh01  \n",
       "Joe Mixon            4.0  60.5    0  MixoJo00  \n",
       "Derrick Henry        4.2  69.4    0  HenrDe00  \n",
       "...                  ...   ...  ...       ...  \n",
       "Jared Goff           0.5   1.2    2  GoffJa00  \n",
       "Jordan Mason         5.6  13.0    0  MasoJo00  \n",
       "Rondale Moore        7.1  15.0    0  MoorRo02  \n",
       "Deebo Samuel         5.9  17.7    1  SamuDe00  \n",
       "Deuce Vaughn         1.8   6.3    0  VaugDe00  \n",
       "\n",
       "[107 rows x 16 columns]"
      ]
     },
     "execution_count": 28,
     "metadata": {},
     "output_type": "execute_result"
    }
   ],
   "source": [
    "rushing_clean_data = rushing_data[rushing_data[\"Att\"] > 20]\n",
    "rushing_clean_data"
   ]
  },
  {
   "cell_type": "code",
   "execution_count": 29,
   "metadata": {},
   "outputs": [],
   "source": [
    "player_names = rushing_clean_data.index"
   ]
  },
  {
   "cell_type": "markdown",
   "metadata": {},
   "source": [
    "Receiving Stats"
   ]
  },
  {
   "cell_type": "code",
   "execution_count": 30,
   "metadata": {},
   "outputs": [
    {
     "data": {
      "text/html": [
       "<div>\n",
       "<style scoped>\n",
       "    .dataframe tbody tr th:only-of-type {\n",
       "        vertical-align: middle;\n",
       "    }\n",
       "\n",
       "    .dataframe tbody tr th {\n",
       "        vertical-align: top;\n",
       "    }\n",
       "\n",
       "    .dataframe thead th {\n",
       "        text-align: right;\n",
       "    }\n",
       "</style>\n",
       "<table border=\"1\" class=\"dataframe\">\n",
       "  <thead>\n",
       "    <tr style=\"text-align: right;\">\n",
       "      <th></th>\n",
       "      <th>Rk</th>\n",
       "      <th>Tm</th>\n",
       "      <th>Age</th>\n",
       "      <th>Pos</th>\n",
       "      <th>G</th>\n",
       "      <th>GS</th>\n",
       "      <th>Tgt</th>\n",
       "      <th>Rec</th>\n",
       "      <th>Ctch%</th>\n",
       "      <th>Yds</th>\n",
       "      <th>Y/R</th>\n",
       "      <th>TD</th>\n",
       "      <th>1D</th>\n",
       "      <th>Succ%</th>\n",
       "      <th>Lng</th>\n",
       "      <th>Y/Tgt</th>\n",
       "      <th>R/G</th>\n",
       "      <th>Y/G</th>\n",
       "      <th>Fmb</th>\n",
       "      <th>Player-additional</th>\n",
       "    </tr>\n",
       "    <tr>\n",
       "      <th>Player</th>\n",
       "      <th></th>\n",
       "      <th></th>\n",
       "      <th></th>\n",
       "      <th></th>\n",
       "      <th></th>\n",
       "      <th></th>\n",
       "      <th></th>\n",
       "      <th></th>\n",
       "      <th></th>\n",
       "      <th></th>\n",
       "      <th></th>\n",
       "      <th></th>\n",
       "      <th></th>\n",
       "      <th></th>\n",
       "      <th></th>\n",
       "      <th></th>\n",
       "      <th></th>\n",
       "      <th></th>\n",
       "      <th></th>\n",
       "      <th></th>\n",
       "    </tr>\n",
       "  </thead>\n",
       "  <tbody>\n",
       "    <tr>\n",
       "      <th>Keenan Allen</th>\n",
       "      <td>1</td>\n",
       "      <td>LAC</td>\n",
       "      <td>31</td>\n",
       "      <td>WR</td>\n",
       "      <td>9</td>\n",
       "      <td>9</td>\n",
       "      <td>97</td>\n",
       "      <td>73</td>\n",
       "      <td>75.3%</td>\n",
       "      <td>895</td>\n",
       "      <td>12.3</td>\n",
       "      <td>6</td>\n",
       "      <td>41</td>\n",
       "      <td>59.8</td>\n",
       "      <td>42</td>\n",
       "      <td>9.2</td>\n",
       "      <td>8.1</td>\n",
       "      <td>99.4</td>\n",
       "      <td>1</td>\n",
       "      <td>AlleKe00</td>\n",
       "    </tr>\n",
       "    <tr>\n",
       "      <th>Stefon Diggs</th>\n",
       "      <td>2</td>\n",
       "      <td>BUF</td>\n",
       "      <td>30</td>\n",
       "      <td>WR</td>\n",
       "      <td>10</td>\n",
       "      <td>10</td>\n",
       "      <td>102</td>\n",
       "      <td>73</td>\n",
       "      <td>71.6%</td>\n",
       "      <td>868</td>\n",
       "      <td>11.9</td>\n",
       "      <td>7</td>\n",
       "      <td>43</td>\n",
       "      <td>57.8</td>\n",
       "      <td>55</td>\n",
       "      <td>8.5</td>\n",
       "      <td>7.3</td>\n",
       "      <td>86.8</td>\n",
       "      <td>1</td>\n",
       "      <td>DiggSt00</td>\n",
       "    </tr>\n",
       "    <tr>\n",
       "      <th>Ja'Marr Chase</th>\n",
       "      <td>3</td>\n",
       "      <td>CIN</td>\n",
       "      <td>23</td>\n",
       "      <td>WR</td>\n",
       "      <td>10</td>\n",
       "      <td>10</td>\n",
       "      <td>106</td>\n",
       "      <td>71</td>\n",
       "      <td>67.0%</td>\n",
       "      <td>833</td>\n",
       "      <td>11.7</td>\n",
       "      <td>6</td>\n",
       "      <td>47</td>\n",
       "      <td>58.5</td>\n",
       "      <td>64</td>\n",
       "      <td>7.9</td>\n",
       "      <td>7.1</td>\n",
       "      <td>83.3</td>\n",
       "      <td>1</td>\n",
       "      <td>ChasJa00</td>\n",
       "    </tr>\n",
       "    <tr>\n",
       "      <th>T.J. Hockenson</th>\n",
       "      <td>4</td>\n",
       "      <td>MIN</td>\n",
       "      <td>26</td>\n",
       "      <td>TE</td>\n",
       "      <td>10</td>\n",
       "      <td>7</td>\n",
       "      <td>95</td>\n",
       "      <td>71</td>\n",
       "      <td>74.7%</td>\n",
       "      <td>681</td>\n",
       "      <td>9.6</td>\n",
       "      <td>4</td>\n",
       "      <td>38</td>\n",
       "      <td>53.7</td>\n",
       "      <td>29</td>\n",
       "      <td>7.2</td>\n",
       "      <td>7.1</td>\n",
       "      <td>68.1</td>\n",
       "      <td>1</td>\n",
       "      <td>HockTJ00</td>\n",
       "    </tr>\n",
       "    <tr>\n",
       "      <th>Tyreek Hill</th>\n",
       "      <td>5</td>\n",
       "      <td>MIA</td>\n",
       "      <td>29</td>\n",
       "      <td>WR</td>\n",
       "      <td>9</td>\n",
       "      <td>9</td>\n",
       "      <td>97</td>\n",
       "      <td>69</td>\n",
       "      <td>71.1%</td>\n",
       "      <td>1076</td>\n",
       "      <td>15.6</td>\n",
       "      <td>8</td>\n",
       "      <td>50</td>\n",
       "      <td>60.8</td>\n",
       "      <td>69</td>\n",
       "      <td>11.1</td>\n",
       "      <td>7.7</td>\n",
       "      <td>119.6</td>\n",
       "      <td>1</td>\n",
       "      <td>HillTy00</td>\n",
       "    </tr>\n",
       "    <tr>\n",
       "      <th>...</th>\n",
       "      <td>...</td>\n",
       "      <td>...</td>\n",
       "      <td>...</td>\n",
       "      <td>...</td>\n",
       "      <td>...</td>\n",
       "      <td>...</td>\n",
       "      <td>...</td>\n",
       "      <td>...</td>\n",
       "      <td>...</td>\n",
       "      <td>...</td>\n",
       "      <td>...</td>\n",
       "      <td>...</td>\n",
       "      <td>...</td>\n",
       "      <td>...</td>\n",
       "      <td>...</td>\n",
       "      <td>...</td>\n",
       "      <td>...</td>\n",
       "      <td>...</td>\n",
       "      <td>...</td>\n",
       "      <td>...</td>\n",
       "    </tr>\n",
       "    <tr>\n",
       "      <th>James Proche</th>\n",
       "      <td>429</td>\n",
       "      <td>CLE</td>\n",
       "      <td>27</td>\n",
       "      <td>WR</td>\n",
       "      <td>2</td>\n",
       "      <td>0</td>\n",
       "      <td>1</td>\n",
       "      <td>0</td>\n",
       "      <td>0.0%</td>\n",
       "      <td>0</td>\n",
       "      <td>NaN</td>\n",
       "      <td>0</td>\n",
       "      <td>0</td>\n",
       "      <td>0.0</td>\n",
       "      <td>0</td>\n",
       "      <td>0.0</td>\n",
       "      <td>0.0</td>\n",
       "      <td>0.0</td>\n",
       "      <td>1</td>\n",
       "      <td>ProcJa00</td>\n",
       "    </tr>\n",
       "    <tr>\n",
       "      <th>Amari Rodgers</th>\n",
       "      <td>430</td>\n",
       "      <td>IND</td>\n",
       "      <td>24</td>\n",
       "      <td>WR</td>\n",
       "      <td>3</td>\n",
       "      <td>0</td>\n",
       "      <td>2</td>\n",
       "      <td>0</td>\n",
       "      <td>0.0%</td>\n",
       "      <td>0</td>\n",
       "      <td>NaN</td>\n",
       "      <td>0</td>\n",
       "      <td>0</td>\n",
       "      <td>0.0</td>\n",
       "      <td>0</td>\n",
       "      <td>0.0</td>\n",
       "      <td>0.0</td>\n",
       "      <td>0.0</td>\n",
       "      <td>0</td>\n",
       "      <td>RodgAm00</td>\n",
       "    </tr>\n",
       "    <tr>\n",
       "      <th>Trent Taylor</th>\n",
       "      <td>431</td>\n",
       "      <td>CHI</td>\n",
       "      <td>29</td>\n",
       "      <td>WR</td>\n",
       "      <td>10</td>\n",
       "      <td>0</td>\n",
       "      <td>1</td>\n",
       "      <td>0</td>\n",
       "      <td>0.0%</td>\n",
       "      <td>0</td>\n",
       "      <td>NaN</td>\n",
       "      <td>0</td>\n",
       "      <td>0</td>\n",
       "      <td>0.0</td>\n",
       "      <td>0</td>\n",
       "      <td>0.0</td>\n",
       "      <td>0.0</td>\n",
       "      <td>0.0</td>\n",
       "      <td>0</td>\n",
       "      <td>TaylTr02</td>\n",
       "    </tr>\n",
       "    <tr>\n",
       "      <th>Rodney Williams</th>\n",
       "      <td>432</td>\n",
       "      <td>PIT</td>\n",
       "      <td>25</td>\n",
       "      <td>TE</td>\n",
       "      <td>5</td>\n",
       "      <td>0</td>\n",
       "      <td>2</td>\n",
       "      <td>0</td>\n",
       "      <td>0.0%</td>\n",
       "      <td>0</td>\n",
       "      <td>NaN</td>\n",
       "      <td>0</td>\n",
       "      <td>0</td>\n",
       "      <td>0.0</td>\n",
       "      <td>0</td>\n",
       "      <td>0.0</td>\n",
       "      <td>0.0</td>\n",
       "      <td>0.0</td>\n",
       "      <td>0</td>\n",
       "      <td>WillRo08</td>\n",
       "    </tr>\n",
       "    <tr>\n",
       "      <th>Juwann Winfree</th>\n",
       "      <td>433</td>\n",
       "      <td>IND</td>\n",
       "      <td>27</td>\n",
       "      <td>WR</td>\n",
       "      <td>7</td>\n",
       "      <td>1</td>\n",
       "      <td>1</td>\n",
       "      <td>0</td>\n",
       "      <td>0.0%</td>\n",
       "      <td>0</td>\n",
       "      <td>NaN</td>\n",
       "      <td>0</td>\n",
       "      <td>0</td>\n",
       "      <td>0.0</td>\n",
       "      <td>0</td>\n",
       "      <td>0.0</td>\n",
       "      <td>0.0</td>\n",
       "      <td>0.0</td>\n",
       "      <td>0</td>\n",
       "      <td>WinfJu00</td>\n",
       "    </tr>\n",
       "  </tbody>\n",
       "</table>\n",
       "<p>433 rows × 20 columns</p>\n",
       "</div>"
      ],
      "text/plain": [
       "                  Rk   Tm  Age Pos   G  GS  Tgt  Rec  Ctch%   Yds   Y/R  TD  \\\n",
       "Player                                                                        \n",
       "Keenan Allen       1  LAC   31  WR   9   9   97   73  75.3%   895  12.3   6   \n",
       "Stefon Diggs       2  BUF   30  WR  10  10  102   73  71.6%   868  11.9   7   \n",
       "Ja'Marr Chase      3  CIN   23  WR  10  10  106   71  67.0%   833  11.7   6   \n",
       "T.J. Hockenson     4  MIN   26  TE  10   7   95   71  74.7%   681   9.6   4   \n",
       "Tyreek Hill        5  MIA   29  WR   9   9   97   69  71.1%  1076  15.6   8   \n",
       "...              ...  ...  ...  ..  ..  ..  ...  ...    ...   ...   ...  ..   \n",
       "James Proche     429  CLE   27  WR   2   0    1    0   0.0%     0   NaN   0   \n",
       "Amari Rodgers    430  IND   24  WR   3   0    2    0   0.0%     0   NaN   0   \n",
       "Trent Taylor     431  CHI   29  WR  10   0    1    0   0.0%     0   NaN   0   \n",
       "Rodney Williams  432  PIT   25  TE   5   0    2    0   0.0%     0   NaN   0   \n",
       "Juwann Winfree   433  IND   27  WR   7   1    1    0   0.0%     0   NaN   0   \n",
       "\n",
       "                 1D  Succ%  Lng  Y/Tgt  R/G    Y/G  Fmb Player-additional  \n",
       "Player                                                                     \n",
       "Keenan Allen     41   59.8   42    9.2  8.1   99.4    1          AlleKe00  \n",
       "Stefon Diggs     43   57.8   55    8.5  7.3   86.8    1          DiggSt00  \n",
       "Ja'Marr Chase    47   58.5   64    7.9  7.1   83.3    1          ChasJa00  \n",
       "T.J. Hockenson   38   53.7   29    7.2  7.1   68.1    1          HockTJ00  \n",
       "Tyreek Hill      50   60.8   69   11.1  7.7  119.6    1          HillTy00  \n",
       "...              ..    ...  ...    ...  ...    ...  ...               ...  \n",
       "James Proche      0    0.0    0    0.0  0.0    0.0    1          ProcJa00  \n",
       "Amari Rodgers     0    0.0    0    0.0  0.0    0.0    0          RodgAm00  \n",
       "Trent Taylor      0    0.0    0    0.0  0.0    0.0    0          TaylTr02  \n",
       "Rodney Williams   0    0.0    0    0.0  0.0    0.0    0          WillRo08  \n",
       "Juwann Winfree    0    0.0    0    0.0  0.0    0.0    0          WinfJu00  \n",
       "\n",
       "[433 rows x 20 columns]"
      ]
     },
     "execution_count": 30,
     "metadata": {},
     "output_type": "execute_result"
    }
   ],
   "source": [
    "rec_data = pd.read_csv(\"All_Rec_NFL.csv\", index_col=\"Player\")\n",
    "rec_data"
   ]
  },
  {
   "cell_type": "code",
   "execution_count": 31,
   "metadata": {},
   "outputs": [
    {
     "data": {
      "text/html": [
       "<div>\n",
       "<style scoped>\n",
       "    .dataframe tbody tr th:only-of-type {\n",
       "        vertical-align: middle;\n",
       "    }\n",
       "\n",
       "    .dataframe tbody tr th {\n",
       "        vertical-align: top;\n",
       "    }\n",
       "\n",
       "    .dataframe thead th {\n",
       "        text-align: right;\n",
       "    }\n",
       "</style>\n",
       "<table border=\"1\" class=\"dataframe\">\n",
       "  <thead>\n",
       "    <tr style=\"text-align: right;\">\n",
       "      <th></th>\n",
       "      <th>Rk</th>\n",
       "      <th>Tm</th>\n",
       "      <th>Age</th>\n",
       "      <th>Pos</th>\n",
       "      <th>G</th>\n",
       "      <th>GS</th>\n",
       "      <th>Tgt</th>\n",
       "      <th>Rec</th>\n",
       "      <th>Ctch%</th>\n",
       "      <th>Yds</th>\n",
       "      <th>Y/R</th>\n",
       "      <th>TD</th>\n",
       "      <th>1D</th>\n",
       "      <th>Succ%</th>\n",
       "      <th>Lng</th>\n",
       "      <th>Y/Tgt</th>\n",
       "      <th>R/G</th>\n",
       "      <th>Y/G</th>\n",
       "      <th>Fmb</th>\n",
       "      <th>Player-additional</th>\n",
       "    </tr>\n",
       "    <tr>\n",
       "      <th>Player</th>\n",
       "      <th></th>\n",
       "      <th></th>\n",
       "      <th></th>\n",
       "      <th></th>\n",
       "      <th></th>\n",
       "      <th></th>\n",
       "      <th></th>\n",
       "      <th></th>\n",
       "      <th></th>\n",
       "      <th></th>\n",
       "      <th></th>\n",
       "      <th></th>\n",
       "      <th></th>\n",
       "      <th></th>\n",
       "      <th></th>\n",
       "      <th></th>\n",
       "      <th></th>\n",
       "      <th></th>\n",
       "      <th></th>\n",
       "      <th></th>\n",
       "    </tr>\n",
       "  </thead>\n",
       "  <tbody>\n",
       "    <tr>\n",
       "      <th>Keenan Allen</th>\n",
       "      <td>1</td>\n",
       "      <td>LAC</td>\n",
       "      <td>31</td>\n",
       "      <td>WR</td>\n",
       "      <td>9</td>\n",
       "      <td>9</td>\n",
       "      <td>97</td>\n",
       "      <td>73</td>\n",
       "      <td>75.3%</td>\n",
       "      <td>895</td>\n",
       "      <td>12.3</td>\n",
       "      <td>6</td>\n",
       "      <td>41</td>\n",
       "      <td>59.8</td>\n",
       "      <td>42</td>\n",
       "      <td>9.2</td>\n",
       "      <td>8.1</td>\n",
       "      <td>99.4</td>\n",
       "      <td>1</td>\n",
       "      <td>AlleKe00</td>\n",
       "    </tr>\n",
       "    <tr>\n",
       "      <th>Stefon Diggs</th>\n",
       "      <td>2</td>\n",
       "      <td>BUF</td>\n",
       "      <td>30</td>\n",
       "      <td>WR</td>\n",
       "      <td>10</td>\n",
       "      <td>10</td>\n",
       "      <td>102</td>\n",
       "      <td>73</td>\n",
       "      <td>71.6%</td>\n",
       "      <td>868</td>\n",
       "      <td>11.9</td>\n",
       "      <td>7</td>\n",
       "      <td>43</td>\n",
       "      <td>57.8</td>\n",
       "      <td>55</td>\n",
       "      <td>8.5</td>\n",
       "      <td>7.3</td>\n",
       "      <td>86.8</td>\n",
       "      <td>1</td>\n",
       "      <td>DiggSt00</td>\n",
       "    </tr>\n",
       "    <tr>\n",
       "      <th>Ja'Marr Chase</th>\n",
       "      <td>3</td>\n",
       "      <td>CIN</td>\n",
       "      <td>23</td>\n",
       "      <td>WR</td>\n",
       "      <td>10</td>\n",
       "      <td>10</td>\n",
       "      <td>106</td>\n",
       "      <td>71</td>\n",
       "      <td>67.0%</td>\n",
       "      <td>833</td>\n",
       "      <td>11.7</td>\n",
       "      <td>6</td>\n",
       "      <td>47</td>\n",
       "      <td>58.5</td>\n",
       "      <td>64</td>\n",
       "      <td>7.9</td>\n",
       "      <td>7.1</td>\n",
       "      <td>83.3</td>\n",
       "      <td>1</td>\n",
       "      <td>ChasJa00</td>\n",
       "    </tr>\n",
       "    <tr>\n",
       "      <th>T.J. Hockenson</th>\n",
       "      <td>4</td>\n",
       "      <td>MIN</td>\n",
       "      <td>26</td>\n",
       "      <td>TE</td>\n",
       "      <td>10</td>\n",
       "      <td>7</td>\n",
       "      <td>95</td>\n",
       "      <td>71</td>\n",
       "      <td>74.7%</td>\n",
       "      <td>681</td>\n",
       "      <td>9.6</td>\n",
       "      <td>4</td>\n",
       "      <td>38</td>\n",
       "      <td>53.7</td>\n",
       "      <td>29</td>\n",
       "      <td>7.2</td>\n",
       "      <td>7.1</td>\n",
       "      <td>68.1</td>\n",
       "      <td>1</td>\n",
       "      <td>HockTJ00</td>\n",
       "    </tr>\n",
       "    <tr>\n",
       "      <th>Tyreek Hill</th>\n",
       "      <td>5</td>\n",
       "      <td>MIA</td>\n",
       "      <td>29</td>\n",
       "      <td>WR</td>\n",
       "      <td>9</td>\n",
       "      <td>9</td>\n",
       "      <td>97</td>\n",
       "      <td>69</td>\n",
       "      <td>71.1%</td>\n",
       "      <td>1076</td>\n",
       "      <td>15.6</td>\n",
       "      <td>8</td>\n",
       "      <td>50</td>\n",
       "      <td>60.8</td>\n",
       "      <td>69</td>\n",
       "      <td>11.1</td>\n",
       "      <td>7.7</td>\n",
       "      <td>119.6</td>\n",
       "      <td>1</td>\n",
       "      <td>HillTy00</td>\n",
       "    </tr>\n",
       "    <tr>\n",
       "      <th>...</th>\n",
       "      <td>...</td>\n",
       "      <td>...</td>\n",
       "      <td>...</td>\n",
       "      <td>...</td>\n",
       "      <td>...</td>\n",
       "      <td>...</td>\n",
       "      <td>...</td>\n",
       "      <td>...</td>\n",
       "      <td>...</td>\n",
       "      <td>...</td>\n",
       "      <td>...</td>\n",
       "      <td>...</td>\n",
       "      <td>...</td>\n",
       "      <td>...</td>\n",
       "      <td>...</td>\n",
       "      <td>...</td>\n",
       "      <td>...</td>\n",
       "      <td>...</td>\n",
       "      <td>...</td>\n",
       "      <td>...</td>\n",
       "    </tr>\n",
       "    <tr>\n",
       "      <th>Dalvin Cook</th>\n",
       "      <td>209</td>\n",
       "      <td>NYJ</td>\n",
       "      <td>28</td>\n",
       "      <td>RB</td>\n",
       "      <td>9</td>\n",
       "      <td>0</td>\n",
       "      <td>12</td>\n",
       "      <td>10</td>\n",
       "      <td>83.3%</td>\n",
       "      <td>47</td>\n",
       "      <td>4.7</td>\n",
       "      <td>0</td>\n",
       "      <td>1</td>\n",
       "      <td>25.0</td>\n",
       "      <td>15</td>\n",
       "      <td>3.9</td>\n",
       "      <td>1.1</td>\n",
       "      <td>5.2</td>\n",
       "      <td>1</td>\n",
       "      <td>CookDa01</td>\n",
       "    </tr>\n",
       "    <tr>\n",
       "      <th>Derius Davis</th>\n",
       "      <td>210</td>\n",
       "      <td>LAC</td>\n",
       "      <td>23</td>\n",
       "      <td>WR</td>\n",
       "      <td>9</td>\n",
       "      <td>0</td>\n",
       "      <td>11</td>\n",
       "      <td>10</td>\n",
       "      <td>90.9%</td>\n",
       "      <td>45</td>\n",
       "      <td>4.5</td>\n",
       "      <td>0</td>\n",
       "      <td>0</td>\n",
       "      <td>27.3</td>\n",
       "      <td>11</td>\n",
       "      <td>4.1</td>\n",
       "      <td>1.1</td>\n",
       "      <td>5.0</td>\n",
       "      <td>2</td>\n",
       "      <td>DaviDe02</td>\n",
       "    </tr>\n",
       "    <tr>\n",
       "      <th>Khalil Herbert</th>\n",
       "      <td>211</td>\n",
       "      <td>CHI</td>\n",
       "      <td>25</td>\n",
       "      <td>RB</td>\n",
       "      <td>5</td>\n",
       "      <td>5</td>\n",
       "      <td>18</td>\n",
       "      <td>10</td>\n",
       "      <td>55.6%</td>\n",
       "      <td>83</td>\n",
       "      <td>8.3</td>\n",
       "      <td>1</td>\n",
       "      <td>5</td>\n",
       "      <td>38.9</td>\n",
       "      <td>23</td>\n",
       "      <td>4.6</td>\n",
       "      <td>2.0</td>\n",
       "      <td>16.6</td>\n",
       "      <td>1</td>\n",
       "      <td>HerbKh00</td>\n",
       "    </tr>\n",
       "    <tr>\n",
       "      <th>Drew Sample</th>\n",
       "      <td>212</td>\n",
       "      <td>CIN</td>\n",
       "      <td>27</td>\n",
       "      <td>TE</td>\n",
       "      <td>10</td>\n",
       "      <td>4</td>\n",
       "      <td>13</td>\n",
       "      <td>10</td>\n",
       "      <td>76.9%</td>\n",
       "      <td>71</td>\n",
       "      <td>7.1</td>\n",
       "      <td>1</td>\n",
       "      <td>2</td>\n",
       "      <td>23.1</td>\n",
       "      <td>22</td>\n",
       "      <td>5.5</td>\n",
       "      <td>1.0</td>\n",
       "      <td>7.1</td>\n",
       "      <td>0</td>\n",
       "      <td>SampDr00</td>\n",
       "    </tr>\n",
       "    <tr>\n",
       "      <th>Devin Singletary</th>\n",
       "      <td>213</td>\n",
       "      <td>HOU</td>\n",
       "      <td>26</td>\n",
       "      <td>RB</td>\n",
       "      <td>9</td>\n",
       "      <td>2</td>\n",
       "      <td>13</td>\n",
       "      <td>10</td>\n",
       "      <td>76.9%</td>\n",
       "      <td>53</td>\n",
       "      <td>5.3</td>\n",
       "      <td>0</td>\n",
       "      <td>4</td>\n",
       "      <td>30.8</td>\n",
       "      <td>11</td>\n",
       "      <td>4.1</td>\n",
       "      <td>1.1</td>\n",
       "      <td>5.9</td>\n",
       "      <td>0</td>\n",
       "      <td>SingDe00</td>\n",
       "    </tr>\n",
       "  </tbody>\n",
       "</table>\n",
       "<p>213 rows × 20 columns</p>\n",
       "</div>"
      ],
      "text/plain": [
       "                   Rk   Tm  Age Pos   G  GS  Tgt  Rec  Ctch%   Yds   Y/R  TD  \\\n",
       "Player                                                                         \n",
       "Keenan Allen        1  LAC   31  WR   9   9   97   73  75.3%   895  12.3   6   \n",
       "Stefon Diggs        2  BUF   30  WR  10  10  102   73  71.6%   868  11.9   7   \n",
       "Ja'Marr Chase       3  CIN   23  WR  10  10  106   71  67.0%   833  11.7   6   \n",
       "T.J. Hockenson      4  MIN   26  TE  10   7   95   71  74.7%   681   9.6   4   \n",
       "Tyreek Hill         5  MIA   29  WR   9   9   97   69  71.1%  1076  15.6   8   \n",
       "...               ...  ...  ...  ..  ..  ..  ...  ...    ...   ...   ...  ..   \n",
       "Dalvin Cook       209  NYJ   28  RB   9   0   12   10  83.3%    47   4.7   0   \n",
       "Derius Davis      210  LAC   23  WR   9   0   11   10  90.9%    45   4.5   0   \n",
       "Khalil Herbert    211  CHI   25  RB   5   5   18   10  55.6%    83   8.3   1   \n",
       "Drew Sample       212  CIN   27  TE  10   4   13   10  76.9%    71   7.1   1   \n",
       "Devin Singletary  213  HOU   26  RB   9   2   13   10  76.9%    53   5.3   0   \n",
       "\n",
       "                  1D  Succ%  Lng  Y/Tgt  R/G    Y/G  Fmb Player-additional  \n",
       "Player                                                                      \n",
       "Keenan Allen      41   59.8   42    9.2  8.1   99.4    1          AlleKe00  \n",
       "Stefon Diggs      43   57.8   55    8.5  7.3   86.8    1          DiggSt00  \n",
       "Ja'Marr Chase     47   58.5   64    7.9  7.1   83.3    1          ChasJa00  \n",
       "T.J. Hockenson    38   53.7   29    7.2  7.1   68.1    1          HockTJ00  \n",
       "Tyreek Hill       50   60.8   69   11.1  7.7  119.6    1          HillTy00  \n",
       "...               ..    ...  ...    ...  ...    ...  ...               ...  \n",
       "Dalvin Cook        1   25.0   15    3.9  1.1    5.2    1          CookDa01  \n",
       "Derius Davis       0   27.3   11    4.1  1.1    5.0    2          DaviDe02  \n",
       "Khalil Herbert     5   38.9   23    4.6  2.0   16.6    1          HerbKh00  \n",
       "Drew Sample        2   23.1   22    5.5  1.0    7.1    0          SampDr00  \n",
       "Devin Singletary   4   30.8   11    4.1  1.1    5.9    0          SingDe00  \n",
       "\n",
       "[213 rows x 20 columns]"
      ]
     },
     "execution_count": 31,
     "metadata": {},
     "output_type": "execute_result"
    }
   ],
   "source": [
    "rec_clean_data = rec_data[rec_data[\"Rec\"] >= 10]\n",
    "rec_clean_data"
   ]
  },
  {
   "cell_type": "code",
   "execution_count": 32,
   "metadata": {},
   "outputs": [],
   "source": [
    "player_names = rec_clean_data.index"
   ]
  },
  {
   "cell_type": "markdown",
   "metadata": {},
   "source": [
    "Team Defense Stats"
   ]
  },
  {
   "cell_type": "code",
   "execution_count": 33,
   "metadata": {},
   "outputs": [
    {
     "data": {
      "text/html": [
       "<div>\n",
       "<style scoped>\n",
       "    .dataframe tbody tr th:only-of-type {\n",
       "        vertical-align: middle;\n",
       "    }\n",
       "\n",
       "    .dataframe tbody tr th {\n",
       "        vertical-align: top;\n",
       "    }\n",
       "\n",
       "    .dataframe thead th {\n",
       "        text-align: right;\n",
       "    }\n",
       "</style>\n",
       "<table border=\"1\" class=\"dataframe\">\n",
       "  <thead>\n",
       "    <tr style=\"text-align: right;\">\n",
       "      <th></th>\n",
       "      <th>Rk</th>\n",
       "      <th>G</th>\n",
       "      <th>PA</th>\n",
       "      <th>Yds</th>\n",
       "      <th>Ply</th>\n",
       "      <th>Y/P</th>\n",
       "      <th>TO</th>\n",
       "      <th>FL</th>\n",
       "      <th>1stD</th>\n",
       "      <th>Cmp</th>\n",
       "      <th>...</th>\n",
       "      <th>Yds.2</th>\n",
       "      <th>TD.1</th>\n",
       "      <th>Y/A</th>\n",
       "      <th>1stD.2</th>\n",
       "      <th>Pen</th>\n",
       "      <th>Yds.3</th>\n",
       "      <th>1stPy</th>\n",
       "      <th>Sc%</th>\n",
       "      <th>TO%</th>\n",
       "      <th>EXP</th>\n",
       "    </tr>\n",
       "    <tr>\n",
       "      <th>Tm</th>\n",
       "      <th></th>\n",
       "      <th></th>\n",
       "      <th></th>\n",
       "      <th></th>\n",
       "      <th></th>\n",
       "      <th></th>\n",
       "      <th></th>\n",
       "      <th></th>\n",
       "      <th></th>\n",
       "      <th></th>\n",
       "      <th></th>\n",
       "      <th></th>\n",
       "      <th></th>\n",
       "      <th></th>\n",
       "      <th></th>\n",
       "      <th></th>\n",
       "      <th></th>\n",
       "      <th></th>\n",
       "      <th></th>\n",
       "      <th></th>\n",
       "      <th></th>\n",
       "    </tr>\n",
       "  </thead>\n",
       "  <tbody>\n",
       "    <tr>\n",
       "      <th>San Francisco 49ers</th>\n",
       "      <td>1</td>\n",
       "      <td>9</td>\n",
       "      <td>143</td>\n",
       "      <td>2741</td>\n",
       "      <td>553</td>\n",
       "      <td>5.0</td>\n",
       "      <td>17</td>\n",
       "      <td>4</td>\n",
       "      <td>167</td>\n",
       "      <td>230</td>\n",
       "      <td>...</td>\n",
       "      <td>748</td>\n",
       "      <td>4</td>\n",
       "      <td>4.0</td>\n",
       "      <td>49</td>\n",
       "      <td>57</td>\n",
       "      <td>475</td>\n",
       "      <td>20</td>\n",
       "      <td>32.3</td>\n",
       "      <td>18.3</td>\n",
       "      <td>30.34</td>\n",
       "    </tr>\n",
       "    <tr>\n",
       "      <th>Kansas City Chiefs</th>\n",
       "      <td>2</td>\n",
       "      <td>9</td>\n",
       "      <td>143</td>\n",
       "      <td>2594</td>\n",
       "      <td>543</td>\n",
       "      <td>4.8</td>\n",
       "      <td>13</td>\n",
       "      <td>8</td>\n",
       "      <td>159</td>\n",
       "      <td>176</td>\n",
       "      <td>...</td>\n",
       "      <td>1010</td>\n",
       "      <td>3</td>\n",
       "      <td>4.5</td>\n",
       "      <td>52</td>\n",
       "      <td>42</td>\n",
       "      <td>355</td>\n",
       "      <td>17</td>\n",
       "      <td>25.5</td>\n",
       "      <td>13.8</td>\n",
       "      <td>30.25</td>\n",
       "    </tr>\n",
       "    <tr>\n",
       "      <th>Dallas Cowboys</th>\n",
       "      <td>3</td>\n",
       "      <td>9</td>\n",
       "      <td>165</td>\n",
       "      <td>2476</td>\n",
       "      <td>519</td>\n",
       "      <td>4.8</td>\n",
       "      <td>14</td>\n",
       "      <td>4</td>\n",
       "      <td>150</td>\n",
       "      <td>151</td>\n",
       "      <td>...</td>\n",
       "      <td>982</td>\n",
       "      <td>7</td>\n",
       "      <td>4.1</td>\n",
       "      <td>51</td>\n",
       "      <td>56</td>\n",
       "      <td>472</td>\n",
       "      <td>25</td>\n",
       "      <td>29.3</td>\n",
       "      <td>14.1</td>\n",
       "      <td>40.58</td>\n",
       "    </tr>\n",
       "    <tr>\n",
       "      <th>Cleveland Browns</th>\n",
       "      <td>4</td>\n",
       "      <td>9</td>\n",
       "      <td>170</td>\n",
       "      <td>2184</td>\n",
       "      <td>482</td>\n",
       "      <td>4.5</td>\n",
       "      <td>15</td>\n",
       "      <td>6</td>\n",
       "      <td>113</td>\n",
       "      <td>131</td>\n",
       "      <td>...</td>\n",
       "      <td>824</td>\n",
       "      <td>9</td>\n",
       "      <td>3.8</td>\n",
       "      <td>37</td>\n",
       "      <td>63</td>\n",
       "      <td>542</td>\n",
       "      <td>14</td>\n",
       "      <td>22.4</td>\n",
       "      <td>12.9</td>\n",
       "      <td>82.57</td>\n",
       "    </tr>\n",
       "    <tr>\n",
       "      <th>New York Jets</th>\n",
       "      <td>5</td>\n",
       "      <td>9</td>\n",
       "      <td>172</td>\n",
       "      <td>2770</td>\n",
       "      <td>600</td>\n",
       "      <td>4.6</td>\n",
       "      <td>15</td>\n",
       "      <td>6</td>\n",
       "      <td>169</td>\n",
       "      <td>179</td>\n",
       "      <td>...</td>\n",
       "      <td>1246</td>\n",
       "      <td>5</td>\n",
       "      <td>4.3</td>\n",
       "      <td>65</td>\n",
       "      <td>44</td>\n",
       "      <td>381</td>\n",
       "      <td>19</td>\n",
       "      <td>31.8</td>\n",
       "      <td>12.7</td>\n",
       "      <td>36.78</td>\n",
       "    </tr>\n",
       "    <tr>\n",
       "      <th>Tampa Bay Buccaneers</th>\n",
       "      <td>6</td>\n",
       "      <td>9</td>\n",
       "      <td>173</td>\n",
       "      <td>3187</td>\n",
       "      <td>575</td>\n",
       "      <td>5.5</td>\n",
       "      <td>16</td>\n",
       "      <td>8</td>\n",
       "      <td>179</td>\n",
       "      <td>225</td>\n",
       "      <td>...</td>\n",
       "      <td>785</td>\n",
       "      <td>4</td>\n",
       "      <td>3.7</td>\n",
       "      <td>47</td>\n",
       "      <td>58</td>\n",
       "      <td>482</td>\n",
       "      <td>13</td>\n",
       "      <td>36.5</td>\n",
       "      <td>16.7</td>\n",
       "      <td>-11.63</td>\n",
       "    </tr>\n",
       "    <tr>\n",
       "      <th>Baltimore Ravens</th>\n",
       "      <td>7</td>\n",
       "      <td>11</td>\n",
       "      <td>177</td>\n",
       "      <td>3008</td>\n",
       "      <td>713</td>\n",
       "      <td>4.2</td>\n",
       "      <td>15</td>\n",
       "      <td>5</td>\n",
       "      <td>193</td>\n",
       "      <td>241</td>\n",
       "      <td>...</td>\n",
       "      <td>1141</td>\n",
       "      <td>4</td>\n",
       "      <td>4.3</td>\n",
       "      <td>61</td>\n",
       "      <td>71</td>\n",
       "      <td>555</td>\n",
       "      <td>26</td>\n",
       "      <td>29.4</td>\n",
       "      <td>9.5</td>\n",
       "      <td>74.58</td>\n",
       "    </tr>\n",
       "    <tr>\n",
       "      <th>Tennessee Titans</th>\n",
       "      <td>8</td>\n",
       "      <td>9</td>\n",
       "      <td>180</td>\n",
       "      <td>3042</td>\n",
       "      <td>565</td>\n",
       "      <td>5.4</td>\n",
       "      <td>7</td>\n",
       "      <td>4</td>\n",
       "      <td>170</td>\n",
       "      <td>195</td>\n",
       "      <td>...</td>\n",
       "      <td>995</td>\n",
       "      <td>5</td>\n",
       "      <td>3.9</td>\n",
       "      <td>52</td>\n",
       "      <td>58</td>\n",
       "      <td>462</td>\n",
       "      <td>18</td>\n",
       "      <td>42.6</td>\n",
       "      <td>6.4</td>\n",
       "      <td>-47.00</td>\n",
       "    </tr>\n",
       "    <tr>\n",
       "      <th>Pittsburgh Steelers</th>\n",
       "      <td>9</td>\n",
       "      <td>9</td>\n",
       "      <td>182</td>\n",
       "      <td>3417</td>\n",
       "      <td>610</td>\n",
       "      <td>5.6</td>\n",
       "      <td>18</td>\n",
       "      <td>8</td>\n",
       "      <td>183</td>\n",
       "      <td>189</td>\n",
       "      <td>...</td>\n",
       "      <td>1181</td>\n",
       "      <td>5</td>\n",
       "      <td>4.5</td>\n",
       "      <td>57</td>\n",
       "      <td>59</td>\n",
       "      <td>504</td>\n",
       "      <td>20</td>\n",
       "      <td>36.3</td>\n",
       "      <td>17.6</td>\n",
       "      <td>1.17</td>\n",
       "    </tr>\n",
       "    <tr>\n",
       "      <th>Green Bay Packers</th>\n",
       "      <td>10</td>\n",
       "      <td>9</td>\n",
       "      <td>182</td>\n",
       "      <td>2885</td>\n",
       "      <td>584</td>\n",
       "      <td>4.9</td>\n",
       "      <td>8</td>\n",
       "      <td>3</td>\n",
       "      <td>181</td>\n",
       "      <td>180</td>\n",
       "      <td>...</td>\n",
       "      <td>1197</td>\n",
       "      <td>9</td>\n",
       "      <td>4.2</td>\n",
       "      <td>74</td>\n",
       "      <td>55</td>\n",
       "      <td>529</td>\n",
       "      <td>17</td>\n",
       "      <td>37.9</td>\n",
       "      <td>8.4</td>\n",
       "      <td>-20.95</td>\n",
       "    </tr>\n",
       "    <tr>\n",
       "      <th>Buffalo Bills</th>\n",
       "      <td>11</td>\n",
       "      <td>10</td>\n",
       "      <td>184</td>\n",
       "      <td>3306</td>\n",
       "      <td>611</td>\n",
       "      <td>5.4</td>\n",
       "      <td>15</td>\n",
       "      <td>7</td>\n",
       "      <td>190</td>\n",
       "      <td>228</td>\n",
       "      <td>...</td>\n",
       "      <td>1152</td>\n",
       "      <td>6</td>\n",
       "      <td>4.6</td>\n",
       "      <td>53</td>\n",
       "      <td>66</td>\n",
       "      <td>517</td>\n",
       "      <td>21</td>\n",
       "      <td>34.0</td>\n",
       "      <td>14.2</td>\n",
       "      <td>-10.00</td>\n",
       "    </tr>\n",
       "    <tr>\n",
       "      <th>Jacksonville Jaguars</th>\n",
       "      <td>12</td>\n",
       "      <td>9</td>\n",
       "      <td>190</td>\n",
       "      <td>3179</td>\n",
       "      <td>586</td>\n",
       "      <td>5.4</td>\n",
       "      <td>18</td>\n",
       "      <td>7</td>\n",
       "      <td>167</td>\n",
       "      <td>230</td>\n",
       "      <td>...</td>\n",
       "      <td>778</td>\n",
       "      <td>6</td>\n",
       "      <td>3.8</td>\n",
       "      <td>48</td>\n",
       "      <td>60</td>\n",
       "      <td>585</td>\n",
       "      <td>8</td>\n",
       "      <td>30.2</td>\n",
       "      <td>16.0</td>\n",
       "      <td>12.06</td>\n",
       "    </tr>\n",
       "    <tr>\n",
       "      <th>Houston Texans</th>\n",
       "      <td>13</td>\n",
       "      <td>9</td>\n",
       "      <td>192</td>\n",
       "      <td>3060</td>\n",
       "      <td>575</td>\n",
       "      <td>5.3</td>\n",
       "      <td>12</td>\n",
       "      <td>6</td>\n",
       "      <td>182</td>\n",
       "      <td>221</td>\n",
       "      <td>...</td>\n",
       "      <td>842</td>\n",
       "      <td>11</td>\n",
       "      <td>3.5</td>\n",
       "      <td>61</td>\n",
       "      <td>59</td>\n",
       "      <td>526</td>\n",
       "      <td>20</td>\n",
       "      <td>37.8</td>\n",
       "      <td>11.2</td>\n",
       "      <td>-40.05</td>\n",
       "    </tr>\n",
       "    <tr>\n",
       "      <th>Philadelphia Eagles</th>\n",
       "      <td>14</td>\n",
       "      <td>9</td>\n",
       "      <td>195</td>\n",
       "      <td>2910</td>\n",
       "      <td>552</td>\n",
       "      <td>5.3</td>\n",
       "      <td>11</td>\n",
       "      <td>7</td>\n",
       "      <td>180</td>\n",
       "      <td>241</td>\n",
       "      <td>...</td>\n",
       "      <td>597</td>\n",
       "      <td>3</td>\n",
       "      <td>3.7</td>\n",
       "      <td>33</td>\n",
       "      <td>61</td>\n",
       "      <td>474</td>\n",
       "      <td>18</td>\n",
       "      <td>35.2</td>\n",
       "      <td>11.0</td>\n",
       "      <td>-18.58</td>\n",
       "    </tr>\n",
       "    <tr>\n",
       "      <th>New Orleans Saints</th>\n",
       "      <td>15</td>\n",
       "      <td>10</td>\n",
       "      <td>198</td>\n",
       "      <td>3127</td>\n",
       "      <td>619</td>\n",
       "      <td>5.1</td>\n",
       "      <td>18</td>\n",
       "      <td>6</td>\n",
       "      <td>179</td>\n",
       "      <td>198</td>\n",
       "      <td>...</td>\n",
       "      <td>1136</td>\n",
       "      <td>6</td>\n",
       "      <td>4.3</td>\n",
       "      <td>56</td>\n",
       "      <td>66</td>\n",
       "      <td>498</td>\n",
       "      <td>24</td>\n",
       "      <td>31.9</td>\n",
       "      <td>14.3</td>\n",
       "      <td>19.33</td>\n",
       "    </tr>\n",
       "    <tr>\n",
       "      <th>Seattle Seahawks</th>\n",
       "      <td>16</td>\n",
       "      <td>9</td>\n",
       "      <td>201</td>\n",
       "      <td>3189</td>\n",
       "      <td>618</td>\n",
       "      <td>5.2</td>\n",
       "      <td>13</td>\n",
       "      <td>7</td>\n",
       "      <td>190</td>\n",
       "      <td>228</td>\n",
       "      <td>...</td>\n",
       "      <td>1044</td>\n",
       "      <td>10</td>\n",
       "      <td>4.3</td>\n",
       "      <td>60</td>\n",
       "      <td>55</td>\n",
       "      <td>381</td>\n",
       "      <td>19</td>\n",
       "      <td>37.6</td>\n",
       "      <td>12.9</td>\n",
       "      <td>-15.34</td>\n",
       "    </tr>\n",
       "    <tr>\n",
       "      <th>Detroit Lions</th>\n",
       "      <td>17</td>\n",
       "      <td>9</td>\n",
       "      <td>203</td>\n",
       "      <td>2796</td>\n",
       "      <td>534</td>\n",
       "      <td>5.2</td>\n",
       "      <td>11</td>\n",
       "      <td>3</td>\n",
       "      <td>174</td>\n",
       "      <td>199</td>\n",
       "      <td>...</td>\n",
       "      <td>712</td>\n",
       "      <td>7</td>\n",
       "      <td>3.7</td>\n",
       "      <td>41</td>\n",
       "      <td>43</td>\n",
       "      <td>359</td>\n",
       "      <td>23</td>\n",
       "      <td>35.8</td>\n",
       "      <td>11.6</td>\n",
       "      <td>-18.97</td>\n",
       "    </tr>\n",
       "    <tr>\n",
       "      <th>Los Angeles Rams</th>\n",
       "      <td>18</td>\n",
       "      <td>9</td>\n",
       "      <td>204</td>\n",
       "      <td>3060</td>\n",
       "      <td>570</td>\n",
       "      <td>5.4</td>\n",
       "      <td>8</td>\n",
       "      <td>4</td>\n",
       "      <td>182</td>\n",
       "      <td>180</td>\n",
       "      <td>...</td>\n",
       "      <td>1105</td>\n",
       "      <td>10</td>\n",
       "      <td>4.2</td>\n",
       "      <td>64</td>\n",
       "      <td>56</td>\n",
       "      <td>466</td>\n",
       "      <td>18</td>\n",
       "      <td>40.6</td>\n",
       "      <td>8.3</td>\n",
       "      <td>-33.87</td>\n",
       "    </tr>\n",
       "    <tr>\n",
       "      <th>Las Vegas Raiders</th>\n",
       "      <td>19</td>\n",
       "      <td>10</td>\n",
       "      <td>205</td>\n",
       "      <td>3343</td>\n",
       "      <td>643</td>\n",
       "      <td>5.2</td>\n",
       "      <td>11</td>\n",
       "      <td>2</td>\n",
       "      <td>200</td>\n",
       "      <td>216</td>\n",
       "      <td>...</td>\n",
       "      <td>1356</td>\n",
       "      <td>10</td>\n",
       "      <td>4.6</td>\n",
       "      <td>75</td>\n",
       "      <td>62</td>\n",
       "      <td>545</td>\n",
       "      <td>19</td>\n",
       "      <td>37.5</td>\n",
       "      <td>10.6</td>\n",
       "      <td>-31.90</td>\n",
       "    </tr>\n",
       "    <tr>\n",
       "      <th>Minnesota Vikings</th>\n",
       "      <td>20</td>\n",
       "      <td>10</td>\n",
       "      <td>209</td>\n",
       "      <td>3232</td>\n",
       "      <td>647</td>\n",
       "      <td>5.0</td>\n",
       "      <td>14</td>\n",
       "      <td>5</td>\n",
       "      <td>192</td>\n",
       "      <td>244</td>\n",
       "      <td>...</td>\n",
       "      <td>988</td>\n",
       "      <td>7</td>\n",
       "      <td>3.7</td>\n",
       "      <td>65</td>\n",
       "      <td>76</td>\n",
       "      <td>625</td>\n",
       "      <td>10</td>\n",
       "      <td>34.9</td>\n",
       "      <td>12.8</td>\n",
       "      <td>-3.97</td>\n",
       "    </tr>\n",
       "    <tr>\n",
       "      <th>Los Angeles Chargers</th>\n",
       "      <td>21</td>\n",
       "      <td>9</td>\n",
       "      <td>215</td>\n",
       "      <td>3539</td>\n",
       "      <td>604</td>\n",
       "      <td>5.9</td>\n",
       "      <td>15</td>\n",
       "      <td>9</td>\n",
       "      <td>205</td>\n",
       "      <td>238</td>\n",
       "      <td>...</td>\n",
       "      <td>918</td>\n",
       "      <td>11</td>\n",
       "      <td>4.1</td>\n",
       "      <td>54</td>\n",
       "      <td>64</td>\n",
       "      <td>473</td>\n",
       "      <td>24</td>\n",
       "      <td>39.4</td>\n",
       "      <td>14.1</td>\n",
       "      <td>-64.17</td>\n",
       "    </tr>\n",
       "    <tr>\n",
       "      <th>Atlanta Falcons</th>\n",
       "      <td>22</td>\n",
       "      <td>10</td>\n",
       "      <td>217</td>\n",
       "      <td>3088</td>\n",
       "      <td>620</td>\n",
       "      <td>5.0</td>\n",
       "      <td>10</td>\n",
       "      <td>5</td>\n",
       "      <td>182</td>\n",
       "      <td>203</td>\n",
       "      <td>...</td>\n",
       "      <td>1084</td>\n",
       "      <td>4</td>\n",
       "      <td>3.9</td>\n",
       "      <td>55</td>\n",
       "      <td>67</td>\n",
       "      <td>550</td>\n",
       "      <td>20</td>\n",
       "      <td>36.8</td>\n",
       "      <td>8.8</td>\n",
       "      <td>-0.07</td>\n",
       "    </tr>\n",
       "    <tr>\n",
       "      <th>Miami Dolphins</th>\n",
       "      <td>23</td>\n",
       "      <td>9</td>\n",
       "      <td>225</td>\n",
       "      <td>2902</td>\n",
       "      <td>573</td>\n",
       "      <td>5.1</td>\n",
       "      <td>9</td>\n",
       "      <td>5</td>\n",
       "      <td>184</td>\n",
       "      <td>207</td>\n",
       "      <td>...</td>\n",
       "      <td>956</td>\n",
       "      <td>9</td>\n",
       "      <td>3.9</td>\n",
       "      <td>68</td>\n",
       "      <td>47</td>\n",
       "      <td>349</td>\n",
       "      <td>17</td>\n",
       "      <td>35.7</td>\n",
       "      <td>9.2</td>\n",
       "      <td>-19.35</td>\n",
       "    </tr>\n",
       "    <tr>\n",
       "      <th>Cincinnati Bengals</th>\n",
       "      <td>24</td>\n",
       "      <td>10</td>\n",
       "      <td>226</td>\n",
       "      <td>3861</td>\n",
       "      <td>628</td>\n",
       "      <td>6.1</td>\n",
       "      <td>18</td>\n",
       "      <td>6</td>\n",
       "      <td>219</td>\n",
       "      <td>206</td>\n",
       "      <td>...</td>\n",
       "      <td>1383</td>\n",
       "      <td>11</td>\n",
       "      <td>5.0</td>\n",
       "      <td>82</td>\n",
       "      <td>55</td>\n",
       "      <td>497</td>\n",
       "      <td>19</td>\n",
       "      <td>38.4</td>\n",
       "      <td>16.1</td>\n",
       "      <td>-57.85</td>\n",
       "    </tr>\n",
       "    <tr>\n",
       "      <th>New England Patriots</th>\n",
       "      <td>25</td>\n",
       "      <td>10</td>\n",
       "      <td>238</td>\n",
       "      <td>3265</td>\n",
       "      <td>657</td>\n",
       "      <td>5.0</td>\n",
       "      <td>10</td>\n",
       "      <td>4</td>\n",
       "      <td>194</td>\n",
       "      <td>233</td>\n",
       "      <td>...</td>\n",
       "      <td>977</td>\n",
       "      <td>9</td>\n",
       "      <td>3.4</td>\n",
       "      <td>57</td>\n",
       "      <td>57</td>\n",
       "      <td>405</td>\n",
       "      <td>17</td>\n",
       "      <td>36.3</td>\n",
       "      <td>8.8</td>\n",
       "      <td>-22.31</td>\n",
       "    </tr>\n",
       "    <tr>\n",
       "      <th>Carolina Panthers</th>\n",
       "      <td>26</td>\n",
       "      <td>9</td>\n",
       "      <td>242</td>\n",
       "      <td>2775</td>\n",
       "      <td>545</td>\n",
       "      <td>5.1</td>\n",
       "      <td>7</td>\n",
       "      <td>2</td>\n",
       "      <td>177</td>\n",
       "      <td>166</td>\n",
       "      <td>...</td>\n",
       "      <td>1187</td>\n",
       "      <td>15</td>\n",
       "      <td>4.3</td>\n",
       "      <td>71</td>\n",
       "      <td>54</td>\n",
       "      <td>393</td>\n",
       "      <td>14</td>\n",
       "      <td>39.8</td>\n",
       "      <td>6.1</td>\n",
       "      <td>-33.78</td>\n",
       "    </tr>\n",
       "    <tr>\n",
       "      <th>Denver Broncos</th>\n",
       "      <td>27</td>\n",
       "      <td>9</td>\n",
       "      <td>248</td>\n",
       "      <td>3616</td>\n",
       "      <td>564</td>\n",
       "      <td>6.4</td>\n",
       "      <td>16</td>\n",
       "      <td>7</td>\n",
       "      <td>200</td>\n",
       "      <td>210</td>\n",
       "      <td>...</td>\n",
       "      <td>1425</td>\n",
       "      <td>10</td>\n",
       "      <td>5.6</td>\n",
       "      <td>69</td>\n",
       "      <td>67</td>\n",
       "      <td>626</td>\n",
       "      <td>21</td>\n",
       "      <td>45.7</td>\n",
       "      <td>14.9</td>\n",
       "      <td>-94.90</td>\n",
       "    </tr>\n",
       "    <tr>\n",
       "      <th>Indianapolis Colts</th>\n",
       "      <td>28</td>\n",
       "      <td>10</td>\n",
       "      <td>248</td>\n",
       "      <td>3585</td>\n",
       "      <td>695</td>\n",
       "      <td>5.2</td>\n",
       "      <td>16</td>\n",
       "      <td>5</td>\n",
       "      <td>207</td>\n",
       "      <td>224</td>\n",
       "      <td>...</td>\n",
       "      <td>1297</td>\n",
       "      <td>15</td>\n",
       "      <td>4.1</td>\n",
       "      <td>80</td>\n",
       "      <td>52</td>\n",
       "      <td>446</td>\n",
       "      <td>19</td>\n",
       "      <td>37.6</td>\n",
       "      <td>12.8</td>\n",
       "      <td>-9.48</td>\n",
       "    </tr>\n",
       "    <tr>\n",
       "      <th>Chicago Bears</th>\n",
       "      <td>29</td>\n",
       "      <td>10</td>\n",
       "      <td>255</td>\n",
       "      <td>3242</td>\n",
       "      <td>616</td>\n",
       "      <td>5.3</td>\n",
       "      <td>9</td>\n",
       "      <td>3</td>\n",
       "      <td>187</td>\n",
       "      <td>252</td>\n",
       "      <td>...</td>\n",
       "      <td>760</td>\n",
       "      <td>4</td>\n",
       "      <td>3.2</td>\n",
       "      <td>47</td>\n",
       "      <td>42</td>\n",
       "      <td>346</td>\n",
       "      <td>15</td>\n",
       "      <td>40.4</td>\n",
       "      <td>8.7</td>\n",
       "      <td>-51.82</td>\n",
       "    </tr>\n",
       "    <tr>\n",
       "      <th>Arizona Cardinals</th>\n",
       "      <td>30</td>\n",
       "      <td>10</td>\n",
       "      <td>263</td>\n",
       "      <td>3426</td>\n",
       "      <td>648</td>\n",
       "      <td>5.3</td>\n",
       "      <td>10</td>\n",
       "      <td>5</td>\n",
       "      <td>223</td>\n",
       "      <td>208</td>\n",
       "      <td>...</td>\n",
       "      <td>1342</td>\n",
       "      <td>14</td>\n",
       "      <td>4.2</td>\n",
       "      <td>88</td>\n",
       "      <td>65</td>\n",
       "      <td>557</td>\n",
       "      <td>23</td>\n",
       "      <td>43.9</td>\n",
       "      <td>7.5</td>\n",
       "      <td>-75.80</td>\n",
       "    </tr>\n",
       "    <tr>\n",
       "      <th>New York Giants</th>\n",
       "      <td>31</td>\n",
       "      <td>10</td>\n",
       "      <td>266</td>\n",
       "      <td>3685</td>\n",
       "      <td>622</td>\n",
       "      <td>5.9</td>\n",
       "      <td>10</td>\n",
       "      <td>4</td>\n",
       "      <td>198</td>\n",
       "      <td>203</td>\n",
       "      <td>...</td>\n",
       "      <td>1312</td>\n",
       "      <td>16</td>\n",
       "      <td>4.7</td>\n",
       "      <td>70</td>\n",
       "      <td>72</td>\n",
       "      <td>604</td>\n",
       "      <td>19</td>\n",
       "      <td>36.8</td>\n",
       "      <td>8.5</td>\n",
       "      <td>-45.50</td>\n",
       "    </tr>\n",
       "    <tr>\n",
       "      <th>Washington Commanders</th>\n",
       "      <td>32</td>\n",
       "      <td>10</td>\n",
       "      <td>274</td>\n",
       "      <td>3809</td>\n",
       "      <td>659</td>\n",
       "      <td>5.8</td>\n",
       "      <td>13</td>\n",
       "      <td>7</td>\n",
       "      <td>202</td>\n",
       "      <td>229</td>\n",
       "      <td>...</td>\n",
       "      <td>1166</td>\n",
       "      <td>6</td>\n",
       "      <td>4.4</td>\n",
       "      <td>63</td>\n",
       "      <td>61</td>\n",
       "      <td>506</td>\n",
       "      <td>15</td>\n",
       "      <td>45.1</td>\n",
       "      <td>10.6</td>\n",
       "      <td>-61.38</td>\n",
       "    </tr>\n",
       "  </tbody>\n",
       "</table>\n",
       "<p>32 rows × 27 columns</p>\n",
       "</div>"
      ],
      "text/plain": [
       "                       Rk   G   PA   Yds  Ply  Y/P  TO  FL  1stD  Cmp  ...  \\\n",
       "Tm                                                                     ...   \n",
       "San Francisco 49ers     1   9  143  2741  553  5.0  17   4   167  230  ...   \n",
       "Kansas City Chiefs      2   9  143  2594  543  4.8  13   8   159  176  ...   \n",
       "Dallas Cowboys          3   9  165  2476  519  4.8  14   4   150  151  ...   \n",
       "Cleveland Browns        4   9  170  2184  482  4.5  15   6   113  131  ...   \n",
       "New York Jets           5   9  172  2770  600  4.6  15   6   169  179  ...   \n",
       "Tampa Bay Buccaneers    6   9  173  3187  575  5.5  16   8   179  225  ...   \n",
       "Baltimore Ravens        7  11  177  3008  713  4.2  15   5   193  241  ...   \n",
       "Tennessee Titans        8   9  180  3042  565  5.4   7   4   170  195  ...   \n",
       "Pittsburgh Steelers     9   9  182  3417  610  5.6  18   8   183  189  ...   \n",
       "Green Bay Packers      10   9  182  2885  584  4.9   8   3   181  180  ...   \n",
       "Buffalo Bills          11  10  184  3306  611  5.4  15   7   190  228  ...   \n",
       "Jacksonville Jaguars   12   9  190  3179  586  5.4  18   7   167  230  ...   \n",
       "Houston Texans         13   9  192  3060  575  5.3  12   6   182  221  ...   \n",
       "Philadelphia Eagles    14   9  195  2910  552  5.3  11   7   180  241  ...   \n",
       "New Orleans Saints     15  10  198  3127  619  5.1  18   6   179  198  ...   \n",
       "Seattle Seahawks       16   9  201  3189  618  5.2  13   7   190  228  ...   \n",
       "Detroit Lions          17   9  203  2796  534  5.2  11   3   174  199  ...   \n",
       "Los Angeles Rams       18   9  204  3060  570  5.4   8   4   182  180  ...   \n",
       "Las Vegas Raiders      19  10  205  3343  643  5.2  11   2   200  216  ...   \n",
       "Minnesota Vikings      20  10  209  3232  647  5.0  14   5   192  244  ...   \n",
       "Los Angeles Chargers   21   9  215  3539  604  5.9  15   9   205  238  ...   \n",
       "Atlanta Falcons        22  10  217  3088  620  5.0  10   5   182  203  ...   \n",
       "Miami Dolphins         23   9  225  2902  573  5.1   9   5   184  207  ...   \n",
       "Cincinnati Bengals     24  10  226  3861  628  6.1  18   6   219  206  ...   \n",
       "New England Patriots   25  10  238  3265  657  5.0  10   4   194  233  ...   \n",
       "Carolina Panthers      26   9  242  2775  545  5.1   7   2   177  166  ...   \n",
       "Denver Broncos         27   9  248  3616  564  6.4  16   7   200  210  ...   \n",
       "Indianapolis Colts     28  10  248  3585  695  5.2  16   5   207  224  ...   \n",
       "Chicago Bears          29  10  255  3242  616  5.3   9   3   187  252  ...   \n",
       "Arizona Cardinals      30  10  263  3426  648  5.3  10   5   223  208  ...   \n",
       "New York Giants        31  10  266  3685  622  5.9  10   4   198  203  ...   \n",
       "Washington Commanders  32  10  274  3809  659  5.8  13   7   202  229  ...   \n",
       "\n",
       "                       Yds.2  TD.1  Y/A  1stD.2  Pen  Yds.3  1stPy   Sc%  \\\n",
       "Tm                                                                         \n",
       "San Francisco 49ers      748     4  4.0      49   57    475     20  32.3   \n",
       "Kansas City Chiefs      1010     3  4.5      52   42    355     17  25.5   \n",
       "Dallas Cowboys           982     7  4.1      51   56    472     25  29.3   \n",
       "Cleveland Browns         824     9  3.8      37   63    542     14  22.4   \n",
       "New York Jets           1246     5  4.3      65   44    381     19  31.8   \n",
       "Tampa Bay Buccaneers     785     4  3.7      47   58    482     13  36.5   \n",
       "Baltimore Ravens        1141     4  4.3      61   71    555     26  29.4   \n",
       "Tennessee Titans         995     5  3.9      52   58    462     18  42.6   \n",
       "Pittsburgh Steelers     1181     5  4.5      57   59    504     20  36.3   \n",
       "Green Bay Packers       1197     9  4.2      74   55    529     17  37.9   \n",
       "Buffalo Bills           1152     6  4.6      53   66    517     21  34.0   \n",
       "Jacksonville Jaguars     778     6  3.8      48   60    585      8  30.2   \n",
       "Houston Texans           842    11  3.5      61   59    526     20  37.8   \n",
       "Philadelphia Eagles      597     3  3.7      33   61    474     18  35.2   \n",
       "New Orleans Saints      1136     6  4.3      56   66    498     24  31.9   \n",
       "Seattle Seahawks        1044    10  4.3      60   55    381     19  37.6   \n",
       "Detroit Lions            712     7  3.7      41   43    359     23  35.8   \n",
       "Los Angeles Rams        1105    10  4.2      64   56    466     18  40.6   \n",
       "Las Vegas Raiders       1356    10  4.6      75   62    545     19  37.5   \n",
       "Minnesota Vikings        988     7  3.7      65   76    625     10  34.9   \n",
       "Los Angeles Chargers     918    11  4.1      54   64    473     24  39.4   \n",
       "Atlanta Falcons         1084     4  3.9      55   67    550     20  36.8   \n",
       "Miami Dolphins           956     9  3.9      68   47    349     17  35.7   \n",
       "Cincinnati Bengals      1383    11  5.0      82   55    497     19  38.4   \n",
       "New England Patriots     977     9  3.4      57   57    405     17  36.3   \n",
       "Carolina Panthers       1187    15  4.3      71   54    393     14  39.8   \n",
       "Denver Broncos          1425    10  5.6      69   67    626     21  45.7   \n",
       "Indianapolis Colts      1297    15  4.1      80   52    446     19  37.6   \n",
       "Chicago Bears            760     4  3.2      47   42    346     15  40.4   \n",
       "Arizona Cardinals       1342    14  4.2      88   65    557     23  43.9   \n",
       "New York Giants         1312    16  4.7      70   72    604     19  36.8   \n",
       "Washington Commanders   1166     6  4.4      63   61    506     15  45.1   \n",
       "\n",
       "                        TO%    EXP  \n",
       "Tm                                  \n",
       "San Francisco 49ers    18.3  30.34  \n",
       "Kansas City Chiefs     13.8  30.25  \n",
       "Dallas Cowboys         14.1  40.58  \n",
       "Cleveland Browns       12.9  82.57  \n",
       "New York Jets          12.7  36.78  \n",
       "Tampa Bay Buccaneers   16.7 -11.63  \n",
       "Baltimore Ravens        9.5  74.58  \n",
       "Tennessee Titans        6.4 -47.00  \n",
       "Pittsburgh Steelers    17.6   1.17  \n",
       "Green Bay Packers       8.4 -20.95  \n",
       "Buffalo Bills          14.2 -10.00  \n",
       "Jacksonville Jaguars   16.0  12.06  \n",
       "Houston Texans         11.2 -40.05  \n",
       "Philadelphia Eagles    11.0 -18.58  \n",
       "New Orleans Saints     14.3  19.33  \n",
       "Seattle Seahawks       12.9 -15.34  \n",
       "Detroit Lions          11.6 -18.97  \n",
       "Los Angeles Rams        8.3 -33.87  \n",
       "Las Vegas Raiders      10.6 -31.90  \n",
       "Minnesota Vikings      12.8  -3.97  \n",
       "Los Angeles Chargers   14.1 -64.17  \n",
       "Atlanta Falcons         8.8  -0.07  \n",
       "Miami Dolphins          9.2 -19.35  \n",
       "Cincinnati Bengals     16.1 -57.85  \n",
       "New England Patriots    8.8 -22.31  \n",
       "Carolina Panthers       6.1 -33.78  \n",
       "Denver Broncos         14.9 -94.90  \n",
       "Indianapolis Colts     12.8  -9.48  \n",
       "Chicago Bears           8.7 -51.82  \n",
       "Arizona Cardinals       7.5 -75.80  \n",
       "New York Giants         8.5 -45.50  \n",
       "Washington Commanders  10.6 -61.38  \n",
       "\n",
       "[32 rows x 27 columns]"
      ]
     },
     "execution_count": 33,
     "metadata": {},
     "output_type": "execute_result"
    }
   ],
   "source": [
    "defense_data = pd.read_csv(\"Team_Def_NFL.csv\", index_col=\"Tm\")\n",
    "defense_data"
   ]
  },
  {
   "cell_type": "code",
   "execution_count": 34,
   "metadata": {},
   "outputs": [],
   "source": [
    "team_names = defense_data.index"
   ]
  },
  {
   "cell_type": "markdown",
   "metadata": {},
   "source": [
    "Team Offense Stats"
   ]
  },
  {
   "cell_type": "code",
   "execution_count": 35,
   "metadata": {},
   "outputs": [
    {
     "data": {
      "text/html": [
       "<div>\n",
       "<style scoped>\n",
       "    .dataframe tbody tr th:only-of-type {\n",
       "        vertical-align: middle;\n",
       "    }\n",
       "\n",
       "    .dataframe tbody tr th {\n",
       "        vertical-align: top;\n",
       "    }\n",
       "\n",
       "    .dataframe thead th {\n",
       "        text-align: right;\n",
       "    }\n",
       "</style>\n",
       "<table border=\"1\" class=\"dataframe\">\n",
       "  <thead>\n",
       "    <tr style=\"text-align: right;\">\n",
       "      <th></th>\n",
       "      <th>Rk</th>\n",
       "      <th>G</th>\n",
       "      <th>PF</th>\n",
       "      <th>Yds</th>\n",
       "      <th>Ply</th>\n",
       "      <th>Y/P</th>\n",
       "      <th>TO</th>\n",
       "      <th>FL</th>\n",
       "      <th>1stD</th>\n",
       "      <th>Cmp</th>\n",
       "      <th>...</th>\n",
       "      <th>Yds.2</th>\n",
       "      <th>TD.1</th>\n",
       "      <th>Y/A</th>\n",
       "      <th>1stD.2</th>\n",
       "      <th>Pen</th>\n",
       "      <th>Yds.3</th>\n",
       "      <th>1stPy</th>\n",
       "      <th>Sc%</th>\n",
       "      <th>TO%</th>\n",
       "      <th>EXP</th>\n",
       "    </tr>\n",
       "    <tr>\n",
       "      <th>Tm</th>\n",
       "      <th></th>\n",
       "      <th></th>\n",
       "      <th></th>\n",
       "      <th></th>\n",
       "      <th></th>\n",
       "      <th></th>\n",
       "      <th></th>\n",
       "      <th></th>\n",
       "      <th></th>\n",
       "      <th></th>\n",
       "      <th></th>\n",
       "      <th></th>\n",
       "      <th></th>\n",
       "      <th></th>\n",
       "      <th></th>\n",
       "      <th></th>\n",
       "      <th></th>\n",
       "      <th></th>\n",
       "      <th></th>\n",
       "      <th></th>\n",
       "      <th></th>\n",
       "    </tr>\n",
       "  </thead>\n",
       "  <tbody>\n",
       "    <tr>\n",
       "      <th>Baltimore Ravens</th>\n",
       "      <td>1</td>\n",
       "      <td>11</td>\n",
       "      <td>304</td>\n",
       "      <td>4032</td>\n",
       "      <td>692</td>\n",
       "      <td>5.8</td>\n",
       "      <td>14</td>\n",
       "      <td>9</td>\n",
       "      <td>231</td>\n",
       "      <td>215</td>\n",
       "      <td>...</td>\n",
       "      <td>1706</td>\n",
       "      <td>21</td>\n",
       "      <td>4.8</td>\n",
       "      <td>98</td>\n",
       "      <td>68</td>\n",
       "      <td>642</td>\n",
       "      <td>26</td>\n",
       "      <td>42.1</td>\n",
       "      <td>11.1</td>\n",
       "      <td>76.65</td>\n",
       "    </tr>\n",
       "    <tr>\n",
       "      <th>Miami Dolphins</th>\n",
       "      <td>2</td>\n",
       "      <td>9</td>\n",
       "      <td>285</td>\n",
       "      <td>3918</td>\n",
       "      <td>553</td>\n",
       "      <td>7.1</td>\n",
       "      <td>13</td>\n",
       "      <td>5</td>\n",
       "      <td>203</td>\n",
       "      <td>216</td>\n",
       "      <td>...</td>\n",
       "      <td>1331</td>\n",
       "      <td>17</td>\n",
       "      <td>5.9</td>\n",
       "      <td>61</td>\n",
       "      <td>54</td>\n",
       "      <td>445</td>\n",
       "      <td>11</td>\n",
       "      <td>44.0</td>\n",
       "      <td>13.0</td>\n",
       "      <td>105.03</td>\n",
       "    </tr>\n",
       "    <tr>\n",
       "      <th>Dallas Cowboys</th>\n",
       "      <td>3</td>\n",
       "      <td>9</td>\n",
       "      <td>269</td>\n",
       "      <td>3412</td>\n",
       "      <td>602</td>\n",
       "      <td>5.7</td>\n",
       "      <td>10</td>\n",
       "      <td>3</td>\n",
       "      <td>203</td>\n",
       "      <td>225</td>\n",
       "      <td>...</td>\n",
       "      <td>1061</td>\n",
       "      <td>8</td>\n",
       "      <td>4.0</td>\n",
       "      <td>62</td>\n",
       "      <td>69</td>\n",
       "      <td>544</td>\n",
       "      <td>20</td>\n",
       "      <td>46.3</td>\n",
       "      <td>9.5</td>\n",
       "      <td>74.37</td>\n",
       "    </tr>\n",
       "    <tr>\n",
       "      <th>Buffalo Bills</th>\n",
       "      <td>4</td>\n",
       "      <td>10</td>\n",
       "      <td>262</td>\n",
       "      <td>3701</td>\n",
       "      <td>617</td>\n",
       "      <td>6.0</td>\n",
       "      <td>18</td>\n",
       "      <td>7</td>\n",
       "      <td>220</td>\n",
       "      <td>246</td>\n",
       "      <td>...</td>\n",
       "      <td>1165</td>\n",
       "      <td>12</td>\n",
       "      <td>4.6</td>\n",
       "      <td>82</td>\n",
       "      <td>65</td>\n",
       "      <td>539</td>\n",
       "      <td>14</td>\n",
       "      <td>41.3</td>\n",
       "      <td>17.3</td>\n",
       "      <td>96.25</td>\n",
       "    </tr>\n",
       "    <tr>\n",
       "      <th>San Francisco 49ers</th>\n",
       "      <td>5</td>\n",
       "      <td>9</td>\n",
       "      <td>252</td>\n",
       "      <td>3450</td>\n",
       "      <td>542</td>\n",
       "      <td>6.4</td>\n",
       "      <td>9</td>\n",
       "      <td>4</td>\n",
       "      <td>202</td>\n",
       "      <td>174</td>\n",
       "      <td>...</td>\n",
       "      <td>1212</td>\n",
       "      <td>15</td>\n",
       "      <td>4.4</td>\n",
       "      <td>74</td>\n",
       "      <td>62</td>\n",
       "      <td>565</td>\n",
       "      <td>19</td>\n",
       "      <td>44.9</td>\n",
       "      <td>9.2</td>\n",
       "      <td>108.15</td>\n",
       "    </tr>\n",
       "    <tr>\n",
       "      <th>Philadelphia Eagles</th>\n",
       "      <td>6</td>\n",
       "      <td>9</td>\n",
       "      <td>252</td>\n",
       "      <td>3391</td>\n",
       "      <td>617</td>\n",
       "      <td>5.5</td>\n",
       "      <td>13</td>\n",
       "      <td>5</td>\n",
       "      <td>210</td>\n",
       "      <td>210</td>\n",
       "      <td>...</td>\n",
       "      <td>1167</td>\n",
       "      <td>12</td>\n",
       "      <td>4.0</td>\n",
       "      <td>83</td>\n",
       "      <td>47</td>\n",
       "      <td>388</td>\n",
       "      <td>21</td>\n",
       "      <td>48.4</td>\n",
       "      <td>14.0</td>\n",
       "      <td>88.34</td>\n",
       "    </tr>\n",
       "    <tr>\n",
       "      <th>Indianapolis Colts</th>\n",
       "      <td>7</td>\n",
       "      <td>10</td>\n",
       "      <td>242</td>\n",
       "      <td>3361</td>\n",
       "      <td>648</td>\n",
       "      <td>5.2</td>\n",
       "      <td>15</td>\n",
       "      <td>8</td>\n",
       "      <td>184</td>\n",
       "      <td>213</td>\n",
       "      <td>...</td>\n",
       "      <td>1180</td>\n",
       "      <td>13</td>\n",
       "      <td>4.1</td>\n",
       "      <td>60</td>\n",
       "      <td>63</td>\n",
       "      <td>445</td>\n",
       "      <td>18</td>\n",
       "      <td>34.5</td>\n",
       "      <td>11.8</td>\n",
       "      <td>-0.38</td>\n",
       "    </tr>\n",
       "    <tr>\n",
       "      <th>Detroit Lions</th>\n",
       "      <td>8</td>\n",
       "      <td>9</td>\n",
       "      <td>241</td>\n",
       "      <td>3658</td>\n",
       "      <td>617</td>\n",
       "      <td>5.9</td>\n",
       "      <td>10</td>\n",
       "      <td>5</td>\n",
       "      <td>199</td>\n",
       "      <td>223</td>\n",
       "      <td>...</td>\n",
       "      <td>1251</td>\n",
       "      <td>14</td>\n",
       "      <td>4.5</td>\n",
       "      <td>66</td>\n",
       "      <td>50</td>\n",
       "      <td>502</td>\n",
       "      <td>13</td>\n",
       "      <td>41.0</td>\n",
       "      <td>10.0</td>\n",
       "      <td>72.86</td>\n",
       "    </tr>\n",
       "    <tr>\n",
       "      <th>Los Angeles Chargers</th>\n",
       "      <td>9</td>\n",
       "      <td>9</td>\n",
       "      <td>239</td>\n",
       "      <td>3149</td>\n",
       "      <td>579</td>\n",
       "      <td>5.4</td>\n",
       "      <td>7</td>\n",
       "      <td>2</td>\n",
       "      <td>181</td>\n",
       "      <td>217</td>\n",
       "      <td>...</td>\n",
       "      <td>907</td>\n",
       "      <td>9</td>\n",
       "      <td>3.8</td>\n",
       "      <td>47</td>\n",
       "      <td>48</td>\n",
       "      <td>453</td>\n",
       "      <td>18</td>\n",
       "      <td>42.3</td>\n",
       "      <td>7.2</td>\n",
       "      <td>73.47</td>\n",
       "    </tr>\n",
       "    <tr>\n",
       "      <th>Minnesota Vikings</th>\n",
       "      <td>10</td>\n",
       "      <td>10</td>\n",
       "      <td>233</td>\n",
       "      <td>3581</td>\n",
       "      <td>639</td>\n",
       "      <td>5.6</td>\n",
       "      <td>17</td>\n",
       "      <td>12</td>\n",
       "      <td>210</td>\n",
       "      <td>267</td>\n",
       "      <td>...</td>\n",
       "      <td>857</td>\n",
       "      <td>4</td>\n",
       "      <td>3.7</td>\n",
       "      <td>45</td>\n",
       "      <td>48</td>\n",
       "      <td>365</td>\n",
       "      <td>27</td>\n",
       "      <td>38.1</td>\n",
       "      <td>15.2</td>\n",
       "      <td>54.49</td>\n",
       "    </tr>\n",
       "    <tr>\n",
       "      <th>Houston Texans</th>\n",
       "      <td>11</td>\n",
       "      <td>9</td>\n",
       "      <td>217</td>\n",
       "      <td>3353</td>\n",
       "      <td>586</td>\n",
       "      <td>5.7</td>\n",
       "      <td>8</td>\n",
       "      <td>6</td>\n",
       "      <td>187</td>\n",
       "      <td>197</td>\n",
       "      <td>...</td>\n",
       "      <td>884</td>\n",
       "      <td>5</td>\n",
       "      <td>3.6</td>\n",
       "      <td>45</td>\n",
       "      <td>62</td>\n",
       "      <td>535</td>\n",
       "      <td>16</td>\n",
       "      <td>43.0</td>\n",
       "      <td>8.0</td>\n",
       "      <td>59.08</td>\n",
       "    </tr>\n",
       "    <tr>\n",
       "      <th>Washington Commanders</th>\n",
       "      <td>12</td>\n",
       "      <td>10</td>\n",
       "      <td>217</td>\n",
       "      <td>3345</td>\n",
       "      <td>646</td>\n",
       "      <td>5.2</td>\n",
       "      <td>15</td>\n",
       "      <td>6</td>\n",
       "      <td>203</td>\n",
       "      <td>264</td>\n",
       "      <td>...</td>\n",
       "      <td>879</td>\n",
       "      <td>7</td>\n",
       "      <td>4.4</td>\n",
       "      <td>55</td>\n",
       "      <td>59</td>\n",
       "      <td>465</td>\n",
       "      <td>21</td>\n",
       "      <td>33.3</td>\n",
       "      <td>12.8</td>\n",
       "      <td>11.57</td>\n",
       "    </tr>\n",
       "    <tr>\n",
       "      <th>New Orleans Saints</th>\n",
       "      <td>13</td>\n",
       "      <td>10</td>\n",
       "      <td>214</td>\n",
       "      <td>3374</td>\n",
       "      <td>683</td>\n",
       "      <td>4.9</td>\n",
       "      <td>12</td>\n",
       "      <td>5</td>\n",
       "      <td>193</td>\n",
       "      <td>248</td>\n",
       "      <td>...</td>\n",
       "      <td>1000</td>\n",
       "      <td>7</td>\n",
       "      <td>3.6</td>\n",
       "      <td>64</td>\n",
       "      <td>64</td>\n",
       "      <td>592</td>\n",
       "      <td>16</td>\n",
       "      <td>33.1</td>\n",
       "      <td>8.5</td>\n",
       "      <td>14.75</td>\n",
       "    </tr>\n",
       "    <tr>\n",
       "      <th>Cleveland Browns</th>\n",
       "      <td>14</td>\n",
       "      <td>9</td>\n",
       "      <td>214</td>\n",
       "      <td>2999</td>\n",
       "      <td>648</td>\n",
       "      <td>4.6</td>\n",
       "      <td>19</td>\n",
       "      <td>7</td>\n",
       "      <td>177</td>\n",
       "      <td>173</td>\n",
       "      <td>...</td>\n",
       "      <td>1331</td>\n",
       "      <td>10</td>\n",
       "      <td>4.2</td>\n",
       "      <td>75</td>\n",
       "      <td>62</td>\n",
       "      <td>496</td>\n",
       "      <td>19</td>\n",
       "      <td>36.2</td>\n",
       "      <td>15.5</td>\n",
       "      <td>-47.42</td>\n",
       "    </tr>\n",
       "    <tr>\n",
       "      <th>Kansas City Chiefs</th>\n",
       "      <td>15</td>\n",
       "      <td>9</td>\n",
       "      <td>208</td>\n",
       "      <td>3318</td>\n",
       "      <td>578</td>\n",
       "      <td>5.7</td>\n",
       "      <td>17</td>\n",
       "      <td>7</td>\n",
       "      <td>193</td>\n",
       "      <td>232</td>\n",
       "      <td>...</td>\n",
       "      <td>934</td>\n",
       "      <td>4</td>\n",
       "      <td>4.1</td>\n",
       "      <td>57</td>\n",
       "      <td>60</td>\n",
       "      <td>500</td>\n",
       "      <td>16</td>\n",
       "      <td>41.5</td>\n",
       "      <td>16.0</td>\n",
       "      <td>56.93</td>\n",
       "    </tr>\n",
       "    <tr>\n",
       "      <th>Chicago Bears</th>\n",
       "      <td>16</td>\n",
       "      <td>10</td>\n",
       "      <td>204</td>\n",
       "      <td>3228</td>\n",
       "      <td>637</td>\n",
       "      <td>5.1</td>\n",
       "      <td>18</td>\n",
       "      <td>6</td>\n",
       "      <td>190</td>\n",
       "      <td>194</td>\n",
       "      <td>...</td>\n",
       "      <td>1351</td>\n",
       "      <td>8</td>\n",
       "      <td>4.5</td>\n",
       "      <td>81</td>\n",
       "      <td>67</td>\n",
       "      <td>554</td>\n",
       "      <td>6</td>\n",
       "      <td>34.9</td>\n",
       "      <td>17.0</td>\n",
       "      <td>-9.82</td>\n",
       "    </tr>\n",
       "    <tr>\n",
       "      <th>Cincinnati Bengals</th>\n",
       "      <td>17</td>\n",
       "      <td>10</td>\n",
       "      <td>202</td>\n",
       "      <td>2987</td>\n",
       "      <td>616</td>\n",
       "      <td>4.8</td>\n",
       "      <td>8</td>\n",
       "      <td>2</td>\n",
       "      <td>192</td>\n",
       "      <td>252</td>\n",
       "      <td>...</td>\n",
       "      <td>809</td>\n",
       "      <td>4</td>\n",
       "      <td>3.9</td>\n",
       "      <td>52</td>\n",
       "      <td>50</td>\n",
       "      <td>427</td>\n",
       "      <td>20</td>\n",
       "      <td>32.7</td>\n",
       "      <td>7.3</td>\n",
       "      <td>11.14</td>\n",
       "    </tr>\n",
       "    <tr>\n",
       "      <th>Seattle Seahawks</th>\n",
       "      <td>18</td>\n",
       "      <td>9</td>\n",
       "      <td>200</td>\n",
       "      <td>2983</td>\n",
       "      <td>539</td>\n",
       "      <td>5.5</td>\n",
       "      <td>10</td>\n",
       "      <td>3</td>\n",
       "      <td>173</td>\n",
       "      <td>198</td>\n",
       "      <td>...</td>\n",
       "      <td>898</td>\n",
       "      <td>7</td>\n",
       "      <td>4.2</td>\n",
       "      <td>51</td>\n",
       "      <td>64</td>\n",
       "      <td>509</td>\n",
       "      <td>20</td>\n",
       "      <td>38.0</td>\n",
       "      <td>9.0</td>\n",
       "      <td>16.48</td>\n",
       "    </tr>\n",
       "    <tr>\n",
       "      <th>Denver Broncos</th>\n",
       "      <td>19</td>\n",
       "      <td>9</td>\n",
       "      <td>196</td>\n",
       "      <td>2717</td>\n",
       "      <td>524</td>\n",
       "      <td>5.2</td>\n",
       "      <td>13</td>\n",
       "      <td>9</td>\n",
       "      <td>164</td>\n",
       "      <td>178</td>\n",
       "      <td>...</td>\n",
       "      <td>1056</td>\n",
       "      <td>1</td>\n",
       "      <td>4.6</td>\n",
       "      <td>57</td>\n",
       "      <td>64</td>\n",
       "      <td>447</td>\n",
       "      <td>24</td>\n",
       "      <td>38.3</td>\n",
       "      <td>12.8</td>\n",
       "      <td>6.87</td>\n",
       "    </tr>\n",
       "    <tr>\n",
       "      <th>Jacksonville Jaguars</th>\n",
       "      <td>20</td>\n",
       "      <td>9</td>\n",
       "      <td>196</td>\n",
       "      <td>2952</td>\n",
       "      <td>585</td>\n",
       "      <td>5.0</td>\n",
       "      <td>17</td>\n",
       "      <td>11</td>\n",
       "      <td>172</td>\n",
       "      <td>207</td>\n",
       "      <td>...</td>\n",
       "      <td>959</td>\n",
       "      <td>9</td>\n",
       "      <td>3.8</td>\n",
       "      <td>53</td>\n",
       "      <td>44</td>\n",
       "      <td>363</td>\n",
       "      <td>22</td>\n",
       "      <td>34.0</td>\n",
       "      <td>15.1</td>\n",
       "      <td>-20.26</td>\n",
       "    </tr>\n",
       "    <tr>\n",
       "      <th>Atlanta Falcons</th>\n",
       "      <td>21</td>\n",
       "      <td>10</td>\n",
       "      <td>189</td>\n",
       "      <td>3353</td>\n",
       "      <td>663</td>\n",
       "      <td>5.1</td>\n",
       "      <td>16</td>\n",
       "      <td>9</td>\n",
       "      <td>199</td>\n",
       "      <td>203</td>\n",
       "      <td>...</td>\n",
       "      <td>1304</td>\n",
       "      <td>9</td>\n",
       "      <td>4.2</td>\n",
       "      <td>75</td>\n",
       "      <td>54</td>\n",
       "      <td>493</td>\n",
       "      <td>14</td>\n",
       "      <td>34.2</td>\n",
       "      <td>14.0</td>\n",
       "      <td>-23.18</td>\n",
       "    </tr>\n",
       "    <tr>\n",
       "      <th>Green Bay Packers</th>\n",
       "      <td>22</td>\n",
       "      <td>9</td>\n",
       "      <td>179</td>\n",
       "      <td>2799</td>\n",
       "      <td>544</td>\n",
       "      <td>5.1</td>\n",
       "      <td>12</td>\n",
       "      <td>2</td>\n",
       "      <td>160</td>\n",
       "      <td>177</td>\n",
       "      <td>...</td>\n",
       "      <td>919</td>\n",
       "      <td>5</td>\n",
       "      <td>4.1</td>\n",
       "      <td>44</td>\n",
       "      <td>65</td>\n",
       "      <td>513</td>\n",
       "      <td>17</td>\n",
       "      <td>32.7</td>\n",
       "      <td>12.2</td>\n",
       "      <td>14.36</td>\n",
       "    </tr>\n",
       "    <tr>\n",
       "      <th>Los Angeles Rams</th>\n",
       "      <td>23</td>\n",
       "      <td>9</td>\n",
       "      <td>178</td>\n",
       "      <td>3023</td>\n",
       "      <td>571</td>\n",
       "      <td>5.3</td>\n",
       "      <td>10</td>\n",
       "      <td>2</td>\n",
       "      <td>175</td>\n",
       "      <td>184</td>\n",
       "      <td>...</td>\n",
       "      <td>944</td>\n",
       "      <td>9</td>\n",
       "      <td>4.0</td>\n",
       "      <td>54</td>\n",
       "      <td>50</td>\n",
       "      <td>429</td>\n",
       "      <td>17</td>\n",
       "      <td>39.8</td>\n",
       "      <td>9.7</td>\n",
       "      <td>22.83</td>\n",
       "    </tr>\n",
       "    <tr>\n",
       "      <th>Tampa Bay Buccaneers</th>\n",
       "      <td>24</td>\n",
       "      <td>9</td>\n",
       "      <td>178</td>\n",
       "      <td>2760</td>\n",
       "      <td>552</td>\n",
       "      <td>5.0</td>\n",
       "      <td>8</td>\n",
       "      <td>3</td>\n",
       "      <td>159</td>\n",
       "      <td>197</td>\n",
       "      <td>...</td>\n",
       "      <td>703</td>\n",
       "      <td>3</td>\n",
       "      <td>3.1</td>\n",
       "      <td>37</td>\n",
       "      <td>66</td>\n",
       "      <td>497</td>\n",
       "      <td>23</td>\n",
       "      <td>35.4</td>\n",
       "      <td>8.3</td>\n",
       "      <td>17.40</td>\n",
       "    </tr>\n",
       "    <tr>\n",
       "      <th>Arizona Cardinals</th>\n",
       "      <td>25</td>\n",
       "      <td>10</td>\n",
       "      <td>176</td>\n",
       "      <td>2959</td>\n",
       "      <td>610</td>\n",
       "      <td>4.9</td>\n",
       "      <td>13</td>\n",
       "      <td>5</td>\n",
       "      <td>179</td>\n",
       "      <td>198</td>\n",
       "      <td>...</td>\n",
       "      <td>1265</td>\n",
       "      <td>9</td>\n",
       "      <td>4.8</td>\n",
       "      <td>64</td>\n",
       "      <td>69</td>\n",
       "      <td>636</td>\n",
       "      <td>19</td>\n",
       "      <td>31.8</td>\n",
       "      <td>11.8</td>\n",
       "      <td>-47.88</td>\n",
       "    </tr>\n",
       "    <tr>\n",
       "      <th>Las Vegas Raiders</th>\n",
       "      <td>26</td>\n",
       "      <td>10</td>\n",
       "      <td>172</td>\n",
       "      <td>2754</td>\n",
       "      <td>585</td>\n",
       "      <td>4.7</td>\n",
       "      <td>18</td>\n",
       "      <td>4</td>\n",
       "      <td>176</td>\n",
       "      <td>199</td>\n",
       "      <td>...</td>\n",
       "      <td>833</td>\n",
       "      <td>7</td>\n",
       "      <td>3.4</td>\n",
       "      <td>46</td>\n",
       "      <td>51</td>\n",
       "      <td>447</td>\n",
       "      <td>22</td>\n",
       "      <td>32.4</td>\n",
       "      <td>17.6</td>\n",
       "      <td>-33.47</td>\n",
       "    </tr>\n",
       "    <tr>\n",
       "      <th>Pittsburgh Steelers</th>\n",
       "      <td>27</td>\n",
       "      <td>9</td>\n",
       "      <td>156</td>\n",
       "      <td>2552</td>\n",
       "      <td>535</td>\n",
       "      <td>4.8</td>\n",
       "      <td>8</td>\n",
       "      <td>2</td>\n",
       "      <td>147</td>\n",
       "      <td>173</td>\n",
       "      <td>...</td>\n",
       "      <td>929</td>\n",
       "      <td>6</td>\n",
       "      <td>4.0</td>\n",
       "      <td>58</td>\n",
       "      <td>49</td>\n",
       "      <td>419</td>\n",
       "      <td>13</td>\n",
       "      <td>29.4</td>\n",
       "      <td>6.9</td>\n",
       "      <td>-19.93</td>\n",
       "    </tr>\n",
       "    <tr>\n",
       "      <th>Tennessee Titans</th>\n",
       "      <td>28</td>\n",
       "      <td>9</td>\n",
       "      <td>154</td>\n",
       "      <td>2625</td>\n",
       "      <td>527</td>\n",
       "      <td>5.0</td>\n",
       "      <td>10</td>\n",
       "      <td>2</td>\n",
       "      <td>157</td>\n",
       "      <td>163</td>\n",
       "      <td>...</td>\n",
       "      <td>958</td>\n",
       "      <td>6</td>\n",
       "      <td>4.3</td>\n",
       "      <td>49</td>\n",
       "      <td>54</td>\n",
       "      <td>439</td>\n",
       "      <td>28</td>\n",
       "      <td>36.2</td>\n",
       "      <td>9.6</td>\n",
       "      <td>5.09</td>\n",
       "    </tr>\n",
       "    <tr>\n",
       "      <th>Carolina Panthers</th>\n",
       "      <td>29</td>\n",
       "      <td>9</td>\n",
       "      <td>153</td>\n",
       "      <td>2480</td>\n",
       "      <td>593</td>\n",
       "      <td>4.2</td>\n",
       "      <td>11</td>\n",
       "      <td>4</td>\n",
       "      <td>173</td>\n",
       "      <td>217</td>\n",
       "      <td>...</td>\n",
       "      <td>813</td>\n",
       "      <td>2</td>\n",
       "      <td>3.8</td>\n",
       "      <td>53</td>\n",
       "      <td>62</td>\n",
       "      <td>465</td>\n",
       "      <td>23</td>\n",
       "      <td>29.2</td>\n",
       "      <td>11.5</td>\n",
       "      <td>-62.54</td>\n",
       "    </tr>\n",
       "    <tr>\n",
       "      <th>New York Jets</th>\n",
       "      <td>30</td>\n",
       "      <td>9</td>\n",
       "      <td>144</td>\n",
       "      <td>2548</td>\n",
       "      <td>540</td>\n",
       "      <td>4.7</td>\n",
       "      <td>14</td>\n",
       "      <td>8</td>\n",
       "      <td>133</td>\n",
       "      <td>183</td>\n",
       "      <td>...</td>\n",
       "      <td>935</td>\n",
       "      <td>3</td>\n",
       "      <td>4.7</td>\n",
       "      <td>39</td>\n",
       "      <td>60</td>\n",
       "      <td>443</td>\n",
       "      <td>13</td>\n",
       "      <td>28.4</td>\n",
       "      <td>11.9</td>\n",
       "      <td>-82.88</td>\n",
       "    </tr>\n",
       "    <tr>\n",
       "      <th>New England Patriots</th>\n",
       "      <td>31</td>\n",
       "      <td>10</td>\n",
       "      <td>141</td>\n",
       "      <td>2945</td>\n",
       "      <td>617</td>\n",
       "      <td>4.8</td>\n",
       "      <td>16</td>\n",
       "      <td>5</td>\n",
       "      <td>172</td>\n",
       "      <td>222</td>\n",
       "      <td>...</td>\n",
       "      <td>949</td>\n",
       "      <td>5</td>\n",
       "      <td>3.9</td>\n",
       "      <td>61</td>\n",
       "      <td>63</td>\n",
       "      <td>465</td>\n",
       "      <td>13</td>\n",
       "      <td>23.9</td>\n",
       "      <td>14.2</td>\n",
       "      <td>-70.63</td>\n",
       "    </tr>\n",
       "    <tr>\n",
       "      <th>New York Giants</th>\n",
       "      <td>32</td>\n",
       "      <td>10</td>\n",
       "      <td>118</td>\n",
       "      <td>2592</td>\n",
       "      <td>645</td>\n",
       "      <td>4.0</td>\n",
       "      <td>13</td>\n",
       "      <td>4</td>\n",
       "      <td>161</td>\n",
       "      <td>196</td>\n",
       "      <td>...</td>\n",
       "      <td>1136</td>\n",
       "      <td>4</td>\n",
       "      <td>3.9</td>\n",
       "      <td>57</td>\n",
       "      <td>57</td>\n",
       "      <td>463</td>\n",
       "      <td>23</td>\n",
       "      <td>19.3</td>\n",
       "      <td>10.1</td>\n",
       "      <td>-106.71</td>\n",
       "    </tr>\n",
       "  </tbody>\n",
       "</table>\n",
       "<p>32 rows × 27 columns</p>\n",
       "</div>"
      ],
      "text/plain": [
       "                       Rk   G   PF   Yds  Ply  Y/P  TO  FL  1stD  Cmp  ...  \\\n",
       "Tm                                                                     ...   \n",
       "Baltimore Ravens        1  11  304  4032  692  5.8  14   9   231  215  ...   \n",
       "Miami Dolphins          2   9  285  3918  553  7.1  13   5   203  216  ...   \n",
       "Dallas Cowboys          3   9  269  3412  602  5.7  10   3   203  225  ...   \n",
       "Buffalo Bills           4  10  262  3701  617  6.0  18   7   220  246  ...   \n",
       "San Francisco 49ers     5   9  252  3450  542  6.4   9   4   202  174  ...   \n",
       "Philadelphia Eagles     6   9  252  3391  617  5.5  13   5   210  210  ...   \n",
       "Indianapolis Colts      7  10  242  3361  648  5.2  15   8   184  213  ...   \n",
       "Detroit Lions           8   9  241  3658  617  5.9  10   5   199  223  ...   \n",
       "Los Angeles Chargers    9   9  239  3149  579  5.4   7   2   181  217  ...   \n",
       "Minnesota Vikings      10  10  233  3581  639  5.6  17  12   210  267  ...   \n",
       "Houston Texans         11   9  217  3353  586  5.7   8   6   187  197  ...   \n",
       "Washington Commanders  12  10  217  3345  646  5.2  15   6   203  264  ...   \n",
       "New Orleans Saints     13  10  214  3374  683  4.9  12   5   193  248  ...   \n",
       "Cleveland Browns       14   9  214  2999  648  4.6  19   7   177  173  ...   \n",
       "Kansas City Chiefs     15   9  208  3318  578  5.7  17   7   193  232  ...   \n",
       "Chicago Bears          16  10  204  3228  637  5.1  18   6   190  194  ...   \n",
       "Cincinnati Bengals     17  10  202  2987  616  4.8   8   2   192  252  ...   \n",
       "Seattle Seahawks       18   9  200  2983  539  5.5  10   3   173  198  ...   \n",
       "Denver Broncos         19   9  196  2717  524  5.2  13   9   164  178  ...   \n",
       "Jacksonville Jaguars   20   9  196  2952  585  5.0  17  11   172  207  ...   \n",
       "Atlanta Falcons        21  10  189  3353  663  5.1  16   9   199  203  ...   \n",
       "Green Bay Packers      22   9  179  2799  544  5.1  12   2   160  177  ...   \n",
       "Los Angeles Rams       23   9  178  3023  571  5.3  10   2   175  184  ...   \n",
       "Tampa Bay Buccaneers   24   9  178  2760  552  5.0   8   3   159  197  ...   \n",
       "Arizona Cardinals      25  10  176  2959  610  4.9  13   5   179  198  ...   \n",
       "Las Vegas Raiders      26  10  172  2754  585  4.7  18   4   176  199  ...   \n",
       "Pittsburgh Steelers    27   9  156  2552  535  4.8   8   2   147  173  ...   \n",
       "Tennessee Titans       28   9  154  2625  527  5.0  10   2   157  163  ...   \n",
       "Carolina Panthers      29   9  153  2480  593  4.2  11   4   173  217  ...   \n",
       "New York Jets          30   9  144  2548  540  4.7  14   8   133  183  ...   \n",
       "New England Patriots   31  10  141  2945  617  4.8  16   5   172  222  ...   \n",
       "New York Giants        32  10  118  2592  645  4.0  13   4   161  196  ...   \n",
       "\n",
       "                       Yds.2  TD.1  Y/A  1stD.2  Pen  Yds.3  1stPy   Sc%  \\\n",
       "Tm                                                                         \n",
       "Baltimore Ravens        1706    21  4.8      98   68    642     26  42.1   \n",
       "Miami Dolphins          1331    17  5.9      61   54    445     11  44.0   \n",
       "Dallas Cowboys          1061     8  4.0      62   69    544     20  46.3   \n",
       "Buffalo Bills           1165    12  4.6      82   65    539     14  41.3   \n",
       "San Francisco 49ers     1212    15  4.4      74   62    565     19  44.9   \n",
       "Philadelphia Eagles     1167    12  4.0      83   47    388     21  48.4   \n",
       "Indianapolis Colts      1180    13  4.1      60   63    445     18  34.5   \n",
       "Detroit Lions           1251    14  4.5      66   50    502     13  41.0   \n",
       "Los Angeles Chargers     907     9  3.8      47   48    453     18  42.3   \n",
       "Minnesota Vikings        857     4  3.7      45   48    365     27  38.1   \n",
       "Houston Texans           884     5  3.6      45   62    535     16  43.0   \n",
       "Washington Commanders    879     7  4.4      55   59    465     21  33.3   \n",
       "New Orleans Saints      1000     7  3.6      64   64    592     16  33.1   \n",
       "Cleveland Browns        1331    10  4.2      75   62    496     19  36.2   \n",
       "Kansas City Chiefs       934     4  4.1      57   60    500     16  41.5   \n",
       "Chicago Bears           1351     8  4.5      81   67    554      6  34.9   \n",
       "Cincinnati Bengals       809     4  3.9      52   50    427     20  32.7   \n",
       "Seattle Seahawks         898     7  4.2      51   64    509     20  38.0   \n",
       "Denver Broncos          1056     1  4.6      57   64    447     24  38.3   \n",
       "Jacksonville Jaguars     959     9  3.8      53   44    363     22  34.0   \n",
       "Atlanta Falcons         1304     9  4.2      75   54    493     14  34.2   \n",
       "Green Bay Packers        919     5  4.1      44   65    513     17  32.7   \n",
       "Los Angeles Rams         944     9  4.0      54   50    429     17  39.8   \n",
       "Tampa Bay Buccaneers     703     3  3.1      37   66    497     23  35.4   \n",
       "Arizona Cardinals       1265     9  4.8      64   69    636     19  31.8   \n",
       "Las Vegas Raiders        833     7  3.4      46   51    447     22  32.4   \n",
       "Pittsburgh Steelers      929     6  4.0      58   49    419     13  29.4   \n",
       "Tennessee Titans         958     6  4.3      49   54    439     28  36.2   \n",
       "Carolina Panthers        813     2  3.8      53   62    465     23  29.2   \n",
       "New York Jets            935     3  4.7      39   60    443     13  28.4   \n",
       "New England Patriots     949     5  3.9      61   63    465     13  23.9   \n",
       "New York Giants         1136     4  3.9      57   57    463     23  19.3   \n",
       "\n",
       "                        TO%     EXP  \n",
       "Tm                                   \n",
       "Baltimore Ravens       11.1   76.65  \n",
       "Miami Dolphins         13.0  105.03  \n",
       "Dallas Cowboys          9.5   74.37  \n",
       "Buffalo Bills          17.3   96.25  \n",
       "San Francisco 49ers     9.2  108.15  \n",
       "Philadelphia Eagles    14.0   88.34  \n",
       "Indianapolis Colts     11.8   -0.38  \n",
       "Detroit Lions          10.0   72.86  \n",
       "Los Angeles Chargers    7.2   73.47  \n",
       "Minnesota Vikings      15.2   54.49  \n",
       "Houston Texans          8.0   59.08  \n",
       "Washington Commanders  12.8   11.57  \n",
       "New Orleans Saints      8.5   14.75  \n",
       "Cleveland Browns       15.5  -47.42  \n",
       "Kansas City Chiefs     16.0   56.93  \n",
       "Chicago Bears          17.0   -9.82  \n",
       "Cincinnati Bengals      7.3   11.14  \n",
       "Seattle Seahawks        9.0   16.48  \n",
       "Denver Broncos         12.8    6.87  \n",
       "Jacksonville Jaguars   15.1  -20.26  \n",
       "Atlanta Falcons        14.0  -23.18  \n",
       "Green Bay Packers      12.2   14.36  \n",
       "Los Angeles Rams        9.7   22.83  \n",
       "Tampa Bay Buccaneers    8.3   17.40  \n",
       "Arizona Cardinals      11.8  -47.88  \n",
       "Las Vegas Raiders      17.6  -33.47  \n",
       "Pittsburgh Steelers     6.9  -19.93  \n",
       "Tennessee Titans        9.6    5.09  \n",
       "Carolina Panthers      11.5  -62.54  \n",
       "New York Jets          11.9  -82.88  \n",
       "New England Patriots   14.2  -70.63  \n",
       "New York Giants        10.1 -106.71  \n",
       "\n",
       "[32 rows x 27 columns]"
      ]
     },
     "execution_count": 35,
     "metadata": {},
     "output_type": "execute_result"
    }
   ],
   "source": [
    "offense_data = pd.read_csv(\"Team_Off_NFL.csv\", index_col=\"Tm\")\n",
    "offense_data "
   ]
  },
  {
   "cell_type": "code",
   "execution_count": 36,
   "metadata": {},
   "outputs": [],
   "source": [
    "team_names = offense_data.index"
   ]
  },
  {
   "cell_type": "code",
   "execution_count": 37,
   "metadata": {},
   "outputs": [],
   "source": [
    "import plotly.express as px\n",
    "# new\n",
    "import plotly.graph_objects as go"
   ]
  },
  {
   "cell_type": "code",
   "execution_count": 44,
   "metadata": {},
   "outputs": [
    {
     "data": {
      "text/html": [
       "<div>\n",
       "<style scoped>\n",
       "    .dataframe tbody tr th:only-of-type {\n",
       "        vertical-align: middle;\n",
       "    }\n",
       "\n",
       "    .dataframe tbody tr th {\n",
       "        vertical-align: top;\n",
       "    }\n",
       "\n",
       "    .dataframe thead th {\n",
       "        text-align: right;\n",
       "    }\n",
       "</style>\n",
       "<table border=\"1\" class=\"dataframe\">\n",
       "  <thead>\n",
       "    <tr style=\"text-align: right;\">\n",
       "      <th></th>\n",
       "      <th>W</th>\n",
       "      <th>L</th>\n",
       "      <th>T</th>\n",
       "      <th>Position</th>\n",
       "      <th>Reason</th>\n",
       "    </tr>\n",
       "    <tr>\n",
       "      <th>Tm</th>\n",
       "      <th></th>\n",
       "      <th></th>\n",
       "      <th></th>\n",
       "      <th></th>\n",
       "      <th></th>\n",
       "    </tr>\n",
       "  </thead>\n",
       "  <tbody>\n",
       "    <tr>\n",
       "      <th>Baltimore Ravens</th>\n",
       "      <td>8</td>\n",
       "      <td>3</td>\n",
       "      <td>0</td>\n",
       "      <td>North Champion</td>\n",
       "      <td>NaN</td>\n",
       "    </tr>\n",
       "    <tr>\n",
       "      <th>Kansas City Chiefs</th>\n",
       "      <td>7</td>\n",
       "      <td>3</td>\n",
       "      <td>0</td>\n",
       "      <td>West Champion</td>\n",
       "      <td>head-to-head record</td>\n",
       "    </tr>\n",
       "    <tr>\n",
       "      <th>Jacksonville Jaguars</th>\n",
       "      <td>7</td>\n",
       "      <td>3</td>\n",
       "      <td>0</td>\n",
       "      <td>South Champion</td>\n",
       "      <td>strength of victory</td>\n",
       "    </tr>\n",
       "    <tr>\n",
       "      <th>Miami Dolphins</th>\n",
       "      <td>7</td>\n",
       "      <td>3</td>\n",
       "      <td>0</td>\n",
       "      <td>East Champion</td>\n",
       "      <td>NaN</td>\n",
       "    </tr>\n",
       "    <tr>\n",
       "      <th>Cleveland Browns</th>\n",
       "      <td>7</td>\n",
       "      <td>3</td>\n",
       "      <td>0</td>\n",
       "      <td>Wild Card #1</td>\n",
       "      <td>NaN</td>\n",
       "    </tr>\n",
       "    <tr>\n",
       "      <th>Houston Texans</th>\n",
       "      <td>6</td>\n",
       "      <td>4</td>\n",
       "      <td>0</td>\n",
       "      <td>Wild Card #2</td>\n",
       "      <td>head-to-head record</td>\n",
       "    </tr>\n",
       "    <tr>\n",
       "      <th>Pittsburgh Steelers</th>\n",
       "      <td>6</td>\n",
       "      <td>4</td>\n",
       "      <td>0</td>\n",
       "      <td>Wild Card #3</td>\n",
       "      <td>NaN</td>\n",
       "    </tr>\n",
       "    <tr>\n",
       "      <th>Buffalo Bills</th>\n",
       "      <td>6</td>\n",
       "      <td>5</td>\n",
       "      <td>0</td>\n",
       "      <td>NaN</td>\n",
       "      <td>NaN</td>\n",
       "    </tr>\n",
       "    <tr>\n",
       "      <th>Indianapolis Colts</th>\n",
       "      <td>5</td>\n",
       "      <td>5</td>\n",
       "      <td>0</td>\n",
       "      <td>NaN</td>\n",
       "      <td>conference win percentage</td>\n",
       "    </tr>\n",
       "    <tr>\n",
       "      <th>Denver Broncos</th>\n",
       "      <td>5</td>\n",
       "      <td>5</td>\n",
       "      <td>0</td>\n",
       "      <td>NaN</td>\n",
       "      <td>conference win percentage</td>\n",
       "    </tr>\n",
       "    <tr>\n",
       "      <th>Cincinnati Bengals</th>\n",
       "      <td>5</td>\n",
       "      <td>5</td>\n",
       "      <td>0</td>\n",
       "      <td>NaN</td>\n",
       "      <td>NaN</td>\n",
       "    </tr>\n",
       "    <tr>\n",
       "      <th>Las Vegas Raiders</th>\n",
       "      <td>5</td>\n",
       "      <td>6</td>\n",
       "      <td>0</td>\n",
       "      <td>NaN</td>\n",
       "      <td>NaN</td>\n",
       "    </tr>\n",
       "    <tr>\n",
       "      <th>Los Angeles Chargers</th>\n",
       "      <td>4</td>\n",
       "      <td>6</td>\n",
       "      <td>0</td>\n",
       "      <td>NaN</td>\n",
       "      <td>head-to-head record</td>\n",
       "    </tr>\n",
       "    <tr>\n",
       "      <th>New York Jets</th>\n",
       "      <td>4</td>\n",
       "      <td>6</td>\n",
       "      <td>0</td>\n",
       "      <td>NaN</td>\n",
       "      <td>NaN</td>\n",
       "    </tr>\n",
       "    <tr>\n",
       "      <th>Tennessee Titans</th>\n",
       "      <td>3</td>\n",
       "      <td>7</td>\n",
       "      <td>0</td>\n",
       "      <td>NaN</td>\n",
       "      <td>NaN</td>\n",
       "    </tr>\n",
       "    <tr>\n",
       "      <th>New England Patriots</th>\n",
       "      <td>2</td>\n",
       "      <td>8</td>\n",
       "      <td>0</td>\n",
       "      <td>NaN</td>\n",
       "      <td>NaN</td>\n",
       "    </tr>\n",
       "    <tr>\n",
       "      <th>Philadelphia Eagles</th>\n",
       "      <td>9</td>\n",
       "      <td>1</td>\n",
       "      <td>0</td>\n",
       "      <td>East Champion</td>\n",
       "      <td>NaN</td>\n",
       "    </tr>\n",
       "    <tr>\n",
       "      <th>San Francisco 49ers</th>\n",
       "      <td>8</td>\n",
       "      <td>3</td>\n",
       "      <td>0</td>\n",
       "      <td>West Champion</td>\n",
       "      <td>conference win percentage</td>\n",
       "    </tr>\n",
       "    <tr>\n",
       "      <th>Detroit Lions</th>\n",
       "      <td>8</td>\n",
       "      <td>3</td>\n",
       "      <td>0</td>\n",
       "      <td>North Champion</td>\n",
       "      <td>NaN</td>\n",
       "    </tr>\n",
       "    <tr>\n",
       "      <th>New Orleans Saints</th>\n",
       "      <td>5</td>\n",
       "      <td>5</td>\n",
       "      <td>0</td>\n",
       "      <td>South Champion</td>\n",
       "      <td>NaN</td>\n",
       "    </tr>\n",
       "    <tr>\n",
       "      <th>Dallas Cowboys</th>\n",
       "      <td>8</td>\n",
       "      <td>3</td>\n",
       "      <td>0</td>\n",
       "      <td>Wild Card #1</td>\n",
       "      <td>NaN</td>\n",
       "    </tr>\n",
       "    <tr>\n",
       "      <th>Minnesota Vikings</th>\n",
       "      <td>6</td>\n",
       "      <td>5</td>\n",
       "      <td>0</td>\n",
       "      <td>Wild Card #2</td>\n",
       "      <td>conference win percentage</td>\n",
       "    </tr>\n",
       "    <tr>\n",
       "      <th>Seattle Seahawks</th>\n",
       "      <td>6</td>\n",
       "      <td>5</td>\n",
       "      <td>0</td>\n",
       "      <td>Wild Card #3</td>\n",
       "      <td>NaN</td>\n",
       "    </tr>\n",
       "    <tr>\n",
       "      <th>Green Bay Packers</th>\n",
       "      <td>5</td>\n",
       "      <td>6</td>\n",
       "      <td>0</td>\n",
       "      <td>NaN</td>\n",
       "      <td>NaN</td>\n",
       "    </tr>\n",
       "    <tr>\n",
       "      <th>Los Angeles Rams</th>\n",
       "      <td>4</td>\n",
       "      <td>6</td>\n",
       "      <td>0</td>\n",
       "      <td>NaN</td>\n",
       "      <td>strength of victory</td>\n",
       "    </tr>\n",
       "    <tr>\n",
       "      <th>Atlanta Falcons</th>\n",
       "      <td>4</td>\n",
       "      <td>6</td>\n",
       "      <td>0</td>\n",
       "      <td>NaN</td>\n",
       "      <td>head-to-head record</td>\n",
       "    </tr>\n",
       "    <tr>\n",
       "      <th>Tampa Bay Buccaneers</th>\n",
       "      <td>4</td>\n",
       "      <td>6</td>\n",
       "      <td>0</td>\n",
       "      <td>NaN</td>\n",
       "      <td>NaN</td>\n",
       "    </tr>\n",
       "    <tr>\n",
       "      <th>Washington Commanders</th>\n",
       "      <td>4</td>\n",
       "      <td>8</td>\n",
       "      <td>0</td>\n",
       "      <td>NaN</td>\n",
       "      <td>NaN</td>\n",
       "    </tr>\n",
       "    <tr>\n",
       "      <th>New York Giants</th>\n",
       "      <td>3</td>\n",
       "      <td>8</td>\n",
       "      <td>0</td>\n",
       "      <td>NaN</td>\n",
       "      <td>conference win percentage</td>\n",
       "    </tr>\n",
       "    <tr>\n",
       "      <th>Chicago Bears</th>\n",
       "      <td>3</td>\n",
       "      <td>8</td>\n",
       "      <td>0</td>\n",
       "      <td>NaN</td>\n",
       "      <td>NaN</td>\n",
       "    </tr>\n",
       "    <tr>\n",
       "      <th>Arizona Cardinals</th>\n",
       "      <td>2</td>\n",
       "      <td>9</td>\n",
       "      <td>0</td>\n",
       "      <td>NaN</td>\n",
       "      <td>NaN</td>\n",
       "    </tr>\n",
       "    <tr>\n",
       "      <th>Carolina Panthers</th>\n",
       "      <td>1</td>\n",
       "      <td>9</td>\n",
       "      <td>0</td>\n",
       "      <td>NaN</td>\n",
       "      <td>NaN</td>\n",
       "    </tr>\n",
       "  </tbody>\n",
       "</table>\n",
       "</div>"
      ],
      "text/plain": [
       "                       W  L  T        Position                     Reason\n",
       "Tm                                                                       \n",
       "Baltimore Ravens       8  3  0  North Champion                        NaN\n",
       "Kansas City Chiefs     7  3  0   West Champion        head-to-head record\n",
       "Jacksonville Jaguars   7  3  0  South Champion        strength of victory\n",
       "Miami Dolphins         7  3  0   East Champion                        NaN\n",
       "Cleveland Browns       7  3  0    Wild Card #1                        NaN\n",
       "Houston Texans         6  4  0    Wild Card #2        head-to-head record\n",
       "Pittsburgh Steelers    6  4  0    Wild Card #3                        NaN\n",
       "Buffalo Bills          6  5  0             NaN                        NaN\n",
       "Indianapolis Colts     5  5  0             NaN  conference win percentage\n",
       "Denver Broncos         5  5  0             NaN  conference win percentage\n",
       "Cincinnati Bengals     5  5  0             NaN                        NaN\n",
       "Las Vegas Raiders      5  6  0             NaN                        NaN\n",
       "Los Angeles Chargers   4  6  0             NaN        head-to-head record\n",
       "New York Jets          4  6  0             NaN                        NaN\n",
       "Tennessee Titans       3  7  0             NaN                        NaN\n",
       "New England Patriots   2  8  0             NaN                        NaN\n",
       "Philadelphia Eagles    9  1  0   East Champion                        NaN\n",
       "San Francisco 49ers    8  3  0   West Champion  conference win percentage\n",
       "Detroit Lions          8  3  0  North Champion                        NaN\n",
       "New Orleans Saints     5  5  0  South Champion                        NaN\n",
       "Dallas Cowboys         8  3  0    Wild Card #1                        NaN\n",
       "Minnesota Vikings      6  5  0    Wild Card #2  conference win percentage\n",
       "Seattle Seahawks       6  5  0    Wild Card #3                        NaN\n",
       "Green Bay Packers      5  6  0             NaN                        NaN\n",
       "Los Angeles Rams       4  6  0             NaN        strength of victory\n",
       "Atlanta Falcons        4  6  0             NaN        head-to-head record\n",
       "Tampa Bay Buccaneers   4  6  0             NaN                        NaN\n",
       "Washington Commanders  4  8  0             NaN                        NaN\n",
       "New York Giants        3  8  0             NaN  conference win percentage\n",
       "Chicago Bears          3  8  0             NaN                        NaN\n",
       "Arizona Cardinals      2  9  0             NaN                        NaN\n",
       "Carolina Panthers      1  9  0             NaN                        NaN"
      ]
     },
     "execution_count": 44,
     "metadata": {},
     "output_type": "execute_result"
    }
   ],
   "source": [
    "W_L_data = pd.read_csv(\"Tm_W_L.csv\", index_col=\"Tm\")\n",
    "W_L_data"
   ]
  },
  {
   "cell_type": "code",
   "execution_count": 45,
   "metadata": {},
   "outputs": [
    {
     "data": {
      "text/html": [
       "<div>\n",
       "<style scoped>\n",
       "    .dataframe tbody tr th:only-of-type {\n",
       "        vertical-align: middle;\n",
       "    }\n",
       "\n",
       "    .dataframe tbody tr th {\n",
       "        vertical-align: top;\n",
       "    }\n",
       "\n",
       "    .dataframe thead th {\n",
       "        text-align: right;\n",
       "    }\n",
       "</style>\n",
       "<table border=\"1\" class=\"dataframe\">\n",
       "  <thead>\n",
       "    <tr style=\"text-align: right;\">\n",
       "      <th></th>\n",
       "      <th>W</th>\n",
       "      <th>L</th>\n",
       "      <th>T</th>\n",
       "      <th>Position</th>\n",
       "      <th>Reason</th>\n",
       "    </tr>\n",
       "    <tr>\n",
       "      <th>Tm</th>\n",
       "      <th></th>\n",
       "      <th></th>\n",
       "      <th></th>\n",
       "      <th></th>\n",
       "      <th></th>\n",
       "    </tr>\n",
       "  </thead>\n",
       "  <tbody>\n",
       "    <tr>\n",
       "      <th>Baltimore Ravens</th>\n",
       "      <td>8</td>\n",
       "      <td>3</td>\n",
       "      <td>0</td>\n",
       "      <td>North Champion</td>\n",
       "      <td>NaN</td>\n",
       "    </tr>\n",
       "    <tr>\n",
       "      <th>Kansas City Chiefs</th>\n",
       "      <td>7</td>\n",
       "      <td>3</td>\n",
       "      <td>0</td>\n",
       "      <td>West Champion</td>\n",
       "      <td>head-to-head record</td>\n",
       "    </tr>\n",
       "    <tr>\n",
       "      <th>Jacksonville Jaguars</th>\n",
       "      <td>7</td>\n",
       "      <td>3</td>\n",
       "      <td>0</td>\n",
       "      <td>South Champion</td>\n",
       "      <td>strength of victory</td>\n",
       "    </tr>\n",
       "    <tr>\n",
       "      <th>Miami Dolphins</th>\n",
       "      <td>7</td>\n",
       "      <td>3</td>\n",
       "      <td>0</td>\n",
       "      <td>East Champion</td>\n",
       "      <td>NaN</td>\n",
       "    </tr>\n",
       "    <tr>\n",
       "      <th>Cleveland Browns</th>\n",
       "      <td>7</td>\n",
       "      <td>3</td>\n",
       "      <td>0</td>\n",
       "      <td>Wild Card #1</td>\n",
       "      <td>NaN</td>\n",
       "    </tr>\n",
       "    <tr>\n",
       "      <th>Houston Texans</th>\n",
       "      <td>6</td>\n",
       "      <td>4</td>\n",
       "      <td>0</td>\n",
       "      <td>Wild Card #2</td>\n",
       "      <td>head-to-head record</td>\n",
       "    </tr>\n",
       "    <tr>\n",
       "      <th>Pittsburgh Steelers</th>\n",
       "      <td>6</td>\n",
       "      <td>4</td>\n",
       "      <td>0</td>\n",
       "      <td>Wild Card #3</td>\n",
       "      <td>NaN</td>\n",
       "    </tr>\n",
       "    <tr>\n",
       "      <th>Buffalo Bills</th>\n",
       "      <td>6</td>\n",
       "      <td>5</td>\n",
       "      <td>0</td>\n",
       "      <td>NaN</td>\n",
       "      <td>NaN</td>\n",
       "    </tr>\n",
       "    <tr>\n",
       "      <th>Indianapolis Colts</th>\n",
       "      <td>5</td>\n",
       "      <td>5</td>\n",
       "      <td>0</td>\n",
       "      <td>NaN</td>\n",
       "      <td>conference win percentage</td>\n",
       "    </tr>\n",
       "    <tr>\n",
       "      <th>Denver Broncos</th>\n",
       "      <td>5</td>\n",
       "      <td>5</td>\n",
       "      <td>0</td>\n",
       "      <td>NaN</td>\n",
       "      <td>conference win percentage</td>\n",
       "    </tr>\n",
       "    <tr>\n",
       "      <th>Cincinnati Bengals</th>\n",
       "      <td>5</td>\n",
       "      <td>5</td>\n",
       "      <td>0</td>\n",
       "      <td>NaN</td>\n",
       "      <td>NaN</td>\n",
       "    </tr>\n",
       "    <tr>\n",
       "      <th>Las Vegas Raiders</th>\n",
       "      <td>5</td>\n",
       "      <td>6</td>\n",
       "      <td>0</td>\n",
       "      <td>NaN</td>\n",
       "      <td>NaN</td>\n",
       "    </tr>\n",
       "    <tr>\n",
       "      <th>Los Angeles Chargers</th>\n",
       "      <td>4</td>\n",
       "      <td>6</td>\n",
       "      <td>0</td>\n",
       "      <td>NaN</td>\n",
       "      <td>head-to-head record</td>\n",
       "    </tr>\n",
       "    <tr>\n",
       "      <th>New York Jets</th>\n",
       "      <td>4</td>\n",
       "      <td>6</td>\n",
       "      <td>0</td>\n",
       "      <td>NaN</td>\n",
       "      <td>NaN</td>\n",
       "    </tr>\n",
       "    <tr>\n",
       "      <th>Tennessee Titans</th>\n",
       "      <td>3</td>\n",
       "      <td>7</td>\n",
       "      <td>0</td>\n",
       "      <td>NaN</td>\n",
       "      <td>NaN</td>\n",
       "    </tr>\n",
       "    <tr>\n",
       "      <th>New England Patriots</th>\n",
       "      <td>2</td>\n",
       "      <td>8</td>\n",
       "      <td>0</td>\n",
       "      <td>NaN</td>\n",
       "      <td>NaN</td>\n",
       "    </tr>\n",
       "    <tr>\n",
       "      <th>Philadelphia Eagles</th>\n",
       "      <td>9</td>\n",
       "      <td>1</td>\n",
       "      <td>0</td>\n",
       "      <td>East Champion</td>\n",
       "      <td>NaN</td>\n",
       "    </tr>\n",
       "    <tr>\n",
       "      <th>San Francisco 49ers</th>\n",
       "      <td>8</td>\n",
       "      <td>3</td>\n",
       "      <td>0</td>\n",
       "      <td>West Champion</td>\n",
       "      <td>conference win percentage</td>\n",
       "    </tr>\n",
       "    <tr>\n",
       "      <th>Detroit Lions</th>\n",
       "      <td>8</td>\n",
       "      <td>3</td>\n",
       "      <td>0</td>\n",
       "      <td>North Champion</td>\n",
       "      <td>NaN</td>\n",
       "    </tr>\n",
       "    <tr>\n",
       "      <th>New Orleans Saints</th>\n",
       "      <td>5</td>\n",
       "      <td>5</td>\n",
       "      <td>0</td>\n",
       "      <td>South Champion</td>\n",
       "      <td>NaN</td>\n",
       "    </tr>\n",
       "    <tr>\n",
       "      <th>Dallas Cowboys</th>\n",
       "      <td>8</td>\n",
       "      <td>3</td>\n",
       "      <td>0</td>\n",
       "      <td>Wild Card #1</td>\n",
       "      <td>NaN</td>\n",
       "    </tr>\n",
       "    <tr>\n",
       "      <th>Minnesota Vikings</th>\n",
       "      <td>6</td>\n",
       "      <td>5</td>\n",
       "      <td>0</td>\n",
       "      <td>Wild Card #2</td>\n",
       "      <td>conference win percentage</td>\n",
       "    </tr>\n",
       "    <tr>\n",
       "      <th>Seattle Seahawks</th>\n",
       "      <td>6</td>\n",
       "      <td>5</td>\n",
       "      <td>0</td>\n",
       "      <td>Wild Card #3</td>\n",
       "      <td>NaN</td>\n",
       "    </tr>\n",
       "    <tr>\n",
       "      <th>Green Bay Packers</th>\n",
       "      <td>5</td>\n",
       "      <td>6</td>\n",
       "      <td>0</td>\n",
       "      <td>NaN</td>\n",
       "      <td>NaN</td>\n",
       "    </tr>\n",
       "    <tr>\n",
       "      <th>Los Angeles Rams</th>\n",
       "      <td>4</td>\n",
       "      <td>6</td>\n",
       "      <td>0</td>\n",
       "      <td>NaN</td>\n",
       "      <td>strength of victory</td>\n",
       "    </tr>\n",
       "    <tr>\n",
       "      <th>Atlanta Falcons</th>\n",
       "      <td>4</td>\n",
       "      <td>6</td>\n",
       "      <td>0</td>\n",
       "      <td>NaN</td>\n",
       "      <td>head-to-head record</td>\n",
       "    </tr>\n",
       "    <tr>\n",
       "      <th>Tampa Bay Buccaneers</th>\n",
       "      <td>4</td>\n",
       "      <td>6</td>\n",
       "      <td>0</td>\n",
       "      <td>NaN</td>\n",
       "      <td>NaN</td>\n",
       "    </tr>\n",
       "    <tr>\n",
       "      <th>Washington Commanders</th>\n",
       "      <td>4</td>\n",
       "      <td>8</td>\n",
       "      <td>0</td>\n",
       "      <td>NaN</td>\n",
       "      <td>NaN</td>\n",
       "    </tr>\n",
       "    <tr>\n",
       "      <th>New York Giants</th>\n",
       "      <td>3</td>\n",
       "      <td>8</td>\n",
       "      <td>0</td>\n",
       "      <td>NaN</td>\n",
       "      <td>conference win percentage</td>\n",
       "    </tr>\n",
       "    <tr>\n",
       "      <th>Chicago Bears</th>\n",
       "      <td>3</td>\n",
       "      <td>8</td>\n",
       "      <td>0</td>\n",
       "      <td>NaN</td>\n",
       "      <td>NaN</td>\n",
       "    </tr>\n",
       "    <tr>\n",
       "      <th>Arizona Cardinals</th>\n",
       "      <td>2</td>\n",
       "      <td>9</td>\n",
       "      <td>0</td>\n",
       "      <td>NaN</td>\n",
       "      <td>NaN</td>\n",
       "    </tr>\n",
       "    <tr>\n",
       "      <th>Carolina Panthers</th>\n",
       "      <td>1</td>\n",
       "      <td>9</td>\n",
       "      <td>0</td>\n",
       "      <td>NaN</td>\n",
       "      <td>NaN</td>\n",
       "    </tr>\n",
       "  </tbody>\n",
       "</table>\n",
       "</div>"
      ],
      "text/plain": [
       "                       W  L  T        Position                     Reason\n",
       "Tm                                                                       \n",
       "Baltimore Ravens       8  3  0  North Champion                        NaN\n",
       "Kansas City Chiefs     7  3  0   West Champion        head-to-head record\n",
       "Jacksonville Jaguars   7  3  0  South Champion        strength of victory\n",
       "Miami Dolphins         7  3  0   East Champion                        NaN\n",
       "Cleveland Browns       7  3  0    Wild Card #1                        NaN\n",
       "Houston Texans         6  4  0    Wild Card #2        head-to-head record\n",
       "Pittsburgh Steelers    6  4  0    Wild Card #3                        NaN\n",
       "Buffalo Bills          6  5  0             NaN                        NaN\n",
       "Indianapolis Colts     5  5  0             NaN  conference win percentage\n",
       "Denver Broncos         5  5  0             NaN  conference win percentage\n",
       "Cincinnati Bengals     5  5  0             NaN                        NaN\n",
       "Las Vegas Raiders      5  6  0             NaN                        NaN\n",
       "Los Angeles Chargers   4  6  0             NaN        head-to-head record\n",
       "New York Jets          4  6  0             NaN                        NaN\n",
       "Tennessee Titans       3  7  0             NaN                        NaN\n",
       "New England Patriots   2  8  0             NaN                        NaN\n",
       "Philadelphia Eagles    9  1  0   East Champion                        NaN\n",
       "San Francisco 49ers    8  3  0   West Champion  conference win percentage\n",
       "Detroit Lions          8  3  0  North Champion                        NaN\n",
       "New Orleans Saints     5  5  0  South Champion                        NaN\n",
       "Dallas Cowboys         8  3  0    Wild Card #1                        NaN\n",
       "Minnesota Vikings      6  5  0    Wild Card #2  conference win percentage\n",
       "Seattle Seahawks       6  5  0    Wild Card #3                        NaN\n",
       "Green Bay Packers      5  6  0             NaN                        NaN\n",
       "Los Angeles Rams       4  6  0             NaN        strength of victory\n",
       "Atlanta Falcons        4  6  0             NaN        head-to-head record\n",
       "Tampa Bay Buccaneers   4  6  0             NaN                        NaN\n",
       "Washington Commanders  4  8  0             NaN                        NaN\n",
       "New York Giants        3  8  0             NaN  conference win percentage\n",
       "Chicago Bears          3  8  0             NaN                        NaN\n",
       "Arizona Cardinals      2  9  0             NaN                        NaN\n",
       "Carolina Panthers      1  9  0             NaN                        NaN"
      ]
     },
     "execution_count": 45,
     "metadata": {},
     "output_type": "execute_result"
    }
   ],
   "source": [
    "team_names = W_L_data.index\n",
    "W_L_data"
   ]
  },
  {
   "cell_type": "code",
   "execution_count": 81,
   "metadata": {},
   "outputs": [
    {
     "data": {
      "text/html": [
       "<div>\n",
       "<style scoped>\n",
       "    .dataframe tbody tr th:only-of-type {\n",
       "        vertical-align: middle;\n",
       "    }\n",
       "\n",
       "    .dataframe tbody tr th {\n",
       "        vertical-align: top;\n",
       "    }\n",
       "\n",
       "    .dataframe thead th {\n",
       "        text-align: right;\n",
       "    }\n",
       "</style>\n",
       "<table border=\"1\" class=\"dataframe\">\n",
       "  <thead>\n",
       "    <tr style=\"text-align: right;\">\n",
       "      <th></th>\n",
       "      <th>W</th>\n",
       "      <th>L</th>\n",
       "      <th>T</th>\n",
       "      <th>Position</th>\n",
       "      <th>Reason</th>\n",
       "      <th>Rk</th>\n",
       "      <th>G</th>\n",
       "      <th>PF</th>\n",
       "      <th>Yds</th>\n",
       "      <th>Ply</th>\n",
       "      <th>...</th>\n",
       "      <th>Yds.2</th>\n",
       "      <th>TD.1</th>\n",
       "      <th>Y/A</th>\n",
       "      <th>1stD.2</th>\n",
       "      <th>Pen</th>\n",
       "      <th>Yds.3</th>\n",
       "      <th>1stPy</th>\n",
       "      <th>Sc%</th>\n",
       "      <th>TO%</th>\n",
       "      <th>EXP</th>\n",
       "    </tr>\n",
       "    <tr>\n",
       "      <th>Tm</th>\n",
       "      <th></th>\n",
       "      <th></th>\n",
       "      <th></th>\n",
       "      <th></th>\n",
       "      <th></th>\n",
       "      <th></th>\n",
       "      <th></th>\n",
       "      <th></th>\n",
       "      <th></th>\n",
       "      <th></th>\n",
       "      <th></th>\n",
       "      <th></th>\n",
       "      <th></th>\n",
       "      <th></th>\n",
       "      <th></th>\n",
       "      <th></th>\n",
       "      <th></th>\n",
       "      <th></th>\n",
       "      <th></th>\n",
       "      <th></th>\n",
       "      <th></th>\n",
       "    </tr>\n",
       "  </thead>\n",
       "  <tbody>\n",
       "    <tr>\n",
       "      <th>Baltimore Ravens</th>\n",
       "      <td>8</td>\n",
       "      <td>3</td>\n",
       "      <td>0</td>\n",
       "      <td>North Champion</td>\n",
       "      <td>NaN</td>\n",
       "      <td>1</td>\n",
       "      <td>11</td>\n",
       "      <td>304</td>\n",
       "      <td>4032</td>\n",
       "      <td>692</td>\n",
       "      <td>...</td>\n",
       "      <td>1706</td>\n",
       "      <td>21</td>\n",
       "      <td>4.8</td>\n",
       "      <td>98</td>\n",
       "      <td>68</td>\n",
       "      <td>642</td>\n",
       "      <td>26</td>\n",
       "      <td>42.1</td>\n",
       "      <td>11.1</td>\n",
       "      <td>76.65</td>\n",
       "    </tr>\n",
       "    <tr>\n",
       "      <th>Kansas City Chiefs</th>\n",
       "      <td>7</td>\n",
       "      <td>3</td>\n",
       "      <td>0</td>\n",
       "      <td>West Champion</td>\n",
       "      <td>head-to-head record</td>\n",
       "      <td>15</td>\n",
       "      <td>9</td>\n",
       "      <td>208</td>\n",
       "      <td>3318</td>\n",
       "      <td>578</td>\n",
       "      <td>...</td>\n",
       "      <td>934</td>\n",
       "      <td>4</td>\n",
       "      <td>4.1</td>\n",
       "      <td>57</td>\n",
       "      <td>60</td>\n",
       "      <td>500</td>\n",
       "      <td>16</td>\n",
       "      <td>41.5</td>\n",
       "      <td>16.0</td>\n",
       "      <td>56.93</td>\n",
       "    </tr>\n",
       "    <tr>\n",
       "      <th>Jacksonville Jaguars</th>\n",
       "      <td>7</td>\n",
       "      <td>3</td>\n",
       "      <td>0</td>\n",
       "      <td>South Champion</td>\n",
       "      <td>strength of victory</td>\n",
       "      <td>20</td>\n",
       "      <td>9</td>\n",
       "      <td>196</td>\n",
       "      <td>2952</td>\n",
       "      <td>585</td>\n",
       "      <td>...</td>\n",
       "      <td>959</td>\n",
       "      <td>9</td>\n",
       "      <td>3.8</td>\n",
       "      <td>53</td>\n",
       "      <td>44</td>\n",
       "      <td>363</td>\n",
       "      <td>22</td>\n",
       "      <td>34.0</td>\n",
       "      <td>15.1</td>\n",
       "      <td>-20.26</td>\n",
       "    </tr>\n",
       "    <tr>\n",
       "      <th>Miami Dolphins</th>\n",
       "      <td>7</td>\n",
       "      <td>3</td>\n",
       "      <td>0</td>\n",
       "      <td>East Champion</td>\n",
       "      <td>NaN</td>\n",
       "      <td>2</td>\n",
       "      <td>9</td>\n",
       "      <td>285</td>\n",
       "      <td>3918</td>\n",
       "      <td>553</td>\n",
       "      <td>...</td>\n",
       "      <td>1331</td>\n",
       "      <td>17</td>\n",
       "      <td>5.9</td>\n",
       "      <td>61</td>\n",
       "      <td>54</td>\n",
       "      <td>445</td>\n",
       "      <td>11</td>\n",
       "      <td>44.0</td>\n",
       "      <td>13.0</td>\n",
       "      <td>105.03</td>\n",
       "    </tr>\n",
       "    <tr>\n",
       "      <th>Cleveland Browns</th>\n",
       "      <td>7</td>\n",
       "      <td>3</td>\n",
       "      <td>0</td>\n",
       "      <td>Wild Card #1</td>\n",
       "      <td>NaN</td>\n",
       "      <td>14</td>\n",
       "      <td>9</td>\n",
       "      <td>214</td>\n",
       "      <td>2999</td>\n",
       "      <td>648</td>\n",
       "      <td>...</td>\n",
       "      <td>1331</td>\n",
       "      <td>10</td>\n",
       "      <td>4.2</td>\n",
       "      <td>75</td>\n",
       "      <td>62</td>\n",
       "      <td>496</td>\n",
       "      <td>19</td>\n",
       "      <td>36.2</td>\n",
       "      <td>15.5</td>\n",
       "      <td>-47.42</td>\n",
       "    </tr>\n",
       "    <tr>\n",
       "      <th>Houston Texans</th>\n",
       "      <td>6</td>\n",
       "      <td>4</td>\n",
       "      <td>0</td>\n",
       "      <td>Wild Card #2</td>\n",
       "      <td>head-to-head record</td>\n",
       "      <td>11</td>\n",
       "      <td>9</td>\n",
       "      <td>217</td>\n",
       "      <td>3353</td>\n",
       "      <td>586</td>\n",
       "      <td>...</td>\n",
       "      <td>884</td>\n",
       "      <td>5</td>\n",
       "      <td>3.6</td>\n",
       "      <td>45</td>\n",
       "      <td>62</td>\n",
       "      <td>535</td>\n",
       "      <td>16</td>\n",
       "      <td>43.0</td>\n",
       "      <td>8.0</td>\n",
       "      <td>59.08</td>\n",
       "    </tr>\n",
       "    <tr>\n",
       "      <th>Pittsburgh Steelers</th>\n",
       "      <td>6</td>\n",
       "      <td>4</td>\n",
       "      <td>0</td>\n",
       "      <td>Wild Card #3</td>\n",
       "      <td>NaN</td>\n",
       "      <td>27</td>\n",
       "      <td>9</td>\n",
       "      <td>156</td>\n",
       "      <td>2552</td>\n",
       "      <td>535</td>\n",
       "      <td>...</td>\n",
       "      <td>929</td>\n",
       "      <td>6</td>\n",
       "      <td>4.0</td>\n",
       "      <td>58</td>\n",
       "      <td>49</td>\n",
       "      <td>419</td>\n",
       "      <td>13</td>\n",
       "      <td>29.4</td>\n",
       "      <td>6.9</td>\n",
       "      <td>-19.93</td>\n",
       "    </tr>\n",
       "    <tr>\n",
       "      <th>Buffalo Bills</th>\n",
       "      <td>6</td>\n",
       "      <td>5</td>\n",
       "      <td>0</td>\n",
       "      <td>NaN</td>\n",
       "      <td>NaN</td>\n",
       "      <td>4</td>\n",
       "      <td>10</td>\n",
       "      <td>262</td>\n",
       "      <td>3701</td>\n",
       "      <td>617</td>\n",
       "      <td>...</td>\n",
       "      <td>1165</td>\n",
       "      <td>12</td>\n",
       "      <td>4.6</td>\n",
       "      <td>82</td>\n",
       "      <td>65</td>\n",
       "      <td>539</td>\n",
       "      <td>14</td>\n",
       "      <td>41.3</td>\n",
       "      <td>17.3</td>\n",
       "      <td>96.25</td>\n",
       "    </tr>\n",
       "    <tr>\n",
       "      <th>Indianapolis Colts</th>\n",
       "      <td>5</td>\n",
       "      <td>5</td>\n",
       "      <td>0</td>\n",
       "      <td>NaN</td>\n",
       "      <td>conference win percentage</td>\n",
       "      <td>7</td>\n",
       "      <td>10</td>\n",
       "      <td>242</td>\n",
       "      <td>3361</td>\n",
       "      <td>648</td>\n",
       "      <td>...</td>\n",
       "      <td>1180</td>\n",
       "      <td>13</td>\n",
       "      <td>4.1</td>\n",
       "      <td>60</td>\n",
       "      <td>63</td>\n",
       "      <td>445</td>\n",
       "      <td>18</td>\n",
       "      <td>34.5</td>\n",
       "      <td>11.8</td>\n",
       "      <td>-0.38</td>\n",
       "    </tr>\n",
       "    <tr>\n",
       "      <th>Denver Broncos</th>\n",
       "      <td>5</td>\n",
       "      <td>5</td>\n",
       "      <td>0</td>\n",
       "      <td>NaN</td>\n",
       "      <td>conference win percentage</td>\n",
       "      <td>19</td>\n",
       "      <td>9</td>\n",
       "      <td>196</td>\n",
       "      <td>2717</td>\n",
       "      <td>524</td>\n",
       "      <td>...</td>\n",
       "      <td>1056</td>\n",
       "      <td>1</td>\n",
       "      <td>4.6</td>\n",
       "      <td>57</td>\n",
       "      <td>64</td>\n",
       "      <td>447</td>\n",
       "      <td>24</td>\n",
       "      <td>38.3</td>\n",
       "      <td>12.8</td>\n",
       "      <td>6.87</td>\n",
       "    </tr>\n",
       "    <tr>\n",
       "      <th>Cincinnati Bengals</th>\n",
       "      <td>5</td>\n",
       "      <td>5</td>\n",
       "      <td>0</td>\n",
       "      <td>NaN</td>\n",
       "      <td>NaN</td>\n",
       "      <td>17</td>\n",
       "      <td>10</td>\n",
       "      <td>202</td>\n",
       "      <td>2987</td>\n",
       "      <td>616</td>\n",
       "      <td>...</td>\n",
       "      <td>809</td>\n",
       "      <td>4</td>\n",
       "      <td>3.9</td>\n",
       "      <td>52</td>\n",
       "      <td>50</td>\n",
       "      <td>427</td>\n",
       "      <td>20</td>\n",
       "      <td>32.7</td>\n",
       "      <td>7.3</td>\n",
       "      <td>11.14</td>\n",
       "    </tr>\n",
       "    <tr>\n",
       "      <th>Las Vegas Raiders</th>\n",
       "      <td>5</td>\n",
       "      <td>6</td>\n",
       "      <td>0</td>\n",
       "      <td>NaN</td>\n",
       "      <td>NaN</td>\n",
       "      <td>26</td>\n",
       "      <td>10</td>\n",
       "      <td>172</td>\n",
       "      <td>2754</td>\n",
       "      <td>585</td>\n",
       "      <td>...</td>\n",
       "      <td>833</td>\n",
       "      <td>7</td>\n",
       "      <td>3.4</td>\n",
       "      <td>46</td>\n",
       "      <td>51</td>\n",
       "      <td>447</td>\n",
       "      <td>22</td>\n",
       "      <td>32.4</td>\n",
       "      <td>17.6</td>\n",
       "      <td>-33.47</td>\n",
       "    </tr>\n",
       "    <tr>\n",
       "      <th>Los Angeles Chargers</th>\n",
       "      <td>4</td>\n",
       "      <td>6</td>\n",
       "      <td>0</td>\n",
       "      <td>NaN</td>\n",
       "      <td>head-to-head record</td>\n",
       "      <td>9</td>\n",
       "      <td>9</td>\n",
       "      <td>239</td>\n",
       "      <td>3149</td>\n",
       "      <td>579</td>\n",
       "      <td>...</td>\n",
       "      <td>907</td>\n",
       "      <td>9</td>\n",
       "      <td>3.8</td>\n",
       "      <td>47</td>\n",
       "      <td>48</td>\n",
       "      <td>453</td>\n",
       "      <td>18</td>\n",
       "      <td>42.3</td>\n",
       "      <td>7.2</td>\n",
       "      <td>73.47</td>\n",
       "    </tr>\n",
       "    <tr>\n",
       "      <th>New York Jets</th>\n",
       "      <td>4</td>\n",
       "      <td>6</td>\n",
       "      <td>0</td>\n",
       "      <td>NaN</td>\n",
       "      <td>NaN</td>\n",
       "      <td>30</td>\n",
       "      <td>9</td>\n",
       "      <td>144</td>\n",
       "      <td>2548</td>\n",
       "      <td>540</td>\n",
       "      <td>...</td>\n",
       "      <td>935</td>\n",
       "      <td>3</td>\n",
       "      <td>4.7</td>\n",
       "      <td>39</td>\n",
       "      <td>60</td>\n",
       "      <td>443</td>\n",
       "      <td>13</td>\n",
       "      <td>28.4</td>\n",
       "      <td>11.9</td>\n",
       "      <td>-82.88</td>\n",
       "    </tr>\n",
       "    <tr>\n",
       "      <th>Tennessee Titans</th>\n",
       "      <td>3</td>\n",
       "      <td>7</td>\n",
       "      <td>0</td>\n",
       "      <td>NaN</td>\n",
       "      <td>NaN</td>\n",
       "      <td>28</td>\n",
       "      <td>9</td>\n",
       "      <td>154</td>\n",
       "      <td>2625</td>\n",
       "      <td>527</td>\n",
       "      <td>...</td>\n",
       "      <td>958</td>\n",
       "      <td>6</td>\n",
       "      <td>4.3</td>\n",
       "      <td>49</td>\n",
       "      <td>54</td>\n",
       "      <td>439</td>\n",
       "      <td>28</td>\n",
       "      <td>36.2</td>\n",
       "      <td>9.6</td>\n",
       "      <td>5.09</td>\n",
       "    </tr>\n",
       "    <tr>\n",
       "      <th>New England Patriots</th>\n",
       "      <td>2</td>\n",
       "      <td>8</td>\n",
       "      <td>0</td>\n",
       "      <td>NaN</td>\n",
       "      <td>NaN</td>\n",
       "      <td>31</td>\n",
       "      <td>10</td>\n",
       "      <td>141</td>\n",
       "      <td>2945</td>\n",
       "      <td>617</td>\n",
       "      <td>...</td>\n",
       "      <td>949</td>\n",
       "      <td>5</td>\n",
       "      <td>3.9</td>\n",
       "      <td>61</td>\n",
       "      <td>63</td>\n",
       "      <td>465</td>\n",
       "      <td>13</td>\n",
       "      <td>23.9</td>\n",
       "      <td>14.2</td>\n",
       "      <td>-70.63</td>\n",
       "    </tr>\n",
       "    <tr>\n",
       "      <th>Philadelphia Eagles</th>\n",
       "      <td>9</td>\n",
       "      <td>1</td>\n",
       "      <td>0</td>\n",
       "      <td>East Champion</td>\n",
       "      <td>NaN</td>\n",
       "      <td>6</td>\n",
       "      <td>9</td>\n",
       "      <td>252</td>\n",
       "      <td>3391</td>\n",
       "      <td>617</td>\n",
       "      <td>...</td>\n",
       "      <td>1167</td>\n",
       "      <td>12</td>\n",
       "      <td>4.0</td>\n",
       "      <td>83</td>\n",
       "      <td>47</td>\n",
       "      <td>388</td>\n",
       "      <td>21</td>\n",
       "      <td>48.4</td>\n",
       "      <td>14.0</td>\n",
       "      <td>88.34</td>\n",
       "    </tr>\n",
       "    <tr>\n",
       "      <th>San Francisco 49ers</th>\n",
       "      <td>8</td>\n",
       "      <td>3</td>\n",
       "      <td>0</td>\n",
       "      <td>West Champion</td>\n",
       "      <td>conference win percentage</td>\n",
       "      <td>5</td>\n",
       "      <td>9</td>\n",
       "      <td>252</td>\n",
       "      <td>3450</td>\n",
       "      <td>542</td>\n",
       "      <td>...</td>\n",
       "      <td>1212</td>\n",
       "      <td>15</td>\n",
       "      <td>4.4</td>\n",
       "      <td>74</td>\n",
       "      <td>62</td>\n",
       "      <td>565</td>\n",
       "      <td>19</td>\n",
       "      <td>44.9</td>\n",
       "      <td>9.2</td>\n",
       "      <td>108.15</td>\n",
       "    </tr>\n",
       "    <tr>\n",
       "      <th>Detroit Lions</th>\n",
       "      <td>8</td>\n",
       "      <td>3</td>\n",
       "      <td>0</td>\n",
       "      <td>North Champion</td>\n",
       "      <td>NaN</td>\n",
       "      <td>8</td>\n",
       "      <td>9</td>\n",
       "      <td>241</td>\n",
       "      <td>3658</td>\n",
       "      <td>617</td>\n",
       "      <td>...</td>\n",
       "      <td>1251</td>\n",
       "      <td>14</td>\n",
       "      <td>4.5</td>\n",
       "      <td>66</td>\n",
       "      <td>50</td>\n",
       "      <td>502</td>\n",
       "      <td>13</td>\n",
       "      <td>41.0</td>\n",
       "      <td>10.0</td>\n",
       "      <td>72.86</td>\n",
       "    </tr>\n",
       "    <tr>\n",
       "      <th>New Orleans Saints</th>\n",
       "      <td>5</td>\n",
       "      <td>5</td>\n",
       "      <td>0</td>\n",
       "      <td>South Champion</td>\n",
       "      <td>NaN</td>\n",
       "      <td>13</td>\n",
       "      <td>10</td>\n",
       "      <td>214</td>\n",
       "      <td>3374</td>\n",
       "      <td>683</td>\n",
       "      <td>...</td>\n",
       "      <td>1000</td>\n",
       "      <td>7</td>\n",
       "      <td>3.6</td>\n",
       "      <td>64</td>\n",
       "      <td>64</td>\n",
       "      <td>592</td>\n",
       "      <td>16</td>\n",
       "      <td>33.1</td>\n",
       "      <td>8.5</td>\n",
       "      <td>14.75</td>\n",
       "    </tr>\n",
       "    <tr>\n",
       "      <th>Dallas Cowboys</th>\n",
       "      <td>8</td>\n",
       "      <td>3</td>\n",
       "      <td>0</td>\n",
       "      <td>Wild Card #1</td>\n",
       "      <td>NaN</td>\n",
       "      <td>3</td>\n",
       "      <td>9</td>\n",
       "      <td>269</td>\n",
       "      <td>3412</td>\n",
       "      <td>602</td>\n",
       "      <td>...</td>\n",
       "      <td>1061</td>\n",
       "      <td>8</td>\n",
       "      <td>4.0</td>\n",
       "      <td>62</td>\n",
       "      <td>69</td>\n",
       "      <td>544</td>\n",
       "      <td>20</td>\n",
       "      <td>46.3</td>\n",
       "      <td>9.5</td>\n",
       "      <td>74.37</td>\n",
       "    </tr>\n",
       "    <tr>\n",
       "      <th>Minnesota Vikings</th>\n",
       "      <td>6</td>\n",
       "      <td>5</td>\n",
       "      <td>0</td>\n",
       "      <td>Wild Card #2</td>\n",
       "      <td>conference win percentage</td>\n",
       "      <td>10</td>\n",
       "      <td>10</td>\n",
       "      <td>233</td>\n",
       "      <td>3581</td>\n",
       "      <td>639</td>\n",
       "      <td>...</td>\n",
       "      <td>857</td>\n",
       "      <td>4</td>\n",
       "      <td>3.7</td>\n",
       "      <td>45</td>\n",
       "      <td>48</td>\n",
       "      <td>365</td>\n",
       "      <td>27</td>\n",
       "      <td>38.1</td>\n",
       "      <td>15.2</td>\n",
       "      <td>54.49</td>\n",
       "    </tr>\n",
       "    <tr>\n",
       "      <th>Seattle Seahawks</th>\n",
       "      <td>6</td>\n",
       "      <td>5</td>\n",
       "      <td>0</td>\n",
       "      <td>Wild Card #3</td>\n",
       "      <td>NaN</td>\n",
       "      <td>18</td>\n",
       "      <td>9</td>\n",
       "      <td>200</td>\n",
       "      <td>2983</td>\n",
       "      <td>539</td>\n",
       "      <td>...</td>\n",
       "      <td>898</td>\n",
       "      <td>7</td>\n",
       "      <td>4.2</td>\n",
       "      <td>51</td>\n",
       "      <td>64</td>\n",
       "      <td>509</td>\n",
       "      <td>20</td>\n",
       "      <td>38.0</td>\n",
       "      <td>9.0</td>\n",
       "      <td>16.48</td>\n",
       "    </tr>\n",
       "    <tr>\n",
       "      <th>Green Bay Packers</th>\n",
       "      <td>5</td>\n",
       "      <td>6</td>\n",
       "      <td>0</td>\n",
       "      <td>NaN</td>\n",
       "      <td>NaN</td>\n",
       "      <td>22</td>\n",
       "      <td>9</td>\n",
       "      <td>179</td>\n",
       "      <td>2799</td>\n",
       "      <td>544</td>\n",
       "      <td>...</td>\n",
       "      <td>919</td>\n",
       "      <td>5</td>\n",
       "      <td>4.1</td>\n",
       "      <td>44</td>\n",
       "      <td>65</td>\n",
       "      <td>513</td>\n",
       "      <td>17</td>\n",
       "      <td>32.7</td>\n",
       "      <td>12.2</td>\n",
       "      <td>14.36</td>\n",
       "    </tr>\n",
       "    <tr>\n",
       "      <th>Los Angeles Rams</th>\n",
       "      <td>4</td>\n",
       "      <td>6</td>\n",
       "      <td>0</td>\n",
       "      <td>NaN</td>\n",
       "      <td>strength of victory</td>\n",
       "      <td>23</td>\n",
       "      <td>9</td>\n",
       "      <td>178</td>\n",
       "      <td>3023</td>\n",
       "      <td>571</td>\n",
       "      <td>...</td>\n",
       "      <td>944</td>\n",
       "      <td>9</td>\n",
       "      <td>4.0</td>\n",
       "      <td>54</td>\n",
       "      <td>50</td>\n",
       "      <td>429</td>\n",
       "      <td>17</td>\n",
       "      <td>39.8</td>\n",
       "      <td>9.7</td>\n",
       "      <td>22.83</td>\n",
       "    </tr>\n",
       "    <tr>\n",
       "      <th>Atlanta Falcons</th>\n",
       "      <td>4</td>\n",
       "      <td>6</td>\n",
       "      <td>0</td>\n",
       "      <td>NaN</td>\n",
       "      <td>head-to-head record</td>\n",
       "      <td>21</td>\n",
       "      <td>10</td>\n",
       "      <td>189</td>\n",
       "      <td>3353</td>\n",
       "      <td>663</td>\n",
       "      <td>...</td>\n",
       "      <td>1304</td>\n",
       "      <td>9</td>\n",
       "      <td>4.2</td>\n",
       "      <td>75</td>\n",
       "      <td>54</td>\n",
       "      <td>493</td>\n",
       "      <td>14</td>\n",
       "      <td>34.2</td>\n",
       "      <td>14.0</td>\n",
       "      <td>-23.18</td>\n",
       "    </tr>\n",
       "    <tr>\n",
       "      <th>Tampa Bay Buccaneers</th>\n",
       "      <td>4</td>\n",
       "      <td>6</td>\n",
       "      <td>0</td>\n",
       "      <td>NaN</td>\n",
       "      <td>NaN</td>\n",
       "      <td>24</td>\n",
       "      <td>9</td>\n",
       "      <td>178</td>\n",
       "      <td>2760</td>\n",
       "      <td>552</td>\n",
       "      <td>...</td>\n",
       "      <td>703</td>\n",
       "      <td>3</td>\n",
       "      <td>3.1</td>\n",
       "      <td>37</td>\n",
       "      <td>66</td>\n",
       "      <td>497</td>\n",
       "      <td>23</td>\n",
       "      <td>35.4</td>\n",
       "      <td>8.3</td>\n",
       "      <td>17.40</td>\n",
       "    </tr>\n",
       "    <tr>\n",
       "      <th>Washington Commanders</th>\n",
       "      <td>4</td>\n",
       "      <td>8</td>\n",
       "      <td>0</td>\n",
       "      <td>NaN</td>\n",
       "      <td>NaN</td>\n",
       "      <td>12</td>\n",
       "      <td>10</td>\n",
       "      <td>217</td>\n",
       "      <td>3345</td>\n",
       "      <td>646</td>\n",
       "      <td>...</td>\n",
       "      <td>879</td>\n",
       "      <td>7</td>\n",
       "      <td>4.4</td>\n",
       "      <td>55</td>\n",
       "      <td>59</td>\n",
       "      <td>465</td>\n",
       "      <td>21</td>\n",
       "      <td>33.3</td>\n",
       "      <td>12.8</td>\n",
       "      <td>11.57</td>\n",
       "    </tr>\n",
       "    <tr>\n",
       "      <th>New York Giants</th>\n",
       "      <td>3</td>\n",
       "      <td>8</td>\n",
       "      <td>0</td>\n",
       "      <td>NaN</td>\n",
       "      <td>conference win percentage</td>\n",
       "      <td>32</td>\n",
       "      <td>10</td>\n",
       "      <td>118</td>\n",
       "      <td>2592</td>\n",
       "      <td>645</td>\n",
       "      <td>...</td>\n",
       "      <td>1136</td>\n",
       "      <td>4</td>\n",
       "      <td>3.9</td>\n",
       "      <td>57</td>\n",
       "      <td>57</td>\n",
       "      <td>463</td>\n",
       "      <td>23</td>\n",
       "      <td>19.3</td>\n",
       "      <td>10.1</td>\n",
       "      <td>-106.71</td>\n",
       "    </tr>\n",
       "    <tr>\n",
       "      <th>Chicago Bears</th>\n",
       "      <td>3</td>\n",
       "      <td>8</td>\n",
       "      <td>0</td>\n",
       "      <td>NaN</td>\n",
       "      <td>NaN</td>\n",
       "      <td>16</td>\n",
       "      <td>10</td>\n",
       "      <td>204</td>\n",
       "      <td>3228</td>\n",
       "      <td>637</td>\n",
       "      <td>...</td>\n",
       "      <td>1351</td>\n",
       "      <td>8</td>\n",
       "      <td>4.5</td>\n",
       "      <td>81</td>\n",
       "      <td>67</td>\n",
       "      <td>554</td>\n",
       "      <td>6</td>\n",
       "      <td>34.9</td>\n",
       "      <td>17.0</td>\n",
       "      <td>-9.82</td>\n",
       "    </tr>\n",
       "    <tr>\n",
       "      <th>Arizona Cardinals</th>\n",
       "      <td>2</td>\n",
       "      <td>9</td>\n",
       "      <td>0</td>\n",
       "      <td>NaN</td>\n",
       "      <td>NaN</td>\n",
       "      <td>25</td>\n",
       "      <td>10</td>\n",
       "      <td>176</td>\n",
       "      <td>2959</td>\n",
       "      <td>610</td>\n",
       "      <td>...</td>\n",
       "      <td>1265</td>\n",
       "      <td>9</td>\n",
       "      <td>4.8</td>\n",
       "      <td>64</td>\n",
       "      <td>69</td>\n",
       "      <td>636</td>\n",
       "      <td>19</td>\n",
       "      <td>31.8</td>\n",
       "      <td>11.8</td>\n",
       "      <td>-47.88</td>\n",
       "    </tr>\n",
       "    <tr>\n",
       "      <th>Carolina Panthers</th>\n",
       "      <td>1</td>\n",
       "      <td>9</td>\n",
       "      <td>0</td>\n",
       "      <td>NaN</td>\n",
       "      <td>NaN</td>\n",
       "      <td>29</td>\n",
       "      <td>9</td>\n",
       "      <td>153</td>\n",
       "      <td>2480</td>\n",
       "      <td>593</td>\n",
       "      <td>...</td>\n",
       "      <td>813</td>\n",
       "      <td>2</td>\n",
       "      <td>3.8</td>\n",
       "      <td>53</td>\n",
       "      <td>62</td>\n",
       "      <td>465</td>\n",
       "      <td>23</td>\n",
       "      <td>29.2</td>\n",
       "      <td>11.5</td>\n",
       "      <td>-62.54</td>\n",
       "    </tr>\n",
       "  </tbody>\n",
       "</table>\n",
       "<p>32 rows × 32 columns</p>\n",
       "</div>"
      ],
      "text/plain": [
       "                       W  L  T        Position                     Reason  Rk  \\\n",
       "Tm                                                                              \n",
       "Baltimore Ravens       8  3  0  North Champion                        NaN   1   \n",
       "Kansas City Chiefs     7  3  0   West Champion        head-to-head record  15   \n",
       "Jacksonville Jaguars   7  3  0  South Champion        strength of victory  20   \n",
       "Miami Dolphins         7  3  0   East Champion                        NaN   2   \n",
       "Cleveland Browns       7  3  0    Wild Card #1                        NaN  14   \n",
       "Houston Texans         6  4  0    Wild Card #2        head-to-head record  11   \n",
       "Pittsburgh Steelers    6  4  0    Wild Card #3                        NaN  27   \n",
       "Buffalo Bills          6  5  0             NaN                        NaN   4   \n",
       "Indianapolis Colts     5  5  0             NaN  conference win percentage   7   \n",
       "Denver Broncos         5  5  0             NaN  conference win percentage  19   \n",
       "Cincinnati Bengals     5  5  0             NaN                        NaN  17   \n",
       "Las Vegas Raiders      5  6  0             NaN                        NaN  26   \n",
       "Los Angeles Chargers   4  6  0             NaN        head-to-head record   9   \n",
       "New York Jets          4  6  0             NaN                        NaN  30   \n",
       "Tennessee Titans       3  7  0             NaN                        NaN  28   \n",
       "New England Patriots   2  8  0             NaN                        NaN  31   \n",
       "Philadelphia Eagles    9  1  0   East Champion                        NaN   6   \n",
       "San Francisco 49ers    8  3  0   West Champion  conference win percentage   5   \n",
       "Detroit Lions          8  3  0  North Champion                        NaN   8   \n",
       "New Orleans Saints     5  5  0  South Champion                        NaN  13   \n",
       "Dallas Cowboys         8  3  0    Wild Card #1                        NaN   3   \n",
       "Minnesota Vikings      6  5  0    Wild Card #2  conference win percentage  10   \n",
       "Seattle Seahawks       6  5  0    Wild Card #3                        NaN  18   \n",
       "Green Bay Packers      5  6  0             NaN                        NaN  22   \n",
       "Los Angeles Rams       4  6  0             NaN        strength of victory  23   \n",
       "Atlanta Falcons        4  6  0             NaN        head-to-head record  21   \n",
       "Tampa Bay Buccaneers   4  6  0             NaN                        NaN  24   \n",
       "Washington Commanders  4  8  0             NaN                        NaN  12   \n",
       "New York Giants        3  8  0             NaN  conference win percentage  32   \n",
       "Chicago Bears          3  8  0             NaN                        NaN  16   \n",
       "Arizona Cardinals      2  9  0             NaN                        NaN  25   \n",
       "Carolina Panthers      1  9  0             NaN                        NaN  29   \n",
       "\n",
       "                        G   PF   Yds  Ply  ...  Yds.2  TD.1  Y/A  1stD.2  Pen  \\\n",
       "Tm                                         ...                                  \n",
       "Baltimore Ravens       11  304  4032  692  ...   1706    21  4.8      98   68   \n",
       "Kansas City Chiefs      9  208  3318  578  ...    934     4  4.1      57   60   \n",
       "Jacksonville Jaguars    9  196  2952  585  ...    959     9  3.8      53   44   \n",
       "Miami Dolphins          9  285  3918  553  ...   1331    17  5.9      61   54   \n",
       "Cleveland Browns        9  214  2999  648  ...   1331    10  4.2      75   62   \n",
       "Houston Texans          9  217  3353  586  ...    884     5  3.6      45   62   \n",
       "Pittsburgh Steelers     9  156  2552  535  ...    929     6  4.0      58   49   \n",
       "Buffalo Bills          10  262  3701  617  ...   1165    12  4.6      82   65   \n",
       "Indianapolis Colts     10  242  3361  648  ...   1180    13  4.1      60   63   \n",
       "Denver Broncos          9  196  2717  524  ...   1056     1  4.6      57   64   \n",
       "Cincinnati Bengals     10  202  2987  616  ...    809     4  3.9      52   50   \n",
       "Las Vegas Raiders      10  172  2754  585  ...    833     7  3.4      46   51   \n",
       "Los Angeles Chargers    9  239  3149  579  ...    907     9  3.8      47   48   \n",
       "New York Jets           9  144  2548  540  ...    935     3  4.7      39   60   \n",
       "Tennessee Titans        9  154  2625  527  ...    958     6  4.3      49   54   \n",
       "New England Patriots   10  141  2945  617  ...    949     5  3.9      61   63   \n",
       "Philadelphia Eagles     9  252  3391  617  ...   1167    12  4.0      83   47   \n",
       "San Francisco 49ers     9  252  3450  542  ...   1212    15  4.4      74   62   \n",
       "Detroit Lions           9  241  3658  617  ...   1251    14  4.5      66   50   \n",
       "New Orleans Saints     10  214  3374  683  ...   1000     7  3.6      64   64   \n",
       "Dallas Cowboys          9  269  3412  602  ...   1061     8  4.0      62   69   \n",
       "Minnesota Vikings      10  233  3581  639  ...    857     4  3.7      45   48   \n",
       "Seattle Seahawks        9  200  2983  539  ...    898     7  4.2      51   64   \n",
       "Green Bay Packers       9  179  2799  544  ...    919     5  4.1      44   65   \n",
       "Los Angeles Rams        9  178  3023  571  ...    944     9  4.0      54   50   \n",
       "Atlanta Falcons        10  189  3353  663  ...   1304     9  4.2      75   54   \n",
       "Tampa Bay Buccaneers    9  178  2760  552  ...    703     3  3.1      37   66   \n",
       "Washington Commanders  10  217  3345  646  ...    879     7  4.4      55   59   \n",
       "New York Giants        10  118  2592  645  ...   1136     4  3.9      57   57   \n",
       "Chicago Bears          10  204  3228  637  ...   1351     8  4.5      81   67   \n",
       "Arizona Cardinals      10  176  2959  610  ...   1265     9  4.8      64   69   \n",
       "Carolina Panthers       9  153  2480  593  ...    813     2  3.8      53   62   \n",
       "\n",
       "                       Yds.3  1stPy   Sc%   TO%     EXP  \n",
       "Tm                                                       \n",
       "Baltimore Ravens         642     26  42.1  11.1   76.65  \n",
       "Kansas City Chiefs       500     16  41.5  16.0   56.93  \n",
       "Jacksonville Jaguars     363     22  34.0  15.1  -20.26  \n",
       "Miami Dolphins           445     11  44.0  13.0  105.03  \n",
       "Cleveland Browns         496     19  36.2  15.5  -47.42  \n",
       "Houston Texans           535     16  43.0   8.0   59.08  \n",
       "Pittsburgh Steelers      419     13  29.4   6.9  -19.93  \n",
       "Buffalo Bills            539     14  41.3  17.3   96.25  \n",
       "Indianapolis Colts       445     18  34.5  11.8   -0.38  \n",
       "Denver Broncos           447     24  38.3  12.8    6.87  \n",
       "Cincinnati Bengals       427     20  32.7   7.3   11.14  \n",
       "Las Vegas Raiders        447     22  32.4  17.6  -33.47  \n",
       "Los Angeles Chargers     453     18  42.3   7.2   73.47  \n",
       "New York Jets            443     13  28.4  11.9  -82.88  \n",
       "Tennessee Titans         439     28  36.2   9.6    5.09  \n",
       "New England Patriots     465     13  23.9  14.2  -70.63  \n",
       "Philadelphia Eagles      388     21  48.4  14.0   88.34  \n",
       "San Francisco 49ers      565     19  44.9   9.2  108.15  \n",
       "Detroit Lions            502     13  41.0  10.0   72.86  \n",
       "New Orleans Saints       592     16  33.1   8.5   14.75  \n",
       "Dallas Cowboys           544     20  46.3   9.5   74.37  \n",
       "Minnesota Vikings        365     27  38.1  15.2   54.49  \n",
       "Seattle Seahawks         509     20  38.0   9.0   16.48  \n",
       "Green Bay Packers        513     17  32.7  12.2   14.36  \n",
       "Los Angeles Rams         429     17  39.8   9.7   22.83  \n",
       "Atlanta Falcons          493     14  34.2  14.0  -23.18  \n",
       "Tampa Bay Buccaneers     497     23  35.4   8.3   17.40  \n",
       "Washington Commanders    465     21  33.3  12.8   11.57  \n",
       "New York Giants          463     23  19.3  10.1 -106.71  \n",
       "Chicago Bears            554      6  34.9  17.0   -9.82  \n",
       "Arizona Cardinals        636     19  31.8  11.8  -47.88  \n",
       "Carolina Panthers        465     23  29.2  11.5  -62.54  \n",
       "\n",
       "[32 rows x 32 columns]"
      ]
     },
     "execution_count": 81,
     "metadata": {},
     "output_type": "execute_result"
    }
   ],
   "source": [
    "All_Offense_data = W_L_data.join(offense_data, lsuffix=\".l\", rsuffix=\".r\", how=\"inner\")\n",
    "All_Offense_data"
   ]
  },
  {
   "cell_type": "code",
   "execution_count": 80,
   "metadata": {},
   "outputs": [
    {
     "data": {
      "text/html": [
       "<div>\n",
       "<style scoped>\n",
       "    .dataframe tbody tr th:only-of-type {\n",
       "        vertical-align: middle;\n",
       "    }\n",
       "\n",
       "    .dataframe tbody tr th {\n",
       "        vertical-align: top;\n",
       "    }\n",
       "\n",
       "    .dataframe thead th {\n",
       "        text-align: right;\n",
       "    }\n",
       "</style>\n",
       "<table border=\"1\" class=\"dataframe\">\n",
       "  <thead>\n",
       "    <tr style=\"text-align: right;\">\n",
       "      <th></th>\n",
       "      <th>W</th>\n",
       "      <th>L</th>\n",
       "      <th>T</th>\n",
       "      <th>Position</th>\n",
       "      <th>Reason</th>\n",
       "      <th>Rk</th>\n",
       "      <th>G</th>\n",
       "      <th>PA</th>\n",
       "      <th>Yds</th>\n",
       "      <th>Ply</th>\n",
       "      <th>...</th>\n",
       "      <th>Yds.2</th>\n",
       "      <th>TD.1</th>\n",
       "      <th>Y/A</th>\n",
       "      <th>1stD.2</th>\n",
       "      <th>Pen</th>\n",
       "      <th>Yds.3</th>\n",
       "      <th>1stPy</th>\n",
       "      <th>Sc%</th>\n",
       "      <th>TO%</th>\n",
       "      <th>EXP</th>\n",
       "    </tr>\n",
       "    <tr>\n",
       "      <th>Tm</th>\n",
       "      <th></th>\n",
       "      <th></th>\n",
       "      <th></th>\n",
       "      <th></th>\n",
       "      <th></th>\n",
       "      <th></th>\n",
       "      <th></th>\n",
       "      <th></th>\n",
       "      <th></th>\n",
       "      <th></th>\n",
       "      <th></th>\n",
       "      <th></th>\n",
       "      <th></th>\n",
       "      <th></th>\n",
       "      <th></th>\n",
       "      <th></th>\n",
       "      <th></th>\n",
       "      <th></th>\n",
       "      <th></th>\n",
       "      <th></th>\n",
       "      <th></th>\n",
       "    </tr>\n",
       "  </thead>\n",
       "  <tbody>\n",
       "    <tr>\n",
       "      <th>Baltimore Ravens</th>\n",
       "      <td>8</td>\n",
       "      <td>3</td>\n",
       "      <td>0</td>\n",
       "      <td>North Champion</td>\n",
       "      <td>NaN</td>\n",
       "      <td>7</td>\n",
       "      <td>11</td>\n",
       "      <td>177</td>\n",
       "      <td>3008</td>\n",
       "      <td>713</td>\n",
       "      <td>...</td>\n",
       "      <td>1141</td>\n",
       "      <td>4</td>\n",
       "      <td>4.3</td>\n",
       "      <td>61</td>\n",
       "      <td>71</td>\n",
       "      <td>555</td>\n",
       "      <td>26</td>\n",
       "      <td>29.4</td>\n",
       "      <td>9.5</td>\n",
       "      <td>74.58</td>\n",
       "    </tr>\n",
       "    <tr>\n",
       "      <th>Kansas City Chiefs</th>\n",
       "      <td>7</td>\n",
       "      <td>3</td>\n",
       "      <td>0</td>\n",
       "      <td>West Champion</td>\n",
       "      <td>head-to-head record</td>\n",
       "      <td>2</td>\n",
       "      <td>9</td>\n",
       "      <td>143</td>\n",
       "      <td>2594</td>\n",
       "      <td>543</td>\n",
       "      <td>...</td>\n",
       "      <td>1010</td>\n",
       "      <td>3</td>\n",
       "      <td>4.5</td>\n",
       "      <td>52</td>\n",
       "      <td>42</td>\n",
       "      <td>355</td>\n",
       "      <td>17</td>\n",
       "      <td>25.5</td>\n",
       "      <td>13.8</td>\n",
       "      <td>30.25</td>\n",
       "    </tr>\n",
       "    <tr>\n",
       "      <th>Jacksonville Jaguars</th>\n",
       "      <td>7</td>\n",
       "      <td>3</td>\n",
       "      <td>0</td>\n",
       "      <td>South Champion</td>\n",
       "      <td>strength of victory</td>\n",
       "      <td>12</td>\n",
       "      <td>9</td>\n",
       "      <td>190</td>\n",
       "      <td>3179</td>\n",
       "      <td>586</td>\n",
       "      <td>...</td>\n",
       "      <td>778</td>\n",
       "      <td>6</td>\n",
       "      <td>3.8</td>\n",
       "      <td>48</td>\n",
       "      <td>60</td>\n",
       "      <td>585</td>\n",
       "      <td>8</td>\n",
       "      <td>30.2</td>\n",
       "      <td>16.0</td>\n",
       "      <td>12.06</td>\n",
       "    </tr>\n",
       "    <tr>\n",
       "      <th>Miami Dolphins</th>\n",
       "      <td>7</td>\n",
       "      <td>3</td>\n",
       "      <td>0</td>\n",
       "      <td>East Champion</td>\n",
       "      <td>NaN</td>\n",
       "      <td>23</td>\n",
       "      <td>9</td>\n",
       "      <td>225</td>\n",
       "      <td>2902</td>\n",
       "      <td>573</td>\n",
       "      <td>...</td>\n",
       "      <td>956</td>\n",
       "      <td>9</td>\n",
       "      <td>3.9</td>\n",
       "      <td>68</td>\n",
       "      <td>47</td>\n",
       "      <td>349</td>\n",
       "      <td>17</td>\n",
       "      <td>35.7</td>\n",
       "      <td>9.2</td>\n",
       "      <td>-19.35</td>\n",
       "    </tr>\n",
       "    <tr>\n",
       "      <th>Cleveland Browns</th>\n",
       "      <td>7</td>\n",
       "      <td>3</td>\n",
       "      <td>0</td>\n",
       "      <td>Wild Card #1</td>\n",
       "      <td>NaN</td>\n",
       "      <td>4</td>\n",
       "      <td>9</td>\n",
       "      <td>170</td>\n",
       "      <td>2184</td>\n",
       "      <td>482</td>\n",
       "      <td>...</td>\n",
       "      <td>824</td>\n",
       "      <td>9</td>\n",
       "      <td>3.8</td>\n",
       "      <td>37</td>\n",
       "      <td>63</td>\n",
       "      <td>542</td>\n",
       "      <td>14</td>\n",
       "      <td>22.4</td>\n",
       "      <td>12.9</td>\n",
       "      <td>82.57</td>\n",
       "    </tr>\n",
       "    <tr>\n",
       "      <th>Houston Texans</th>\n",
       "      <td>6</td>\n",
       "      <td>4</td>\n",
       "      <td>0</td>\n",
       "      <td>Wild Card #2</td>\n",
       "      <td>head-to-head record</td>\n",
       "      <td>13</td>\n",
       "      <td>9</td>\n",
       "      <td>192</td>\n",
       "      <td>3060</td>\n",
       "      <td>575</td>\n",
       "      <td>...</td>\n",
       "      <td>842</td>\n",
       "      <td>11</td>\n",
       "      <td>3.5</td>\n",
       "      <td>61</td>\n",
       "      <td>59</td>\n",
       "      <td>526</td>\n",
       "      <td>20</td>\n",
       "      <td>37.8</td>\n",
       "      <td>11.2</td>\n",
       "      <td>-40.05</td>\n",
       "    </tr>\n",
       "    <tr>\n",
       "      <th>Pittsburgh Steelers</th>\n",
       "      <td>6</td>\n",
       "      <td>4</td>\n",
       "      <td>0</td>\n",
       "      <td>Wild Card #3</td>\n",
       "      <td>NaN</td>\n",
       "      <td>9</td>\n",
       "      <td>9</td>\n",
       "      <td>182</td>\n",
       "      <td>3417</td>\n",
       "      <td>610</td>\n",
       "      <td>...</td>\n",
       "      <td>1181</td>\n",
       "      <td>5</td>\n",
       "      <td>4.5</td>\n",
       "      <td>57</td>\n",
       "      <td>59</td>\n",
       "      <td>504</td>\n",
       "      <td>20</td>\n",
       "      <td>36.3</td>\n",
       "      <td>17.6</td>\n",
       "      <td>1.17</td>\n",
       "    </tr>\n",
       "    <tr>\n",
       "      <th>Buffalo Bills</th>\n",
       "      <td>6</td>\n",
       "      <td>5</td>\n",
       "      <td>0</td>\n",
       "      <td>NaN</td>\n",
       "      <td>NaN</td>\n",
       "      <td>11</td>\n",
       "      <td>10</td>\n",
       "      <td>184</td>\n",
       "      <td>3306</td>\n",
       "      <td>611</td>\n",
       "      <td>...</td>\n",
       "      <td>1152</td>\n",
       "      <td>6</td>\n",
       "      <td>4.6</td>\n",
       "      <td>53</td>\n",
       "      <td>66</td>\n",
       "      <td>517</td>\n",
       "      <td>21</td>\n",
       "      <td>34.0</td>\n",
       "      <td>14.2</td>\n",
       "      <td>-10.00</td>\n",
       "    </tr>\n",
       "    <tr>\n",
       "      <th>Indianapolis Colts</th>\n",
       "      <td>5</td>\n",
       "      <td>5</td>\n",
       "      <td>0</td>\n",
       "      <td>NaN</td>\n",
       "      <td>conference win percentage</td>\n",
       "      <td>28</td>\n",
       "      <td>10</td>\n",
       "      <td>248</td>\n",
       "      <td>3585</td>\n",
       "      <td>695</td>\n",
       "      <td>...</td>\n",
       "      <td>1297</td>\n",
       "      <td>15</td>\n",
       "      <td>4.1</td>\n",
       "      <td>80</td>\n",
       "      <td>52</td>\n",
       "      <td>446</td>\n",
       "      <td>19</td>\n",
       "      <td>37.6</td>\n",
       "      <td>12.8</td>\n",
       "      <td>-9.48</td>\n",
       "    </tr>\n",
       "    <tr>\n",
       "      <th>Denver Broncos</th>\n",
       "      <td>5</td>\n",
       "      <td>5</td>\n",
       "      <td>0</td>\n",
       "      <td>NaN</td>\n",
       "      <td>conference win percentage</td>\n",
       "      <td>27</td>\n",
       "      <td>9</td>\n",
       "      <td>248</td>\n",
       "      <td>3616</td>\n",
       "      <td>564</td>\n",
       "      <td>...</td>\n",
       "      <td>1425</td>\n",
       "      <td>10</td>\n",
       "      <td>5.6</td>\n",
       "      <td>69</td>\n",
       "      <td>67</td>\n",
       "      <td>626</td>\n",
       "      <td>21</td>\n",
       "      <td>45.7</td>\n",
       "      <td>14.9</td>\n",
       "      <td>-94.90</td>\n",
       "    </tr>\n",
       "    <tr>\n",
       "      <th>Cincinnati Bengals</th>\n",
       "      <td>5</td>\n",
       "      <td>5</td>\n",
       "      <td>0</td>\n",
       "      <td>NaN</td>\n",
       "      <td>NaN</td>\n",
       "      <td>24</td>\n",
       "      <td>10</td>\n",
       "      <td>226</td>\n",
       "      <td>3861</td>\n",
       "      <td>628</td>\n",
       "      <td>...</td>\n",
       "      <td>1383</td>\n",
       "      <td>11</td>\n",
       "      <td>5.0</td>\n",
       "      <td>82</td>\n",
       "      <td>55</td>\n",
       "      <td>497</td>\n",
       "      <td>19</td>\n",
       "      <td>38.4</td>\n",
       "      <td>16.1</td>\n",
       "      <td>-57.85</td>\n",
       "    </tr>\n",
       "    <tr>\n",
       "      <th>Las Vegas Raiders</th>\n",
       "      <td>5</td>\n",
       "      <td>6</td>\n",
       "      <td>0</td>\n",
       "      <td>NaN</td>\n",
       "      <td>NaN</td>\n",
       "      <td>19</td>\n",
       "      <td>10</td>\n",
       "      <td>205</td>\n",
       "      <td>3343</td>\n",
       "      <td>643</td>\n",
       "      <td>...</td>\n",
       "      <td>1356</td>\n",
       "      <td>10</td>\n",
       "      <td>4.6</td>\n",
       "      <td>75</td>\n",
       "      <td>62</td>\n",
       "      <td>545</td>\n",
       "      <td>19</td>\n",
       "      <td>37.5</td>\n",
       "      <td>10.6</td>\n",
       "      <td>-31.90</td>\n",
       "    </tr>\n",
       "    <tr>\n",
       "      <th>Los Angeles Chargers</th>\n",
       "      <td>4</td>\n",
       "      <td>6</td>\n",
       "      <td>0</td>\n",
       "      <td>NaN</td>\n",
       "      <td>head-to-head record</td>\n",
       "      <td>21</td>\n",
       "      <td>9</td>\n",
       "      <td>215</td>\n",
       "      <td>3539</td>\n",
       "      <td>604</td>\n",
       "      <td>...</td>\n",
       "      <td>918</td>\n",
       "      <td>11</td>\n",
       "      <td>4.1</td>\n",
       "      <td>54</td>\n",
       "      <td>64</td>\n",
       "      <td>473</td>\n",
       "      <td>24</td>\n",
       "      <td>39.4</td>\n",
       "      <td>14.1</td>\n",
       "      <td>-64.17</td>\n",
       "    </tr>\n",
       "    <tr>\n",
       "      <th>New York Jets</th>\n",
       "      <td>4</td>\n",
       "      <td>6</td>\n",
       "      <td>0</td>\n",
       "      <td>NaN</td>\n",
       "      <td>NaN</td>\n",
       "      <td>5</td>\n",
       "      <td>9</td>\n",
       "      <td>172</td>\n",
       "      <td>2770</td>\n",
       "      <td>600</td>\n",
       "      <td>...</td>\n",
       "      <td>1246</td>\n",
       "      <td>5</td>\n",
       "      <td>4.3</td>\n",
       "      <td>65</td>\n",
       "      <td>44</td>\n",
       "      <td>381</td>\n",
       "      <td>19</td>\n",
       "      <td>31.8</td>\n",
       "      <td>12.7</td>\n",
       "      <td>36.78</td>\n",
       "    </tr>\n",
       "    <tr>\n",
       "      <th>Tennessee Titans</th>\n",
       "      <td>3</td>\n",
       "      <td>7</td>\n",
       "      <td>0</td>\n",
       "      <td>NaN</td>\n",
       "      <td>NaN</td>\n",
       "      <td>8</td>\n",
       "      <td>9</td>\n",
       "      <td>180</td>\n",
       "      <td>3042</td>\n",
       "      <td>565</td>\n",
       "      <td>...</td>\n",
       "      <td>995</td>\n",
       "      <td>5</td>\n",
       "      <td>3.9</td>\n",
       "      <td>52</td>\n",
       "      <td>58</td>\n",
       "      <td>462</td>\n",
       "      <td>18</td>\n",
       "      <td>42.6</td>\n",
       "      <td>6.4</td>\n",
       "      <td>-47.00</td>\n",
       "    </tr>\n",
       "    <tr>\n",
       "      <th>New England Patriots</th>\n",
       "      <td>2</td>\n",
       "      <td>8</td>\n",
       "      <td>0</td>\n",
       "      <td>NaN</td>\n",
       "      <td>NaN</td>\n",
       "      <td>25</td>\n",
       "      <td>10</td>\n",
       "      <td>238</td>\n",
       "      <td>3265</td>\n",
       "      <td>657</td>\n",
       "      <td>...</td>\n",
       "      <td>977</td>\n",
       "      <td>9</td>\n",
       "      <td>3.4</td>\n",
       "      <td>57</td>\n",
       "      <td>57</td>\n",
       "      <td>405</td>\n",
       "      <td>17</td>\n",
       "      <td>36.3</td>\n",
       "      <td>8.8</td>\n",
       "      <td>-22.31</td>\n",
       "    </tr>\n",
       "    <tr>\n",
       "      <th>Philadelphia Eagles</th>\n",
       "      <td>9</td>\n",
       "      <td>1</td>\n",
       "      <td>0</td>\n",
       "      <td>East Champion</td>\n",
       "      <td>NaN</td>\n",
       "      <td>14</td>\n",
       "      <td>9</td>\n",
       "      <td>195</td>\n",
       "      <td>2910</td>\n",
       "      <td>552</td>\n",
       "      <td>...</td>\n",
       "      <td>597</td>\n",
       "      <td>3</td>\n",
       "      <td>3.7</td>\n",
       "      <td>33</td>\n",
       "      <td>61</td>\n",
       "      <td>474</td>\n",
       "      <td>18</td>\n",
       "      <td>35.2</td>\n",
       "      <td>11.0</td>\n",
       "      <td>-18.58</td>\n",
       "    </tr>\n",
       "    <tr>\n",
       "      <th>San Francisco 49ers</th>\n",
       "      <td>8</td>\n",
       "      <td>3</td>\n",
       "      <td>0</td>\n",
       "      <td>West Champion</td>\n",
       "      <td>conference win percentage</td>\n",
       "      <td>1</td>\n",
       "      <td>9</td>\n",
       "      <td>143</td>\n",
       "      <td>2741</td>\n",
       "      <td>553</td>\n",
       "      <td>...</td>\n",
       "      <td>748</td>\n",
       "      <td>4</td>\n",
       "      <td>4.0</td>\n",
       "      <td>49</td>\n",
       "      <td>57</td>\n",
       "      <td>475</td>\n",
       "      <td>20</td>\n",
       "      <td>32.3</td>\n",
       "      <td>18.3</td>\n",
       "      <td>30.34</td>\n",
       "    </tr>\n",
       "    <tr>\n",
       "      <th>Detroit Lions</th>\n",
       "      <td>8</td>\n",
       "      <td>3</td>\n",
       "      <td>0</td>\n",
       "      <td>North Champion</td>\n",
       "      <td>NaN</td>\n",
       "      <td>17</td>\n",
       "      <td>9</td>\n",
       "      <td>203</td>\n",
       "      <td>2796</td>\n",
       "      <td>534</td>\n",
       "      <td>...</td>\n",
       "      <td>712</td>\n",
       "      <td>7</td>\n",
       "      <td>3.7</td>\n",
       "      <td>41</td>\n",
       "      <td>43</td>\n",
       "      <td>359</td>\n",
       "      <td>23</td>\n",
       "      <td>35.8</td>\n",
       "      <td>11.6</td>\n",
       "      <td>-18.97</td>\n",
       "    </tr>\n",
       "    <tr>\n",
       "      <th>New Orleans Saints</th>\n",
       "      <td>5</td>\n",
       "      <td>5</td>\n",
       "      <td>0</td>\n",
       "      <td>South Champion</td>\n",
       "      <td>NaN</td>\n",
       "      <td>15</td>\n",
       "      <td>10</td>\n",
       "      <td>198</td>\n",
       "      <td>3127</td>\n",
       "      <td>619</td>\n",
       "      <td>...</td>\n",
       "      <td>1136</td>\n",
       "      <td>6</td>\n",
       "      <td>4.3</td>\n",
       "      <td>56</td>\n",
       "      <td>66</td>\n",
       "      <td>498</td>\n",
       "      <td>24</td>\n",
       "      <td>31.9</td>\n",
       "      <td>14.3</td>\n",
       "      <td>19.33</td>\n",
       "    </tr>\n",
       "    <tr>\n",
       "      <th>Dallas Cowboys</th>\n",
       "      <td>8</td>\n",
       "      <td>3</td>\n",
       "      <td>0</td>\n",
       "      <td>Wild Card #1</td>\n",
       "      <td>NaN</td>\n",
       "      <td>3</td>\n",
       "      <td>9</td>\n",
       "      <td>165</td>\n",
       "      <td>2476</td>\n",
       "      <td>519</td>\n",
       "      <td>...</td>\n",
       "      <td>982</td>\n",
       "      <td>7</td>\n",
       "      <td>4.1</td>\n",
       "      <td>51</td>\n",
       "      <td>56</td>\n",
       "      <td>472</td>\n",
       "      <td>25</td>\n",
       "      <td>29.3</td>\n",
       "      <td>14.1</td>\n",
       "      <td>40.58</td>\n",
       "    </tr>\n",
       "    <tr>\n",
       "      <th>Minnesota Vikings</th>\n",
       "      <td>6</td>\n",
       "      <td>5</td>\n",
       "      <td>0</td>\n",
       "      <td>Wild Card #2</td>\n",
       "      <td>conference win percentage</td>\n",
       "      <td>20</td>\n",
       "      <td>10</td>\n",
       "      <td>209</td>\n",
       "      <td>3232</td>\n",
       "      <td>647</td>\n",
       "      <td>...</td>\n",
       "      <td>988</td>\n",
       "      <td>7</td>\n",
       "      <td>3.7</td>\n",
       "      <td>65</td>\n",
       "      <td>76</td>\n",
       "      <td>625</td>\n",
       "      <td>10</td>\n",
       "      <td>34.9</td>\n",
       "      <td>12.8</td>\n",
       "      <td>-3.97</td>\n",
       "    </tr>\n",
       "    <tr>\n",
       "      <th>Seattle Seahawks</th>\n",
       "      <td>6</td>\n",
       "      <td>5</td>\n",
       "      <td>0</td>\n",
       "      <td>Wild Card #3</td>\n",
       "      <td>NaN</td>\n",
       "      <td>16</td>\n",
       "      <td>9</td>\n",
       "      <td>201</td>\n",
       "      <td>3189</td>\n",
       "      <td>618</td>\n",
       "      <td>...</td>\n",
       "      <td>1044</td>\n",
       "      <td>10</td>\n",
       "      <td>4.3</td>\n",
       "      <td>60</td>\n",
       "      <td>55</td>\n",
       "      <td>381</td>\n",
       "      <td>19</td>\n",
       "      <td>37.6</td>\n",
       "      <td>12.9</td>\n",
       "      <td>-15.34</td>\n",
       "    </tr>\n",
       "    <tr>\n",
       "      <th>Green Bay Packers</th>\n",
       "      <td>5</td>\n",
       "      <td>6</td>\n",
       "      <td>0</td>\n",
       "      <td>NaN</td>\n",
       "      <td>NaN</td>\n",
       "      <td>10</td>\n",
       "      <td>9</td>\n",
       "      <td>182</td>\n",
       "      <td>2885</td>\n",
       "      <td>584</td>\n",
       "      <td>...</td>\n",
       "      <td>1197</td>\n",
       "      <td>9</td>\n",
       "      <td>4.2</td>\n",
       "      <td>74</td>\n",
       "      <td>55</td>\n",
       "      <td>529</td>\n",
       "      <td>17</td>\n",
       "      <td>37.9</td>\n",
       "      <td>8.4</td>\n",
       "      <td>-20.95</td>\n",
       "    </tr>\n",
       "    <tr>\n",
       "      <th>Los Angeles Rams</th>\n",
       "      <td>4</td>\n",
       "      <td>6</td>\n",
       "      <td>0</td>\n",
       "      <td>NaN</td>\n",
       "      <td>strength of victory</td>\n",
       "      <td>18</td>\n",
       "      <td>9</td>\n",
       "      <td>204</td>\n",
       "      <td>3060</td>\n",
       "      <td>570</td>\n",
       "      <td>...</td>\n",
       "      <td>1105</td>\n",
       "      <td>10</td>\n",
       "      <td>4.2</td>\n",
       "      <td>64</td>\n",
       "      <td>56</td>\n",
       "      <td>466</td>\n",
       "      <td>18</td>\n",
       "      <td>40.6</td>\n",
       "      <td>8.3</td>\n",
       "      <td>-33.87</td>\n",
       "    </tr>\n",
       "    <tr>\n",
       "      <th>Atlanta Falcons</th>\n",
       "      <td>4</td>\n",
       "      <td>6</td>\n",
       "      <td>0</td>\n",
       "      <td>NaN</td>\n",
       "      <td>head-to-head record</td>\n",
       "      <td>22</td>\n",
       "      <td>10</td>\n",
       "      <td>217</td>\n",
       "      <td>3088</td>\n",
       "      <td>620</td>\n",
       "      <td>...</td>\n",
       "      <td>1084</td>\n",
       "      <td>4</td>\n",
       "      <td>3.9</td>\n",
       "      <td>55</td>\n",
       "      <td>67</td>\n",
       "      <td>550</td>\n",
       "      <td>20</td>\n",
       "      <td>36.8</td>\n",
       "      <td>8.8</td>\n",
       "      <td>-0.07</td>\n",
       "    </tr>\n",
       "    <tr>\n",
       "      <th>Tampa Bay Buccaneers</th>\n",
       "      <td>4</td>\n",
       "      <td>6</td>\n",
       "      <td>0</td>\n",
       "      <td>NaN</td>\n",
       "      <td>NaN</td>\n",
       "      <td>6</td>\n",
       "      <td>9</td>\n",
       "      <td>173</td>\n",
       "      <td>3187</td>\n",
       "      <td>575</td>\n",
       "      <td>...</td>\n",
       "      <td>785</td>\n",
       "      <td>4</td>\n",
       "      <td>3.7</td>\n",
       "      <td>47</td>\n",
       "      <td>58</td>\n",
       "      <td>482</td>\n",
       "      <td>13</td>\n",
       "      <td>36.5</td>\n",
       "      <td>16.7</td>\n",
       "      <td>-11.63</td>\n",
       "    </tr>\n",
       "    <tr>\n",
       "      <th>Washington Commanders</th>\n",
       "      <td>4</td>\n",
       "      <td>8</td>\n",
       "      <td>0</td>\n",
       "      <td>NaN</td>\n",
       "      <td>NaN</td>\n",
       "      <td>32</td>\n",
       "      <td>10</td>\n",
       "      <td>274</td>\n",
       "      <td>3809</td>\n",
       "      <td>659</td>\n",
       "      <td>...</td>\n",
       "      <td>1166</td>\n",
       "      <td>6</td>\n",
       "      <td>4.4</td>\n",
       "      <td>63</td>\n",
       "      <td>61</td>\n",
       "      <td>506</td>\n",
       "      <td>15</td>\n",
       "      <td>45.1</td>\n",
       "      <td>10.6</td>\n",
       "      <td>-61.38</td>\n",
       "    </tr>\n",
       "    <tr>\n",
       "      <th>New York Giants</th>\n",
       "      <td>3</td>\n",
       "      <td>8</td>\n",
       "      <td>0</td>\n",
       "      <td>NaN</td>\n",
       "      <td>conference win percentage</td>\n",
       "      <td>31</td>\n",
       "      <td>10</td>\n",
       "      <td>266</td>\n",
       "      <td>3685</td>\n",
       "      <td>622</td>\n",
       "      <td>...</td>\n",
       "      <td>1312</td>\n",
       "      <td>16</td>\n",
       "      <td>4.7</td>\n",
       "      <td>70</td>\n",
       "      <td>72</td>\n",
       "      <td>604</td>\n",
       "      <td>19</td>\n",
       "      <td>36.8</td>\n",
       "      <td>8.5</td>\n",
       "      <td>-45.50</td>\n",
       "    </tr>\n",
       "    <tr>\n",
       "      <th>Chicago Bears</th>\n",
       "      <td>3</td>\n",
       "      <td>8</td>\n",
       "      <td>0</td>\n",
       "      <td>NaN</td>\n",
       "      <td>NaN</td>\n",
       "      <td>29</td>\n",
       "      <td>10</td>\n",
       "      <td>255</td>\n",
       "      <td>3242</td>\n",
       "      <td>616</td>\n",
       "      <td>...</td>\n",
       "      <td>760</td>\n",
       "      <td>4</td>\n",
       "      <td>3.2</td>\n",
       "      <td>47</td>\n",
       "      <td>42</td>\n",
       "      <td>346</td>\n",
       "      <td>15</td>\n",
       "      <td>40.4</td>\n",
       "      <td>8.7</td>\n",
       "      <td>-51.82</td>\n",
       "    </tr>\n",
       "    <tr>\n",
       "      <th>Arizona Cardinals</th>\n",
       "      <td>2</td>\n",
       "      <td>9</td>\n",
       "      <td>0</td>\n",
       "      <td>NaN</td>\n",
       "      <td>NaN</td>\n",
       "      <td>30</td>\n",
       "      <td>10</td>\n",
       "      <td>263</td>\n",
       "      <td>3426</td>\n",
       "      <td>648</td>\n",
       "      <td>...</td>\n",
       "      <td>1342</td>\n",
       "      <td>14</td>\n",
       "      <td>4.2</td>\n",
       "      <td>88</td>\n",
       "      <td>65</td>\n",
       "      <td>557</td>\n",
       "      <td>23</td>\n",
       "      <td>43.9</td>\n",
       "      <td>7.5</td>\n",
       "      <td>-75.80</td>\n",
       "    </tr>\n",
       "    <tr>\n",
       "      <th>Carolina Panthers</th>\n",
       "      <td>1</td>\n",
       "      <td>9</td>\n",
       "      <td>0</td>\n",
       "      <td>NaN</td>\n",
       "      <td>NaN</td>\n",
       "      <td>26</td>\n",
       "      <td>9</td>\n",
       "      <td>242</td>\n",
       "      <td>2775</td>\n",
       "      <td>545</td>\n",
       "      <td>...</td>\n",
       "      <td>1187</td>\n",
       "      <td>15</td>\n",
       "      <td>4.3</td>\n",
       "      <td>71</td>\n",
       "      <td>54</td>\n",
       "      <td>393</td>\n",
       "      <td>14</td>\n",
       "      <td>39.8</td>\n",
       "      <td>6.1</td>\n",
       "      <td>-33.78</td>\n",
       "    </tr>\n",
       "  </tbody>\n",
       "</table>\n",
       "<p>32 rows × 32 columns</p>\n",
       "</div>"
      ],
      "text/plain": [
       "                       W  L  T        Position                     Reason  Rk  \\\n",
       "Tm                                                                              \n",
       "Baltimore Ravens       8  3  0  North Champion                        NaN   7   \n",
       "Kansas City Chiefs     7  3  0   West Champion        head-to-head record   2   \n",
       "Jacksonville Jaguars   7  3  0  South Champion        strength of victory  12   \n",
       "Miami Dolphins         7  3  0   East Champion                        NaN  23   \n",
       "Cleveland Browns       7  3  0    Wild Card #1                        NaN   4   \n",
       "Houston Texans         6  4  0    Wild Card #2        head-to-head record  13   \n",
       "Pittsburgh Steelers    6  4  0    Wild Card #3                        NaN   9   \n",
       "Buffalo Bills          6  5  0             NaN                        NaN  11   \n",
       "Indianapolis Colts     5  5  0             NaN  conference win percentage  28   \n",
       "Denver Broncos         5  5  0             NaN  conference win percentage  27   \n",
       "Cincinnati Bengals     5  5  0             NaN                        NaN  24   \n",
       "Las Vegas Raiders      5  6  0             NaN                        NaN  19   \n",
       "Los Angeles Chargers   4  6  0             NaN        head-to-head record  21   \n",
       "New York Jets          4  6  0             NaN                        NaN   5   \n",
       "Tennessee Titans       3  7  0             NaN                        NaN   8   \n",
       "New England Patriots   2  8  0             NaN                        NaN  25   \n",
       "Philadelphia Eagles    9  1  0   East Champion                        NaN  14   \n",
       "San Francisco 49ers    8  3  0   West Champion  conference win percentage   1   \n",
       "Detroit Lions          8  3  0  North Champion                        NaN  17   \n",
       "New Orleans Saints     5  5  0  South Champion                        NaN  15   \n",
       "Dallas Cowboys         8  3  0    Wild Card #1                        NaN   3   \n",
       "Minnesota Vikings      6  5  0    Wild Card #2  conference win percentage  20   \n",
       "Seattle Seahawks       6  5  0    Wild Card #3                        NaN  16   \n",
       "Green Bay Packers      5  6  0             NaN                        NaN  10   \n",
       "Los Angeles Rams       4  6  0             NaN        strength of victory  18   \n",
       "Atlanta Falcons        4  6  0             NaN        head-to-head record  22   \n",
       "Tampa Bay Buccaneers   4  6  0             NaN                        NaN   6   \n",
       "Washington Commanders  4  8  0             NaN                        NaN  32   \n",
       "New York Giants        3  8  0             NaN  conference win percentage  31   \n",
       "Chicago Bears          3  8  0             NaN                        NaN  29   \n",
       "Arizona Cardinals      2  9  0             NaN                        NaN  30   \n",
       "Carolina Panthers      1  9  0             NaN                        NaN  26   \n",
       "\n",
       "                        G   PA   Yds  Ply  ...  Yds.2  TD.1  Y/A  1stD.2  Pen  \\\n",
       "Tm                                         ...                                  \n",
       "Baltimore Ravens       11  177  3008  713  ...   1141     4  4.3      61   71   \n",
       "Kansas City Chiefs      9  143  2594  543  ...   1010     3  4.5      52   42   \n",
       "Jacksonville Jaguars    9  190  3179  586  ...    778     6  3.8      48   60   \n",
       "Miami Dolphins          9  225  2902  573  ...    956     9  3.9      68   47   \n",
       "Cleveland Browns        9  170  2184  482  ...    824     9  3.8      37   63   \n",
       "Houston Texans          9  192  3060  575  ...    842    11  3.5      61   59   \n",
       "Pittsburgh Steelers     9  182  3417  610  ...   1181     5  4.5      57   59   \n",
       "Buffalo Bills          10  184  3306  611  ...   1152     6  4.6      53   66   \n",
       "Indianapolis Colts     10  248  3585  695  ...   1297    15  4.1      80   52   \n",
       "Denver Broncos          9  248  3616  564  ...   1425    10  5.6      69   67   \n",
       "Cincinnati Bengals     10  226  3861  628  ...   1383    11  5.0      82   55   \n",
       "Las Vegas Raiders      10  205  3343  643  ...   1356    10  4.6      75   62   \n",
       "Los Angeles Chargers    9  215  3539  604  ...    918    11  4.1      54   64   \n",
       "New York Jets           9  172  2770  600  ...   1246     5  4.3      65   44   \n",
       "Tennessee Titans        9  180  3042  565  ...    995     5  3.9      52   58   \n",
       "New England Patriots   10  238  3265  657  ...    977     9  3.4      57   57   \n",
       "Philadelphia Eagles     9  195  2910  552  ...    597     3  3.7      33   61   \n",
       "San Francisco 49ers     9  143  2741  553  ...    748     4  4.0      49   57   \n",
       "Detroit Lions           9  203  2796  534  ...    712     7  3.7      41   43   \n",
       "New Orleans Saints     10  198  3127  619  ...   1136     6  4.3      56   66   \n",
       "Dallas Cowboys          9  165  2476  519  ...    982     7  4.1      51   56   \n",
       "Minnesota Vikings      10  209  3232  647  ...    988     7  3.7      65   76   \n",
       "Seattle Seahawks        9  201  3189  618  ...   1044    10  4.3      60   55   \n",
       "Green Bay Packers       9  182  2885  584  ...   1197     9  4.2      74   55   \n",
       "Los Angeles Rams        9  204  3060  570  ...   1105    10  4.2      64   56   \n",
       "Atlanta Falcons        10  217  3088  620  ...   1084     4  3.9      55   67   \n",
       "Tampa Bay Buccaneers    9  173  3187  575  ...    785     4  3.7      47   58   \n",
       "Washington Commanders  10  274  3809  659  ...   1166     6  4.4      63   61   \n",
       "New York Giants        10  266  3685  622  ...   1312    16  4.7      70   72   \n",
       "Chicago Bears          10  255  3242  616  ...    760     4  3.2      47   42   \n",
       "Arizona Cardinals      10  263  3426  648  ...   1342    14  4.2      88   65   \n",
       "Carolina Panthers       9  242  2775  545  ...   1187    15  4.3      71   54   \n",
       "\n",
       "                       Yds.3  1stPy   Sc%   TO%    EXP  \n",
       "Tm                                                      \n",
       "Baltimore Ravens         555     26  29.4   9.5  74.58  \n",
       "Kansas City Chiefs       355     17  25.5  13.8  30.25  \n",
       "Jacksonville Jaguars     585      8  30.2  16.0  12.06  \n",
       "Miami Dolphins           349     17  35.7   9.2 -19.35  \n",
       "Cleveland Browns         542     14  22.4  12.9  82.57  \n",
       "Houston Texans           526     20  37.8  11.2 -40.05  \n",
       "Pittsburgh Steelers      504     20  36.3  17.6   1.17  \n",
       "Buffalo Bills            517     21  34.0  14.2 -10.00  \n",
       "Indianapolis Colts       446     19  37.6  12.8  -9.48  \n",
       "Denver Broncos           626     21  45.7  14.9 -94.90  \n",
       "Cincinnati Bengals       497     19  38.4  16.1 -57.85  \n",
       "Las Vegas Raiders        545     19  37.5  10.6 -31.90  \n",
       "Los Angeles Chargers     473     24  39.4  14.1 -64.17  \n",
       "New York Jets            381     19  31.8  12.7  36.78  \n",
       "Tennessee Titans         462     18  42.6   6.4 -47.00  \n",
       "New England Patriots     405     17  36.3   8.8 -22.31  \n",
       "Philadelphia Eagles      474     18  35.2  11.0 -18.58  \n",
       "San Francisco 49ers      475     20  32.3  18.3  30.34  \n",
       "Detroit Lions            359     23  35.8  11.6 -18.97  \n",
       "New Orleans Saints       498     24  31.9  14.3  19.33  \n",
       "Dallas Cowboys           472     25  29.3  14.1  40.58  \n",
       "Minnesota Vikings        625     10  34.9  12.8  -3.97  \n",
       "Seattle Seahawks         381     19  37.6  12.9 -15.34  \n",
       "Green Bay Packers        529     17  37.9   8.4 -20.95  \n",
       "Los Angeles Rams         466     18  40.6   8.3 -33.87  \n",
       "Atlanta Falcons          550     20  36.8   8.8  -0.07  \n",
       "Tampa Bay Buccaneers     482     13  36.5  16.7 -11.63  \n",
       "Washington Commanders    506     15  45.1  10.6 -61.38  \n",
       "New York Giants          604     19  36.8   8.5 -45.50  \n",
       "Chicago Bears            346     15  40.4   8.7 -51.82  \n",
       "Arizona Cardinals        557     23  43.9   7.5 -75.80  \n",
       "Carolina Panthers        393     14  39.8   6.1 -33.78  \n",
       "\n",
       "[32 rows x 32 columns]"
      ]
     },
     "execution_count": 80,
     "metadata": {},
     "output_type": "execute_result"
    }
   ],
   "source": [
    "All_Defense_data = W_L_data.join(defense_data, lsuffix=\".l\", rsuffix=\".r\", how=\"inner\")\n",
    "All_Defense_data"
   ]
  },
  {
   "cell_type": "code",
   "execution_count": 82,
   "metadata": {},
   "outputs": [],
   "source": [
    "from sklearn.linear_model import LinearRegression"
   ]
  },
  {
   "cell_type": "code",
   "execution_count": 143,
   "metadata": {},
   "outputs": [],
   "source": [
    "X_O= All_Offense_data.drop([\"W\",\"L\", \"T\", \"Position\", \"Reason\", \"Rk\", \"EXP\"], axis=1)\n",
    "Y_O = All_Offense_data[\"W\"]\n",
    "\n",
    "X_D = All_Defense_data.drop([\"W\",\"L\", \"T\", \"Position\", \"Reason\", \"Rk\", \"EXP\"], axis=1)\n",
    "Y_D = All_Defense_data[\"W\"]\n",
    "\n"
   ]
  },
  {
   "cell_type": "code",
   "execution_count": 144,
   "metadata": {},
   "outputs": [
    {
     "name": "stdout",
     "output_type": "stream",
     "text": [
      "0.9185000835374564\n",
      "0.8828261409737285\n"
     ]
    }
   ],
   "source": [
    "reg_O = LinearRegression().fit(X_O, Y_O)\n",
    "print(reg_O.score(X_O, Y_O))\n",
    "\n",
    "reg_D = LinearRegression().fit(X_D, Y_D)\n",
    "print(reg_D.score(X_D, Y_D))"
   ]
  },
  {
   "cell_type": "code",
   "execution_count": 148,
   "metadata": {},
   "outputs": [],
   "source": [
    "Y_hat_O = reg_O.predict(X_O)\n",
    "Y_hat_D = reg_D.predict(X_D)\n"
   ]
  },
  {
   "cell_type": "code",
   "execution_count": 149,
   "metadata": {},
   "outputs": [
    {
     "data": {
      "application/vnd.plotly.v1+json": {
       "config": {
        "plotlyServerURL": "https://plot.ly"
       },
       "data": [
        {
         "hovertemplate": "color=Baltimore Ravens<br>W=%{x}<br>Predicted W=%{y}<extra></extra>",
         "legendgroup": "Baltimore Ravens",
         "marker": {
          "color": "#636efa",
          "symbol": "circle"
         },
         "mode": "markers",
         "name": "Baltimore Ravens",
         "orientation": "v",
         "showlegend": true,
         "type": "scatter",
         "x": [
          8
         ],
         "xaxis": "x",
         "y": [
          8.214390866693545
         ],
         "yaxis": "y"
        },
        {
         "hovertemplate": "color=Kansas City Chiefs<br>W=%{x}<br>Predicted W=%{y}<extra></extra>",
         "legendgroup": "Kansas City Chiefs",
         "marker": {
          "color": "#EF553B",
          "symbol": "circle"
         },
         "mode": "markers",
         "name": "Kansas City Chiefs",
         "orientation": "v",
         "showlegend": true,
         "type": "scatter",
         "x": [
          7
         ],
         "xaxis": "x",
         "y": [
          6.70632700895781
         ],
         "yaxis": "y"
        },
        {
         "hovertemplate": "color=Jacksonville Jaguars<br>W=%{x}<br>Predicted W=%{y}<extra></extra>",
         "legendgroup": "Jacksonville Jaguars",
         "marker": {
          "color": "#00cc96",
          "symbol": "circle"
         },
         "mode": "markers",
         "name": "Jacksonville Jaguars",
         "orientation": "v",
         "showlegend": true,
         "type": "scatter",
         "x": [
          7
         ],
         "xaxis": "x",
         "y": [
          7.49306585092792
         ],
         "yaxis": "y"
        },
        {
         "hovertemplate": "color=Miami Dolphins<br>W=%{x}<br>Predicted W=%{y}<extra></extra>",
         "legendgroup": "Miami Dolphins",
         "marker": {
          "color": "#ab63fa",
          "symbol": "circle"
         },
         "mode": "markers",
         "name": "Miami Dolphins",
         "orientation": "v",
         "showlegend": true,
         "type": "scatter",
         "x": [
          7
         ],
         "xaxis": "x",
         "y": [
          7.384410079763079
         ],
         "yaxis": "y"
        },
        {
         "hovertemplate": "color=Cleveland Browns<br>W=%{x}<br>Predicted W=%{y}<extra></extra>",
         "legendgroup": "Cleveland Browns",
         "marker": {
          "color": "#FFA15A",
          "symbol": "circle"
         },
         "mode": "markers",
         "name": "Cleveland Browns",
         "orientation": "v",
         "showlegend": true,
         "type": "scatter",
         "x": [
          7
         ],
         "xaxis": "x",
         "y": [
          6.770398456937894
         ],
         "yaxis": "y"
        },
        {
         "hovertemplate": "color=Houston Texans<br>W=%{x}<br>Predicted W=%{y}<extra></extra>",
         "legendgroup": "Houston Texans",
         "marker": {
          "color": "#19d3f3",
          "symbol": "circle"
         },
         "mode": "markers",
         "name": "Houston Texans",
         "orientation": "v",
         "showlegend": true,
         "type": "scatter",
         "x": [
          6
         ],
         "xaxis": "x",
         "y": [
          5.77171800765975
         ],
         "yaxis": "y"
        },
        {
         "hovertemplate": "color=Pittsburgh Steelers<br>W=%{x}<br>Predicted W=%{y}<extra></extra>",
         "legendgroup": "Pittsburgh Steelers",
         "marker": {
          "color": "#FF6692",
          "symbol": "circle"
         },
         "mode": "markers",
         "name": "Pittsburgh Steelers",
         "orientation": "v",
         "showlegend": true,
         "type": "scatter",
         "x": [
          6
         ],
         "xaxis": "x",
         "y": [
          5.082553402745962
         ],
         "yaxis": "y"
        },
        {
         "hovertemplate": "color=Buffalo Bills<br>W=%{x}<br>Predicted W=%{y}<extra></extra>",
         "legendgroup": "Buffalo Bills",
         "marker": {
          "color": "#B6E880",
          "symbol": "circle"
         },
         "mode": "markers",
         "name": "Buffalo Bills",
         "orientation": "v",
         "showlegend": true,
         "type": "scatter",
         "x": [
          6
         ],
         "xaxis": "x",
         "y": [
          6.313681098687283
         ],
         "yaxis": "y"
        },
        {
         "hovertemplate": "color=Indianapolis Colts<br>W=%{x}<br>Predicted W=%{y}<extra></extra>",
         "legendgroup": "Indianapolis Colts",
         "marker": {
          "color": "#FF97FF",
          "symbol": "circle"
         },
         "mode": "markers",
         "name": "Indianapolis Colts",
         "orientation": "v",
         "showlegend": true,
         "type": "scatter",
         "x": [
          5
         ],
         "xaxis": "x",
         "y": [
          4.759274457527667
         ],
         "yaxis": "y"
        },
        {
         "hovertemplate": "color=Denver Broncos<br>W=%{x}<br>Predicted W=%{y}<extra></extra>",
         "legendgroup": "Denver Broncos",
         "marker": {
          "color": "#FECB52",
          "symbol": "circle"
         },
         "mode": "markers",
         "name": "Denver Broncos",
         "orientation": "v",
         "showlegend": true,
         "type": "scatter",
         "x": [
          5
         ],
         "xaxis": "x",
         "y": [
          4.851654383221906
         ],
         "yaxis": "y"
        },
        {
         "hovertemplate": "color=Cincinnati Bengals<br>W=%{x}<br>Predicted W=%{y}<extra></extra>",
         "legendgroup": "Cincinnati Bengals",
         "marker": {
          "color": "#636efa",
          "symbol": "circle"
         },
         "mode": "markers",
         "name": "Cincinnati Bengals",
         "orientation": "v",
         "showlegend": true,
         "type": "scatter",
         "x": [
          5
         ],
         "xaxis": "x",
         "y": [
          4.945962970138702
         ],
         "yaxis": "y"
        },
        {
         "hovertemplate": "color=Las Vegas Raiders<br>W=%{x}<br>Predicted W=%{y}<extra></extra>",
         "legendgroup": "Las Vegas Raiders",
         "marker": {
          "color": "#EF553B",
          "symbol": "circle"
         },
         "mode": "markers",
         "name": "Las Vegas Raiders",
         "orientation": "v",
         "showlegend": true,
         "type": "scatter",
         "x": [
          5
         ],
         "xaxis": "x",
         "y": [
          4.709078928152341
         ],
         "yaxis": "y"
        },
        {
         "hovertemplate": "color=Los Angeles Chargers<br>W=%{x}<br>Predicted W=%{y}<extra></extra>",
         "legendgroup": "Los Angeles Chargers",
         "marker": {
          "color": "#00cc96",
          "symbol": "circle"
         },
         "mode": "markers",
         "name": "Los Angeles Chargers",
         "orientation": "v",
         "showlegend": true,
         "type": "scatter",
         "x": [
          4
         ],
         "xaxis": "x",
         "y": [
          5.058629092490126
         ],
         "yaxis": "y"
        },
        {
         "hovertemplate": "color=New York Jets<br>W=%{x}<br>Predicted W=%{y}<extra></extra>",
         "legendgroup": "New York Jets",
         "marker": {
          "color": "#ab63fa",
          "symbol": "circle"
         },
         "mode": "markers",
         "name": "New York Jets",
         "orientation": "v",
         "showlegend": true,
         "type": "scatter",
         "x": [
          4
         ],
         "xaxis": "x",
         "y": [
          4.033449263421872
         ],
         "yaxis": "y"
        },
        {
         "hovertemplate": "color=Tennessee Titans<br>W=%{x}<br>Predicted W=%{y}<extra></extra>",
         "legendgroup": "Tennessee Titans",
         "marker": {
          "color": "#FFA15A",
          "symbol": "circle"
         },
         "mode": "markers",
         "name": "Tennessee Titans",
         "orientation": "v",
         "showlegend": true,
         "type": "scatter",
         "x": [
          3
         ],
         "xaxis": "x",
         "y": [
          4.360650006706532
         ],
         "yaxis": "y"
        },
        {
         "hovertemplate": "color=New England Patriots<br>W=%{x}<br>Predicted W=%{y}<extra></extra>",
         "legendgroup": "New England Patriots",
         "marker": {
          "color": "#19d3f3",
          "symbol": "circle"
         },
         "mode": "markers",
         "name": "New England Patriots",
         "orientation": "v",
         "showlegend": true,
         "type": "scatter",
         "x": [
          2
         ],
         "xaxis": "x",
         "y": [
          2.5048171306861278
         ],
         "yaxis": "y"
        },
        {
         "hovertemplate": "color=Philadelphia Eagles<br>W=%{x}<br>Predicted W=%{y}<extra></extra>",
         "legendgroup": "Philadelphia Eagles",
         "marker": {
          "color": "#FF6692",
          "symbol": "circle"
         },
         "mode": "markers",
         "name": "Philadelphia Eagles",
         "orientation": "v",
         "showlegend": true,
         "type": "scatter",
         "x": [
          9
         ],
         "xaxis": "x",
         "y": [
          8.160341269795033
         ],
         "yaxis": "y"
        },
        {
         "hovertemplate": "color=San Francisco 49ers<br>W=%{x}<br>Predicted W=%{y}<extra></extra>",
         "legendgroup": "San Francisco 49ers",
         "marker": {
          "color": "#B6E880",
          "symbol": "circle"
         },
         "mode": "markers",
         "name": "San Francisco 49ers",
         "orientation": "v",
         "showlegend": true,
         "type": "scatter",
         "x": [
          8
         ],
         "xaxis": "x",
         "y": [
          7.9317533427250915
         ],
         "yaxis": "y"
        },
        {
         "hovertemplate": "color=Detroit Lions<br>W=%{x}<br>Predicted W=%{y}<extra></extra>",
         "legendgroup": "Detroit Lions",
         "marker": {
          "color": "#FF97FF",
          "symbol": "circle"
         },
         "mode": "markers",
         "name": "Detroit Lions",
         "orientation": "v",
         "showlegend": true,
         "type": "scatter",
         "x": [
          8
         ],
         "xaxis": "x",
         "y": [
          7.424930143601781
         ],
         "yaxis": "y"
        },
        {
         "hovertemplate": "color=New Orleans Saints<br>W=%{x}<br>Predicted W=%{y}<extra></extra>",
         "legendgroup": "New Orleans Saints",
         "marker": {
          "color": "#FECB52",
          "symbol": "circle"
         },
         "mode": "markers",
         "name": "New Orleans Saints",
         "orientation": "v",
         "showlegend": true,
         "type": "scatter",
         "x": [
          5
         ],
         "xaxis": "x",
         "y": [
          5.696289165166949
         ],
         "yaxis": "y"
        },
        {
         "hovertemplate": "color=Dallas Cowboys<br>W=%{x}<br>Predicted W=%{y}<extra></extra>",
         "legendgroup": "Dallas Cowboys",
         "marker": {
          "color": "#636efa",
          "symbol": "circle"
         },
         "mode": "markers",
         "name": "Dallas Cowboys",
         "orientation": "v",
         "showlegend": true,
         "type": "scatter",
         "x": [
          8
         ],
         "xaxis": "x",
         "y": [
          8.09255012085882
         ],
         "yaxis": "y"
        },
        {
         "hovertemplate": "color=Minnesota Vikings<br>W=%{x}<br>Predicted W=%{y}<extra></extra>",
         "legendgroup": "Minnesota Vikings",
         "marker": {
          "color": "#EF553B",
          "symbol": "circle"
         },
         "mode": "markers",
         "name": "Minnesota Vikings",
         "orientation": "v",
         "showlegend": true,
         "type": "scatter",
         "x": [
          6
         ],
         "xaxis": "x",
         "y": [
          5.757964874419699
         ],
         "yaxis": "y"
        },
        {
         "hovertemplate": "color=Seattle Seahawks<br>W=%{x}<br>Predicted W=%{y}<extra></extra>",
         "legendgroup": "Seattle Seahawks",
         "marker": {
          "color": "#00cc96",
          "symbol": "circle"
         },
         "mode": "markers",
         "name": "Seattle Seahawks",
         "orientation": "v",
         "showlegend": true,
         "type": "scatter",
         "x": [
          6
         ],
         "xaxis": "x",
         "y": [
          5.8444661723214715
         ],
         "yaxis": "y"
        },
        {
         "hovertemplate": "color=Green Bay Packers<br>W=%{x}<br>Predicted W=%{y}<extra></extra>",
         "legendgroup": "Green Bay Packers",
         "marker": {
          "color": "#ab63fa",
          "symbol": "circle"
         },
         "mode": "markers",
         "name": "Green Bay Packers",
         "orientation": "v",
         "showlegend": true,
         "type": "scatter",
         "x": [
          5
         ],
         "xaxis": "x",
         "y": [
          4.828476093826218
         ],
         "yaxis": "y"
        },
        {
         "hovertemplate": "color=Los Angeles Rams<br>W=%{x}<br>Predicted W=%{y}<extra></extra>",
         "legendgroup": "Los Angeles Rams",
         "marker": {
          "color": "#FFA15A",
          "symbol": "circle"
         },
         "mode": "markers",
         "name": "Los Angeles Rams",
         "orientation": "v",
         "showlegend": true,
         "type": "scatter",
         "x": [
          4
         ],
         "xaxis": "x",
         "y": [
          3.8185770205414826
         ],
         "yaxis": "y"
        },
        {
         "hovertemplate": "color=Atlanta Falcons<br>W=%{x}<br>Predicted W=%{y}<extra></extra>",
         "legendgroup": "Atlanta Falcons",
         "marker": {
          "color": "#19d3f3",
          "symbol": "circle"
         },
         "mode": "markers",
         "name": "Atlanta Falcons",
         "orientation": "v",
         "showlegend": true,
         "type": "scatter",
         "x": [
          4
         ],
         "xaxis": "x",
         "y": [
          4.695161389956041
         ],
         "yaxis": "y"
        },
        {
         "hovertemplate": "color=Tampa Bay Buccaneers<br>W=%{x}<br>Predicted W=%{y}<extra></extra>",
         "legendgroup": "Tampa Bay Buccaneers",
         "marker": {
          "color": "#FF6692",
          "symbol": "circle"
         },
         "mode": "markers",
         "name": "Tampa Bay Buccaneers",
         "orientation": "v",
         "showlegend": true,
         "type": "scatter",
         "x": [
          4
         ],
         "xaxis": "x",
         "y": [
          3.7329658186183323
         ],
         "yaxis": "y"
        },
        {
         "hovertemplate": "color=Washington Commanders<br>W=%{x}<br>Predicted W=%{y}<extra></extra>",
         "legendgroup": "Washington Commanders",
         "marker": {
          "color": "#B6E880",
          "symbol": "circle"
         },
         "mode": "markers",
         "name": "Washington Commanders",
         "orientation": "v",
         "showlegend": true,
         "type": "scatter",
         "x": [
          4
         ],
         "xaxis": "x",
         "y": [
          3.2056319933152864
         ],
         "yaxis": "y"
        },
        {
         "hovertemplate": "color=New York Giants<br>W=%{x}<br>Predicted W=%{y}<extra></extra>",
         "legendgroup": "New York Giants",
         "marker": {
          "color": "#FF97FF",
          "symbol": "circle"
         },
         "mode": "markers",
         "name": "New York Giants",
         "orientation": "v",
         "showlegend": true,
         "type": "scatter",
         "x": [
          3
         ],
         "xaxis": "x",
         "y": [
          2.5694554594077417
         ],
         "yaxis": "y"
        },
        {
         "hovertemplate": "color=Chicago Bears<br>W=%{x}<br>Predicted W=%{y}<extra></extra>",
         "legendgroup": "Chicago Bears",
         "marker": {
          "color": "#FECB52",
          "symbol": "circle"
         },
         "mode": "markers",
         "name": "Chicago Bears",
         "orientation": "v",
         "showlegend": true,
         "type": "scatter",
         "x": [
          3
         ],
         "xaxis": "x",
         "y": [
          3.4569629658221537
         ],
         "yaxis": "y"
        },
        {
         "hovertemplate": "color=Arizona Cardinals<br>W=%{x}<br>Predicted W=%{y}<extra></extra>",
         "legendgroup": "Arizona Cardinals",
         "marker": {
          "color": "#636efa",
          "symbol": "circle"
         },
         "mode": "markers",
         "name": "Arizona Cardinals",
         "orientation": "v",
         "showlegend": true,
         "type": "scatter",
         "x": [
          2
         ],
         "xaxis": "x",
         "y": [
          0.9569378333328586
         ],
         "yaxis": "y"
        },
        {
         "hovertemplate": "color=Carolina Panthers<br>W=%{x}<br>Predicted W=%{y}<extra></extra>",
         "legendgroup": "Carolina Panthers",
         "marker": {
          "color": "#EF553B",
          "symbol": "circle"
         },
         "mode": "markers",
         "name": "Carolina Panthers",
         "orientation": "v",
         "showlegend": true,
         "type": "scatter",
         "x": [
          1
         ],
         "xaxis": "x",
         "y": [
          1.8674753315718746
         ],
         "yaxis": "y"
        },
        {
         "mode": "lines",
         "type": "scatter",
         "x": [
          8,
          7,
          7,
          7,
          7,
          6,
          6,
          6,
          5,
          5,
          5,
          5,
          4,
          4,
          3,
          2,
          9,
          8,
          8,
          5,
          8,
          6,
          6,
          5,
          4,
          4,
          4,
          4,
          3,
          3,
          2,
          1
         ],
         "y": [
          8,
          7,
          7,
          7,
          7,
          6,
          6,
          6,
          5,
          5,
          5,
          5,
          4,
          4,
          3,
          2,
          9,
          8,
          8,
          5,
          8,
          6,
          6,
          5,
          4,
          4,
          4,
          4,
          3,
          3,
          2,
          1
         ]
        }
       ],
       "layout": {
        "legend": {
         "title": {
          "text": "color"
         },
         "tracegroupgap": 0
        },
        "margin": {
         "t": 60
        },
        "template": {
         "data": {
          "bar": [
           {
            "error_x": {
             "color": "#2a3f5f"
            },
            "error_y": {
             "color": "#2a3f5f"
            },
            "marker": {
             "line": {
              "color": "#E5ECF6",
              "width": 0.5
             },
             "pattern": {
              "fillmode": "overlay",
              "size": 10,
              "solidity": 0.2
             }
            },
            "type": "bar"
           }
          ],
          "barpolar": [
           {
            "marker": {
             "line": {
              "color": "#E5ECF6",
              "width": 0.5
             },
             "pattern": {
              "fillmode": "overlay",
              "size": 10,
              "solidity": 0.2
             }
            },
            "type": "barpolar"
           }
          ],
          "carpet": [
           {
            "aaxis": {
             "endlinecolor": "#2a3f5f",
             "gridcolor": "white",
             "linecolor": "white",
             "minorgridcolor": "white",
             "startlinecolor": "#2a3f5f"
            },
            "baxis": {
             "endlinecolor": "#2a3f5f",
             "gridcolor": "white",
             "linecolor": "white",
             "minorgridcolor": "white",
             "startlinecolor": "#2a3f5f"
            },
            "type": "carpet"
           }
          ],
          "choropleth": [
           {
            "colorbar": {
             "outlinewidth": 0,
             "ticks": ""
            },
            "type": "choropleth"
           }
          ],
          "contour": [
           {
            "colorbar": {
             "outlinewidth": 0,
             "ticks": ""
            },
            "colorscale": [
             [
              0,
              "#0d0887"
             ],
             [
              0.1111111111111111,
              "#46039f"
             ],
             [
              0.2222222222222222,
              "#7201a8"
             ],
             [
              0.3333333333333333,
              "#9c179e"
             ],
             [
              0.4444444444444444,
              "#bd3786"
             ],
             [
              0.5555555555555556,
              "#d8576b"
             ],
             [
              0.6666666666666666,
              "#ed7953"
             ],
             [
              0.7777777777777778,
              "#fb9f3a"
             ],
             [
              0.8888888888888888,
              "#fdca26"
             ],
             [
              1,
              "#f0f921"
             ]
            ],
            "type": "contour"
           }
          ],
          "contourcarpet": [
           {
            "colorbar": {
             "outlinewidth": 0,
             "ticks": ""
            },
            "type": "contourcarpet"
           }
          ],
          "heatmap": [
           {
            "colorbar": {
             "outlinewidth": 0,
             "ticks": ""
            },
            "colorscale": [
             [
              0,
              "#0d0887"
             ],
             [
              0.1111111111111111,
              "#46039f"
             ],
             [
              0.2222222222222222,
              "#7201a8"
             ],
             [
              0.3333333333333333,
              "#9c179e"
             ],
             [
              0.4444444444444444,
              "#bd3786"
             ],
             [
              0.5555555555555556,
              "#d8576b"
             ],
             [
              0.6666666666666666,
              "#ed7953"
             ],
             [
              0.7777777777777778,
              "#fb9f3a"
             ],
             [
              0.8888888888888888,
              "#fdca26"
             ],
             [
              1,
              "#f0f921"
             ]
            ],
            "type": "heatmap"
           }
          ],
          "heatmapgl": [
           {
            "colorbar": {
             "outlinewidth": 0,
             "ticks": ""
            },
            "colorscale": [
             [
              0,
              "#0d0887"
             ],
             [
              0.1111111111111111,
              "#46039f"
             ],
             [
              0.2222222222222222,
              "#7201a8"
             ],
             [
              0.3333333333333333,
              "#9c179e"
             ],
             [
              0.4444444444444444,
              "#bd3786"
             ],
             [
              0.5555555555555556,
              "#d8576b"
             ],
             [
              0.6666666666666666,
              "#ed7953"
             ],
             [
              0.7777777777777778,
              "#fb9f3a"
             ],
             [
              0.8888888888888888,
              "#fdca26"
             ],
             [
              1,
              "#f0f921"
             ]
            ],
            "type": "heatmapgl"
           }
          ],
          "histogram": [
           {
            "marker": {
             "pattern": {
              "fillmode": "overlay",
              "size": 10,
              "solidity": 0.2
             }
            },
            "type": "histogram"
           }
          ],
          "histogram2d": [
           {
            "colorbar": {
             "outlinewidth": 0,
             "ticks": ""
            },
            "colorscale": [
             [
              0,
              "#0d0887"
             ],
             [
              0.1111111111111111,
              "#46039f"
             ],
             [
              0.2222222222222222,
              "#7201a8"
             ],
             [
              0.3333333333333333,
              "#9c179e"
             ],
             [
              0.4444444444444444,
              "#bd3786"
             ],
             [
              0.5555555555555556,
              "#d8576b"
             ],
             [
              0.6666666666666666,
              "#ed7953"
             ],
             [
              0.7777777777777778,
              "#fb9f3a"
             ],
             [
              0.8888888888888888,
              "#fdca26"
             ],
             [
              1,
              "#f0f921"
             ]
            ],
            "type": "histogram2d"
           }
          ],
          "histogram2dcontour": [
           {
            "colorbar": {
             "outlinewidth": 0,
             "ticks": ""
            },
            "colorscale": [
             [
              0,
              "#0d0887"
             ],
             [
              0.1111111111111111,
              "#46039f"
             ],
             [
              0.2222222222222222,
              "#7201a8"
             ],
             [
              0.3333333333333333,
              "#9c179e"
             ],
             [
              0.4444444444444444,
              "#bd3786"
             ],
             [
              0.5555555555555556,
              "#d8576b"
             ],
             [
              0.6666666666666666,
              "#ed7953"
             ],
             [
              0.7777777777777778,
              "#fb9f3a"
             ],
             [
              0.8888888888888888,
              "#fdca26"
             ],
             [
              1,
              "#f0f921"
             ]
            ],
            "type": "histogram2dcontour"
           }
          ],
          "mesh3d": [
           {
            "colorbar": {
             "outlinewidth": 0,
             "ticks": ""
            },
            "type": "mesh3d"
           }
          ],
          "parcoords": [
           {
            "line": {
             "colorbar": {
              "outlinewidth": 0,
              "ticks": ""
             }
            },
            "type": "parcoords"
           }
          ],
          "pie": [
           {
            "automargin": true,
            "type": "pie"
           }
          ],
          "scatter": [
           {
            "fillpattern": {
             "fillmode": "overlay",
             "size": 10,
             "solidity": 0.2
            },
            "type": "scatter"
           }
          ],
          "scatter3d": [
           {
            "line": {
             "colorbar": {
              "outlinewidth": 0,
              "ticks": ""
             }
            },
            "marker": {
             "colorbar": {
              "outlinewidth": 0,
              "ticks": ""
             }
            },
            "type": "scatter3d"
           }
          ],
          "scattercarpet": [
           {
            "marker": {
             "colorbar": {
              "outlinewidth": 0,
              "ticks": ""
             }
            },
            "type": "scattercarpet"
           }
          ],
          "scattergeo": [
           {
            "marker": {
             "colorbar": {
              "outlinewidth": 0,
              "ticks": ""
             }
            },
            "type": "scattergeo"
           }
          ],
          "scattergl": [
           {
            "marker": {
             "colorbar": {
              "outlinewidth": 0,
              "ticks": ""
             }
            },
            "type": "scattergl"
           }
          ],
          "scattermapbox": [
           {
            "marker": {
             "colorbar": {
              "outlinewidth": 0,
              "ticks": ""
             }
            },
            "type": "scattermapbox"
           }
          ],
          "scatterpolar": [
           {
            "marker": {
             "colorbar": {
              "outlinewidth": 0,
              "ticks": ""
             }
            },
            "type": "scatterpolar"
           }
          ],
          "scatterpolargl": [
           {
            "marker": {
             "colorbar": {
              "outlinewidth": 0,
              "ticks": ""
             }
            },
            "type": "scatterpolargl"
           }
          ],
          "scatterternary": [
           {
            "marker": {
             "colorbar": {
              "outlinewidth": 0,
              "ticks": ""
             }
            },
            "type": "scatterternary"
           }
          ],
          "surface": [
           {
            "colorbar": {
             "outlinewidth": 0,
             "ticks": ""
            },
            "colorscale": [
             [
              0,
              "#0d0887"
             ],
             [
              0.1111111111111111,
              "#46039f"
             ],
             [
              0.2222222222222222,
              "#7201a8"
             ],
             [
              0.3333333333333333,
              "#9c179e"
             ],
             [
              0.4444444444444444,
              "#bd3786"
             ],
             [
              0.5555555555555556,
              "#d8576b"
             ],
             [
              0.6666666666666666,
              "#ed7953"
             ],
             [
              0.7777777777777778,
              "#fb9f3a"
             ],
             [
              0.8888888888888888,
              "#fdca26"
             ],
             [
              1,
              "#f0f921"
             ]
            ],
            "type": "surface"
           }
          ],
          "table": [
           {
            "cells": {
             "fill": {
              "color": "#EBF0F8"
             },
             "line": {
              "color": "white"
             }
            },
            "header": {
             "fill": {
              "color": "#C8D4E3"
             },
             "line": {
              "color": "white"
             }
            },
            "type": "table"
           }
          ]
         },
         "layout": {
          "annotationdefaults": {
           "arrowcolor": "#2a3f5f",
           "arrowhead": 0,
           "arrowwidth": 1
          },
          "autotypenumbers": "strict",
          "coloraxis": {
           "colorbar": {
            "outlinewidth": 0,
            "ticks": ""
           }
          },
          "colorscale": {
           "diverging": [
            [
             0,
             "#8e0152"
            ],
            [
             0.1,
             "#c51b7d"
            ],
            [
             0.2,
             "#de77ae"
            ],
            [
             0.3,
             "#f1b6da"
            ],
            [
             0.4,
             "#fde0ef"
            ],
            [
             0.5,
             "#f7f7f7"
            ],
            [
             0.6,
             "#e6f5d0"
            ],
            [
             0.7,
             "#b8e186"
            ],
            [
             0.8,
             "#7fbc41"
            ],
            [
             0.9,
             "#4d9221"
            ],
            [
             1,
             "#276419"
            ]
           ],
           "sequential": [
            [
             0,
             "#0d0887"
            ],
            [
             0.1111111111111111,
             "#46039f"
            ],
            [
             0.2222222222222222,
             "#7201a8"
            ],
            [
             0.3333333333333333,
             "#9c179e"
            ],
            [
             0.4444444444444444,
             "#bd3786"
            ],
            [
             0.5555555555555556,
             "#d8576b"
            ],
            [
             0.6666666666666666,
             "#ed7953"
            ],
            [
             0.7777777777777778,
             "#fb9f3a"
            ],
            [
             0.8888888888888888,
             "#fdca26"
            ],
            [
             1,
             "#f0f921"
            ]
           ],
           "sequentialminus": [
            [
             0,
             "#0d0887"
            ],
            [
             0.1111111111111111,
             "#46039f"
            ],
            [
             0.2222222222222222,
             "#7201a8"
            ],
            [
             0.3333333333333333,
             "#9c179e"
            ],
            [
             0.4444444444444444,
             "#bd3786"
            ],
            [
             0.5555555555555556,
             "#d8576b"
            ],
            [
             0.6666666666666666,
             "#ed7953"
            ],
            [
             0.7777777777777778,
             "#fb9f3a"
            ],
            [
             0.8888888888888888,
             "#fdca26"
            ],
            [
             1,
             "#f0f921"
            ]
           ]
          },
          "colorway": [
           "#636efa",
           "#EF553B",
           "#00cc96",
           "#ab63fa",
           "#FFA15A",
           "#19d3f3",
           "#FF6692",
           "#B6E880",
           "#FF97FF",
           "#FECB52"
          ],
          "font": {
           "color": "#2a3f5f"
          },
          "geo": {
           "bgcolor": "white",
           "lakecolor": "white",
           "landcolor": "#E5ECF6",
           "showlakes": true,
           "showland": true,
           "subunitcolor": "white"
          },
          "hoverlabel": {
           "align": "left"
          },
          "hovermode": "closest",
          "mapbox": {
           "style": "light"
          },
          "paper_bgcolor": "white",
          "plot_bgcolor": "#E5ECF6",
          "polar": {
           "angularaxis": {
            "gridcolor": "white",
            "linecolor": "white",
            "ticks": ""
           },
           "bgcolor": "#E5ECF6",
           "radialaxis": {
            "gridcolor": "white",
            "linecolor": "white",
            "ticks": ""
           }
          },
          "scene": {
           "xaxis": {
            "backgroundcolor": "#E5ECF6",
            "gridcolor": "white",
            "gridwidth": 2,
            "linecolor": "white",
            "showbackground": true,
            "ticks": "",
            "zerolinecolor": "white"
           },
           "yaxis": {
            "backgroundcolor": "#E5ECF6",
            "gridcolor": "white",
            "gridwidth": 2,
            "linecolor": "white",
            "showbackground": true,
            "ticks": "",
            "zerolinecolor": "white"
           },
           "zaxis": {
            "backgroundcolor": "#E5ECF6",
            "gridcolor": "white",
            "gridwidth": 2,
            "linecolor": "white",
            "showbackground": true,
            "ticks": "",
            "zerolinecolor": "white"
           }
          },
          "shapedefaults": {
           "line": {
            "color": "#2a3f5f"
           }
          },
          "ternary": {
           "aaxis": {
            "gridcolor": "white",
            "linecolor": "white",
            "ticks": ""
           },
           "baxis": {
            "gridcolor": "white",
            "linecolor": "white",
            "ticks": ""
           },
           "bgcolor": "#E5ECF6",
           "caxis": {
            "gridcolor": "white",
            "linecolor": "white",
            "ticks": ""
           }
          },
          "title": {
           "x": 0.05
          },
          "xaxis": {
           "automargin": true,
           "gridcolor": "white",
           "linecolor": "white",
           "ticks": "",
           "title": {
            "standoff": 15
           },
           "zerolinecolor": "white",
           "zerolinewidth": 2
          },
          "yaxis": {
           "automargin": true,
           "gridcolor": "white",
           "linecolor": "white",
           "ticks": "",
           "title": {
            "standoff": 15
           },
           "zerolinecolor": "white",
           "zerolinewidth": 2
          }
         }
        },
        "xaxis": {
         "anchor": "y",
         "domain": [
          0,
          1
         ],
         "title": {
          "text": "W"
         }
        },
        "yaxis": {
         "anchor": "x",
         "domain": [
          0,
          1
         ],
         "title": {
          "text": "Predicted W"
         }
        }
       }
      }
     },
     "metadata": {},
     "output_type": "display_data"
    }
   ],
   "source": [
    "fig = px.scatter(\n",
    "    x=Y_O,\n",
    "    y=Y_hat_O,\n",
    "    color=All_Offense_data.index,\n",
    "    labels = {\n",
    "        \"x\": \"W\",\n",
    "        \"y\": \"Predicted W\"\n",
    "    }\n",
    ")\n",
    "\n",
    "fig.add_trace(\n",
    "    go.Scatter(\n",
    "        x=Y_O,\n",
    "        y=Y_O,\n",
    "        mode=\"lines\"\n",
    "    )\n",
    ")\n",
    "\n",
    "fig.show()"
   ]
  },
  {
   "cell_type": "code",
   "execution_count": 150,
   "metadata": {},
   "outputs": [
    {
     "data": {
      "application/vnd.plotly.v1+json": {
       "config": {
        "plotlyServerURL": "https://plot.ly"
       },
       "data": [
        {
         "hovertemplate": "color=Baltimore Ravens<br>W=%{x}<br>Predicted W=%{y}<extra></extra>",
         "legendgroup": "Baltimore Ravens",
         "marker": {
          "color": "#636efa",
          "symbol": "circle"
         },
         "mode": "markers",
         "name": "Baltimore Ravens",
         "orientation": "v",
         "showlegend": true,
         "type": "scatter",
         "x": [
          8
         ],
         "xaxis": "x",
         "y": [
          8.728382896629425
         ],
         "yaxis": "y"
        },
        {
         "hovertemplate": "color=Kansas City Chiefs<br>W=%{x}<br>Predicted W=%{y}<extra></extra>",
         "legendgroup": "Kansas City Chiefs",
         "marker": {
          "color": "#EF553B",
          "symbol": "circle"
         },
         "mode": "markers",
         "name": "Kansas City Chiefs",
         "orientation": "v",
         "showlegend": true,
         "type": "scatter",
         "x": [
          7
         ],
         "xaxis": "x",
         "y": [
          7.265217494141924
         ],
         "yaxis": "y"
        },
        {
         "hovertemplate": "color=Jacksonville Jaguars<br>W=%{x}<br>Predicted W=%{y}<extra></extra>",
         "legendgroup": "Jacksonville Jaguars",
         "marker": {
          "color": "#00cc96",
          "symbol": "circle"
         },
         "mode": "markers",
         "name": "Jacksonville Jaguars",
         "orientation": "v",
         "showlegend": true,
         "type": "scatter",
         "x": [
          7
         ],
         "xaxis": "x",
         "y": [
          7.242682639584045
         ],
         "yaxis": "y"
        },
        {
         "hovertemplate": "color=Miami Dolphins<br>W=%{x}<br>Predicted W=%{y}<extra></extra>",
         "legendgroup": "Miami Dolphins",
         "marker": {
          "color": "#ab63fa",
          "symbol": "circle"
         },
         "mode": "markers",
         "name": "Miami Dolphins",
         "orientation": "v",
         "showlegend": true,
         "type": "scatter",
         "x": [
          7
         ],
         "xaxis": "x",
         "y": [
          6.53620925322912
         ],
         "yaxis": "y"
        },
        {
         "hovertemplate": "color=Cleveland Browns<br>W=%{x}<br>Predicted W=%{y}<extra></extra>",
         "legendgroup": "Cleveland Browns",
         "marker": {
          "color": "#FFA15A",
          "symbol": "circle"
         },
         "mode": "markers",
         "name": "Cleveland Browns",
         "orientation": "v",
         "showlegend": true,
         "type": "scatter",
         "x": [
          7
         ],
         "xaxis": "x",
         "y": [
          7.049312500702655
         ],
         "yaxis": "y"
        },
        {
         "hovertemplate": "color=Houston Texans<br>W=%{x}<br>Predicted W=%{y}<extra></extra>",
         "legendgroup": "Houston Texans",
         "marker": {
          "color": "#19d3f3",
          "symbol": "circle"
         },
         "mode": "markers",
         "name": "Houston Texans",
         "orientation": "v",
         "showlegend": true,
         "type": "scatter",
         "x": [
          6
         ],
         "xaxis": "x",
         "y": [
          4.974166798414938
         ],
         "yaxis": "y"
        },
        {
         "hovertemplate": "color=Pittsburgh Steelers<br>W=%{x}<br>Predicted W=%{y}<extra></extra>",
         "legendgroup": "Pittsburgh Steelers",
         "marker": {
          "color": "#FF6692",
          "symbol": "circle"
         },
         "mode": "markers",
         "name": "Pittsburgh Steelers",
         "orientation": "v",
         "showlegend": true,
         "type": "scatter",
         "x": [
          6
         ],
         "xaxis": "x",
         "y": [
          6.089110249732416
         ],
         "yaxis": "y"
        },
        {
         "hovertemplate": "color=Buffalo Bills<br>W=%{x}<br>Predicted W=%{y}<extra></extra>",
         "legendgroup": "Buffalo Bills",
         "marker": {
          "color": "#B6E880",
          "symbol": "circle"
         },
         "mode": "markers",
         "name": "Buffalo Bills",
         "orientation": "v",
         "showlegend": true,
         "type": "scatter",
         "x": [
          6
         ],
         "xaxis": "x",
         "y": [
          5.162986992349078
         ],
         "yaxis": "y"
        },
        {
         "hovertemplate": "color=Indianapolis Colts<br>W=%{x}<br>Predicted W=%{y}<extra></extra>",
         "legendgroup": "Indianapolis Colts",
         "marker": {
          "color": "#FF97FF",
          "symbol": "circle"
         },
         "mode": "markers",
         "name": "Indianapolis Colts",
         "orientation": "v",
         "showlegend": true,
         "type": "scatter",
         "x": [
          5
         ],
         "xaxis": "x",
         "y": [
          4.3290424725446615
         ],
         "yaxis": "y"
        },
        {
         "hovertemplate": "color=Denver Broncos<br>W=%{x}<br>Predicted W=%{y}<extra></extra>",
         "legendgroup": "Denver Broncos",
         "marker": {
          "color": "#FECB52",
          "symbol": "circle"
         },
         "mode": "markers",
         "name": "Denver Broncos",
         "orientation": "v",
         "showlegend": true,
         "type": "scatter",
         "x": [
          5
         ],
         "xaxis": "x",
         "y": [
          4.90026302565136
         ],
         "yaxis": "y"
        },
        {
         "hovertemplate": "color=Cincinnati Bengals<br>W=%{x}<br>Predicted W=%{y}<extra></extra>",
         "legendgroup": "Cincinnati Bengals",
         "marker": {
          "color": "#636efa",
          "symbol": "circle"
         },
         "mode": "markers",
         "name": "Cincinnati Bengals",
         "orientation": "v",
         "showlegend": true,
         "type": "scatter",
         "x": [
          5
         ],
         "xaxis": "x",
         "y": [
          4.6584291768804365
         ],
         "yaxis": "y"
        },
        {
         "hovertemplate": "color=Las Vegas Raiders<br>W=%{x}<br>Predicted W=%{y}<extra></extra>",
         "legendgroup": "Las Vegas Raiders",
         "marker": {
          "color": "#EF553B",
          "symbol": "circle"
         },
         "mode": "markers",
         "name": "Las Vegas Raiders",
         "orientation": "v",
         "showlegend": true,
         "type": "scatter",
         "x": [
          5
         ],
         "xaxis": "x",
         "y": [
          5.0885505030945115
         ],
         "yaxis": "y"
        },
        {
         "hovertemplate": "color=Los Angeles Chargers<br>W=%{x}<br>Predicted W=%{y}<extra></extra>",
         "legendgroup": "Los Angeles Chargers",
         "marker": {
          "color": "#00cc96",
          "symbol": "circle"
         },
         "mode": "markers",
         "name": "Los Angeles Chargers",
         "orientation": "v",
         "showlegend": true,
         "type": "scatter",
         "x": [
          4
         ],
         "xaxis": "x",
         "y": [
          5.3121992241060125
         ],
         "yaxis": "y"
        },
        {
         "hovertemplate": "color=New York Jets<br>W=%{x}<br>Predicted W=%{y}<extra></extra>",
         "legendgroup": "New York Jets",
         "marker": {
          "color": "#ab63fa",
          "symbol": "circle"
         },
         "mode": "markers",
         "name": "New York Jets",
         "orientation": "v",
         "showlegend": true,
         "type": "scatter",
         "x": [
          4
         ],
         "xaxis": "x",
         "y": [
          4.454933572585967
         ],
         "yaxis": "y"
        },
        {
         "hovertemplate": "color=Tennessee Titans<br>W=%{x}<br>Predicted W=%{y}<extra></extra>",
         "legendgroup": "Tennessee Titans",
         "marker": {
          "color": "#FFA15A",
          "symbol": "circle"
         },
         "mode": "markers",
         "name": "Tennessee Titans",
         "orientation": "v",
         "showlegend": true,
         "type": "scatter",
         "x": [
          3
         ],
         "xaxis": "x",
         "y": [
          3.25038373336476
         ],
         "yaxis": "y"
        },
        {
         "hovertemplate": "color=New England Patriots<br>W=%{x}<br>Predicted W=%{y}<extra></extra>",
         "legendgroup": "New England Patriots",
         "marker": {
          "color": "#19d3f3",
          "symbol": "circle"
         },
         "mode": "markers",
         "name": "New England Patriots",
         "orientation": "v",
         "showlegend": true,
         "type": "scatter",
         "x": [
          2
         ],
         "xaxis": "x",
         "y": [
          2.0696168134918382
         ],
         "yaxis": "y"
        },
        {
         "hovertemplate": "color=Philadelphia Eagles<br>W=%{x}<br>Predicted W=%{y}<extra></extra>",
         "legendgroup": "Philadelphia Eagles",
         "marker": {
          "color": "#FF6692",
          "symbol": "circle"
         },
         "mode": "markers",
         "name": "Philadelphia Eagles",
         "orientation": "v",
         "showlegend": true,
         "type": "scatter",
         "x": [
          9
         ],
         "xaxis": "x",
         "y": [
          8.097902109146135
         ],
         "yaxis": "y"
        },
        {
         "hovertemplate": "color=San Francisco 49ers<br>W=%{x}<br>Predicted W=%{y}<extra></extra>",
         "legendgroup": "San Francisco 49ers",
         "marker": {
          "color": "#B6E880",
          "symbol": "circle"
         },
         "mode": "markers",
         "name": "San Francisco 49ers",
         "orientation": "v",
         "showlegend": true,
         "type": "scatter",
         "x": [
          8
         ],
         "xaxis": "x",
         "y": [
          8.872406085138111
         ],
         "yaxis": "y"
        },
        {
         "hovertemplate": "color=Detroit Lions<br>W=%{x}<br>Predicted W=%{y}<extra></extra>",
         "legendgroup": "Detroit Lions",
         "marker": {
          "color": "#FF97FF",
          "symbol": "circle"
         },
         "mode": "markers",
         "name": "Detroit Lions",
         "orientation": "v",
         "showlegend": true,
         "type": "scatter",
         "x": [
          8
         ],
         "xaxis": "x",
         "y": [
          7.41454841567888
         ],
         "yaxis": "y"
        },
        {
         "hovertemplate": "color=New Orleans Saints<br>W=%{x}<br>Predicted W=%{y}<extra></extra>",
         "legendgroup": "New Orleans Saints",
         "marker": {
          "color": "#FECB52",
          "symbol": "circle"
         },
         "mode": "markers",
         "name": "New Orleans Saints",
         "orientation": "v",
         "showlegend": true,
         "type": "scatter",
         "x": [
          5
         ],
         "xaxis": "x",
         "y": [
          3.9134210380893912
         ],
         "yaxis": "y"
        },
        {
         "hovertemplate": "color=Dallas Cowboys<br>W=%{x}<br>Predicted W=%{y}<extra></extra>",
         "legendgroup": "Dallas Cowboys",
         "marker": {
          "color": "#636efa",
          "symbol": "circle"
         },
         "mode": "markers",
         "name": "Dallas Cowboys",
         "orientation": "v",
         "showlegend": true,
         "type": "scatter",
         "x": [
          8
         ],
         "xaxis": "x",
         "y": [
          8.106058778142913
         ],
         "yaxis": "y"
        },
        {
         "hovertemplate": "color=Minnesota Vikings<br>W=%{x}<br>Predicted W=%{y}<extra></extra>",
         "legendgroup": "Minnesota Vikings",
         "marker": {
          "color": "#EF553B",
          "symbol": "circle"
         },
         "mode": "markers",
         "name": "Minnesota Vikings",
         "orientation": "v",
         "showlegend": true,
         "type": "scatter",
         "x": [
          6
         ],
         "xaxis": "x",
         "y": [
          5.181893361430326
         ],
         "yaxis": "y"
        },
        {
         "hovertemplate": "color=Seattle Seahawks<br>W=%{x}<br>Predicted W=%{y}<extra></extra>",
         "legendgroup": "Seattle Seahawks",
         "marker": {
          "color": "#00cc96",
          "symbol": "circle"
         },
         "mode": "markers",
         "name": "Seattle Seahawks",
         "orientation": "v",
         "showlegend": true,
         "type": "scatter",
         "x": [
          6
         ],
         "xaxis": "x",
         "y": [
          5.321840268668131
         ],
         "yaxis": "y"
        },
        {
         "hovertemplate": "color=Green Bay Packers<br>W=%{x}<br>Predicted W=%{y}<extra></extra>",
         "legendgroup": "Green Bay Packers",
         "marker": {
          "color": "#ab63fa",
          "symbol": "circle"
         },
         "mode": "markers",
         "name": "Green Bay Packers",
         "orientation": "v",
         "showlegend": true,
         "type": "scatter",
         "x": [
          5
         ],
         "xaxis": "x",
         "y": [
          4.729149261227213
         ],
         "yaxis": "y"
        },
        {
         "hovertemplate": "color=Los Angeles Rams<br>W=%{x}<br>Predicted W=%{y}<extra></extra>",
         "legendgroup": "Los Angeles Rams",
         "marker": {
          "color": "#FFA15A",
          "symbol": "circle"
         },
         "mode": "markers",
         "name": "Los Angeles Rams",
         "orientation": "v",
         "showlegend": true,
         "type": "scatter",
         "x": [
          4
         ],
         "xaxis": "x",
         "y": [
          3.0894094771648053
         ],
         "yaxis": "y"
        },
        {
         "hovertemplate": "color=Atlanta Falcons<br>W=%{x}<br>Predicted W=%{y}<extra></extra>",
         "legendgroup": "Atlanta Falcons",
         "marker": {
          "color": "#19d3f3",
          "symbol": "circle"
         },
         "mode": "markers",
         "name": "Atlanta Falcons",
         "orientation": "v",
         "showlegend": true,
         "type": "scatter",
         "x": [
          4
         ],
         "xaxis": "x",
         "y": [
          4.043251588802866
         ],
         "yaxis": "y"
        },
        {
         "hovertemplate": "color=Tampa Bay Buccaneers<br>W=%{x}<br>Predicted W=%{y}<extra></extra>",
         "legendgroup": "Tampa Bay Buccaneers",
         "marker": {
          "color": "#FF6692",
          "symbol": "circle"
         },
         "mode": "markers",
         "name": "Tampa Bay Buccaneers",
         "orientation": "v",
         "showlegend": true,
         "type": "scatter",
         "x": [
          4
         ],
         "xaxis": "x",
         "y": [
          5.290422591489965
         ],
         "yaxis": "y"
        },
        {
         "hovertemplate": "color=Washington Commanders<br>W=%{x}<br>Predicted W=%{y}<extra></extra>",
         "legendgroup": "Washington Commanders",
         "marker": {
          "color": "#B6E880",
          "symbol": "circle"
         },
         "mode": "markers",
         "name": "Washington Commanders",
         "orientation": "v",
         "showlegend": true,
         "type": "scatter",
         "x": [
          4
         ],
         "xaxis": "x",
         "y": [
          3.764213631470882
         ],
         "yaxis": "y"
        },
        {
         "hovertemplate": "color=New York Giants<br>W=%{x}<br>Predicted W=%{y}<extra></extra>",
         "legendgroup": "New York Giants",
         "marker": {
          "color": "#FF97FF",
          "symbol": "circle"
         },
         "mode": "markers",
         "name": "New York Giants",
         "orientation": "v",
         "showlegend": true,
         "type": "scatter",
         "x": [
          3
         ],
         "xaxis": "x",
         "y": [
          3.820846155879068
         ],
         "yaxis": "y"
        },
        {
         "hovertemplate": "color=Chicago Bears<br>W=%{x}<br>Predicted W=%{y}<extra></extra>",
         "legendgroup": "Chicago Bears",
         "marker": {
          "color": "#FECB52",
          "symbol": "circle"
         },
         "mode": "markers",
         "name": "Chicago Bears",
         "orientation": "v",
         "showlegend": true,
         "type": "scatter",
         "x": [
          3
         ],
         "xaxis": "x",
         "y": [
          3.627409080635779
         ],
         "yaxis": "y"
        },
        {
         "hovertemplate": "color=Arizona Cardinals<br>W=%{x}<br>Predicted W=%{y}<extra></extra>",
         "legendgroup": "Arizona Cardinals",
         "marker": {
          "color": "#636efa",
          "symbol": "circle"
         },
         "mode": "markers",
         "name": "Arizona Cardinals",
         "orientation": "v",
         "showlegend": true,
         "type": "scatter",
         "x": [
          2
         ],
         "xaxis": "x",
         "y": [
          2.8835733920722264
         ],
         "yaxis": "y"
        },
        {
         "hovertemplate": "color=Carolina Panthers<br>W=%{x}<br>Predicted W=%{y}<extra></extra>",
         "legendgroup": "Carolina Panthers",
         "marker": {
          "color": "#EF553B",
          "symbol": "circle"
         },
         "mode": "markers",
         "name": "Carolina Panthers",
         "orientation": "v",
         "showlegend": true,
         "type": "scatter",
         "x": [
          1
         ],
         "xaxis": "x",
         "y": [
          1.7321674184602847
         ],
         "yaxis": "y"
        },
        {
         "mode": "lines",
         "type": "scatter",
         "x": [
          8,
          7,
          7,
          7,
          7,
          6,
          6,
          6,
          5,
          5,
          5,
          5,
          4,
          4,
          3,
          2,
          9,
          8,
          8,
          5,
          8,
          6,
          6,
          5,
          4,
          4,
          4,
          4,
          3,
          3,
          2,
          1
         ],
         "y": [
          8,
          7,
          7,
          7,
          7,
          6,
          6,
          6,
          5,
          5,
          5,
          5,
          4,
          4,
          3,
          2,
          9,
          8,
          8,
          5,
          8,
          6,
          6,
          5,
          4,
          4,
          4,
          4,
          3,
          3,
          2,
          1
         ]
        }
       ],
       "layout": {
        "legend": {
         "title": {
          "text": "color"
         },
         "tracegroupgap": 0
        },
        "margin": {
         "t": 60
        },
        "template": {
         "data": {
          "bar": [
           {
            "error_x": {
             "color": "#2a3f5f"
            },
            "error_y": {
             "color": "#2a3f5f"
            },
            "marker": {
             "line": {
              "color": "#E5ECF6",
              "width": 0.5
             },
             "pattern": {
              "fillmode": "overlay",
              "size": 10,
              "solidity": 0.2
             }
            },
            "type": "bar"
           }
          ],
          "barpolar": [
           {
            "marker": {
             "line": {
              "color": "#E5ECF6",
              "width": 0.5
             },
             "pattern": {
              "fillmode": "overlay",
              "size": 10,
              "solidity": 0.2
             }
            },
            "type": "barpolar"
           }
          ],
          "carpet": [
           {
            "aaxis": {
             "endlinecolor": "#2a3f5f",
             "gridcolor": "white",
             "linecolor": "white",
             "minorgridcolor": "white",
             "startlinecolor": "#2a3f5f"
            },
            "baxis": {
             "endlinecolor": "#2a3f5f",
             "gridcolor": "white",
             "linecolor": "white",
             "minorgridcolor": "white",
             "startlinecolor": "#2a3f5f"
            },
            "type": "carpet"
           }
          ],
          "choropleth": [
           {
            "colorbar": {
             "outlinewidth": 0,
             "ticks": ""
            },
            "type": "choropleth"
           }
          ],
          "contour": [
           {
            "colorbar": {
             "outlinewidth": 0,
             "ticks": ""
            },
            "colorscale": [
             [
              0,
              "#0d0887"
             ],
             [
              0.1111111111111111,
              "#46039f"
             ],
             [
              0.2222222222222222,
              "#7201a8"
             ],
             [
              0.3333333333333333,
              "#9c179e"
             ],
             [
              0.4444444444444444,
              "#bd3786"
             ],
             [
              0.5555555555555556,
              "#d8576b"
             ],
             [
              0.6666666666666666,
              "#ed7953"
             ],
             [
              0.7777777777777778,
              "#fb9f3a"
             ],
             [
              0.8888888888888888,
              "#fdca26"
             ],
             [
              1,
              "#f0f921"
             ]
            ],
            "type": "contour"
           }
          ],
          "contourcarpet": [
           {
            "colorbar": {
             "outlinewidth": 0,
             "ticks": ""
            },
            "type": "contourcarpet"
           }
          ],
          "heatmap": [
           {
            "colorbar": {
             "outlinewidth": 0,
             "ticks": ""
            },
            "colorscale": [
             [
              0,
              "#0d0887"
             ],
             [
              0.1111111111111111,
              "#46039f"
             ],
             [
              0.2222222222222222,
              "#7201a8"
             ],
             [
              0.3333333333333333,
              "#9c179e"
             ],
             [
              0.4444444444444444,
              "#bd3786"
             ],
             [
              0.5555555555555556,
              "#d8576b"
             ],
             [
              0.6666666666666666,
              "#ed7953"
             ],
             [
              0.7777777777777778,
              "#fb9f3a"
             ],
             [
              0.8888888888888888,
              "#fdca26"
             ],
             [
              1,
              "#f0f921"
             ]
            ],
            "type": "heatmap"
           }
          ],
          "heatmapgl": [
           {
            "colorbar": {
             "outlinewidth": 0,
             "ticks": ""
            },
            "colorscale": [
             [
              0,
              "#0d0887"
             ],
             [
              0.1111111111111111,
              "#46039f"
             ],
             [
              0.2222222222222222,
              "#7201a8"
             ],
             [
              0.3333333333333333,
              "#9c179e"
             ],
             [
              0.4444444444444444,
              "#bd3786"
             ],
             [
              0.5555555555555556,
              "#d8576b"
             ],
             [
              0.6666666666666666,
              "#ed7953"
             ],
             [
              0.7777777777777778,
              "#fb9f3a"
             ],
             [
              0.8888888888888888,
              "#fdca26"
             ],
             [
              1,
              "#f0f921"
             ]
            ],
            "type": "heatmapgl"
           }
          ],
          "histogram": [
           {
            "marker": {
             "pattern": {
              "fillmode": "overlay",
              "size": 10,
              "solidity": 0.2
             }
            },
            "type": "histogram"
           }
          ],
          "histogram2d": [
           {
            "colorbar": {
             "outlinewidth": 0,
             "ticks": ""
            },
            "colorscale": [
             [
              0,
              "#0d0887"
             ],
             [
              0.1111111111111111,
              "#46039f"
             ],
             [
              0.2222222222222222,
              "#7201a8"
             ],
             [
              0.3333333333333333,
              "#9c179e"
             ],
             [
              0.4444444444444444,
              "#bd3786"
             ],
             [
              0.5555555555555556,
              "#d8576b"
             ],
             [
              0.6666666666666666,
              "#ed7953"
             ],
             [
              0.7777777777777778,
              "#fb9f3a"
             ],
             [
              0.8888888888888888,
              "#fdca26"
             ],
             [
              1,
              "#f0f921"
             ]
            ],
            "type": "histogram2d"
           }
          ],
          "histogram2dcontour": [
           {
            "colorbar": {
             "outlinewidth": 0,
             "ticks": ""
            },
            "colorscale": [
             [
              0,
              "#0d0887"
             ],
             [
              0.1111111111111111,
              "#46039f"
             ],
             [
              0.2222222222222222,
              "#7201a8"
             ],
             [
              0.3333333333333333,
              "#9c179e"
             ],
             [
              0.4444444444444444,
              "#bd3786"
             ],
             [
              0.5555555555555556,
              "#d8576b"
             ],
             [
              0.6666666666666666,
              "#ed7953"
             ],
             [
              0.7777777777777778,
              "#fb9f3a"
             ],
             [
              0.8888888888888888,
              "#fdca26"
             ],
             [
              1,
              "#f0f921"
             ]
            ],
            "type": "histogram2dcontour"
           }
          ],
          "mesh3d": [
           {
            "colorbar": {
             "outlinewidth": 0,
             "ticks": ""
            },
            "type": "mesh3d"
           }
          ],
          "parcoords": [
           {
            "line": {
             "colorbar": {
              "outlinewidth": 0,
              "ticks": ""
             }
            },
            "type": "parcoords"
           }
          ],
          "pie": [
           {
            "automargin": true,
            "type": "pie"
           }
          ],
          "scatter": [
           {
            "fillpattern": {
             "fillmode": "overlay",
             "size": 10,
             "solidity": 0.2
            },
            "type": "scatter"
           }
          ],
          "scatter3d": [
           {
            "line": {
             "colorbar": {
              "outlinewidth": 0,
              "ticks": ""
             }
            },
            "marker": {
             "colorbar": {
              "outlinewidth": 0,
              "ticks": ""
             }
            },
            "type": "scatter3d"
           }
          ],
          "scattercarpet": [
           {
            "marker": {
             "colorbar": {
              "outlinewidth": 0,
              "ticks": ""
             }
            },
            "type": "scattercarpet"
           }
          ],
          "scattergeo": [
           {
            "marker": {
             "colorbar": {
              "outlinewidth": 0,
              "ticks": ""
             }
            },
            "type": "scattergeo"
           }
          ],
          "scattergl": [
           {
            "marker": {
             "colorbar": {
              "outlinewidth": 0,
              "ticks": ""
             }
            },
            "type": "scattergl"
           }
          ],
          "scattermapbox": [
           {
            "marker": {
             "colorbar": {
              "outlinewidth": 0,
              "ticks": ""
             }
            },
            "type": "scattermapbox"
           }
          ],
          "scatterpolar": [
           {
            "marker": {
             "colorbar": {
              "outlinewidth": 0,
              "ticks": ""
             }
            },
            "type": "scatterpolar"
           }
          ],
          "scatterpolargl": [
           {
            "marker": {
             "colorbar": {
              "outlinewidth": 0,
              "ticks": ""
             }
            },
            "type": "scatterpolargl"
           }
          ],
          "scatterternary": [
           {
            "marker": {
             "colorbar": {
              "outlinewidth": 0,
              "ticks": ""
             }
            },
            "type": "scatterternary"
           }
          ],
          "surface": [
           {
            "colorbar": {
             "outlinewidth": 0,
             "ticks": ""
            },
            "colorscale": [
             [
              0,
              "#0d0887"
             ],
             [
              0.1111111111111111,
              "#46039f"
             ],
             [
              0.2222222222222222,
              "#7201a8"
             ],
             [
              0.3333333333333333,
              "#9c179e"
             ],
             [
              0.4444444444444444,
              "#bd3786"
             ],
             [
              0.5555555555555556,
              "#d8576b"
             ],
             [
              0.6666666666666666,
              "#ed7953"
             ],
             [
              0.7777777777777778,
              "#fb9f3a"
             ],
             [
              0.8888888888888888,
              "#fdca26"
             ],
             [
              1,
              "#f0f921"
             ]
            ],
            "type": "surface"
           }
          ],
          "table": [
           {
            "cells": {
             "fill": {
              "color": "#EBF0F8"
             },
             "line": {
              "color": "white"
             }
            },
            "header": {
             "fill": {
              "color": "#C8D4E3"
             },
             "line": {
              "color": "white"
             }
            },
            "type": "table"
           }
          ]
         },
         "layout": {
          "annotationdefaults": {
           "arrowcolor": "#2a3f5f",
           "arrowhead": 0,
           "arrowwidth": 1
          },
          "autotypenumbers": "strict",
          "coloraxis": {
           "colorbar": {
            "outlinewidth": 0,
            "ticks": ""
           }
          },
          "colorscale": {
           "diverging": [
            [
             0,
             "#8e0152"
            ],
            [
             0.1,
             "#c51b7d"
            ],
            [
             0.2,
             "#de77ae"
            ],
            [
             0.3,
             "#f1b6da"
            ],
            [
             0.4,
             "#fde0ef"
            ],
            [
             0.5,
             "#f7f7f7"
            ],
            [
             0.6,
             "#e6f5d0"
            ],
            [
             0.7,
             "#b8e186"
            ],
            [
             0.8,
             "#7fbc41"
            ],
            [
             0.9,
             "#4d9221"
            ],
            [
             1,
             "#276419"
            ]
           ],
           "sequential": [
            [
             0,
             "#0d0887"
            ],
            [
             0.1111111111111111,
             "#46039f"
            ],
            [
             0.2222222222222222,
             "#7201a8"
            ],
            [
             0.3333333333333333,
             "#9c179e"
            ],
            [
             0.4444444444444444,
             "#bd3786"
            ],
            [
             0.5555555555555556,
             "#d8576b"
            ],
            [
             0.6666666666666666,
             "#ed7953"
            ],
            [
             0.7777777777777778,
             "#fb9f3a"
            ],
            [
             0.8888888888888888,
             "#fdca26"
            ],
            [
             1,
             "#f0f921"
            ]
           ],
           "sequentialminus": [
            [
             0,
             "#0d0887"
            ],
            [
             0.1111111111111111,
             "#46039f"
            ],
            [
             0.2222222222222222,
             "#7201a8"
            ],
            [
             0.3333333333333333,
             "#9c179e"
            ],
            [
             0.4444444444444444,
             "#bd3786"
            ],
            [
             0.5555555555555556,
             "#d8576b"
            ],
            [
             0.6666666666666666,
             "#ed7953"
            ],
            [
             0.7777777777777778,
             "#fb9f3a"
            ],
            [
             0.8888888888888888,
             "#fdca26"
            ],
            [
             1,
             "#f0f921"
            ]
           ]
          },
          "colorway": [
           "#636efa",
           "#EF553B",
           "#00cc96",
           "#ab63fa",
           "#FFA15A",
           "#19d3f3",
           "#FF6692",
           "#B6E880",
           "#FF97FF",
           "#FECB52"
          ],
          "font": {
           "color": "#2a3f5f"
          },
          "geo": {
           "bgcolor": "white",
           "lakecolor": "white",
           "landcolor": "#E5ECF6",
           "showlakes": true,
           "showland": true,
           "subunitcolor": "white"
          },
          "hoverlabel": {
           "align": "left"
          },
          "hovermode": "closest",
          "mapbox": {
           "style": "light"
          },
          "paper_bgcolor": "white",
          "plot_bgcolor": "#E5ECF6",
          "polar": {
           "angularaxis": {
            "gridcolor": "white",
            "linecolor": "white",
            "ticks": ""
           },
           "bgcolor": "#E5ECF6",
           "radialaxis": {
            "gridcolor": "white",
            "linecolor": "white",
            "ticks": ""
           }
          },
          "scene": {
           "xaxis": {
            "backgroundcolor": "#E5ECF6",
            "gridcolor": "white",
            "gridwidth": 2,
            "linecolor": "white",
            "showbackground": true,
            "ticks": "",
            "zerolinecolor": "white"
           },
           "yaxis": {
            "backgroundcolor": "#E5ECF6",
            "gridcolor": "white",
            "gridwidth": 2,
            "linecolor": "white",
            "showbackground": true,
            "ticks": "",
            "zerolinecolor": "white"
           },
           "zaxis": {
            "backgroundcolor": "#E5ECF6",
            "gridcolor": "white",
            "gridwidth": 2,
            "linecolor": "white",
            "showbackground": true,
            "ticks": "",
            "zerolinecolor": "white"
           }
          },
          "shapedefaults": {
           "line": {
            "color": "#2a3f5f"
           }
          },
          "ternary": {
           "aaxis": {
            "gridcolor": "white",
            "linecolor": "white",
            "ticks": ""
           },
           "baxis": {
            "gridcolor": "white",
            "linecolor": "white",
            "ticks": ""
           },
           "bgcolor": "#E5ECF6",
           "caxis": {
            "gridcolor": "white",
            "linecolor": "white",
            "ticks": ""
           }
          },
          "title": {
           "x": 0.05
          },
          "xaxis": {
           "automargin": true,
           "gridcolor": "white",
           "linecolor": "white",
           "ticks": "",
           "title": {
            "standoff": 15
           },
           "zerolinecolor": "white",
           "zerolinewidth": 2
          },
          "yaxis": {
           "automargin": true,
           "gridcolor": "white",
           "linecolor": "white",
           "ticks": "",
           "title": {
            "standoff": 15
           },
           "zerolinecolor": "white",
           "zerolinewidth": 2
          }
         }
        },
        "xaxis": {
         "anchor": "y",
         "domain": [
          0,
          1
         ],
         "title": {
          "text": "W"
         }
        },
        "yaxis": {
         "anchor": "x",
         "domain": [
          0,
          1
         ],
         "title": {
          "text": "Predicted W"
         }
        }
       }
      }
     },
     "metadata": {},
     "output_type": "display_data"
    }
   ],
   "source": [
    "fig = px.scatter(\n",
    "    x=Y_D,\n",
    "    y=Y_hat_D,\n",
    "    color=All_Defense_data.index,\n",
    "    labels = {\n",
    "        \"x\": \"W\",\n",
    "        \"y\": \"Predicted W\"\n",
    "    }\n",
    ")\n",
    "\n",
    "fig.add_trace(\n",
    "    go.Scatter(\n",
    "        x=Y_D,\n",
    "        y=Y_D,\n",
    "        mode=\"lines\"\n",
    "    )\n",
    ")\n",
    "\n",
    "fig.show()"
   ]
  },
  {
   "cell_type": "code",
   "execution_count": 132,
   "metadata": {},
   "outputs": [
    {
     "data": {
      "application/vnd.plotly.v1+json": {
       "config": {
        "plotlyServerURL": "https://plot.ly"
       },
       "data": [
        {
         "hovertemplate": "Tm=Baltimore Ravens<br>Yds=%{x}<br>W=%{y}<extra></extra>",
         "legendgroup": "Baltimore Ravens",
         "marker": {
          "color": "#636efa",
          "symbol": "circle"
         },
         "mode": "markers",
         "name": "Baltimore Ravens",
         "orientation": "v",
         "showlegend": true,
         "type": "scatter",
         "x": [
          4032
         ],
         "xaxis": "x",
         "y": [
          8
         ],
         "yaxis": "y"
        },
        {
         "hovertemplate": "Tm=Kansas City Chiefs<br>Yds=%{x}<br>W=%{y}<extra></extra>",
         "legendgroup": "Kansas City Chiefs",
         "marker": {
          "color": "#EF553B",
          "symbol": "circle"
         },
         "mode": "markers",
         "name": "Kansas City Chiefs",
         "orientation": "v",
         "showlegend": true,
         "type": "scatter",
         "x": [
          3318
         ],
         "xaxis": "x",
         "y": [
          7
         ],
         "yaxis": "y"
        },
        {
         "hovertemplate": "Tm=Jacksonville Jaguars<br>Yds=%{x}<br>W=%{y}<extra></extra>",
         "legendgroup": "Jacksonville Jaguars",
         "marker": {
          "color": "#00cc96",
          "symbol": "circle"
         },
         "mode": "markers",
         "name": "Jacksonville Jaguars",
         "orientation": "v",
         "showlegend": true,
         "type": "scatter",
         "x": [
          2952
         ],
         "xaxis": "x",
         "y": [
          7
         ],
         "yaxis": "y"
        },
        {
         "hovertemplate": "Tm=Miami Dolphins<br>Yds=%{x}<br>W=%{y}<extra></extra>",
         "legendgroup": "Miami Dolphins",
         "marker": {
          "color": "#ab63fa",
          "symbol": "circle"
         },
         "mode": "markers",
         "name": "Miami Dolphins",
         "orientation": "v",
         "showlegend": true,
         "type": "scatter",
         "x": [
          3918
         ],
         "xaxis": "x",
         "y": [
          7
         ],
         "yaxis": "y"
        },
        {
         "hovertemplate": "Tm=Cleveland Browns<br>Yds=%{x}<br>W=%{y}<extra></extra>",
         "legendgroup": "Cleveland Browns",
         "marker": {
          "color": "#FFA15A",
          "symbol": "circle"
         },
         "mode": "markers",
         "name": "Cleveland Browns",
         "orientation": "v",
         "showlegend": true,
         "type": "scatter",
         "x": [
          2999
         ],
         "xaxis": "x",
         "y": [
          7
         ],
         "yaxis": "y"
        },
        {
         "hovertemplate": "Tm=Houston Texans<br>Yds=%{x}<br>W=%{y}<extra></extra>",
         "legendgroup": "Houston Texans",
         "marker": {
          "color": "#19d3f3",
          "symbol": "circle"
         },
         "mode": "markers",
         "name": "Houston Texans",
         "orientation": "v",
         "showlegend": true,
         "type": "scatter",
         "x": [
          3353
         ],
         "xaxis": "x",
         "y": [
          6
         ],
         "yaxis": "y"
        },
        {
         "hovertemplate": "Tm=Pittsburgh Steelers<br>Yds=%{x}<br>W=%{y}<extra></extra>",
         "legendgroup": "Pittsburgh Steelers",
         "marker": {
          "color": "#FF6692",
          "symbol": "circle"
         },
         "mode": "markers",
         "name": "Pittsburgh Steelers",
         "orientation": "v",
         "showlegend": true,
         "type": "scatter",
         "x": [
          2552
         ],
         "xaxis": "x",
         "y": [
          6
         ],
         "yaxis": "y"
        },
        {
         "hovertemplate": "Tm=Buffalo Bills<br>Yds=%{x}<br>W=%{y}<extra></extra>",
         "legendgroup": "Buffalo Bills",
         "marker": {
          "color": "#B6E880",
          "symbol": "circle"
         },
         "mode": "markers",
         "name": "Buffalo Bills",
         "orientation": "v",
         "showlegend": true,
         "type": "scatter",
         "x": [
          3701
         ],
         "xaxis": "x",
         "y": [
          6
         ],
         "yaxis": "y"
        },
        {
         "hovertemplate": "Tm=Indianapolis Colts<br>Yds=%{x}<br>W=%{y}<extra></extra>",
         "legendgroup": "Indianapolis Colts",
         "marker": {
          "color": "#FF97FF",
          "symbol": "circle"
         },
         "mode": "markers",
         "name": "Indianapolis Colts",
         "orientation": "v",
         "showlegend": true,
         "type": "scatter",
         "x": [
          3361
         ],
         "xaxis": "x",
         "y": [
          5
         ],
         "yaxis": "y"
        },
        {
         "hovertemplate": "Tm=Denver Broncos<br>Yds=%{x}<br>W=%{y}<extra></extra>",
         "legendgroup": "Denver Broncos",
         "marker": {
          "color": "#FECB52",
          "symbol": "circle"
         },
         "mode": "markers",
         "name": "Denver Broncos",
         "orientation": "v",
         "showlegend": true,
         "type": "scatter",
         "x": [
          2717
         ],
         "xaxis": "x",
         "y": [
          5
         ],
         "yaxis": "y"
        },
        {
         "hovertemplate": "Tm=Cincinnati Bengals<br>Yds=%{x}<br>W=%{y}<extra></extra>",
         "legendgroup": "Cincinnati Bengals",
         "marker": {
          "color": "#636efa",
          "symbol": "circle"
         },
         "mode": "markers",
         "name": "Cincinnati Bengals",
         "orientation": "v",
         "showlegend": true,
         "type": "scatter",
         "x": [
          2987
         ],
         "xaxis": "x",
         "y": [
          5
         ],
         "yaxis": "y"
        },
        {
         "hovertemplate": "Tm=Las Vegas Raiders<br>Yds=%{x}<br>W=%{y}<extra></extra>",
         "legendgroup": "Las Vegas Raiders",
         "marker": {
          "color": "#EF553B",
          "symbol": "circle"
         },
         "mode": "markers",
         "name": "Las Vegas Raiders",
         "orientation": "v",
         "showlegend": true,
         "type": "scatter",
         "x": [
          2754
         ],
         "xaxis": "x",
         "y": [
          5
         ],
         "yaxis": "y"
        },
        {
         "hovertemplate": "Tm=Los Angeles Chargers<br>Yds=%{x}<br>W=%{y}<extra></extra>",
         "legendgroup": "Los Angeles Chargers",
         "marker": {
          "color": "#00cc96",
          "symbol": "circle"
         },
         "mode": "markers",
         "name": "Los Angeles Chargers",
         "orientation": "v",
         "showlegend": true,
         "type": "scatter",
         "x": [
          3149
         ],
         "xaxis": "x",
         "y": [
          4
         ],
         "yaxis": "y"
        },
        {
         "hovertemplate": "Tm=New York Jets<br>Yds=%{x}<br>W=%{y}<extra></extra>",
         "legendgroup": "New York Jets",
         "marker": {
          "color": "#ab63fa",
          "symbol": "circle"
         },
         "mode": "markers",
         "name": "New York Jets",
         "orientation": "v",
         "showlegend": true,
         "type": "scatter",
         "x": [
          2548
         ],
         "xaxis": "x",
         "y": [
          4
         ],
         "yaxis": "y"
        },
        {
         "hovertemplate": "Tm=Tennessee Titans<br>Yds=%{x}<br>W=%{y}<extra></extra>",
         "legendgroup": "Tennessee Titans",
         "marker": {
          "color": "#FFA15A",
          "symbol": "circle"
         },
         "mode": "markers",
         "name": "Tennessee Titans",
         "orientation": "v",
         "showlegend": true,
         "type": "scatter",
         "x": [
          2625
         ],
         "xaxis": "x",
         "y": [
          3
         ],
         "yaxis": "y"
        },
        {
         "hovertemplate": "Tm=New England Patriots<br>Yds=%{x}<br>W=%{y}<extra></extra>",
         "legendgroup": "New England Patriots",
         "marker": {
          "color": "#19d3f3",
          "symbol": "circle"
         },
         "mode": "markers",
         "name": "New England Patriots",
         "orientation": "v",
         "showlegend": true,
         "type": "scatter",
         "x": [
          2945
         ],
         "xaxis": "x",
         "y": [
          2
         ],
         "yaxis": "y"
        },
        {
         "hovertemplate": "Tm=Philadelphia Eagles<br>Yds=%{x}<br>W=%{y}<extra></extra>",
         "legendgroup": "Philadelphia Eagles",
         "marker": {
          "color": "#FF6692",
          "symbol": "circle"
         },
         "mode": "markers",
         "name": "Philadelphia Eagles",
         "orientation": "v",
         "showlegend": true,
         "type": "scatter",
         "x": [
          3391
         ],
         "xaxis": "x",
         "y": [
          9
         ],
         "yaxis": "y"
        },
        {
         "hovertemplate": "Tm=San Francisco 49ers<br>Yds=%{x}<br>W=%{y}<extra></extra>",
         "legendgroup": "San Francisco 49ers",
         "marker": {
          "color": "#B6E880",
          "symbol": "circle"
         },
         "mode": "markers",
         "name": "San Francisco 49ers",
         "orientation": "v",
         "showlegend": true,
         "type": "scatter",
         "x": [
          3450
         ],
         "xaxis": "x",
         "y": [
          8
         ],
         "yaxis": "y"
        },
        {
         "hovertemplate": "Tm=Detroit Lions<br>Yds=%{x}<br>W=%{y}<extra></extra>",
         "legendgroup": "Detroit Lions",
         "marker": {
          "color": "#FF97FF",
          "symbol": "circle"
         },
         "mode": "markers",
         "name": "Detroit Lions",
         "orientation": "v",
         "showlegend": true,
         "type": "scatter",
         "x": [
          3658
         ],
         "xaxis": "x",
         "y": [
          8
         ],
         "yaxis": "y"
        },
        {
         "hovertemplate": "Tm=New Orleans Saints<br>Yds=%{x}<br>W=%{y}<extra></extra>",
         "legendgroup": "New Orleans Saints",
         "marker": {
          "color": "#FECB52",
          "symbol": "circle"
         },
         "mode": "markers",
         "name": "New Orleans Saints",
         "orientation": "v",
         "showlegend": true,
         "type": "scatter",
         "x": [
          3374
         ],
         "xaxis": "x",
         "y": [
          5
         ],
         "yaxis": "y"
        },
        {
         "hovertemplate": "Tm=Dallas Cowboys<br>Yds=%{x}<br>W=%{y}<extra></extra>",
         "legendgroup": "Dallas Cowboys",
         "marker": {
          "color": "#636efa",
          "symbol": "circle"
         },
         "mode": "markers",
         "name": "Dallas Cowboys",
         "orientation": "v",
         "showlegend": true,
         "type": "scatter",
         "x": [
          3412
         ],
         "xaxis": "x",
         "y": [
          8
         ],
         "yaxis": "y"
        },
        {
         "hovertemplate": "Tm=Minnesota Vikings<br>Yds=%{x}<br>W=%{y}<extra></extra>",
         "legendgroup": "Minnesota Vikings",
         "marker": {
          "color": "#EF553B",
          "symbol": "circle"
         },
         "mode": "markers",
         "name": "Minnesota Vikings",
         "orientation": "v",
         "showlegend": true,
         "type": "scatter",
         "x": [
          3581
         ],
         "xaxis": "x",
         "y": [
          6
         ],
         "yaxis": "y"
        },
        {
         "hovertemplate": "Tm=Seattle Seahawks<br>Yds=%{x}<br>W=%{y}<extra></extra>",
         "legendgroup": "Seattle Seahawks",
         "marker": {
          "color": "#00cc96",
          "symbol": "circle"
         },
         "mode": "markers",
         "name": "Seattle Seahawks",
         "orientation": "v",
         "showlegend": true,
         "type": "scatter",
         "x": [
          2983
         ],
         "xaxis": "x",
         "y": [
          6
         ],
         "yaxis": "y"
        },
        {
         "hovertemplate": "Tm=Green Bay Packers<br>Yds=%{x}<br>W=%{y}<extra></extra>",
         "legendgroup": "Green Bay Packers",
         "marker": {
          "color": "#ab63fa",
          "symbol": "circle"
         },
         "mode": "markers",
         "name": "Green Bay Packers",
         "orientation": "v",
         "showlegend": true,
         "type": "scatter",
         "x": [
          2799
         ],
         "xaxis": "x",
         "y": [
          5
         ],
         "yaxis": "y"
        },
        {
         "hovertemplate": "Tm=Los Angeles Rams<br>Yds=%{x}<br>W=%{y}<extra></extra>",
         "legendgroup": "Los Angeles Rams",
         "marker": {
          "color": "#FFA15A",
          "symbol": "circle"
         },
         "mode": "markers",
         "name": "Los Angeles Rams",
         "orientation": "v",
         "showlegend": true,
         "type": "scatter",
         "x": [
          3023
         ],
         "xaxis": "x",
         "y": [
          4
         ],
         "yaxis": "y"
        },
        {
         "hovertemplate": "Tm=Atlanta Falcons<br>Yds=%{x}<br>W=%{y}<extra></extra>",
         "legendgroup": "Atlanta Falcons",
         "marker": {
          "color": "#19d3f3",
          "symbol": "circle"
         },
         "mode": "markers",
         "name": "Atlanta Falcons",
         "orientation": "v",
         "showlegend": true,
         "type": "scatter",
         "x": [
          3353
         ],
         "xaxis": "x",
         "y": [
          4
         ],
         "yaxis": "y"
        },
        {
         "hovertemplate": "Tm=Tampa Bay Buccaneers<br>Yds=%{x}<br>W=%{y}<extra></extra>",
         "legendgroup": "Tampa Bay Buccaneers",
         "marker": {
          "color": "#FF6692",
          "symbol": "circle"
         },
         "mode": "markers",
         "name": "Tampa Bay Buccaneers",
         "orientation": "v",
         "showlegend": true,
         "type": "scatter",
         "x": [
          2760
         ],
         "xaxis": "x",
         "y": [
          4
         ],
         "yaxis": "y"
        },
        {
         "hovertemplate": "Tm=Washington Commanders<br>Yds=%{x}<br>W=%{y}<extra></extra>",
         "legendgroup": "Washington Commanders",
         "marker": {
          "color": "#B6E880",
          "symbol": "circle"
         },
         "mode": "markers",
         "name": "Washington Commanders",
         "orientation": "v",
         "showlegend": true,
         "type": "scatter",
         "x": [
          3345
         ],
         "xaxis": "x",
         "y": [
          4
         ],
         "yaxis": "y"
        },
        {
         "hovertemplate": "Tm=New York Giants<br>Yds=%{x}<br>W=%{y}<extra></extra>",
         "legendgroup": "New York Giants",
         "marker": {
          "color": "#FF97FF",
          "symbol": "circle"
         },
         "mode": "markers",
         "name": "New York Giants",
         "orientation": "v",
         "showlegend": true,
         "type": "scatter",
         "x": [
          2592
         ],
         "xaxis": "x",
         "y": [
          3
         ],
         "yaxis": "y"
        },
        {
         "hovertemplate": "Tm=Chicago Bears<br>Yds=%{x}<br>W=%{y}<extra></extra>",
         "legendgroup": "Chicago Bears",
         "marker": {
          "color": "#FECB52",
          "symbol": "circle"
         },
         "mode": "markers",
         "name": "Chicago Bears",
         "orientation": "v",
         "showlegend": true,
         "type": "scatter",
         "x": [
          3228
         ],
         "xaxis": "x",
         "y": [
          3
         ],
         "yaxis": "y"
        },
        {
         "hovertemplate": "Tm=Arizona Cardinals<br>Yds=%{x}<br>W=%{y}<extra></extra>",
         "legendgroup": "Arizona Cardinals",
         "marker": {
          "color": "#636efa",
          "symbol": "circle"
         },
         "mode": "markers",
         "name": "Arizona Cardinals",
         "orientation": "v",
         "showlegend": true,
         "type": "scatter",
         "x": [
          2959
         ],
         "xaxis": "x",
         "y": [
          2
         ],
         "yaxis": "y"
        },
        {
         "hovertemplate": "Tm=Carolina Panthers<br>Yds=%{x}<br>W=%{y}<extra></extra>",
         "legendgroup": "Carolina Panthers",
         "marker": {
          "color": "#EF553B",
          "symbol": "circle"
         },
         "mode": "markers",
         "name": "Carolina Panthers",
         "orientation": "v",
         "showlegend": true,
         "type": "scatter",
         "x": [
          2480
         ],
         "xaxis": "x",
         "y": [
          1
         ],
         "yaxis": "y"
        }
       ],
       "layout": {
        "legend": {
         "title": {
          "text": "Tm"
         },
         "tracegroupgap": 0
        },
        "margin": {
         "t": 60
        },
        "template": {
         "data": {
          "bar": [
           {
            "error_x": {
             "color": "#2a3f5f"
            },
            "error_y": {
             "color": "#2a3f5f"
            },
            "marker": {
             "line": {
              "color": "#E5ECF6",
              "width": 0.5
             },
             "pattern": {
              "fillmode": "overlay",
              "size": 10,
              "solidity": 0.2
             }
            },
            "type": "bar"
           }
          ],
          "barpolar": [
           {
            "marker": {
             "line": {
              "color": "#E5ECF6",
              "width": 0.5
             },
             "pattern": {
              "fillmode": "overlay",
              "size": 10,
              "solidity": 0.2
             }
            },
            "type": "barpolar"
           }
          ],
          "carpet": [
           {
            "aaxis": {
             "endlinecolor": "#2a3f5f",
             "gridcolor": "white",
             "linecolor": "white",
             "minorgridcolor": "white",
             "startlinecolor": "#2a3f5f"
            },
            "baxis": {
             "endlinecolor": "#2a3f5f",
             "gridcolor": "white",
             "linecolor": "white",
             "minorgridcolor": "white",
             "startlinecolor": "#2a3f5f"
            },
            "type": "carpet"
           }
          ],
          "choropleth": [
           {
            "colorbar": {
             "outlinewidth": 0,
             "ticks": ""
            },
            "type": "choropleth"
           }
          ],
          "contour": [
           {
            "colorbar": {
             "outlinewidth": 0,
             "ticks": ""
            },
            "colorscale": [
             [
              0,
              "#0d0887"
             ],
             [
              0.1111111111111111,
              "#46039f"
             ],
             [
              0.2222222222222222,
              "#7201a8"
             ],
             [
              0.3333333333333333,
              "#9c179e"
             ],
             [
              0.4444444444444444,
              "#bd3786"
             ],
             [
              0.5555555555555556,
              "#d8576b"
             ],
             [
              0.6666666666666666,
              "#ed7953"
             ],
             [
              0.7777777777777778,
              "#fb9f3a"
             ],
             [
              0.8888888888888888,
              "#fdca26"
             ],
             [
              1,
              "#f0f921"
             ]
            ],
            "type": "contour"
           }
          ],
          "contourcarpet": [
           {
            "colorbar": {
             "outlinewidth": 0,
             "ticks": ""
            },
            "type": "contourcarpet"
           }
          ],
          "heatmap": [
           {
            "colorbar": {
             "outlinewidth": 0,
             "ticks": ""
            },
            "colorscale": [
             [
              0,
              "#0d0887"
             ],
             [
              0.1111111111111111,
              "#46039f"
             ],
             [
              0.2222222222222222,
              "#7201a8"
             ],
             [
              0.3333333333333333,
              "#9c179e"
             ],
             [
              0.4444444444444444,
              "#bd3786"
             ],
             [
              0.5555555555555556,
              "#d8576b"
             ],
             [
              0.6666666666666666,
              "#ed7953"
             ],
             [
              0.7777777777777778,
              "#fb9f3a"
             ],
             [
              0.8888888888888888,
              "#fdca26"
             ],
             [
              1,
              "#f0f921"
             ]
            ],
            "type": "heatmap"
           }
          ],
          "heatmapgl": [
           {
            "colorbar": {
             "outlinewidth": 0,
             "ticks": ""
            },
            "colorscale": [
             [
              0,
              "#0d0887"
             ],
             [
              0.1111111111111111,
              "#46039f"
             ],
             [
              0.2222222222222222,
              "#7201a8"
             ],
             [
              0.3333333333333333,
              "#9c179e"
             ],
             [
              0.4444444444444444,
              "#bd3786"
             ],
             [
              0.5555555555555556,
              "#d8576b"
             ],
             [
              0.6666666666666666,
              "#ed7953"
             ],
             [
              0.7777777777777778,
              "#fb9f3a"
             ],
             [
              0.8888888888888888,
              "#fdca26"
             ],
             [
              1,
              "#f0f921"
             ]
            ],
            "type": "heatmapgl"
           }
          ],
          "histogram": [
           {
            "marker": {
             "pattern": {
              "fillmode": "overlay",
              "size": 10,
              "solidity": 0.2
             }
            },
            "type": "histogram"
           }
          ],
          "histogram2d": [
           {
            "colorbar": {
             "outlinewidth": 0,
             "ticks": ""
            },
            "colorscale": [
             [
              0,
              "#0d0887"
             ],
             [
              0.1111111111111111,
              "#46039f"
             ],
             [
              0.2222222222222222,
              "#7201a8"
             ],
             [
              0.3333333333333333,
              "#9c179e"
             ],
             [
              0.4444444444444444,
              "#bd3786"
             ],
             [
              0.5555555555555556,
              "#d8576b"
             ],
             [
              0.6666666666666666,
              "#ed7953"
             ],
             [
              0.7777777777777778,
              "#fb9f3a"
             ],
             [
              0.8888888888888888,
              "#fdca26"
             ],
             [
              1,
              "#f0f921"
             ]
            ],
            "type": "histogram2d"
           }
          ],
          "histogram2dcontour": [
           {
            "colorbar": {
             "outlinewidth": 0,
             "ticks": ""
            },
            "colorscale": [
             [
              0,
              "#0d0887"
             ],
             [
              0.1111111111111111,
              "#46039f"
             ],
             [
              0.2222222222222222,
              "#7201a8"
             ],
             [
              0.3333333333333333,
              "#9c179e"
             ],
             [
              0.4444444444444444,
              "#bd3786"
             ],
             [
              0.5555555555555556,
              "#d8576b"
             ],
             [
              0.6666666666666666,
              "#ed7953"
             ],
             [
              0.7777777777777778,
              "#fb9f3a"
             ],
             [
              0.8888888888888888,
              "#fdca26"
             ],
             [
              1,
              "#f0f921"
             ]
            ],
            "type": "histogram2dcontour"
           }
          ],
          "mesh3d": [
           {
            "colorbar": {
             "outlinewidth": 0,
             "ticks": ""
            },
            "type": "mesh3d"
           }
          ],
          "parcoords": [
           {
            "line": {
             "colorbar": {
              "outlinewidth": 0,
              "ticks": ""
             }
            },
            "type": "parcoords"
           }
          ],
          "pie": [
           {
            "automargin": true,
            "type": "pie"
           }
          ],
          "scatter": [
           {
            "fillpattern": {
             "fillmode": "overlay",
             "size": 10,
             "solidity": 0.2
            },
            "type": "scatter"
           }
          ],
          "scatter3d": [
           {
            "line": {
             "colorbar": {
              "outlinewidth": 0,
              "ticks": ""
             }
            },
            "marker": {
             "colorbar": {
              "outlinewidth": 0,
              "ticks": ""
             }
            },
            "type": "scatter3d"
           }
          ],
          "scattercarpet": [
           {
            "marker": {
             "colorbar": {
              "outlinewidth": 0,
              "ticks": ""
             }
            },
            "type": "scattercarpet"
           }
          ],
          "scattergeo": [
           {
            "marker": {
             "colorbar": {
              "outlinewidth": 0,
              "ticks": ""
             }
            },
            "type": "scattergeo"
           }
          ],
          "scattergl": [
           {
            "marker": {
             "colorbar": {
              "outlinewidth": 0,
              "ticks": ""
             }
            },
            "type": "scattergl"
           }
          ],
          "scattermapbox": [
           {
            "marker": {
             "colorbar": {
              "outlinewidth": 0,
              "ticks": ""
             }
            },
            "type": "scattermapbox"
           }
          ],
          "scatterpolar": [
           {
            "marker": {
             "colorbar": {
              "outlinewidth": 0,
              "ticks": ""
             }
            },
            "type": "scatterpolar"
           }
          ],
          "scatterpolargl": [
           {
            "marker": {
             "colorbar": {
              "outlinewidth": 0,
              "ticks": ""
             }
            },
            "type": "scatterpolargl"
           }
          ],
          "scatterternary": [
           {
            "marker": {
             "colorbar": {
              "outlinewidth": 0,
              "ticks": ""
             }
            },
            "type": "scatterternary"
           }
          ],
          "surface": [
           {
            "colorbar": {
             "outlinewidth": 0,
             "ticks": ""
            },
            "colorscale": [
             [
              0,
              "#0d0887"
             ],
             [
              0.1111111111111111,
              "#46039f"
             ],
             [
              0.2222222222222222,
              "#7201a8"
             ],
             [
              0.3333333333333333,
              "#9c179e"
             ],
             [
              0.4444444444444444,
              "#bd3786"
             ],
             [
              0.5555555555555556,
              "#d8576b"
             ],
             [
              0.6666666666666666,
              "#ed7953"
             ],
             [
              0.7777777777777778,
              "#fb9f3a"
             ],
             [
              0.8888888888888888,
              "#fdca26"
             ],
             [
              1,
              "#f0f921"
             ]
            ],
            "type": "surface"
           }
          ],
          "table": [
           {
            "cells": {
             "fill": {
              "color": "#EBF0F8"
             },
             "line": {
              "color": "white"
             }
            },
            "header": {
             "fill": {
              "color": "#C8D4E3"
             },
             "line": {
              "color": "white"
             }
            },
            "type": "table"
           }
          ]
         },
         "layout": {
          "annotationdefaults": {
           "arrowcolor": "#2a3f5f",
           "arrowhead": 0,
           "arrowwidth": 1
          },
          "autotypenumbers": "strict",
          "coloraxis": {
           "colorbar": {
            "outlinewidth": 0,
            "ticks": ""
           }
          },
          "colorscale": {
           "diverging": [
            [
             0,
             "#8e0152"
            ],
            [
             0.1,
             "#c51b7d"
            ],
            [
             0.2,
             "#de77ae"
            ],
            [
             0.3,
             "#f1b6da"
            ],
            [
             0.4,
             "#fde0ef"
            ],
            [
             0.5,
             "#f7f7f7"
            ],
            [
             0.6,
             "#e6f5d0"
            ],
            [
             0.7,
             "#b8e186"
            ],
            [
             0.8,
             "#7fbc41"
            ],
            [
             0.9,
             "#4d9221"
            ],
            [
             1,
             "#276419"
            ]
           ],
           "sequential": [
            [
             0,
             "#0d0887"
            ],
            [
             0.1111111111111111,
             "#46039f"
            ],
            [
             0.2222222222222222,
             "#7201a8"
            ],
            [
             0.3333333333333333,
             "#9c179e"
            ],
            [
             0.4444444444444444,
             "#bd3786"
            ],
            [
             0.5555555555555556,
             "#d8576b"
            ],
            [
             0.6666666666666666,
             "#ed7953"
            ],
            [
             0.7777777777777778,
             "#fb9f3a"
            ],
            [
             0.8888888888888888,
             "#fdca26"
            ],
            [
             1,
             "#f0f921"
            ]
           ],
           "sequentialminus": [
            [
             0,
             "#0d0887"
            ],
            [
             0.1111111111111111,
             "#46039f"
            ],
            [
             0.2222222222222222,
             "#7201a8"
            ],
            [
             0.3333333333333333,
             "#9c179e"
            ],
            [
             0.4444444444444444,
             "#bd3786"
            ],
            [
             0.5555555555555556,
             "#d8576b"
            ],
            [
             0.6666666666666666,
             "#ed7953"
            ],
            [
             0.7777777777777778,
             "#fb9f3a"
            ],
            [
             0.8888888888888888,
             "#fdca26"
            ],
            [
             1,
             "#f0f921"
            ]
           ]
          },
          "colorway": [
           "#636efa",
           "#EF553B",
           "#00cc96",
           "#ab63fa",
           "#FFA15A",
           "#19d3f3",
           "#FF6692",
           "#B6E880",
           "#FF97FF",
           "#FECB52"
          ],
          "font": {
           "color": "#2a3f5f"
          },
          "geo": {
           "bgcolor": "white",
           "lakecolor": "white",
           "landcolor": "#E5ECF6",
           "showlakes": true,
           "showland": true,
           "subunitcolor": "white"
          },
          "hoverlabel": {
           "align": "left"
          },
          "hovermode": "closest",
          "mapbox": {
           "style": "light"
          },
          "paper_bgcolor": "white",
          "plot_bgcolor": "#E5ECF6",
          "polar": {
           "angularaxis": {
            "gridcolor": "white",
            "linecolor": "white",
            "ticks": ""
           },
           "bgcolor": "#E5ECF6",
           "radialaxis": {
            "gridcolor": "white",
            "linecolor": "white",
            "ticks": ""
           }
          },
          "scene": {
           "xaxis": {
            "backgroundcolor": "#E5ECF6",
            "gridcolor": "white",
            "gridwidth": 2,
            "linecolor": "white",
            "showbackground": true,
            "ticks": "",
            "zerolinecolor": "white"
           },
           "yaxis": {
            "backgroundcolor": "#E5ECF6",
            "gridcolor": "white",
            "gridwidth": 2,
            "linecolor": "white",
            "showbackground": true,
            "ticks": "",
            "zerolinecolor": "white"
           },
           "zaxis": {
            "backgroundcolor": "#E5ECF6",
            "gridcolor": "white",
            "gridwidth": 2,
            "linecolor": "white",
            "showbackground": true,
            "ticks": "",
            "zerolinecolor": "white"
           }
          },
          "shapedefaults": {
           "line": {
            "color": "#2a3f5f"
           }
          },
          "ternary": {
           "aaxis": {
            "gridcolor": "white",
            "linecolor": "white",
            "ticks": ""
           },
           "baxis": {
            "gridcolor": "white",
            "linecolor": "white",
            "ticks": ""
           },
           "bgcolor": "#E5ECF6",
           "caxis": {
            "gridcolor": "white",
            "linecolor": "white",
            "ticks": ""
           }
          },
          "title": {
           "x": 0.05
          },
          "xaxis": {
           "automargin": true,
           "gridcolor": "white",
           "linecolor": "white",
           "ticks": "",
           "title": {
            "standoff": 15
           },
           "zerolinecolor": "white",
           "zerolinewidth": 2
          },
          "yaxis": {
           "automargin": true,
           "gridcolor": "white",
           "linecolor": "white",
           "ticks": "",
           "title": {
            "standoff": 15
           },
           "zerolinecolor": "white",
           "zerolinewidth": 2
          }
         }
        },
        "xaxis": {
         "anchor": "y",
         "domain": [
          0,
          1
         ],
         "title": {
          "text": "Yds"
         }
        },
        "yaxis": {
         "anchor": "x",
         "domain": [
          0,
          1
         ],
         "title": {
          "text": "W"
         }
        }
       }
      }
     },
     "metadata": {},
     "output_type": "display_data"
    }
   ],
   "source": [
    "fig = px.scatter(\n",
    "    All_Offense_data,\n",
    "    x=\"Yds\",\n",
    "    y=\"W\",\n",
    "    color=All_Offense_data.index\n",
    ")\n",
    "\n",
    "fig.show()"
   ]
  },
  {
   "cell_type": "code",
   "execution_count": 130,
   "metadata": {},
   "outputs": [
    {
     "data": {
      "application/vnd.plotly.v1+json": {
       "config": {
        "plotlyServerURL": "https://plot.ly"
       },
       "data": [
        {
         "hovertemplate": "Tm=Baltimore Ravens<br>TO%=%{x}<br>W=%{y}<br>FL=%{marker.size}<extra></extra>",
         "legendgroup": "Baltimore Ravens",
         "marker": {
          "color": "#636efa",
          "size": [
           5
          ],
          "sizemode": "area",
          "sizeref": 0.0225,
          "symbol": "circle"
         },
         "mode": "markers",
         "name": "Baltimore Ravens",
         "orientation": "v",
         "showlegend": true,
         "type": "scatter",
         "x": [
          9.5
         ],
         "xaxis": "x",
         "y": [
          8
         ],
         "yaxis": "y"
        },
        {
         "hovertemplate": "Tm=Kansas City Chiefs<br>TO%=%{x}<br>W=%{y}<br>FL=%{marker.size}<extra></extra>",
         "legendgroup": "Kansas City Chiefs",
         "marker": {
          "color": "#EF553B",
          "size": [
           8
          ],
          "sizemode": "area",
          "sizeref": 0.0225,
          "symbol": "circle"
         },
         "mode": "markers",
         "name": "Kansas City Chiefs",
         "orientation": "v",
         "showlegend": true,
         "type": "scatter",
         "x": [
          13.8
         ],
         "xaxis": "x",
         "y": [
          7
         ],
         "yaxis": "y"
        },
        {
         "hovertemplate": "Tm=Jacksonville Jaguars<br>TO%=%{x}<br>W=%{y}<br>FL=%{marker.size}<extra></extra>",
         "legendgroup": "Jacksonville Jaguars",
         "marker": {
          "color": "#00cc96",
          "size": [
           7
          ],
          "sizemode": "area",
          "sizeref": 0.0225,
          "symbol": "circle"
         },
         "mode": "markers",
         "name": "Jacksonville Jaguars",
         "orientation": "v",
         "showlegend": true,
         "type": "scatter",
         "x": [
          16
         ],
         "xaxis": "x",
         "y": [
          7
         ],
         "yaxis": "y"
        },
        {
         "hovertemplate": "Tm=Miami Dolphins<br>TO%=%{x}<br>W=%{y}<br>FL=%{marker.size}<extra></extra>",
         "legendgroup": "Miami Dolphins",
         "marker": {
          "color": "#ab63fa",
          "size": [
           5
          ],
          "sizemode": "area",
          "sizeref": 0.0225,
          "symbol": "circle"
         },
         "mode": "markers",
         "name": "Miami Dolphins",
         "orientation": "v",
         "showlegend": true,
         "type": "scatter",
         "x": [
          9.2
         ],
         "xaxis": "x",
         "y": [
          7
         ],
         "yaxis": "y"
        },
        {
         "hovertemplate": "Tm=Cleveland Browns<br>TO%=%{x}<br>W=%{y}<br>FL=%{marker.size}<extra></extra>",
         "legendgroup": "Cleveland Browns",
         "marker": {
          "color": "#FFA15A",
          "size": [
           6
          ],
          "sizemode": "area",
          "sizeref": 0.0225,
          "symbol": "circle"
         },
         "mode": "markers",
         "name": "Cleveland Browns",
         "orientation": "v",
         "showlegend": true,
         "type": "scatter",
         "x": [
          12.9
         ],
         "xaxis": "x",
         "y": [
          7
         ],
         "yaxis": "y"
        },
        {
         "hovertemplate": "Tm=Houston Texans<br>TO%=%{x}<br>W=%{y}<br>FL=%{marker.size}<extra></extra>",
         "legendgroup": "Houston Texans",
         "marker": {
          "color": "#19d3f3",
          "size": [
           6
          ],
          "sizemode": "area",
          "sizeref": 0.0225,
          "symbol": "circle"
         },
         "mode": "markers",
         "name": "Houston Texans",
         "orientation": "v",
         "showlegend": true,
         "type": "scatter",
         "x": [
          11.2
         ],
         "xaxis": "x",
         "y": [
          6
         ],
         "yaxis": "y"
        },
        {
         "hovertemplate": "Tm=Pittsburgh Steelers<br>TO%=%{x}<br>W=%{y}<br>FL=%{marker.size}<extra></extra>",
         "legendgroup": "Pittsburgh Steelers",
         "marker": {
          "color": "#FF6692",
          "size": [
           8
          ],
          "sizemode": "area",
          "sizeref": 0.0225,
          "symbol": "circle"
         },
         "mode": "markers",
         "name": "Pittsburgh Steelers",
         "orientation": "v",
         "showlegend": true,
         "type": "scatter",
         "x": [
          17.6
         ],
         "xaxis": "x",
         "y": [
          6
         ],
         "yaxis": "y"
        },
        {
         "hovertemplate": "Tm=Buffalo Bills<br>TO%=%{x}<br>W=%{y}<br>FL=%{marker.size}<extra></extra>",
         "legendgroup": "Buffalo Bills",
         "marker": {
          "color": "#B6E880",
          "size": [
           7
          ],
          "sizemode": "area",
          "sizeref": 0.0225,
          "symbol": "circle"
         },
         "mode": "markers",
         "name": "Buffalo Bills",
         "orientation": "v",
         "showlegend": true,
         "type": "scatter",
         "x": [
          14.2
         ],
         "xaxis": "x",
         "y": [
          6
         ],
         "yaxis": "y"
        },
        {
         "hovertemplate": "Tm=Indianapolis Colts<br>TO%=%{x}<br>W=%{y}<br>FL=%{marker.size}<extra></extra>",
         "legendgroup": "Indianapolis Colts",
         "marker": {
          "color": "#FF97FF",
          "size": [
           5
          ],
          "sizemode": "area",
          "sizeref": 0.0225,
          "symbol": "circle"
         },
         "mode": "markers",
         "name": "Indianapolis Colts",
         "orientation": "v",
         "showlegend": true,
         "type": "scatter",
         "x": [
          12.8
         ],
         "xaxis": "x",
         "y": [
          5
         ],
         "yaxis": "y"
        },
        {
         "hovertemplate": "Tm=Denver Broncos<br>TO%=%{x}<br>W=%{y}<br>FL=%{marker.size}<extra></extra>",
         "legendgroup": "Denver Broncos",
         "marker": {
          "color": "#FECB52",
          "size": [
           7
          ],
          "sizemode": "area",
          "sizeref": 0.0225,
          "symbol": "circle"
         },
         "mode": "markers",
         "name": "Denver Broncos",
         "orientation": "v",
         "showlegend": true,
         "type": "scatter",
         "x": [
          14.9
         ],
         "xaxis": "x",
         "y": [
          5
         ],
         "yaxis": "y"
        },
        {
         "hovertemplate": "Tm=Cincinnati Bengals<br>TO%=%{x}<br>W=%{y}<br>FL=%{marker.size}<extra></extra>",
         "legendgroup": "Cincinnati Bengals",
         "marker": {
          "color": "#636efa",
          "size": [
           6
          ],
          "sizemode": "area",
          "sizeref": 0.0225,
          "symbol": "circle"
         },
         "mode": "markers",
         "name": "Cincinnati Bengals",
         "orientation": "v",
         "showlegend": true,
         "type": "scatter",
         "x": [
          16.1
         ],
         "xaxis": "x",
         "y": [
          5
         ],
         "yaxis": "y"
        },
        {
         "hovertemplate": "Tm=Las Vegas Raiders<br>TO%=%{x}<br>W=%{y}<br>FL=%{marker.size}<extra></extra>",
         "legendgroup": "Las Vegas Raiders",
         "marker": {
          "color": "#EF553B",
          "size": [
           2
          ],
          "sizemode": "area",
          "sizeref": 0.0225,
          "symbol": "circle"
         },
         "mode": "markers",
         "name": "Las Vegas Raiders",
         "orientation": "v",
         "showlegend": true,
         "type": "scatter",
         "x": [
          10.6
         ],
         "xaxis": "x",
         "y": [
          5
         ],
         "yaxis": "y"
        },
        {
         "hovertemplate": "Tm=Los Angeles Chargers<br>TO%=%{x}<br>W=%{y}<br>FL=%{marker.size}<extra></extra>",
         "legendgroup": "Los Angeles Chargers",
         "marker": {
          "color": "#00cc96",
          "size": [
           9
          ],
          "sizemode": "area",
          "sizeref": 0.0225,
          "symbol": "circle"
         },
         "mode": "markers",
         "name": "Los Angeles Chargers",
         "orientation": "v",
         "showlegend": true,
         "type": "scatter",
         "x": [
          14.1
         ],
         "xaxis": "x",
         "y": [
          4
         ],
         "yaxis": "y"
        },
        {
         "hovertemplate": "Tm=New York Jets<br>TO%=%{x}<br>W=%{y}<br>FL=%{marker.size}<extra></extra>",
         "legendgroup": "New York Jets",
         "marker": {
          "color": "#ab63fa",
          "size": [
           6
          ],
          "sizemode": "area",
          "sizeref": 0.0225,
          "symbol": "circle"
         },
         "mode": "markers",
         "name": "New York Jets",
         "orientation": "v",
         "showlegend": true,
         "type": "scatter",
         "x": [
          12.7
         ],
         "xaxis": "x",
         "y": [
          4
         ],
         "yaxis": "y"
        },
        {
         "hovertemplate": "Tm=Tennessee Titans<br>TO%=%{x}<br>W=%{y}<br>FL=%{marker.size}<extra></extra>",
         "legendgroup": "Tennessee Titans",
         "marker": {
          "color": "#FFA15A",
          "size": [
           4
          ],
          "sizemode": "area",
          "sizeref": 0.0225,
          "symbol": "circle"
         },
         "mode": "markers",
         "name": "Tennessee Titans",
         "orientation": "v",
         "showlegend": true,
         "type": "scatter",
         "x": [
          6.4
         ],
         "xaxis": "x",
         "y": [
          3
         ],
         "yaxis": "y"
        },
        {
         "hovertemplate": "Tm=New England Patriots<br>TO%=%{x}<br>W=%{y}<br>FL=%{marker.size}<extra></extra>",
         "legendgroup": "New England Patriots",
         "marker": {
          "color": "#19d3f3",
          "size": [
           4
          ],
          "sizemode": "area",
          "sizeref": 0.0225,
          "symbol": "circle"
         },
         "mode": "markers",
         "name": "New England Patriots",
         "orientation": "v",
         "showlegend": true,
         "type": "scatter",
         "x": [
          8.8
         ],
         "xaxis": "x",
         "y": [
          2
         ],
         "yaxis": "y"
        },
        {
         "hovertemplate": "Tm=Philadelphia Eagles<br>TO%=%{x}<br>W=%{y}<br>FL=%{marker.size}<extra></extra>",
         "legendgroup": "Philadelphia Eagles",
         "marker": {
          "color": "#FF6692",
          "size": [
           7
          ],
          "sizemode": "area",
          "sizeref": 0.0225,
          "symbol": "circle"
         },
         "mode": "markers",
         "name": "Philadelphia Eagles",
         "orientation": "v",
         "showlegend": true,
         "type": "scatter",
         "x": [
          11
         ],
         "xaxis": "x",
         "y": [
          9
         ],
         "yaxis": "y"
        },
        {
         "hovertemplate": "Tm=San Francisco 49ers<br>TO%=%{x}<br>W=%{y}<br>FL=%{marker.size}<extra></extra>",
         "legendgroup": "San Francisco 49ers",
         "marker": {
          "color": "#B6E880",
          "size": [
           4
          ],
          "sizemode": "area",
          "sizeref": 0.0225,
          "symbol": "circle"
         },
         "mode": "markers",
         "name": "San Francisco 49ers",
         "orientation": "v",
         "showlegend": true,
         "type": "scatter",
         "x": [
          18.3
         ],
         "xaxis": "x",
         "y": [
          8
         ],
         "yaxis": "y"
        },
        {
         "hovertemplate": "Tm=Detroit Lions<br>TO%=%{x}<br>W=%{y}<br>FL=%{marker.size}<extra></extra>",
         "legendgroup": "Detroit Lions",
         "marker": {
          "color": "#FF97FF",
          "size": [
           3
          ],
          "sizemode": "area",
          "sizeref": 0.0225,
          "symbol": "circle"
         },
         "mode": "markers",
         "name": "Detroit Lions",
         "orientation": "v",
         "showlegend": true,
         "type": "scatter",
         "x": [
          11.6
         ],
         "xaxis": "x",
         "y": [
          8
         ],
         "yaxis": "y"
        },
        {
         "hovertemplate": "Tm=New Orleans Saints<br>TO%=%{x}<br>W=%{y}<br>FL=%{marker.size}<extra></extra>",
         "legendgroup": "New Orleans Saints",
         "marker": {
          "color": "#FECB52",
          "size": [
           6
          ],
          "sizemode": "area",
          "sizeref": 0.0225,
          "symbol": "circle"
         },
         "mode": "markers",
         "name": "New Orleans Saints",
         "orientation": "v",
         "showlegend": true,
         "type": "scatter",
         "x": [
          14.3
         ],
         "xaxis": "x",
         "y": [
          5
         ],
         "yaxis": "y"
        },
        {
         "hovertemplate": "Tm=Dallas Cowboys<br>TO%=%{x}<br>W=%{y}<br>FL=%{marker.size}<extra></extra>",
         "legendgroup": "Dallas Cowboys",
         "marker": {
          "color": "#636efa",
          "size": [
           4
          ],
          "sizemode": "area",
          "sizeref": 0.0225,
          "symbol": "circle"
         },
         "mode": "markers",
         "name": "Dallas Cowboys",
         "orientation": "v",
         "showlegend": true,
         "type": "scatter",
         "x": [
          14.1
         ],
         "xaxis": "x",
         "y": [
          8
         ],
         "yaxis": "y"
        },
        {
         "hovertemplate": "Tm=Minnesota Vikings<br>TO%=%{x}<br>W=%{y}<br>FL=%{marker.size}<extra></extra>",
         "legendgroup": "Minnesota Vikings",
         "marker": {
          "color": "#EF553B",
          "size": [
           5
          ],
          "sizemode": "area",
          "sizeref": 0.0225,
          "symbol": "circle"
         },
         "mode": "markers",
         "name": "Minnesota Vikings",
         "orientation": "v",
         "showlegend": true,
         "type": "scatter",
         "x": [
          12.8
         ],
         "xaxis": "x",
         "y": [
          6
         ],
         "yaxis": "y"
        },
        {
         "hovertemplate": "Tm=Seattle Seahawks<br>TO%=%{x}<br>W=%{y}<br>FL=%{marker.size}<extra></extra>",
         "legendgroup": "Seattle Seahawks",
         "marker": {
          "color": "#00cc96",
          "size": [
           7
          ],
          "sizemode": "area",
          "sizeref": 0.0225,
          "symbol": "circle"
         },
         "mode": "markers",
         "name": "Seattle Seahawks",
         "orientation": "v",
         "showlegend": true,
         "type": "scatter",
         "x": [
          12.9
         ],
         "xaxis": "x",
         "y": [
          6
         ],
         "yaxis": "y"
        },
        {
         "hovertemplate": "Tm=Green Bay Packers<br>TO%=%{x}<br>W=%{y}<br>FL=%{marker.size}<extra></extra>",
         "legendgroup": "Green Bay Packers",
         "marker": {
          "color": "#ab63fa",
          "size": [
           3
          ],
          "sizemode": "area",
          "sizeref": 0.0225,
          "symbol": "circle"
         },
         "mode": "markers",
         "name": "Green Bay Packers",
         "orientation": "v",
         "showlegend": true,
         "type": "scatter",
         "x": [
          8.4
         ],
         "xaxis": "x",
         "y": [
          5
         ],
         "yaxis": "y"
        },
        {
         "hovertemplate": "Tm=Los Angeles Rams<br>TO%=%{x}<br>W=%{y}<br>FL=%{marker.size}<extra></extra>",
         "legendgroup": "Los Angeles Rams",
         "marker": {
          "color": "#FFA15A",
          "size": [
           4
          ],
          "sizemode": "area",
          "sizeref": 0.0225,
          "symbol": "circle"
         },
         "mode": "markers",
         "name": "Los Angeles Rams",
         "orientation": "v",
         "showlegend": true,
         "type": "scatter",
         "x": [
          8.3
         ],
         "xaxis": "x",
         "y": [
          4
         ],
         "yaxis": "y"
        },
        {
         "hovertemplate": "Tm=Atlanta Falcons<br>TO%=%{x}<br>W=%{y}<br>FL=%{marker.size}<extra></extra>",
         "legendgroup": "Atlanta Falcons",
         "marker": {
          "color": "#19d3f3",
          "size": [
           5
          ],
          "sizemode": "area",
          "sizeref": 0.0225,
          "symbol": "circle"
         },
         "mode": "markers",
         "name": "Atlanta Falcons",
         "orientation": "v",
         "showlegend": true,
         "type": "scatter",
         "x": [
          8.8
         ],
         "xaxis": "x",
         "y": [
          4
         ],
         "yaxis": "y"
        },
        {
         "hovertemplate": "Tm=Tampa Bay Buccaneers<br>TO%=%{x}<br>W=%{y}<br>FL=%{marker.size}<extra></extra>",
         "legendgroup": "Tampa Bay Buccaneers",
         "marker": {
          "color": "#FF6692",
          "size": [
           8
          ],
          "sizemode": "area",
          "sizeref": 0.0225,
          "symbol": "circle"
         },
         "mode": "markers",
         "name": "Tampa Bay Buccaneers",
         "orientation": "v",
         "showlegend": true,
         "type": "scatter",
         "x": [
          16.7
         ],
         "xaxis": "x",
         "y": [
          4
         ],
         "yaxis": "y"
        },
        {
         "hovertemplate": "Tm=Washington Commanders<br>TO%=%{x}<br>W=%{y}<br>FL=%{marker.size}<extra></extra>",
         "legendgroup": "Washington Commanders",
         "marker": {
          "color": "#B6E880",
          "size": [
           7
          ],
          "sizemode": "area",
          "sizeref": 0.0225,
          "symbol": "circle"
         },
         "mode": "markers",
         "name": "Washington Commanders",
         "orientation": "v",
         "showlegend": true,
         "type": "scatter",
         "x": [
          10.6
         ],
         "xaxis": "x",
         "y": [
          4
         ],
         "yaxis": "y"
        },
        {
         "hovertemplate": "Tm=New York Giants<br>TO%=%{x}<br>W=%{y}<br>FL=%{marker.size}<extra></extra>",
         "legendgroup": "New York Giants",
         "marker": {
          "color": "#FF97FF",
          "size": [
           4
          ],
          "sizemode": "area",
          "sizeref": 0.0225,
          "symbol": "circle"
         },
         "mode": "markers",
         "name": "New York Giants",
         "orientation": "v",
         "showlegend": true,
         "type": "scatter",
         "x": [
          8.5
         ],
         "xaxis": "x",
         "y": [
          3
         ],
         "yaxis": "y"
        },
        {
         "hovertemplate": "Tm=Chicago Bears<br>TO%=%{x}<br>W=%{y}<br>FL=%{marker.size}<extra></extra>",
         "legendgroup": "Chicago Bears",
         "marker": {
          "color": "#FECB52",
          "size": [
           3
          ],
          "sizemode": "area",
          "sizeref": 0.0225,
          "symbol": "circle"
         },
         "mode": "markers",
         "name": "Chicago Bears",
         "orientation": "v",
         "showlegend": true,
         "type": "scatter",
         "x": [
          8.7
         ],
         "xaxis": "x",
         "y": [
          3
         ],
         "yaxis": "y"
        },
        {
         "hovertemplate": "Tm=Arizona Cardinals<br>TO%=%{x}<br>W=%{y}<br>FL=%{marker.size}<extra></extra>",
         "legendgroup": "Arizona Cardinals",
         "marker": {
          "color": "#636efa",
          "size": [
           5
          ],
          "sizemode": "area",
          "sizeref": 0.0225,
          "symbol": "circle"
         },
         "mode": "markers",
         "name": "Arizona Cardinals",
         "orientation": "v",
         "showlegend": true,
         "type": "scatter",
         "x": [
          7.5
         ],
         "xaxis": "x",
         "y": [
          2
         ],
         "yaxis": "y"
        },
        {
         "hovertemplate": "Tm=Carolina Panthers<br>TO%=%{x}<br>W=%{y}<br>FL=%{marker.size}<extra></extra>",
         "legendgroup": "Carolina Panthers",
         "marker": {
          "color": "#EF553B",
          "size": [
           2
          ],
          "sizemode": "area",
          "sizeref": 0.0225,
          "symbol": "circle"
         },
         "mode": "markers",
         "name": "Carolina Panthers",
         "orientation": "v",
         "showlegend": true,
         "type": "scatter",
         "x": [
          6.1
         ],
         "xaxis": "x",
         "y": [
          1
         ],
         "yaxis": "y"
        }
       ],
       "layout": {
        "legend": {
         "itemsizing": "constant",
         "title": {
          "text": "Tm"
         },
         "tracegroupgap": 0
        },
        "margin": {
         "t": 60
        },
        "template": {
         "data": {
          "bar": [
           {
            "error_x": {
             "color": "#2a3f5f"
            },
            "error_y": {
             "color": "#2a3f5f"
            },
            "marker": {
             "line": {
              "color": "#E5ECF6",
              "width": 0.5
             },
             "pattern": {
              "fillmode": "overlay",
              "size": 10,
              "solidity": 0.2
             }
            },
            "type": "bar"
           }
          ],
          "barpolar": [
           {
            "marker": {
             "line": {
              "color": "#E5ECF6",
              "width": 0.5
             },
             "pattern": {
              "fillmode": "overlay",
              "size": 10,
              "solidity": 0.2
             }
            },
            "type": "barpolar"
           }
          ],
          "carpet": [
           {
            "aaxis": {
             "endlinecolor": "#2a3f5f",
             "gridcolor": "white",
             "linecolor": "white",
             "minorgridcolor": "white",
             "startlinecolor": "#2a3f5f"
            },
            "baxis": {
             "endlinecolor": "#2a3f5f",
             "gridcolor": "white",
             "linecolor": "white",
             "minorgridcolor": "white",
             "startlinecolor": "#2a3f5f"
            },
            "type": "carpet"
           }
          ],
          "choropleth": [
           {
            "colorbar": {
             "outlinewidth": 0,
             "ticks": ""
            },
            "type": "choropleth"
           }
          ],
          "contour": [
           {
            "colorbar": {
             "outlinewidth": 0,
             "ticks": ""
            },
            "colorscale": [
             [
              0,
              "#0d0887"
             ],
             [
              0.1111111111111111,
              "#46039f"
             ],
             [
              0.2222222222222222,
              "#7201a8"
             ],
             [
              0.3333333333333333,
              "#9c179e"
             ],
             [
              0.4444444444444444,
              "#bd3786"
             ],
             [
              0.5555555555555556,
              "#d8576b"
             ],
             [
              0.6666666666666666,
              "#ed7953"
             ],
             [
              0.7777777777777778,
              "#fb9f3a"
             ],
             [
              0.8888888888888888,
              "#fdca26"
             ],
             [
              1,
              "#f0f921"
             ]
            ],
            "type": "contour"
           }
          ],
          "contourcarpet": [
           {
            "colorbar": {
             "outlinewidth": 0,
             "ticks": ""
            },
            "type": "contourcarpet"
           }
          ],
          "heatmap": [
           {
            "colorbar": {
             "outlinewidth": 0,
             "ticks": ""
            },
            "colorscale": [
             [
              0,
              "#0d0887"
             ],
             [
              0.1111111111111111,
              "#46039f"
             ],
             [
              0.2222222222222222,
              "#7201a8"
             ],
             [
              0.3333333333333333,
              "#9c179e"
             ],
             [
              0.4444444444444444,
              "#bd3786"
             ],
             [
              0.5555555555555556,
              "#d8576b"
             ],
             [
              0.6666666666666666,
              "#ed7953"
             ],
             [
              0.7777777777777778,
              "#fb9f3a"
             ],
             [
              0.8888888888888888,
              "#fdca26"
             ],
             [
              1,
              "#f0f921"
             ]
            ],
            "type": "heatmap"
           }
          ],
          "heatmapgl": [
           {
            "colorbar": {
             "outlinewidth": 0,
             "ticks": ""
            },
            "colorscale": [
             [
              0,
              "#0d0887"
             ],
             [
              0.1111111111111111,
              "#46039f"
             ],
             [
              0.2222222222222222,
              "#7201a8"
             ],
             [
              0.3333333333333333,
              "#9c179e"
             ],
             [
              0.4444444444444444,
              "#bd3786"
             ],
             [
              0.5555555555555556,
              "#d8576b"
             ],
             [
              0.6666666666666666,
              "#ed7953"
             ],
             [
              0.7777777777777778,
              "#fb9f3a"
             ],
             [
              0.8888888888888888,
              "#fdca26"
             ],
             [
              1,
              "#f0f921"
             ]
            ],
            "type": "heatmapgl"
           }
          ],
          "histogram": [
           {
            "marker": {
             "pattern": {
              "fillmode": "overlay",
              "size": 10,
              "solidity": 0.2
             }
            },
            "type": "histogram"
           }
          ],
          "histogram2d": [
           {
            "colorbar": {
             "outlinewidth": 0,
             "ticks": ""
            },
            "colorscale": [
             [
              0,
              "#0d0887"
             ],
             [
              0.1111111111111111,
              "#46039f"
             ],
             [
              0.2222222222222222,
              "#7201a8"
             ],
             [
              0.3333333333333333,
              "#9c179e"
             ],
             [
              0.4444444444444444,
              "#bd3786"
             ],
             [
              0.5555555555555556,
              "#d8576b"
             ],
             [
              0.6666666666666666,
              "#ed7953"
             ],
             [
              0.7777777777777778,
              "#fb9f3a"
             ],
             [
              0.8888888888888888,
              "#fdca26"
             ],
             [
              1,
              "#f0f921"
             ]
            ],
            "type": "histogram2d"
           }
          ],
          "histogram2dcontour": [
           {
            "colorbar": {
             "outlinewidth": 0,
             "ticks": ""
            },
            "colorscale": [
             [
              0,
              "#0d0887"
             ],
             [
              0.1111111111111111,
              "#46039f"
             ],
             [
              0.2222222222222222,
              "#7201a8"
             ],
             [
              0.3333333333333333,
              "#9c179e"
             ],
             [
              0.4444444444444444,
              "#bd3786"
             ],
             [
              0.5555555555555556,
              "#d8576b"
             ],
             [
              0.6666666666666666,
              "#ed7953"
             ],
             [
              0.7777777777777778,
              "#fb9f3a"
             ],
             [
              0.8888888888888888,
              "#fdca26"
             ],
             [
              1,
              "#f0f921"
             ]
            ],
            "type": "histogram2dcontour"
           }
          ],
          "mesh3d": [
           {
            "colorbar": {
             "outlinewidth": 0,
             "ticks": ""
            },
            "type": "mesh3d"
           }
          ],
          "parcoords": [
           {
            "line": {
             "colorbar": {
              "outlinewidth": 0,
              "ticks": ""
             }
            },
            "type": "parcoords"
           }
          ],
          "pie": [
           {
            "automargin": true,
            "type": "pie"
           }
          ],
          "scatter": [
           {
            "fillpattern": {
             "fillmode": "overlay",
             "size": 10,
             "solidity": 0.2
            },
            "type": "scatter"
           }
          ],
          "scatter3d": [
           {
            "line": {
             "colorbar": {
              "outlinewidth": 0,
              "ticks": ""
             }
            },
            "marker": {
             "colorbar": {
              "outlinewidth": 0,
              "ticks": ""
             }
            },
            "type": "scatter3d"
           }
          ],
          "scattercarpet": [
           {
            "marker": {
             "colorbar": {
              "outlinewidth": 0,
              "ticks": ""
             }
            },
            "type": "scattercarpet"
           }
          ],
          "scattergeo": [
           {
            "marker": {
             "colorbar": {
              "outlinewidth": 0,
              "ticks": ""
             }
            },
            "type": "scattergeo"
           }
          ],
          "scattergl": [
           {
            "marker": {
             "colorbar": {
              "outlinewidth": 0,
              "ticks": ""
             }
            },
            "type": "scattergl"
           }
          ],
          "scattermapbox": [
           {
            "marker": {
             "colorbar": {
              "outlinewidth": 0,
              "ticks": ""
             }
            },
            "type": "scattermapbox"
           }
          ],
          "scatterpolar": [
           {
            "marker": {
             "colorbar": {
              "outlinewidth": 0,
              "ticks": ""
             }
            },
            "type": "scatterpolar"
           }
          ],
          "scatterpolargl": [
           {
            "marker": {
             "colorbar": {
              "outlinewidth": 0,
              "ticks": ""
             }
            },
            "type": "scatterpolargl"
           }
          ],
          "scatterternary": [
           {
            "marker": {
             "colorbar": {
              "outlinewidth": 0,
              "ticks": ""
             }
            },
            "type": "scatterternary"
           }
          ],
          "surface": [
           {
            "colorbar": {
             "outlinewidth": 0,
             "ticks": ""
            },
            "colorscale": [
             [
              0,
              "#0d0887"
             ],
             [
              0.1111111111111111,
              "#46039f"
             ],
             [
              0.2222222222222222,
              "#7201a8"
             ],
             [
              0.3333333333333333,
              "#9c179e"
             ],
             [
              0.4444444444444444,
              "#bd3786"
             ],
             [
              0.5555555555555556,
              "#d8576b"
             ],
             [
              0.6666666666666666,
              "#ed7953"
             ],
             [
              0.7777777777777778,
              "#fb9f3a"
             ],
             [
              0.8888888888888888,
              "#fdca26"
             ],
             [
              1,
              "#f0f921"
             ]
            ],
            "type": "surface"
           }
          ],
          "table": [
           {
            "cells": {
             "fill": {
              "color": "#EBF0F8"
             },
             "line": {
              "color": "white"
             }
            },
            "header": {
             "fill": {
              "color": "#C8D4E3"
             },
             "line": {
              "color": "white"
             }
            },
            "type": "table"
           }
          ]
         },
         "layout": {
          "annotationdefaults": {
           "arrowcolor": "#2a3f5f",
           "arrowhead": 0,
           "arrowwidth": 1
          },
          "autotypenumbers": "strict",
          "coloraxis": {
           "colorbar": {
            "outlinewidth": 0,
            "ticks": ""
           }
          },
          "colorscale": {
           "diverging": [
            [
             0,
             "#8e0152"
            ],
            [
             0.1,
             "#c51b7d"
            ],
            [
             0.2,
             "#de77ae"
            ],
            [
             0.3,
             "#f1b6da"
            ],
            [
             0.4,
             "#fde0ef"
            ],
            [
             0.5,
             "#f7f7f7"
            ],
            [
             0.6,
             "#e6f5d0"
            ],
            [
             0.7,
             "#b8e186"
            ],
            [
             0.8,
             "#7fbc41"
            ],
            [
             0.9,
             "#4d9221"
            ],
            [
             1,
             "#276419"
            ]
           ],
           "sequential": [
            [
             0,
             "#0d0887"
            ],
            [
             0.1111111111111111,
             "#46039f"
            ],
            [
             0.2222222222222222,
             "#7201a8"
            ],
            [
             0.3333333333333333,
             "#9c179e"
            ],
            [
             0.4444444444444444,
             "#bd3786"
            ],
            [
             0.5555555555555556,
             "#d8576b"
            ],
            [
             0.6666666666666666,
             "#ed7953"
            ],
            [
             0.7777777777777778,
             "#fb9f3a"
            ],
            [
             0.8888888888888888,
             "#fdca26"
            ],
            [
             1,
             "#f0f921"
            ]
           ],
           "sequentialminus": [
            [
             0,
             "#0d0887"
            ],
            [
             0.1111111111111111,
             "#46039f"
            ],
            [
             0.2222222222222222,
             "#7201a8"
            ],
            [
             0.3333333333333333,
             "#9c179e"
            ],
            [
             0.4444444444444444,
             "#bd3786"
            ],
            [
             0.5555555555555556,
             "#d8576b"
            ],
            [
             0.6666666666666666,
             "#ed7953"
            ],
            [
             0.7777777777777778,
             "#fb9f3a"
            ],
            [
             0.8888888888888888,
             "#fdca26"
            ],
            [
             1,
             "#f0f921"
            ]
           ]
          },
          "colorway": [
           "#636efa",
           "#EF553B",
           "#00cc96",
           "#ab63fa",
           "#FFA15A",
           "#19d3f3",
           "#FF6692",
           "#B6E880",
           "#FF97FF",
           "#FECB52"
          ],
          "font": {
           "color": "#2a3f5f"
          },
          "geo": {
           "bgcolor": "white",
           "lakecolor": "white",
           "landcolor": "#E5ECF6",
           "showlakes": true,
           "showland": true,
           "subunitcolor": "white"
          },
          "hoverlabel": {
           "align": "left"
          },
          "hovermode": "closest",
          "mapbox": {
           "style": "light"
          },
          "paper_bgcolor": "white",
          "plot_bgcolor": "#E5ECF6",
          "polar": {
           "angularaxis": {
            "gridcolor": "white",
            "linecolor": "white",
            "ticks": ""
           },
           "bgcolor": "#E5ECF6",
           "radialaxis": {
            "gridcolor": "white",
            "linecolor": "white",
            "ticks": ""
           }
          },
          "scene": {
           "xaxis": {
            "backgroundcolor": "#E5ECF6",
            "gridcolor": "white",
            "gridwidth": 2,
            "linecolor": "white",
            "showbackground": true,
            "ticks": "",
            "zerolinecolor": "white"
           },
           "yaxis": {
            "backgroundcolor": "#E5ECF6",
            "gridcolor": "white",
            "gridwidth": 2,
            "linecolor": "white",
            "showbackground": true,
            "ticks": "",
            "zerolinecolor": "white"
           },
           "zaxis": {
            "backgroundcolor": "#E5ECF6",
            "gridcolor": "white",
            "gridwidth": 2,
            "linecolor": "white",
            "showbackground": true,
            "ticks": "",
            "zerolinecolor": "white"
           }
          },
          "shapedefaults": {
           "line": {
            "color": "#2a3f5f"
           }
          },
          "ternary": {
           "aaxis": {
            "gridcolor": "white",
            "linecolor": "white",
            "ticks": ""
           },
           "baxis": {
            "gridcolor": "white",
            "linecolor": "white",
            "ticks": ""
           },
           "bgcolor": "#E5ECF6",
           "caxis": {
            "gridcolor": "white",
            "linecolor": "white",
            "ticks": ""
           }
          },
          "title": {
           "x": 0.05
          },
          "xaxis": {
           "automargin": true,
           "gridcolor": "white",
           "linecolor": "white",
           "ticks": "",
           "title": {
            "standoff": 15
           },
           "zerolinecolor": "white",
           "zerolinewidth": 2
          },
          "yaxis": {
           "automargin": true,
           "gridcolor": "white",
           "linecolor": "white",
           "ticks": "",
           "title": {
            "standoff": 15
           },
           "zerolinecolor": "white",
           "zerolinewidth": 2
          }
         }
        },
        "xaxis": {
         "anchor": "y",
         "domain": [
          0,
          1
         ],
         "title": {
          "text": "TO%"
         }
        },
        "yaxis": {
         "anchor": "x",
         "domain": [
          0,
          1
         ],
         "title": {
          "text": "W"
         }
        }
       }
      }
     },
     "metadata": {},
     "output_type": "display_data"
    }
   ],
   "source": [
    "fig = px.scatter(\n",
    "    All_Defense_data,\n",
    "    x=\"TO%\",\n",
    "    y=\"W\",\n",
    "    color=All_Defense_data.index,\n",
    "    size=All_Defense_data[\"FL\"] \n",
    ")\n",
    "\n",
    "fig.show()"
   ]
  },
  {
   "cell_type": "code",
   "execution_count": 128,
   "metadata": {},
   "outputs": [
    {
     "data": {
      "application/vnd.plotly.v1+json": {
       "config": {
        "plotlyServerURL": "https://plot.ly"
       },
       "data": [
        {
         "hovertemplate": "Tm=Baltimore Ravens<br>NY/A=%{x}<br>W=%{y}<br>Yds.1=%{marker.size}<extra></extra>",
         "legendgroup": "Baltimore Ravens",
         "marker": {
          "color": "#636efa",
          "size": [
           1867
          ],
          "sizemode": "area",
          "sizeref": 6.6075,
          "symbol": "circle"
         },
         "mode": "markers",
         "name": "Baltimore Ravens",
         "orientation": "v",
         "showlegend": true,
         "type": "scatter",
         "x": [
          4.2
         ],
         "xaxis": "x",
         "y": [
          8
         ],
         "yaxis": "y"
        },
        {
         "hovertemplate": "Tm=Kansas City Chiefs<br>NY/A=%{x}<br>W=%{y}<br>Yds.1=%{marker.size}<extra></extra>",
         "legendgroup": "Kansas City Chiefs",
         "marker": {
          "color": "#EF553B",
          "size": [
           1584
          ],
          "sizemode": "area",
          "sizeref": 6.6075,
          "symbol": "circle"
         },
         "mode": "markers",
         "name": "Kansas City Chiefs",
         "orientation": "v",
         "showlegend": true,
         "type": "scatter",
         "x": [
          4.9
         ],
         "xaxis": "x",
         "y": [
          7
         ],
         "yaxis": "y"
        },
        {
         "hovertemplate": "Tm=Jacksonville Jaguars<br>NY/A=%{x}<br>W=%{y}<br>Yds.1=%{marker.size}<extra></extra>",
         "legendgroup": "Jacksonville Jaguars",
         "marker": {
          "color": "#00cc96",
          "size": [
           2401
          ],
          "sizemode": "area",
          "sizeref": 6.6075,
          "symbol": "circle"
         },
         "mode": "markers",
         "name": "Jacksonville Jaguars",
         "orientation": "v",
         "showlegend": true,
         "type": "scatter",
         "x": [
          6.3
         ],
         "xaxis": "x",
         "y": [
          7
         ],
         "yaxis": "y"
        },
        {
         "hovertemplate": "Tm=Miami Dolphins<br>NY/A=%{x}<br>W=%{y}<br>Yds.1=%{marker.size}<extra></extra>",
         "legendgroup": "Miami Dolphins",
         "marker": {
          "color": "#ab63fa",
          "size": [
           1946
          ],
          "sizemode": "area",
          "sizeref": 6.6075,
          "symbol": "circle"
         },
         "mode": "markers",
         "name": "Miami Dolphins",
         "orientation": "v",
         "showlegend": true,
         "type": "scatter",
         "x": [
          5.9
         ],
         "xaxis": "x",
         "y": [
          7
         ],
         "yaxis": "y"
        },
        {
         "hovertemplate": "Tm=Cleveland Browns<br>NY/A=%{x}<br>W=%{y}<br>Yds.1=%{marker.size}<extra></extra>",
         "legendgroup": "Cleveland Browns",
         "marker": {
          "color": "#FFA15A",
          "size": [
           1360
          ],
          "sizemode": "area",
          "sizeref": 6.6075,
          "symbol": "circle"
         },
         "mode": "markers",
         "name": "Cleveland Browns",
         "orientation": "v",
         "showlegend": true,
         "type": "scatter",
         "x": [
          5.1
         ],
         "xaxis": "x",
         "y": [
          7
         ],
         "yaxis": "y"
        },
        {
         "hovertemplate": "Tm=Houston Texans<br>NY/A=%{x}<br>W=%{y}<br>Yds.1=%{marker.size}<extra></extra>",
         "legendgroup": "Houston Texans",
         "marker": {
          "color": "#19d3f3",
          "size": [
           2218
          ],
          "sizemode": "area",
          "sizeref": 6.6075,
          "symbol": "circle"
         },
         "mode": "markers",
         "name": "Houston Texans",
         "orientation": "v",
         "showlegend": true,
         "type": "scatter",
         "x": [
          6.6
         ],
         "xaxis": "x",
         "y": [
          6
         ],
         "yaxis": "y"
        },
        {
         "hovertemplate": "Tm=Pittsburgh Steelers<br>NY/A=%{x}<br>W=%{y}<br>Yds.1=%{marker.size}<extra></extra>",
         "legendgroup": "Pittsburgh Steelers",
         "marker": {
          "color": "#FF6692",
          "size": [
           2236
          ],
          "sizemode": "area",
          "sizeref": 6.6075,
          "symbol": "circle"
         },
         "mode": "markers",
         "name": "Pittsburgh Steelers",
         "orientation": "v",
         "showlegend": true,
         "type": "scatter",
         "x": [
          6.4
         ],
         "xaxis": "x",
         "y": [
          6
         ],
         "yaxis": "y"
        },
        {
         "hovertemplate": "Tm=Buffalo Bills<br>NY/A=%{x}<br>W=%{y}<br>Yds.1=%{marker.size}<extra></extra>",
         "legendgroup": "Buffalo Bills",
         "marker": {
          "color": "#B6E880",
          "size": [
           2154
          ],
          "sizemode": "area",
          "sizeref": 6.6075,
          "symbol": "circle"
         },
         "mode": "markers",
         "name": "Buffalo Bills",
         "orientation": "v",
         "showlegend": true,
         "type": "scatter",
         "x": [
          6
         ],
         "xaxis": "x",
         "y": [
          6
         ],
         "yaxis": "y"
        },
        {
         "hovertemplate": "Tm=Indianapolis Colts<br>NY/A=%{x}<br>W=%{y}<br>Yds.1=%{marker.size}<extra></extra>",
         "legendgroup": "Indianapolis Colts",
         "marker": {
          "color": "#FF97FF",
          "size": [
           2288
          ],
          "sizemode": "area",
          "sizeref": 6.6075,
          "symbol": "circle"
         },
         "mode": "markers",
         "name": "Indianapolis Colts",
         "orientation": "v",
         "showlegend": true,
         "type": "scatter",
         "x": [
          6.1
         ],
         "xaxis": "x",
         "y": [
          5
         ],
         "yaxis": "y"
        },
        {
         "hovertemplate": "Tm=Denver Broncos<br>NY/A=%{x}<br>W=%{y}<br>Yds.1=%{marker.size}<extra></extra>",
         "legendgroup": "Denver Broncos",
         "marker": {
          "color": "#FECB52",
          "size": [
           2191
          ],
          "sizemode": "area",
          "sizeref": 6.6075,
          "symbol": "circle"
         },
         "mode": "markers",
         "name": "Denver Broncos",
         "orientation": "v",
         "showlegend": true,
         "type": "scatter",
         "x": [
          7.1
         ],
         "xaxis": "x",
         "y": [
          5
         ],
         "yaxis": "y"
        },
        {
         "hovertemplate": "Tm=Cincinnati Bengals<br>NY/A=%{x}<br>W=%{y}<br>Yds.1=%{marker.size}<extra></extra>",
         "legendgroup": "Cincinnati Bengals",
         "marker": {
          "color": "#636efa",
          "size": [
           2478
          ],
          "sizemode": "area",
          "sizeref": 6.6075,
          "symbol": "circle"
         },
         "mode": "markers",
         "name": "Cincinnati Bengals",
         "orientation": "v",
         "showlegend": true,
         "type": "scatter",
         "x": [
          7
         ],
         "xaxis": "x",
         "y": [
          5
         ],
         "yaxis": "y"
        },
        {
         "hovertemplate": "Tm=Las Vegas Raiders<br>NY/A=%{x}<br>W=%{y}<br>Yds.1=%{marker.size}<extra></extra>",
         "legendgroup": "Las Vegas Raiders",
         "marker": {
          "color": "#EF553B",
          "size": [
           1987
          ],
          "sizemode": "area",
          "sizeref": 6.6075,
          "symbol": "circle"
         },
         "mode": "markers",
         "name": "Las Vegas Raiders",
         "orientation": "v",
         "showlegend": true,
         "type": "scatter",
         "x": [
          5.7
         ],
         "xaxis": "x",
         "y": [
          5
         ],
         "yaxis": "y"
        },
        {
         "hovertemplate": "Tm=Los Angeles Chargers<br>NY/A=%{x}<br>W=%{y}<br>Yds.1=%{marker.size}<extra></extra>",
         "legendgroup": "Los Angeles Chargers",
         "marker": {
          "color": "#00cc96",
          "size": [
           2621
          ],
          "sizemode": "area",
          "sizeref": 6.6075,
          "symbol": "circle"
         },
         "mode": "markers",
         "name": "Los Angeles Chargers",
         "orientation": "v",
         "showlegend": true,
         "type": "scatter",
         "x": [
          6.9
         ],
         "xaxis": "x",
         "y": [
          4
         ],
         "yaxis": "y"
        },
        {
         "hovertemplate": "Tm=New York Jets<br>NY/A=%{x}<br>W=%{y}<br>Yds.1=%{marker.size}<extra></extra>",
         "legendgroup": "New York Jets",
         "marker": {
          "color": "#ab63fa",
          "size": [
           1524
          ],
          "sizemode": "area",
          "sizeref": 6.6075,
          "symbol": "circle"
         },
         "mode": "markers",
         "name": "New York Jets",
         "orientation": "v",
         "showlegend": true,
         "type": "scatter",
         "x": [
          4.9
         ],
         "xaxis": "x",
         "y": [
          4
         ],
         "yaxis": "y"
        },
        {
         "hovertemplate": "Tm=Tennessee Titans<br>NY/A=%{x}<br>W=%{y}<br>Yds.1=%{marker.size}<extra></extra>",
         "legendgroup": "Tennessee Titans",
         "marker": {
          "color": "#FFA15A",
          "size": [
           2047
          ],
          "sizemode": "area",
          "sizeref": 6.6075,
          "symbol": "circle"
         },
         "mode": "markers",
         "name": "Tennessee Titans",
         "orientation": "v",
         "showlegend": true,
         "type": "scatter",
         "x": [
          6.6
         ],
         "xaxis": "x",
         "y": [
          3
         ],
         "yaxis": "y"
        },
        {
         "hovertemplate": "Tm=New England Patriots<br>NY/A=%{x}<br>W=%{y}<br>Yds.1=%{marker.size}<extra></extra>",
         "legendgroup": "New England Patriots",
         "marker": {
          "color": "#19d3f3",
          "size": [
           2288
          ],
          "sizemode": "area",
          "sizeref": 6.6075,
          "symbol": "circle"
         },
         "mode": "markers",
         "name": "New England Patriots",
         "orientation": "v",
         "showlegend": true,
         "type": "scatter",
         "x": [
          6.2
         ],
         "xaxis": "x",
         "y": [
          2
         ],
         "yaxis": "y"
        },
        {
         "hovertemplate": "Tm=Philadelphia Eagles<br>NY/A=%{x}<br>W=%{y}<br>Yds.1=%{marker.size}<extra></extra>",
         "legendgroup": "Philadelphia Eagles",
         "marker": {
          "color": "#FF6692",
          "size": [
           2313
          ],
          "sizemode": "area",
          "sizeref": 6.6075,
          "symbol": "circle"
         },
         "mode": "markers",
         "name": "Philadelphia Eagles",
         "orientation": "v",
         "showlegend": true,
         "type": "scatter",
         "x": [
          5.9
         ],
         "xaxis": "x",
         "y": [
          9
         ],
         "yaxis": "y"
        },
        {
         "hovertemplate": "Tm=San Francisco 49ers<br>NY/A=%{x}<br>W=%{y}<br>Yds.1=%{marker.size}<extra></extra>",
         "legendgroup": "San Francisco 49ers",
         "marker": {
          "color": "#B6E880",
          "size": [
           1993
          ],
          "sizemode": "area",
          "sizeref": 6.6075,
          "symbol": "circle"
         },
         "mode": "markers",
         "name": "San Francisco 49ers",
         "orientation": "v",
         "showlegend": true,
         "type": "scatter",
         "x": [
          5.4
         ],
         "xaxis": "x",
         "y": [
          8
         ],
         "yaxis": "y"
        },
        {
         "hovertemplate": "Tm=Detroit Lions<br>NY/A=%{x}<br>W=%{y}<br>Yds.1=%{marker.size}<extra></extra>",
         "legendgroup": "Detroit Lions",
         "marker": {
          "color": "#FF97FF",
          "size": [
           2084
          ],
          "sizemode": "area",
          "sizeref": 6.6075,
          "symbol": "circle"
         },
         "mode": "markers",
         "name": "Detroit Lions",
         "orientation": "v",
         "showlegend": true,
         "type": "scatter",
         "x": [
          6.1
         ],
         "xaxis": "x",
         "y": [
          8
         ],
         "yaxis": "y"
        },
        {
         "hovertemplate": "Tm=New Orleans Saints<br>NY/A=%{x}<br>W=%{y}<br>Yds.1=%{marker.size}<extra></extra>",
         "legendgroup": "New Orleans Saints",
         "marker": {
          "color": "#FECB52",
          "size": [
           1991
          ],
          "sizemode": "area",
          "sizeref": 6.6075,
          "symbol": "circle"
         },
         "mode": "markers",
         "name": "New Orleans Saints",
         "orientation": "v",
         "showlegend": true,
         "type": "scatter",
         "x": [
          5.6
         ],
         "xaxis": "x",
         "y": [
          5
         ],
         "yaxis": "y"
        },
        {
         "hovertemplate": "Tm=Dallas Cowboys<br>NY/A=%{x}<br>W=%{y}<br>Yds.1=%{marker.size}<extra></extra>",
         "legendgroup": "Dallas Cowboys",
         "marker": {
          "color": "#636efa",
          "size": [
           1494
          ],
          "sizemode": "area",
          "sizeref": 6.6075,
          "symbol": "circle"
         },
         "mode": "markers",
         "name": "Dallas Cowboys",
         "orientation": "v",
         "showlegend": true,
         "type": "scatter",
         "x": [
          5.4
         ],
         "xaxis": "x",
         "y": [
          8
         ],
         "yaxis": "y"
        },
        {
         "hovertemplate": "Tm=Minnesota Vikings<br>NY/A=%{x}<br>W=%{y}<br>Yds.1=%{marker.size}<extra></extra>",
         "legendgroup": "Minnesota Vikings",
         "marker": {
          "color": "#EF553B",
          "size": [
           2244
          ],
          "sizemode": "area",
          "sizeref": 6.6075,
          "symbol": "circle"
         },
         "mode": "markers",
         "name": "Minnesota Vikings",
         "orientation": "v",
         "showlegend": true,
         "type": "scatter",
         "x": [
          5.9
         ],
         "xaxis": "x",
         "y": [
          6
         ],
         "yaxis": "y"
        },
        {
         "hovertemplate": "Tm=Seattle Seahawks<br>NY/A=%{x}<br>W=%{y}<br>Yds.1=%{marker.size}<extra></extra>",
         "legendgroup": "Seattle Seahawks",
         "marker": {
          "color": "#00cc96",
          "size": [
           2145
          ],
          "sizemode": "area",
          "sizeref": 6.6075,
          "symbol": "circle"
         },
         "mode": "markers",
         "name": "Seattle Seahawks",
         "orientation": "v",
         "showlegend": true,
         "type": "scatter",
         "x": [
          5.8
         ],
         "xaxis": "x",
         "y": [
          6
         ],
         "yaxis": "y"
        },
        {
         "hovertemplate": "Tm=Green Bay Packers<br>NY/A=%{x}<br>W=%{y}<br>Yds.1=%{marker.size}<extra></extra>",
         "legendgroup": "Green Bay Packers",
         "marker": {
          "color": "#ab63fa",
          "size": [
           1688
          ],
          "sizemode": "area",
          "sizeref": 6.6075,
          "symbol": "circle"
         },
         "mode": "markers",
         "name": "Green Bay Packers",
         "orientation": "v",
         "showlegend": true,
         "type": "scatter",
         "x": [
          5.7
         ],
         "xaxis": "x",
         "y": [
          5
         ],
         "yaxis": "y"
        },
        {
         "hovertemplate": "Tm=Los Angeles Rams<br>NY/A=%{x}<br>W=%{y}<br>Yds.1=%{marker.size}<extra></extra>",
         "legendgroup": "Los Angeles Rams",
         "marker": {
          "color": "#FFA15A",
          "size": [
           1955
          ],
          "sizemode": "area",
          "sizeref": 6.6075,
          "symbol": "circle"
         },
         "mode": "markers",
         "name": "Los Angeles Rams",
         "orientation": "v",
         "showlegend": true,
         "type": "scatter",
         "x": [
          6.3
         ],
         "xaxis": "x",
         "y": [
          4
         ],
         "yaxis": "y"
        },
        {
         "hovertemplate": "Tm=Atlanta Falcons<br>NY/A=%{x}<br>W=%{y}<br>Yds.1=%{marker.size}<extra></extra>",
         "legendgroup": "Atlanta Falcons",
         "marker": {
          "color": "#19d3f3",
          "size": [
           2004
          ],
          "sizemode": "area",
          "sizeref": 6.6075,
          "symbol": "circle"
         },
         "mode": "markers",
         "name": "Atlanta Falcons",
         "orientation": "v",
         "showlegend": true,
         "type": "scatter",
         "x": [
          5.8
         ],
         "xaxis": "x",
         "y": [
          4
         ],
         "yaxis": "y"
        },
        {
         "hovertemplate": "Tm=Tampa Bay Buccaneers<br>NY/A=%{x}<br>W=%{y}<br>Yds.1=%{marker.size}<extra></extra>",
         "legendgroup": "Tampa Bay Buccaneers",
         "marker": {
          "color": "#FF6692",
          "size": [
           2402
          ],
          "sizemode": "area",
          "sizeref": 6.6075,
          "symbol": "circle"
         },
         "mode": "markers",
         "name": "Tampa Bay Buccaneers",
         "orientation": "v",
         "showlegend": true,
         "type": "scatter",
         "x": [
          6.6
         ],
         "xaxis": "x",
         "y": [
          4
         ],
         "yaxis": "y"
        },
        {
         "hovertemplate": "Tm=Washington Commanders<br>NY/A=%{x}<br>W=%{y}<br>Yds.1=%{marker.size}<extra></extra>",
         "legendgroup": "Washington Commanders",
         "marker": {
          "color": "#B6E880",
          "size": [
           2643
          ],
          "sizemode": "area",
          "sizeref": 6.6075,
          "symbol": "circle"
         },
         "mode": "markers",
         "name": "Washington Commanders",
         "orientation": "v",
         "showlegend": true,
         "type": "scatter",
         "x": [
          6.8
         ],
         "xaxis": "x",
         "y": [
          4
         ],
         "yaxis": "y"
        },
        {
         "hovertemplate": "Tm=New York Giants<br>NY/A=%{x}<br>W=%{y}<br>Yds.1=%{marker.size}<extra></extra>",
         "legendgroup": "New York Giants",
         "marker": {
          "color": "#FF97FF",
          "size": [
           2373
          ],
          "sizemode": "area",
          "sizeref": 6.6075,
          "symbol": "circle"
         },
         "mode": "markers",
         "name": "New York Giants",
         "orientation": "v",
         "showlegend": true,
         "type": "scatter",
         "x": [
          7
         ],
         "xaxis": "x",
         "y": [
          3
         ],
         "yaxis": "y"
        },
        {
         "hovertemplate": "Tm=Chicago Bears<br>NY/A=%{x}<br>W=%{y}<br>Yds.1=%{marker.size}<extra></extra>",
         "legendgroup": "Chicago Bears",
         "marker": {
          "color": "#FECB52",
          "size": [
           2482
          ],
          "sizemode": "area",
          "sizeref": 6.6075,
          "symbol": "circle"
         },
         "mode": "markers",
         "name": "Chicago Bears",
         "orientation": "v",
         "showlegend": true,
         "type": "scatter",
         "x": [
          6.5
         ],
         "xaxis": "x",
         "y": [
          3
         ],
         "yaxis": "y"
        },
        {
         "hovertemplate": "Tm=Arizona Cardinals<br>NY/A=%{x}<br>W=%{y}<br>Yds.1=%{marker.size}<extra></extra>",
         "legendgroup": "Arizona Cardinals",
         "marker": {
          "color": "#636efa",
          "size": [
           2084
          ],
          "sizemode": "area",
          "sizeref": 6.6075,
          "symbol": "circle"
         },
         "mode": "markers",
         "name": "Arizona Cardinals",
         "orientation": "v",
         "showlegend": true,
         "type": "scatter",
         "x": [
          6.3
         ],
         "xaxis": "x",
         "y": [
          2
         ],
         "yaxis": "y"
        },
        {
         "hovertemplate": "Tm=Carolina Panthers<br>NY/A=%{x}<br>W=%{y}<br>Yds.1=%{marker.size}<extra></extra>",
         "legendgroup": "Carolina Panthers",
         "marker": {
          "color": "#EF553B",
          "size": [
           1588
          ],
          "sizemode": "area",
          "sizeref": 6.6075,
          "symbol": "circle"
         },
         "mode": "markers",
         "name": "Carolina Panthers",
         "orientation": "v",
         "showlegend": true,
         "type": "scatter",
         "x": [
          5.9
         ],
         "xaxis": "x",
         "y": [
          1
         ],
         "yaxis": "y"
        }
       ],
       "layout": {
        "legend": {
         "itemsizing": "constant",
         "title": {
          "text": "Tm"
         },
         "tracegroupgap": 0
        },
        "margin": {
         "t": 60
        },
        "template": {
         "data": {
          "bar": [
           {
            "error_x": {
             "color": "#2a3f5f"
            },
            "error_y": {
             "color": "#2a3f5f"
            },
            "marker": {
             "line": {
              "color": "#E5ECF6",
              "width": 0.5
             },
             "pattern": {
              "fillmode": "overlay",
              "size": 10,
              "solidity": 0.2
             }
            },
            "type": "bar"
           }
          ],
          "barpolar": [
           {
            "marker": {
             "line": {
              "color": "#E5ECF6",
              "width": 0.5
             },
             "pattern": {
              "fillmode": "overlay",
              "size": 10,
              "solidity": 0.2
             }
            },
            "type": "barpolar"
           }
          ],
          "carpet": [
           {
            "aaxis": {
             "endlinecolor": "#2a3f5f",
             "gridcolor": "white",
             "linecolor": "white",
             "minorgridcolor": "white",
             "startlinecolor": "#2a3f5f"
            },
            "baxis": {
             "endlinecolor": "#2a3f5f",
             "gridcolor": "white",
             "linecolor": "white",
             "minorgridcolor": "white",
             "startlinecolor": "#2a3f5f"
            },
            "type": "carpet"
           }
          ],
          "choropleth": [
           {
            "colorbar": {
             "outlinewidth": 0,
             "ticks": ""
            },
            "type": "choropleth"
           }
          ],
          "contour": [
           {
            "colorbar": {
             "outlinewidth": 0,
             "ticks": ""
            },
            "colorscale": [
             [
              0,
              "#0d0887"
             ],
             [
              0.1111111111111111,
              "#46039f"
             ],
             [
              0.2222222222222222,
              "#7201a8"
             ],
             [
              0.3333333333333333,
              "#9c179e"
             ],
             [
              0.4444444444444444,
              "#bd3786"
             ],
             [
              0.5555555555555556,
              "#d8576b"
             ],
             [
              0.6666666666666666,
              "#ed7953"
             ],
             [
              0.7777777777777778,
              "#fb9f3a"
             ],
             [
              0.8888888888888888,
              "#fdca26"
             ],
             [
              1,
              "#f0f921"
             ]
            ],
            "type": "contour"
           }
          ],
          "contourcarpet": [
           {
            "colorbar": {
             "outlinewidth": 0,
             "ticks": ""
            },
            "type": "contourcarpet"
           }
          ],
          "heatmap": [
           {
            "colorbar": {
             "outlinewidth": 0,
             "ticks": ""
            },
            "colorscale": [
             [
              0,
              "#0d0887"
             ],
             [
              0.1111111111111111,
              "#46039f"
             ],
             [
              0.2222222222222222,
              "#7201a8"
             ],
             [
              0.3333333333333333,
              "#9c179e"
             ],
             [
              0.4444444444444444,
              "#bd3786"
             ],
             [
              0.5555555555555556,
              "#d8576b"
             ],
             [
              0.6666666666666666,
              "#ed7953"
             ],
             [
              0.7777777777777778,
              "#fb9f3a"
             ],
             [
              0.8888888888888888,
              "#fdca26"
             ],
             [
              1,
              "#f0f921"
             ]
            ],
            "type": "heatmap"
           }
          ],
          "heatmapgl": [
           {
            "colorbar": {
             "outlinewidth": 0,
             "ticks": ""
            },
            "colorscale": [
             [
              0,
              "#0d0887"
             ],
             [
              0.1111111111111111,
              "#46039f"
             ],
             [
              0.2222222222222222,
              "#7201a8"
             ],
             [
              0.3333333333333333,
              "#9c179e"
             ],
             [
              0.4444444444444444,
              "#bd3786"
             ],
             [
              0.5555555555555556,
              "#d8576b"
             ],
             [
              0.6666666666666666,
              "#ed7953"
             ],
             [
              0.7777777777777778,
              "#fb9f3a"
             ],
             [
              0.8888888888888888,
              "#fdca26"
             ],
             [
              1,
              "#f0f921"
             ]
            ],
            "type": "heatmapgl"
           }
          ],
          "histogram": [
           {
            "marker": {
             "pattern": {
              "fillmode": "overlay",
              "size": 10,
              "solidity": 0.2
             }
            },
            "type": "histogram"
           }
          ],
          "histogram2d": [
           {
            "colorbar": {
             "outlinewidth": 0,
             "ticks": ""
            },
            "colorscale": [
             [
              0,
              "#0d0887"
             ],
             [
              0.1111111111111111,
              "#46039f"
             ],
             [
              0.2222222222222222,
              "#7201a8"
             ],
             [
              0.3333333333333333,
              "#9c179e"
             ],
             [
              0.4444444444444444,
              "#bd3786"
             ],
             [
              0.5555555555555556,
              "#d8576b"
             ],
             [
              0.6666666666666666,
              "#ed7953"
             ],
             [
              0.7777777777777778,
              "#fb9f3a"
             ],
             [
              0.8888888888888888,
              "#fdca26"
             ],
             [
              1,
              "#f0f921"
             ]
            ],
            "type": "histogram2d"
           }
          ],
          "histogram2dcontour": [
           {
            "colorbar": {
             "outlinewidth": 0,
             "ticks": ""
            },
            "colorscale": [
             [
              0,
              "#0d0887"
             ],
             [
              0.1111111111111111,
              "#46039f"
             ],
             [
              0.2222222222222222,
              "#7201a8"
             ],
             [
              0.3333333333333333,
              "#9c179e"
             ],
             [
              0.4444444444444444,
              "#bd3786"
             ],
             [
              0.5555555555555556,
              "#d8576b"
             ],
             [
              0.6666666666666666,
              "#ed7953"
             ],
             [
              0.7777777777777778,
              "#fb9f3a"
             ],
             [
              0.8888888888888888,
              "#fdca26"
             ],
             [
              1,
              "#f0f921"
             ]
            ],
            "type": "histogram2dcontour"
           }
          ],
          "mesh3d": [
           {
            "colorbar": {
             "outlinewidth": 0,
             "ticks": ""
            },
            "type": "mesh3d"
           }
          ],
          "parcoords": [
           {
            "line": {
             "colorbar": {
              "outlinewidth": 0,
              "ticks": ""
             }
            },
            "type": "parcoords"
           }
          ],
          "pie": [
           {
            "automargin": true,
            "type": "pie"
           }
          ],
          "scatter": [
           {
            "fillpattern": {
             "fillmode": "overlay",
             "size": 10,
             "solidity": 0.2
            },
            "type": "scatter"
           }
          ],
          "scatter3d": [
           {
            "line": {
             "colorbar": {
              "outlinewidth": 0,
              "ticks": ""
             }
            },
            "marker": {
             "colorbar": {
              "outlinewidth": 0,
              "ticks": ""
             }
            },
            "type": "scatter3d"
           }
          ],
          "scattercarpet": [
           {
            "marker": {
             "colorbar": {
              "outlinewidth": 0,
              "ticks": ""
             }
            },
            "type": "scattercarpet"
           }
          ],
          "scattergeo": [
           {
            "marker": {
             "colorbar": {
              "outlinewidth": 0,
              "ticks": ""
             }
            },
            "type": "scattergeo"
           }
          ],
          "scattergl": [
           {
            "marker": {
             "colorbar": {
              "outlinewidth": 0,
              "ticks": ""
             }
            },
            "type": "scattergl"
           }
          ],
          "scattermapbox": [
           {
            "marker": {
             "colorbar": {
              "outlinewidth": 0,
              "ticks": ""
             }
            },
            "type": "scattermapbox"
           }
          ],
          "scatterpolar": [
           {
            "marker": {
             "colorbar": {
              "outlinewidth": 0,
              "ticks": ""
             }
            },
            "type": "scatterpolar"
           }
          ],
          "scatterpolargl": [
           {
            "marker": {
             "colorbar": {
              "outlinewidth": 0,
              "ticks": ""
             }
            },
            "type": "scatterpolargl"
           }
          ],
          "scatterternary": [
           {
            "marker": {
             "colorbar": {
              "outlinewidth": 0,
              "ticks": ""
             }
            },
            "type": "scatterternary"
           }
          ],
          "surface": [
           {
            "colorbar": {
             "outlinewidth": 0,
             "ticks": ""
            },
            "colorscale": [
             [
              0,
              "#0d0887"
             ],
             [
              0.1111111111111111,
              "#46039f"
             ],
             [
              0.2222222222222222,
              "#7201a8"
             ],
             [
              0.3333333333333333,
              "#9c179e"
             ],
             [
              0.4444444444444444,
              "#bd3786"
             ],
             [
              0.5555555555555556,
              "#d8576b"
             ],
             [
              0.6666666666666666,
              "#ed7953"
             ],
             [
              0.7777777777777778,
              "#fb9f3a"
             ],
             [
              0.8888888888888888,
              "#fdca26"
             ],
             [
              1,
              "#f0f921"
             ]
            ],
            "type": "surface"
           }
          ],
          "table": [
           {
            "cells": {
             "fill": {
              "color": "#EBF0F8"
             },
             "line": {
              "color": "white"
             }
            },
            "header": {
             "fill": {
              "color": "#C8D4E3"
             },
             "line": {
              "color": "white"
             }
            },
            "type": "table"
           }
          ]
         },
         "layout": {
          "annotationdefaults": {
           "arrowcolor": "#2a3f5f",
           "arrowhead": 0,
           "arrowwidth": 1
          },
          "autotypenumbers": "strict",
          "coloraxis": {
           "colorbar": {
            "outlinewidth": 0,
            "ticks": ""
           }
          },
          "colorscale": {
           "diverging": [
            [
             0,
             "#8e0152"
            ],
            [
             0.1,
             "#c51b7d"
            ],
            [
             0.2,
             "#de77ae"
            ],
            [
             0.3,
             "#f1b6da"
            ],
            [
             0.4,
             "#fde0ef"
            ],
            [
             0.5,
             "#f7f7f7"
            ],
            [
             0.6,
             "#e6f5d0"
            ],
            [
             0.7,
             "#b8e186"
            ],
            [
             0.8,
             "#7fbc41"
            ],
            [
             0.9,
             "#4d9221"
            ],
            [
             1,
             "#276419"
            ]
           ],
           "sequential": [
            [
             0,
             "#0d0887"
            ],
            [
             0.1111111111111111,
             "#46039f"
            ],
            [
             0.2222222222222222,
             "#7201a8"
            ],
            [
             0.3333333333333333,
             "#9c179e"
            ],
            [
             0.4444444444444444,
             "#bd3786"
            ],
            [
             0.5555555555555556,
             "#d8576b"
            ],
            [
             0.6666666666666666,
             "#ed7953"
            ],
            [
             0.7777777777777778,
             "#fb9f3a"
            ],
            [
             0.8888888888888888,
             "#fdca26"
            ],
            [
             1,
             "#f0f921"
            ]
           ],
           "sequentialminus": [
            [
             0,
             "#0d0887"
            ],
            [
             0.1111111111111111,
             "#46039f"
            ],
            [
             0.2222222222222222,
             "#7201a8"
            ],
            [
             0.3333333333333333,
             "#9c179e"
            ],
            [
             0.4444444444444444,
             "#bd3786"
            ],
            [
             0.5555555555555556,
             "#d8576b"
            ],
            [
             0.6666666666666666,
             "#ed7953"
            ],
            [
             0.7777777777777778,
             "#fb9f3a"
            ],
            [
             0.8888888888888888,
             "#fdca26"
            ],
            [
             1,
             "#f0f921"
            ]
           ]
          },
          "colorway": [
           "#636efa",
           "#EF553B",
           "#00cc96",
           "#ab63fa",
           "#FFA15A",
           "#19d3f3",
           "#FF6692",
           "#B6E880",
           "#FF97FF",
           "#FECB52"
          ],
          "font": {
           "color": "#2a3f5f"
          },
          "geo": {
           "bgcolor": "white",
           "lakecolor": "white",
           "landcolor": "#E5ECF6",
           "showlakes": true,
           "showland": true,
           "subunitcolor": "white"
          },
          "hoverlabel": {
           "align": "left"
          },
          "hovermode": "closest",
          "mapbox": {
           "style": "light"
          },
          "paper_bgcolor": "white",
          "plot_bgcolor": "#E5ECF6",
          "polar": {
           "angularaxis": {
            "gridcolor": "white",
            "linecolor": "white",
            "ticks": ""
           },
           "bgcolor": "#E5ECF6",
           "radialaxis": {
            "gridcolor": "white",
            "linecolor": "white",
            "ticks": ""
           }
          },
          "scene": {
           "xaxis": {
            "backgroundcolor": "#E5ECF6",
            "gridcolor": "white",
            "gridwidth": 2,
            "linecolor": "white",
            "showbackground": true,
            "ticks": "",
            "zerolinecolor": "white"
           },
           "yaxis": {
            "backgroundcolor": "#E5ECF6",
            "gridcolor": "white",
            "gridwidth": 2,
            "linecolor": "white",
            "showbackground": true,
            "ticks": "",
            "zerolinecolor": "white"
           },
           "zaxis": {
            "backgroundcolor": "#E5ECF6",
            "gridcolor": "white",
            "gridwidth": 2,
            "linecolor": "white",
            "showbackground": true,
            "ticks": "",
            "zerolinecolor": "white"
           }
          },
          "shapedefaults": {
           "line": {
            "color": "#2a3f5f"
           }
          },
          "ternary": {
           "aaxis": {
            "gridcolor": "white",
            "linecolor": "white",
            "ticks": ""
           },
           "baxis": {
            "gridcolor": "white",
            "linecolor": "white",
            "ticks": ""
           },
           "bgcolor": "#E5ECF6",
           "caxis": {
            "gridcolor": "white",
            "linecolor": "white",
            "ticks": ""
           }
          },
          "title": {
           "x": 0.05
          },
          "xaxis": {
           "automargin": true,
           "gridcolor": "white",
           "linecolor": "white",
           "ticks": "",
           "title": {
            "standoff": 15
           },
           "zerolinecolor": "white",
           "zerolinewidth": 2
          },
          "yaxis": {
           "automargin": true,
           "gridcolor": "white",
           "linecolor": "white",
           "ticks": "",
           "title": {
            "standoff": 15
           },
           "zerolinecolor": "white",
           "zerolinewidth": 2
          }
         }
        },
        "xaxis": {
         "anchor": "y",
         "domain": [
          0,
          1
         ],
         "title": {
          "text": "NY/A"
         }
        },
        "yaxis": {
         "anchor": "x",
         "domain": [
          0,
          1
         ],
         "title": {
          "text": "W"
         }
        }
       }
      }
     },
     "metadata": {},
     "output_type": "display_data"
    }
   ],
   "source": [
    "fig = px.scatter(\n",
    "    All_Defense_data,\n",
    "    x=\"NY/A\",\n",
    "    y=\"W\",\n",
    "    color=All_Defense_data.index,\n",
    "    size=All_Defense_data[\"Yds.1\"]\n",
    ")\n",
    "\n",
    "fig.show()"
   ]
  },
  {
   "cell_type": "code",
   "execution_count": 158,
   "metadata": {},
   "outputs": [
    {
     "name": "stdout",
     "output_type": "stream",
     "text": [
      "Index(['De'Von Achane', 'Rondale Moore', 'Jaleel McLaughlin', 'Zach Wilson',\n",
      "       'Patrick Mahomes', 'Nick Chubb', 'Joshua Dobbs', 'Jordan Love',\n",
      "       'Deebo Samuel', 'Russell Wilson', 'Raheem Mostert', 'Zach Charbonnet',\n",
      "       'Sam Howell', 'Jordan Mason', 'Deshaun Watson'],\n",
      "      dtype='object', name='Player')\n",
      "Index(['De'Von Achane', 'Taysom Hill', 'Josh Allen', 'Deebo Samuel',\n",
      "       'Damien Harris', 'Anthony Richardson', 'Russell Wilson', 'Jordan Mason',\n",
      "       'Deshaun Watson', 'Jalen Hurts', 'Kyren Williams', 'Aaron Jones',\n",
      "       'Zach Charbonnet', 'Mac Jones', 'Royce Freeman'],\n",
      "      dtype='object', name='Player')\n",
      "Index(['Christian McCaffrey', 'Derrick Henry', 'Josh Jacobs', 'Travis Etienne',\n",
      "       'Zack Moss', 'James Cook', 'D'Andre Swift', 'Bijan Robinson',\n",
      "       'Joe Mixon', 'Raheem Mostert', 'Kenneth Walker III', 'Saquon Barkley',\n",
      "       'Gus Edwards', 'Lamar Jackson', 'Jerome Ford'],\n",
      "      dtype='object', name='Player')\n"
     ]
    }
   ],
   "source": [
    "highest_rushing_per_attempt = rushing_clean_data[\"Y/A\"].nlargest(15).index\n",
    "print(highest_rushing_per_attempt)\n",
    "\n",
    "highest_rushing_succ = rushing_clean_data[\"Succ%\"].nlargest(15).index\n",
    "print(highest_rushing_succ)\n",
    "\n",
    "highest_rushing_yards = rushing_clean_data[\"Yds\"].nlargest(15).index\n",
    "print(highest_rushing_yards)"
   ]
  }
 ],
 "metadata": {
  "kernelspec": {
   "display_name": "mssa60230",
   "language": "python",
   "name": "python3"
  },
  "language_info": {
   "codemirror_mode": {
    "name": "ipython",
    "version": 3
   },
   "file_extension": ".py",
   "mimetype": "text/x-python",
   "name": "python",
   "nbconvert_exporter": "python",
   "pygments_lexer": "ipython3",
   "version": "3.10.13"
  }
 },
 "nbformat": 4,
 "nbformat_minor": 2
}
